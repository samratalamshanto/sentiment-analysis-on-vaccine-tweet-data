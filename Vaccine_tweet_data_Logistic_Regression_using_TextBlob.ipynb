{
  "nbformat": 4,
  "nbformat_minor": 0,
  "metadata": {
    "colab": {
      "name": "Vaccine tweet data Logistic Regression using TextBlob",
      "provenance": [],
      "collapsed_sections": []
    },
    "kernelspec": {
      "display_name": "Python 3",
      "name": "python3"
    },
    "accelerator": "GPU"
  },
  "cells": [
    {
      "cell_type": "code",
      "metadata": {
        "id": "RlYZZJPYYon5",
        "colab": {
          "resources": {
            "http://localhost:8080/nbextensions/google.colab/files.js": {
              "data": "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",
              "ok": true,
              "headers": [
                [
                  "content-type",
                  "application/javascript"
                ]
              ],
              "status": 200,
              "status_text": ""
            }
          },
          "base_uri": "https://localhost:8080/",
          "height": 248
        },
        "outputId": "8ec21e3e-51c0-4546-91b8-d4e5afa72894"
      },
      "source": [
        "!pip install kaggle\n",
        "from google.colab import files \n",
        "#files.open('/content/drive/MyDrive/Colab Notebooks/json kaggle')\n",
        "files.upload() #download and upload json file\n",
        "\n",
        "!mkdir -p ~/.kaggle\n",
        "!cp kaggle.json ~/.kaggle/\n",
        "\n",
        "\n",
        "!chmod 600 ~/.kaggle/kaggle.json\n"
      ],
      "execution_count": null,
      "outputs": [
        {
          "output_type": "stream",
          "text": [
            "Requirement already satisfied: kaggle in /usr/local/lib/python3.7/dist-packages (1.5.12)\n",
            "Requirement already satisfied: six>=1.10 in /usr/local/lib/python3.7/dist-packages (from kaggle) (1.15.0)\n",
            "Requirement already satisfied: python-slugify in /usr/local/lib/python3.7/dist-packages (from kaggle) (5.0.2)\n",
            "Requirement already satisfied: certifi in /usr/local/lib/python3.7/dist-packages (from kaggle) (2021.5.30)\n",
            "Requirement already satisfied: python-dateutil in /usr/local/lib/python3.7/dist-packages (from kaggle) (2.8.1)\n",
            "Requirement already satisfied: tqdm in /usr/local/lib/python3.7/dist-packages (from kaggle) (4.41.1)\n",
            "Requirement already satisfied: urllib3 in /usr/local/lib/python3.7/dist-packages (from kaggle) (1.24.3)\n",
            "Requirement already satisfied: requests in /usr/local/lib/python3.7/dist-packages (from kaggle) (2.23.0)\n",
            "Requirement already satisfied: text-unidecode>=1.3 in /usr/local/lib/python3.7/dist-packages (from python-slugify->kaggle) (1.3)\n",
            "Requirement already satisfied: chardet<4,>=3.0.2 in /usr/local/lib/python3.7/dist-packages (from requests->kaggle) (3.0.4)\n",
            "Requirement already satisfied: idna<3,>=2.5 in /usr/local/lib/python3.7/dist-packages (from requests->kaggle) (2.10)\n"
          ],
          "name": "stdout"
        },
        {
          "output_type": "display_data",
          "data": {
            "text/html": [
              "\n",
              "     <input type=\"file\" id=\"files-a1640571-3fdb-4953-9b74-eaa12cfd6fdd\" name=\"files[]\" multiple disabled\n",
              "        style=\"border:none\" />\n",
              "     <output id=\"result-a1640571-3fdb-4953-9b74-eaa12cfd6fdd\">\n",
              "      Upload widget is only available when the cell has been executed in the\n",
              "      current browser session. Please rerun this cell to enable.\n",
              "      </output>\n",
              "      <script src=\"/nbextensions/google.colab/files.js\"></script> "
            ],
            "text/plain": [
              "<IPython.core.display.HTML object>"
            ]
          },
          "metadata": {
            "tags": []
          }
        },
        {
          "output_type": "stream",
          "text": [
            "Saving kaggle.json to kaggle (1).json\n"
          ],
          "name": "stdout"
        }
      ]
    },
    {
      "cell_type": "code",
      "metadata": {
        "colab": {
          "base_uri": "https://localhost:8080/"
        },
        "id": "C0x2pILHyz08",
        "outputId": "ea52d1bd-6ee3-4e7c-e1c6-63c13e22a3ad"
      },
      "source": [
        "!kaggle datasets download -d merahul28/covid19-vaccine-related-tweets"
      ],
      "execution_count": null,
      "outputs": [
        {
          "output_type": "stream",
          "text": [
            "covid19-vaccine-related-tweets.zip: Skipping, found more recently modified local copy (use --force to force download)\n"
          ],
          "name": "stdout"
        }
      ]
    },
    {
      "cell_type": "code",
      "metadata": {
        "id": "gULnLxzjaBT5",
        "colab": {
          "base_uri": "https://localhost:8080/"
        },
        "outputId": "dce0e0d6-7d97-4a12-8661-fc0230f59470"
      },
      "source": [
        "!kaggle datasets download -d ritesh2000/covid19-vaccine-tweets"
      ],
      "execution_count": null,
      "outputs": [
        {
          "output_type": "stream",
          "text": [
            "covid19-vaccine-tweets.zip: Skipping, found more recently modified local copy (use --force to force download)\n"
          ],
          "name": "stdout"
        }
      ]
    },
    {
      "cell_type": "code",
      "metadata": {
        "id": "EBchWS3XZsXc",
        "colab": {
          "base_uri": "https://localhost:8080/"
        },
        "outputId": "0b6e674c-3add-4245-93c9-767f5cc88213"
      },
      "source": [
        "from zipfile import ZipFile\n",
        "file_name= \"covid19-vaccine-tweets.zip\"\n",
        "\n",
        "with ZipFile(file_name ,'r') as zip:\n",
        "  zip.extractall()\n",
        "  print('Done')"
      ],
      "execution_count": null,
      "outputs": [
        {
          "output_type": "stream",
          "text": [
            "Done\n"
          ],
          "name": "stdout"
        }
      ]
    },
    {
      "cell_type": "code",
      "metadata": {
        "colab": {
          "base_uri": "https://localhost:8080/"
        },
        "id": "F1QChh9Xy4kW",
        "outputId": "96681f5d-3134-4aa5-d9d9-90031f301dae"
      },
      "source": [
        "from zipfile import ZipFile\n",
        "file_name= \"covid19-vaccine-related-tweets.zip\"\n",
        "\n",
        "with ZipFile(file_name ,'r') as zip:\n",
        "  zip.extractall()\n",
        "  print('Done')"
      ],
      "execution_count": null,
      "outputs": [
        {
          "output_type": "stream",
          "text": [
            "Done\n"
          ],
          "name": "stdout"
        }
      ]
    },
    {
      "cell_type": "code",
      "metadata": {
        "id": "TegBpjDtaR9u"
      },
      "source": [
        "#import library\n",
        "\n",
        "import pandas as pd\n",
        "import numpy as np\n",
        "\n",
        "import matplotlib.pyplot as plt\n",
        "%matplotlib inline\n",
        "\n",
        "from sklearn.model_selection import train_test_split\n",
        "from sklearn.preprocessing import LabelEncoder   ###########\n",
        "from sklearn.metrics import confusion_matrix , classification_report , accuracy_score\n",
        "from sklearn.manifold import TSNE ######\n",
        "from sklearn.feature_extraction.text import TfidfVectorizer #############\n",
        "\n",
        "from keras.preprocessing.text import Tokenizer         #######\n",
        "from keras.preprocessing.sequence import pad_sequences #######\n",
        "from keras.models import Sequential\n",
        "from keras.layers import Dropout , Conv1D ,MaxPool1D,Activation , Dense , Flatten , Embedding , LSTM ####\n",
        "\n",
        "from keras import utils\n",
        "from keras.callbacks import ReduceLROnPlateau , EarlyStopping\n",
        "\n",
        "\n",
        "#nltk\n",
        "\n",
        "import nltk\n",
        "from nltk.corpus import stopwords ########\n",
        "from nltk.stem import SnowballStemmer ############\n",
        "\n",
        "\n",
        "#word to vec\n",
        "import gensim\n",
        "\n",
        "import re #####\n",
        "import os\n",
        "from collections import Counter #######\n",
        "import logging ###\n",
        "import time\n",
        "import pickle ######\n",
        "import itertools ######\n",
        "\n",
        "\n",
        "from textblob import TextBlob # TextBlob - Python library for processing textual data\n",
        "import random\n",
        "np.random.seed(0)\n",
        "\n",
        "\n",
        "# import SentimentIntensityAnalyzer class\n",
        "# from vaderSentiment.vaderSentiment module.\n",
        "#from vaderSentiment.vaderSentiment import SentimentIntensityAnalyzer\n"
      ],
      "execution_count": null,
      "outputs": []
    },
    {
      "cell_type": "code",
      "metadata": {
        "id": "zJ1UTKIPTiyi"
      },
      "source": [
        "#load data \n",
        "df1 = pd.read_csv('/content/file.csv')\n",
        "df2=pd.read_csv('/content/COVID-Vaccine Related tweets NOV1 to DEC16.csv')"
      ],
      "execution_count": null,
      "outputs": []
    },
    {
      "cell_type": "code",
      "metadata": {
        "colab": {
          "base_uri": "https://localhost:8080/",
          "height": 932
        },
        "id": "0aiqBm5jzOYj",
        "outputId": "8ce0c5b4-9775-445c-8abf-78d895d847ed"
      },
      "source": [
        "display(df2)"
      ],
      "execution_count": null,
      "outputs": [
        {
          "output_type": "display_data",
          "data": {
            "text/html": [
              "<div>\n",
              "<style scoped>\n",
              "    .dataframe tbody tr th:only-of-type {\n",
              "        vertical-align: middle;\n",
              "    }\n",
              "\n",
              "    .dataframe tbody tr th {\n",
              "        vertical-align: top;\n",
              "    }\n",
              "\n",
              "    .dataframe thead th {\n",
              "        text-align: right;\n",
              "    }\n",
              "</style>\n",
              "<table border=\"1\" class=\"dataframe\">\n",
              "  <thead>\n",
              "    <tr style=\"text-align: right;\">\n",
              "      <th></th>\n",
              "      <th>date</th>\n",
              "      <th>time</th>\n",
              "      <th>user_id</th>\n",
              "      <th>username</th>\n",
              "      <th>name</th>\n",
              "      <th>tweet</th>\n",
              "      <th>language</th>\n",
              "      <th>mentions</th>\n",
              "      <th>urls</th>\n",
              "      <th>photos</th>\n",
              "      <th>replies_count</th>\n",
              "      <th>retweets_count</th>\n",
              "      <th>likes_count</th>\n",
              "      <th>hashtags</th>\n",
              "      <th>link</th>\n",
              "    </tr>\n",
              "  </thead>\n",
              "  <tbody>\n",
              "    <tr>\n",
              "      <th>0</th>\n",
              "      <td>16-12-2020</td>\n",
              "      <td>04:37:24</td>\n",
              "      <td>1.369881e+08</td>\n",
              "      <td>beforethestars</td>\n",
              "      <td>Andrea Davison</td>\n",
              "      <td>Vegetarians here is a reason \"AZD1222 (ChAdOx1...</td>\n",
              "      <td>en</td>\n",
              "      <td>[]</td>\n",
              "      <td>[]</td>\n",
              "      <td>[]</td>\n",
              "      <td>0</td>\n",
              "      <td>3</td>\n",
              "      <td>3</td>\n",
              "      <td>[]</td>\n",
              "      <td>https://twitter.com/beforethestars/status/1338...</td>\n",
              "    </tr>\n",
              "    <tr>\n",
              "      <th>1</th>\n",
              "      <td>16-12-2020</td>\n",
              "      <td>04:03:02</td>\n",
              "      <td>1.458063e+09</td>\n",
              "      <td>artofhitech</td>\n",
              "      <td>Техно Ньюс !</td>\n",
              "      <td>AstraZeneca начинает клинические испытания вак...</td>\n",
              "      <td>ru</td>\n",
              "      <td>[]</td>\n",
              "      <td>[]</td>\n",
              "      <td>[]</td>\n",
              "      <td>0</td>\n",
              "      <td>0</td>\n",
              "      <td>0</td>\n",
              "      <td>[]</td>\n",
              "      <td>https://twitter.com/ArtOfHiTech/status/1338975...</td>\n",
              "    </tr>\n",
              "    <tr>\n",
              "      <th>2</th>\n",
              "      <td>16-12-2020</td>\n",
              "      <td>03:39:43</td>\n",
              "      <td>1.412535e+07</td>\n",
              "      <td>n6mac41717</td>\n",
              "      <td>Chuck Han</td>\n",
              "      <td>@ByLizC 1) Let's see what the US Phase III tri...</td>\n",
              "      <td>en</td>\n",
              "      <td>[]</td>\n",
              "      <td>[]</td>\n",
              "      <td>[]</td>\n",
              "      <td>0</td>\n",
              "      <td>0</td>\n",
              "      <td>0</td>\n",
              "      <td>[]</td>\n",
              "      <td>https://twitter.com/n6mac41717/status/13389695...</td>\n",
              "    </tr>\n",
              "    <tr>\n",
              "      <th>3</th>\n",
              "      <td>16-12-2020</td>\n",
              "      <td>03:30:18</td>\n",
              "      <td>3.312676e+09</td>\n",
              "      <td>codigofmx</td>\n",
              "      <td>codigof.mx</td>\n",
              "      <td>El pasado 11 de diciembre, el laboratorio Astr...</td>\n",
              "      <td>es</td>\n",
              "      <td>[]</td>\n",
              "      <td>['http://ow.ly/iu8o50CMlt5']</td>\n",
              "      <td>['https://pbs.twimg.com/media/EpT3hY_W8AM6C_x....</td>\n",
              "      <td>0</td>\n",
              "      <td>0</td>\n",
              "      <td>4</td>\n",
              "      <td>[]</td>\n",
              "      <td>https://twitter.com/codigofmx/status/133896714...</td>\n",
              "    </tr>\n",
              "    <tr>\n",
              "      <th>4</th>\n",
              "      <td>16-12-2020</td>\n",
              "      <td>01:39:04</td>\n",
              "      <td>9.536980e+17</td>\n",
              "      <td>ae1tt</td>\n",
              "      <td>Deborah A Nicholas, M.D.</td>\n",
              "      <td>@sabrigley @IncognitoNewt @thespybrief Yep. Pu...</td>\n",
              "      <td>en</td>\n",
              "      <td>[]</td>\n",
              "      <td>['https://www.thelancet.com/journals/lancet/ar...</td>\n",
              "      <td>[]</td>\n",
              "      <td>1</td>\n",
              "      <td>0</td>\n",
              "      <td>6</td>\n",
              "      <td>[]</td>\n",
              "      <td>https://twitter.com/AE1TT/status/1338939149072...</td>\n",
              "    </tr>\n",
              "    <tr>\n",
              "      <th>...</th>\n",
              "      <td>...</td>\n",
              "      <td>...</td>\n",
              "      <td>...</td>\n",
              "      <td>...</td>\n",
              "      <td>...</td>\n",
              "      <td>...</td>\n",
              "      <td>...</td>\n",
              "      <td>...</td>\n",
              "      <td>...</td>\n",
              "      <td>...</td>\n",
              "      <td>...</td>\n",
              "      <td>...</td>\n",
              "      <td>...</td>\n",
              "      <td>...</td>\n",
              "      <td>...</td>\n",
              "    </tr>\n",
              "    <tr>\n",
              "      <th>686100</th>\n",
              "      <td>01-11-2020</td>\n",
              "      <td>07:35:53</td>\n",
              "      <td>1.336240e+08</td>\n",
              "      <td>vrtarak</td>\n",
              "      <td>viggy</td>\n",
              "      <td>@imeghanavirat Kadhu India dhi covaxin valu ip...</td>\n",
              "      <td>in</td>\n",
              "      <td>[]</td>\n",
              "      <td>[]</td>\n",
              "      <td>[]</td>\n",
              "      <td>3</td>\n",
              "      <td>0</td>\n",
              "      <td>0</td>\n",
              "      <td>[]</td>\n",
              "      <td>https://twitter.com/VRtarak/status/13227214928...</td>\n",
              "    </tr>\n",
              "    <tr>\n",
              "      <th>686101</th>\n",
              "      <td>01-11-2020</td>\n",
              "      <td>07:33:47</td>\n",
              "      <td>1.039760e+18</td>\n",
              "      <td>tv9bharatvarsh</td>\n",
              "      <td>TV9 Bharatvarsh</td>\n",
              "      <td>#Covaxin के तीसरे फेज का ट्रायल जल्द होगा शुरू...</td>\n",
              "      <td>hi</td>\n",
              "      <td>[]</td>\n",
              "      <td>['https://www.tv9bharatvarsh.com/india/corona-...</td>\n",
              "      <td>[]</td>\n",
              "      <td>0</td>\n",
              "      <td>0</td>\n",
              "      <td>15</td>\n",
              "      <td>['covaxin', 'coronavirus', 'covid19']</td>\n",
              "      <td>https://twitter.com/TV9Bharatvarsh/status/1322...</td>\n",
              "    </tr>\n",
              "    <tr>\n",
              "      <th>686102</th>\n",
              "      <td>01-11-2020</td>\n",
              "      <td>07:26:19</td>\n",
              "      <td>1.336240e+08</td>\n",
              "      <td>vrtarak</td>\n",
              "      <td>viggy</td>\n",
              "      <td>@imeghanavirat Russia la vaccine odaladame at ...</td>\n",
              "      <td>in</td>\n",
              "      <td>[]</td>\n",
              "      <td>[]</td>\n",
              "      <td>[]</td>\n",
              "      <td>1</td>\n",
              "      <td>0</td>\n",
              "      <td>0</td>\n",
              "      <td>[]</td>\n",
              "      <td>https://twitter.com/VRtarak/status/13227190842...</td>\n",
              "    </tr>\n",
              "    <tr>\n",
              "      <th>686103</th>\n",
              "      <td>01-11-2020</td>\n",
              "      <td>07:02:32</td>\n",
              "      <td>1.238370e+18</td>\n",
              "      <td>covidmexico</td>\n",
              "      <td>Covid México</td>\n",
              "      <td>ste candidato ha entrado en ensayos de Fase 2....</td>\n",
              "      <td>es</td>\n",
              "      <td>[]</td>\n",
              "      <td>[]</td>\n",
              "      <td>[]</td>\n",
              "      <td>1</td>\n",
              "      <td>1</td>\n",
              "      <td>0</td>\n",
              "      <td>[]</td>\n",
              "      <td>https://twitter.com/CovidMexico/status/1322713...</td>\n",
              "    </tr>\n",
              "    <tr>\n",
              "      <th>686104</th>\n",
              "      <td>01-11-2020</td>\n",
              "      <td>07:02:30</td>\n",
              "      <td>1.238370e+18</td>\n",
              "      <td>covidmexico</td>\n",
              "      <td>Covid México</td>\n",
              "      <td>Covaxin - Inactivated vaccine Estado: Los prim...</td>\n",
              "      <td>es</td>\n",
              "      <td>[]</td>\n",
              "      <td>[]</td>\n",
              "      <td>[]</td>\n",
              "      <td>1</td>\n",
              "      <td>0</td>\n",
              "      <td>1</td>\n",
              "      <td>[]</td>\n",
              "      <td>https://twitter.com/CovidMexico/status/1322713...</td>\n",
              "    </tr>\n",
              "  </tbody>\n",
              "</table>\n",
              "<p>686105 rows × 15 columns</p>\n",
              "</div>"
            ],
            "text/plain": [
              "              date  ...                                               link\n",
              "0       16-12-2020  ...  https://twitter.com/beforethestars/status/1338...\n",
              "1       16-12-2020  ...  https://twitter.com/ArtOfHiTech/status/1338975...\n",
              "2       16-12-2020  ...  https://twitter.com/n6mac41717/status/13389695...\n",
              "3       16-12-2020  ...  https://twitter.com/codigofmx/status/133896714...\n",
              "4       16-12-2020  ...  https://twitter.com/AE1TT/status/1338939149072...\n",
              "...            ...  ...                                                ...\n",
              "686100  01-11-2020  ...  https://twitter.com/VRtarak/status/13227214928...\n",
              "686101  01-11-2020  ...  https://twitter.com/TV9Bharatvarsh/status/1322...\n",
              "686102  01-11-2020  ...  https://twitter.com/VRtarak/status/13227190842...\n",
              "686103  01-11-2020  ...  https://twitter.com/CovidMexico/status/1322713...\n",
              "686104  01-11-2020  ...  https://twitter.com/CovidMexico/status/1322713...\n",
              "\n",
              "[686105 rows x 15 columns]"
            ]
          },
          "metadata": {
            "tags": []
          }
        }
      ]
    },
    {
      "cell_type": "code",
      "metadata": {
        "colab": {
          "base_uri": "https://localhost:8080/"
        },
        "id": "ZTyj1AaCzVV9",
        "outputId": "8ae0467a-0a4f-4062-d7ee-f99d02928a78"
      },
      "source": [
        "df2.columns"
      ],
      "execution_count": null,
      "outputs": [
        {
          "output_type": "execute_result",
          "data": {
            "text/plain": [
              "Index(['date', 'time', 'user_id', 'username', 'name', 'tweet', 'language',\n",
              "       'mentions', 'urls', 'photos', 'replies_count', 'retweets_count',\n",
              "       'likes_count', 'hashtags', 'link'],\n",
              "      dtype='object')"
            ]
          },
          "metadata": {
            "tags": []
          },
          "execution_count": 81
        }
      ]
    },
    {
      "cell_type": "code",
      "metadata": {
        "colab": {
          "base_uri": "https://localhost:8080/",
          "height": 480
        },
        "id": "BHqC9tmYzVdz",
        "outputId": "4d191ecd-b3d5-40e7-8035-d4f6b300c399"
      },
      "source": [
        "df2.head()"
      ],
      "execution_count": null,
      "outputs": [
        {
          "output_type": "execute_result",
          "data": {
            "text/html": [
              "<div>\n",
              "<style scoped>\n",
              "    .dataframe tbody tr th:only-of-type {\n",
              "        vertical-align: middle;\n",
              "    }\n",
              "\n",
              "    .dataframe tbody tr th {\n",
              "        vertical-align: top;\n",
              "    }\n",
              "\n",
              "    .dataframe thead th {\n",
              "        text-align: right;\n",
              "    }\n",
              "</style>\n",
              "<table border=\"1\" class=\"dataframe\">\n",
              "  <thead>\n",
              "    <tr style=\"text-align: right;\">\n",
              "      <th></th>\n",
              "      <th>date</th>\n",
              "      <th>time</th>\n",
              "      <th>user_id</th>\n",
              "      <th>username</th>\n",
              "      <th>name</th>\n",
              "      <th>tweet</th>\n",
              "      <th>language</th>\n",
              "      <th>mentions</th>\n",
              "      <th>urls</th>\n",
              "      <th>photos</th>\n",
              "      <th>replies_count</th>\n",
              "      <th>retweets_count</th>\n",
              "      <th>likes_count</th>\n",
              "      <th>hashtags</th>\n",
              "      <th>link</th>\n",
              "    </tr>\n",
              "  </thead>\n",
              "  <tbody>\n",
              "    <tr>\n",
              "      <th>0</th>\n",
              "      <td>16-12-2020</td>\n",
              "      <td>04:37:24</td>\n",
              "      <td>1.369881e+08</td>\n",
              "      <td>beforethestars</td>\n",
              "      <td>Andrea Davison</td>\n",
              "      <td>Vegetarians here is a reason \"AZD1222 (ChAdOx1...</td>\n",
              "      <td>en</td>\n",
              "      <td>[]</td>\n",
              "      <td>[]</td>\n",
              "      <td>[]</td>\n",
              "      <td>0</td>\n",
              "      <td>3</td>\n",
              "      <td>3</td>\n",
              "      <td>[]</td>\n",
              "      <td>https://twitter.com/beforethestars/status/1338...</td>\n",
              "    </tr>\n",
              "    <tr>\n",
              "      <th>1</th>\n",
              "      <td>16-12-2020</td>\n",
              "      <td>04:03:02</td>\n",
              "      <td>1.458063e+09</td>\n",
              "      <td>artofhitech</td>\n",
              "      <td>Техно Ньюс !</td>\n",
              "      <td>AstraZeneca начинает клинические испытания вак...</td>\n",
              "      <td>ru</td>\n",
              "      <td>[]</td>\n",
              "      <td>[]</td>\n",
              "      <td>[]</td>\n",
              "      <td>0</td>\n",
              "      <td>0</td>\n",
              "      <td>0</td>\n",
              "      <td>[]</td>\n",
              "      <td>https://twitter.com/ArtOfHiTech/status/1338975...</td>\n",
              "    </tr>\n",
              "    <tr>\n",
              "      <th>2</th>\n",
              "      <td>16-12-2020</td>\n",
              "      <td>03:39:43</td>\n",
              "      <td>1.412535e+07</td>\n",
              "      <td>n6mac41717</td>\n",
              "      <td>Chuck Han</td>\n",
              "      <td>@ByLizC 1) Let's see what the US Phase III tri...</td>\n",
              "      <td>en</td>\n",
              "      <td>[]</td>\n",
              "      <td>[]</td>\n",
              "      <td>[]</td>\n",
              "      <td>0</td>\n",
              "      <td>0</td>\n",
              "      <td>0</td>\n",
              "      <td>[]</td>\n",
              "      <td>https://twitter.com/n6mac41717/status/13389695...</td>\n",
              "    </tr>\n",
              "    <tr>\n",
              "      <th>3</th>\n",
              "      <td>16-12-2020</td>\n",
              "      <td>03:30:18</td>\n",
              "      <td>3.312676e+09</td>\n",
              "      <td>codigofmx</td>\n",
              "      <td>codigof.mx</td>\n",
              "      <td>El pasado 11 de diciembre, el laboratorio Astr...</td>\n",
              "      <td>es</td>\n",
              "      <td>[]</td>\n",
              "      <td>['http://ow.ly/iu8o50CMlt5']</td>\n",
              "      <td>['https://pbs.twimg.com/media/EpT3hY_W8AM6C_x....</td>\n",
              "      <td>0</td>\n",
              "      <td>0</td>\n",
              "      <td>4</td>\n",
              "      <td>[]</td>\n",
              "      <td>https://twitter.com/codigofmx/status/133896714...</td>\n",
              "    </tr>\n",
              "    <tr>\n",
              "      <th>4</th>\n",
              "      <td>16-12-2020</td>\n",
              "      <td>01:39:04</td>\n",
              "      <td>9.536980e+17</td>\n",
              "      <td>ae1tt</td>\n",
              "      <td>Deborah A Nicholas, M.D.</td>\n",
              "      <td>@sabrigley @IncognitoNewt @thespybrief Yep. Pu...</td>\n",
              "      <td>en</td>\n",
              "      <td>[]</td>\n",
              "      <td>['https://www.thelancet.com/journals/lancet/ar...</td>\n",
              "      <td>[]</td>\n",
              "      <td>1</td>\n",
              "      <td>0</td>\n",
              "      <td>6</td>\n",
              "      <td>[]</td>\n",
              "      <td>https://twitter.com/AE1TT/status/1338939149072...</td>\n",
              "    </tr>\n",
              "  </tbody>\n",
              "</table>\n",
              "</div>"
            ],
            "text/plain": [
              "         date  ...                                               link\n",
              "0  16-12-2020  ...  https://twitter.com/beforethestars/status/1338...\n",
              "1  16-12-2020  ...  https://twitter.com/ArtOfHiTech/status/1338975...\n",
              "2  16-12-2020  ...  https://twitter.com/n6mac41717/status/13389695...\n",
              "3  16-12-2020  ...  https://twitter.com/codigofmx/status/133896714...\n",
              "4  16-12-2020  ...  https://twitter.com/AE1TT/status/1338939149072...\n",
              "\n",
              "[5 rows x 15 columns]"
            ]
          },
          "metadata": {
            "tags": []
          },
          "execution_count": 82
        }
      ]
    },
    {
      "cell_type": "code",
      "metadata": {
        "colab": {
          "base_uri": "https://localhost:8080/"
        },
        "id": "4_oOS8TizVg1",
        "outputId": "b45b8db4-319e-4b86-c327-9dbeb23f3f12"
      },
      "source": [
        "from pandas import datetime \n",
        "\n",
        "df2['date'] = pd.to_datetime(df2['date'])\n",
        "df2['Month'] = df2['date'].dt.month\n",
        "df2['Month-str-full'] = df2['date'].dt.strftime('%B')\n"
      ],
      "execution_count": null,
      "outputs": [
        {
          "output_type": "stream",
          "text": [
            "/usr/local/lib/python3.7/dist-packages/ipykernel_launcher.py:1: FutureWarning: The pandas.datetime class is deprecated and will be removed from pandas in a future version. Import from datetime module instead.\n",
            "  \"\"\"Entry point for launching an IPython kernel.\n"
          ],
          "name": "stderr"
        }
      ]
    },
    {
      "cell_type": "code",
      "metadata": {
        "colab": {
          "base_uri": "https://localhost:8080/"
        },
        "id": "7b5G-aXnzVjr",
        "outputId": "464d6165-0a3e-4df0-d4fd-d9652967504b"
      },
      "source": [
        "df2['Month-str-full'].value_counts()"
      ],
      "execution_count": null,
      "outputs": [
        {
          "output_type": "execute_result",
          "data": {
            "text/plain": [
              "November     235000\n",
              "December     127569\n",
              "October       61870\n",
              "September     61747\n",
              "August        39862\n",
              "March         33318\n",
              "February      31353\n",
              "April         28618\n",
              "May           21633\n",
              "July          19290\n",
              "June          14970\n",
              "January       10875\n",
              "Name: Month-str-full, dtype: int64"
            ]
          },
          "metadata": {
            "tags": []
          },
          "execution_count": 84
        }
      ]
    },
    {
      "cell_type": "code",
      "metadata": {
        "colab": {
          "base_uri": "https://localhost:8080/"
        },
        "id": "qosCtArdzVnZ",
        "outputId": "666c4240-c192-41f3-c613-1f6b0855a5b2"
      },
      "source": [
        "print(min(df2['date']))\n",
        "print(max(df2['date']))"
      ],
      "execution_count": null,
      "outputs": [
        {
          "output_type": "stream",
          "text": [
            "2020-01-11 00:00:00\n",
            "2020-12-16 00:00:00\n"
          ],
          "name": "stdout"
        }
      ]
    },
    {
      "cell_type": "code",
      "metadata": {
        "colab": {
          "base_uri": "https://localhost:8080/"
        },
        "id": "V8DYLPG2zVqZ",
        "outputId": "293b0142-b421-4e56-fe34-65c4f6a35ff2"
      },
      "source": [
        "print(min(df1['date']))\n",
        "print(max(df1['date']))"
      ],
      "execution_count": null,
      "outputs": [
        {
          "output_type": "stream",
          "text": [
            "2020-02-12\n",
            "2020-10-22\n"
          ],
          "name": "stdout"
        }
      ]
    },
    {
      "cell_type": "code",
      "metadata": {
        "id": "RiC1QlrMzVtR"
      },
      "source": [
        "df2 = df2[df2['language']=='en']\n",
        "df2 = df2[['date' , 'tweet']]"
      ],
      "execution_count": null,
      "outputs": []
    },
    {
      "cell_type": "code",
      "metadata": {
        "id": "xhpm5L_6zVwa"
      },
      "source": [
        "df1 = df1[df1['language']=='en']\n",
        "df1 = df1[['date' , 'tweet']]"
      ],
      "execution_count": null,
      "outputs": []
    },
    {
      "cell_type": "code",
      "metadata": {
        "id": "PxtFwmZA8rCZ",
        "colab": {
          "base_uri": "https://localhost:8080/",
          "height": 200
        },
        "outputId": "5e07ff45-02f3-4cf1-e1c1-5f85ce3e74e8"
      },
      "source": [
        "df1.head()"
      ],
      "execution_count": null,
      "outputs": [
        {
          "output_type": "execute_result",
          "data": {
            "text/html": [
              "<div>\n",
              "<style scoped>\n",
              "    .dataframe tbody tr th:only-of-type {\n",
              "        vertical-align: middle;\n",
              "    }\n",
              "\n",
              "    .dataframe tbody tr th {\n",
              "        vertical-align: top;\n",
              "    }\n",
              "\n",
              "    .dataframe thead th {\n",
              "        text-align: right;\n",
              "    }\n",
              "</style>\n",
              "<table border=\"1\" class=\"dataframe\">\n",
              "  <thead>\n",
              "    <tr style=\"text-align: right;\">\n",
              "      <th></th>\n",
              "      <th>date</th>\n",
              "      <th>tweet</th>\n",
              "    </tr>\n",
              "  </thead>\n",
              "  <tbody>\n",
              "    <tr>\n",
              "      <th>0</th>\n",
              "      <td>2020-10-22</td>\n",
              "      <td>@ANI Isn't it the best poll promise ever?? Fre...</td>\n",
              "    </tr>\n",
              "    <tr>\n",
              "      <th>1</th>\n",
              "      <td>2020-10-22</td>\n",
              "      <td>Now states shall have wait for thier Vidhan Sa...</td>\n",
              "    </tr>\n",
              "    <tr>\n",
              "      <th>3</th>\n",
              "      <td>2020-10-22</td>\n",
              "      <td>@MisseeMonis They said vaccine for all but not...</td>\n",
              "    </tr>\n",
              "    <tr>\n",
              "      <th>4</th>\n",
              "      <td>2020-10-22</td>\n",
              "      <td>BJP really presenting \"free COVID vaccine\" as ...</td>\n",
              "    </tr>\n",
              "    <tr>\n",
              "      <th>5</th>\n",
              "      <td>2020-10-22</td>\n",
              "      <td>Another dose of daily miserablism from Planet ...</td>\n",
              "    </tr>\n",
              "  </tbody>\n",
              "</table>\n",
              "</div>"
            ],
            "text/plain": [
              "         date                                              tweet\n",
              "0  2020-10-22  @ANI Isn't it the best poll promise ever?? Fre...\n",
              "1  2020-10-22  Now states shall have wait for thier Vidhan Sa...\n",
              "3  2020-10-22  @MisseeMonis They said vaccine for all but not...\n",
              "4  2020-10-22  BJP really presenting \"free COVID vaccine\" as ...\n",
              "5  2020-10-22  Another dose of daily miserablism from Planet ..."
            ]
          },
          "metadata": {
            "tags": []
          },
          "execution_count": 89
        }
      ]
    },
    {
      "cell_type": "code",
      "metadata": {
        "colab": {
          "base_uri": "https://localhost:8080/",
          "height": 200
        },
        "id": "MnNAlB6Z1nKQ",
        "outputId": "454c1b2b-f2da-46e9-ed0b-0a5833167ef8"
      },
      "source": [
        "df2.head()"
      ],
      "execution_count": null,
      "outputs": [
        {
          "output_type": "execute_result",
          "data": {
            "text/html": [
              "<div>\n",
              "<style scoped>\n",
              "    .dataframe tbody tr th:only-of-type {\n",
              "        vertical-align: middle;\n",
              "    }\n",
              "\n",
              "    .dataframe tbody tr th {\n",
              "        vertical-align: top;\n",
              "    }\n",
              "\n",
              "    .dataframe thead th {\n",
              "        text-align: right;\n",
              "    }\n",
              "</style>\n",
              "<table border=\"1\" class=\"dataframe\">\n",
              "  <thead>\n",
              "    <tr style=\"text-align: right;\">\n",
              "      <th></th>\n",
              "      <th>date</th>\n",
              "      <th>tweet</th>\n",
              "    </tr>\n",
              "  </thead>\n",
              "  <tbody>\n",
              "    <tr>\n",
              "      <th>0</th>\n",
              "      <td>2020-12-16</td>\n",
              "      <td>Vegetarians here is a reason \"AZD1222 (ChAdOx1...</td>\n",
              "    </tr>\n",
              "    <tr>\n",
              "      <th>2</th>\n",
              "      <td>2020-12-16</td>\n",
              "      <td>@ByLizC 1) Let's see what the US Phase III tri...</td>\n",
              "    </tr>\n",
              "    <tr>\n",
              "      <th>4</th>\n",
              "      <td>2020-12-16</td>\n",
              "      <td>@sabrigley @IncognitoNewt @thespybrief Yep. Pu...</td>\n",
              "    </tr>\n",
              "    <tr>\n",
              "      <th>5</th>\n",
              "      <td>2020-12-16</td>\n",
              "      <td>@IncognitoNewt @thespybrief Lancet published i...</td>\n",
              "    </tr>\n",
              "    <tr>\n",
              "      <th>6</th>\n",
              "      <td>2020-12-16</td>\n",
              "      <td>AZD1222 Oxford Phase III trials interim analys...</td>\n",
              "    </tr>\n",
              "  </tbody>\n",
              "</table>\n",
              "</div>"
            ],
            "text/plain": [
              "        date                                              tweet\n",
              "0 2020-12-16  Vegetarians here is a reason \"AZD1222 (ChAdOx1...\n",
              "2 2020-12-16  @ByLizC 1) Let's see what the US Phase III tri...\n",
              "4 2020-12-16  @sabrigley @IncognitoNewt @thespybrief Yep. Pu...\n",
              "5 2020-12-16  @IncognitoNewt @thespybrief Lancet published i...\n",
              "6 2020-12-16  AZD1222 Oxford Phase III trials interim analys..."
            ]
          },
          "metadata": {
            "tags": []
          },
          "execution_count": 90
        }
      ]
    },
    {
      "cell_type": "code",
      "metadata": {
        "id": "oCFZTh5rwPFJ",
        "colab": {
          "base_uri": "https://localhost:8080/"
        },
        "outputId": "19a0af68-a283-40f4-a6d2-18c1cdb59d7b"
      },
      "source": [
        "\n",
        "df2['tweet'].isna().sum()"
      ],
      "execution_count": null,
      "outputs": [
        {
          "output_type": "execute_result",
          "data": {
            "text/plain": [
              "0"
            ]
          },
          "metadata": {
            "tags": []
          },
          "execution_count": 91
        }
      ]
    },
    {
      "cell_type": "code",
      "metadata": {
        "id": "d2JJ3VLWxYrW",
        "colab": {
          "base_uri": "https://localhost:8080/"
        },
        "outputId": "5ac4e3b9-e3a3-463d-fbfc-a3dd0ac8800c"
      },
      "source": [
        "df2['date'].isna().sum()"
      ],
      "execution_count": null,
      "outputs": [
        {
          "output_type": "execute_result",
          "data": {
            "text/plain": [
              "0"
            ]
          },
          "metadata": {
            "tags": []
          },
          "execution_count": 92
        }
      ]
    },
    {
      "cell_type": "code",
      "metadata": {
        "colab": {
          "base_uri": "https://localhost:8080/"
        },
        "id": "yynDEJfr1ybk",
        "outputId": "a18d0367-e318-415f-f52a-e048b3347eae"
      },
      "source": [
        "df1['tweet'].isna().sum()"
      ],
      "execution_count": null,
      "outputs": [
        {
          "output_type": "execute_result",
          "data": {
            "text/plain": [
              "0"
            ]
          },
          "metadata": {
            "tags": []
          },
          "execution_count": 93
        }
      ]
    },
    {
      "cell_type": "code",
      "metadata": {
        "colab": {
          "base_uri": "https://localhost:8080/"
        },
        "id": "VVRddMY411Rm",
        "outputId": "4b4df6de-2792-44b6-e3bf-eb62fa05fe5a"
      },
      "source": [
        "df1['date'].isna().sum()"
      ],
      "execution_count": null,
      "outputs": [
        {
          "output_type": "execute_result",
          "data": {
            "text/plain": [
              "0"
            ]
          },
          "metadata": {
            "tags": []
          },
          "execution_count": 94
        }
      ]
    },
    {
      "cell_type": "code",
      "metadata": {
        "id": "hZ20uM1YxfRG",
        "colab": {
          "base_uri": "https://localhost:8080/"
        },
        "outputId": "d7d9c0cb-c07d-478d-f05c-8ced583621de"
      },
      "source": [
        "print(df1.shape)\n",
        "print(df2.shape)"
      ],
      "execution_count": null,
      "outputs": [
        {
          "output_type": "stream",
          "text": [
            "(201030, 2)\n",
            "(573016, 2)\n"
          ],
          "name": "stdout"
        }
      ]
    },
    {
      "cell_type": "code",
      "metadata": {
        "colab": {
          "base_uri": "https://localhost:8080/",
          "height": 200
        },
        "id": "-LxcHX5U176p",
        "outputId": "9130a052-a372-41ea-fa51-b339df1b7a61"
      },
      "source": [
        "data = pd.concat([df1,df2],ignore_index=True)\n",
        "data.head()"
      ],
      "execution_count": null,
      "outputs": [
        {
          "output_type": "execute_result",
          "data": {
            "text/html": [
              "<div>\n",
              "<style scoped>\n",
              "    .dataframe tbody tr th:only-of-type {\n",
              "        vertical-align: middle;\n",
              "    }\n",
              "\n",
              "    .dataframe tbody tr th {\n",
              "        vertical-align: top;\n",
              "    }\n",
              "\n",
              "    .dataframe thead th {\n",
              "        text-align: right;\n",
              "    }\n",
              "</style>\n",
              "<table border=\"1\" class=\"dataframe\">\n",
              "  <thead>\n",
              "    <tr style=\"text-align: right;\">\n",
              "      <th></th>\n",
              "      <th>date</th>\n",
              "      <th>tweet</th>\n",
              "    </tr>\n",
              "  </thead>\n",
              "  <tbody>\n",
              "    <tr>\n",
              "      <th>0</th>\n",
              "      <td>2020-10-22</td>\n",
              "      <td>@ANI Isn't it the best poll promise ever?? Fre...</td>\n",
              "    </tr>\n",
              "    <tr>\n",
              "      <th>1</th>\n",
              "      <td>2020-10-22</td>\n",
              "      <td>Now states shall have wait for thier Vidhan Sa...</td>\n",
              "    </tr>\n",
              "    <tr>\n",
              "      <th>2</th>\n",
              "      <td>2020-10-22</td>\n",
              "      <td>@MisseeMonis They said vaccine for all but not...</td>\n",
              "    </tr>\n",
              "    <tr>\n",
              "      <th>3</th>\n",
              "      <td>2020-10-22</td>\n",
              "      <td>BJP really presenting \"free COVID vaccine\" as ...</td>\n",
              "    </tr>\n",
              "    <tr>\n",
              "      <th>4</th>\n",
              "      <td>2020-10-22</td>\n",
              "      <td>Another dose of daily miserablism from Planet ...</td>\n",
              "    </tr>\n",
              "  </tbody>\n",
              "</table>\n",
              "</div>"
            ],
            "text/plain": [
              "         date                                              tweet\n",
              "0  2020-10-22  @ANI Isn't it the best poll promise ever?? Fre...\n",
              "1  2020-10-22  Now states shall have wait for thier Vidhan Sa...\n",
              "2  2020-10-22  @MisseeMonis They said vaccine for all but not...\n",
              "3  2020-10-22  BJP really presenting \"free COVID vaccine\" as ...\n",
              "4  2020-10-22  Another dose of daily miserablism from Planet ..."
            ]
          },
          "metadata": {
            "tags": []
          },
          "execution_count": 96
        }
      ]
    },
    {
      "cell_type": "code",
      "metadata": {
        "id": "AwuNsrd6xh98",
        "colab": {
          "base_uri": "https://localhost:8080/"
        },
        "outputId": "e523b9b7-6c8a-4064-8e1c-a8f40b11d861"
      },
      "source": [
        "data.shape"
      ],
      "execution_count": null,
      "outputs": [
        {
          "output_type": "execute_result",
          "data": {
            "text/plain": [
              "(774046, 2)"
            ]
          },
          "metadata": {
            "tags": []
          },
          "execution_count": 97
        }
      ]
    },
    {
      "cell_type": "code",
      "metadata": {
        "colab": {
          "base_uri": "https://localhost:8080/"
        },
        "id": "XsERjRLQ2pHL",
        "outputId": "b94eb0ad-8b25-49c7-fe8f-ffa205fbf2b4"
      },
      "source": [
        "data.drop_duplicates(subset=['tweet'])\n",
        "data.shape"
      ],
      "execution_count": null,
      "outputs": [
        {
          "output_type": "execute_result",
          "data": {
            "text/plain": [
              "(774046, 2)"
            ]
          },
          "metadata": {
            "tags": []
          },
          "execution_count": 98
        }
      ]
    },
    {
      "cell_type": "code",
      "metadata": {
        "id": "kRX1ZEKEz4tG",
        "colab": {
          "base_uri": "https://localhost:8080/",
          "height": 200
        },
        "outputId": "98662a1e-78a7-4a95-86e9-e52c7c8d7085"
      },
      "source": [
        "data['process_tweet'] = data['tweet'].copy()\n",
        "data.head()"
      ],
      "execution_count": null,
      "outputs": [
        {
          "output_type": "execute_result",
          "data": {
            "text/html": [
              "<div>\n",
              "<style scoped>\n",
              "    .dataframe tbody tr th:only-of-type {\n",
              "        vertical-align: middle;\n",
              "    }\n",
              "\n",
              "    .dataframe tbody tr th {\n",
              "        vertical-align: top;\n",
              "    }\n",
              "\n",
              "    .dataframe thead th {\n",
              "        text-align: right;\n",
              "    }\n",
              "</style>\n",
              "<table border=\"1\" class=\"dataframe\">\n",
              "  <thead>\n",
              "    <tr style=\"text-align: right;\">\n",
              "      <th></th>\n",
              "      <th>date</th>\n",
              "      <th>tweet</th>\n",
              "      <th>process_tweet</th>\n",
              "    </tr>\n",
              "  </thead>\n",
              "  <tbody>\n",
              "    <tr>\n",
              "      <th>0</th>\n",
              "      <td>2020-10-22</td>\n",
              "      <td>@ANI Isn't it the best poll promise ever?? Fre...</td>\n",
              "      <td>@ANI Isn't it the best poll promise ever?? Fre...</td>\n",
              "    </tr>\n",
              "    <tr>\n",
              "      <th>1</th>\n",
              "      <td>2020-10-22</td>\n",
              "      <td>Now states shall have wait for thier Vidhan Sa...</td>\n",
              "      <td>Now states shall have wait for thier Vidhan Sa...</td>\n",
              "    </tr>\n",
              "    <tr>\n",
              "      <th>2</th>\n",
              "      <td>2020-10-22</td>\n",
              "      <td>@MisseeMonis They said vaccine for all but not...</td>\n",
              "      <td>@MisseeMonis They said vaccine for all but not...</td>\n",
              "    </tr>\n",
              "    <tr>\n",
              "      <th>3</th>\n",
              "      <td>2020-10-22</td>\n",
              "      <td>BJP really presenting \"free COVID vaccine\" as ...</td>\n",
              "      <td>BJP really presenting \"free COVID vaccine\" as ...</td>\n",
              "    </tr>\n",
              "    <tr>\n",
              "      <th>4</th>\n",
              "      <td>2020-10-22</td>\n",
              "      <td>Another dose of daily miserablism from Planet ...</td>\n",
              "      <td>Another dose of daily miserablism from Planet ...</td>\n",
              "    </tr>\n",
              "  </tbody>\n",
              "</table>\n",
              "</div>"
            ],
            "text/plain": [
              "         date  ...                                      process_tweet\n",
              "0  2020-10-22  ...  @ANI Isn't it the best poll promise ever?? Fre...\n",
              "1  2020-10-22  ...  Now states shall have wait for thier Vidhan Sa...\n",
              "2  2020-10-22  ...  @MisseeMonis They said vaccine for all but not...\n",
              "3  2020-10-22  ...  BJP really presenting \"free COVID vaccine\" as ...\n",
              "4  2020-10-22  ...  Another dose of daily miserablism from Planet ...\n",
              "\n",
              "[5 rows x 3 columns]"
            ]
          },
          "metadata": {
            "tags": []
          },
          "execution_count": 99
        }
      ]
    },
    {
      "cell_type": "markdown",
      "metadata": {
        "id": "YLBGRCim2yB_"
      },
      "source": [
        "# Preprocessing the Tweet\n"
      ]
    },
    {
      "cell_type": "code",
      "metadata": {
        "id": "2DHCeZn822Vz"
      },
      "source": [
        "def clean_data(txt):\n",
        "  txt = txt.lower()  # lowercase\n",
        "  txt = re.sub(r'@[A-Za-z0-9_]+' , '' , txt)   #remove mentions\n",
        "  txt = re.sub(r'#' , '' , txt) #remove hashtags\n",
        "  txt = re.sub(r'RT : ','' , txt) # remove retweets\n",
        "  txt = re.sub(r'https?:\\/\\/[A-Za-z0-9\\./\\/]+' , '' , txt) #removes url\n",
        "  txt = re.sub('\\[.*?\\]' , '' , txt) #remove square brackets\n",
        "  txt = re.sub(r'[^\\w\\s]' , '' , txt) #remove puntuations\n",
        "  txt = re.sub('\\w*\\d\\w*' , '' ,txt) #removes words containig numbers\n",
        "  txt = re.sub('\\n' , '' ,txt) #remove new lines\n",
        " \n",
        "\n",
        "  return txt\n"
      ],
      "execution_count": null,
      "outputs": []
    },
    {
      "cell_type": "code",
      "metadata": {
        "id": "iqYMECJk5Xzq",
        "colab": {
          "base_uri": "https://localhost:8080/"
        },
        "outputId": "76cc863a-5082-4a45-d71a-3117cf40681b"
      },
      "source": [
        "data['process_tweet'] = data['process_tweet'].apply(clean_data)\n",
        "data['process_tweet']"
      ],
      "execution_count": null,
      "outputs": [
        {
          "output_type": "execute_result",
          "data": {
            "text/plain": [
              "0          isnt it the best poll promise ever free covid...\n",
              "1         now states shall have wait for thier vidhan sa...\n",
              "2          they said vaccine for all but not when free c...\n",
              "3         bjp really presenting free covid vaccine as a ...\n",
              "4         another dose of daily miserablism from planet ...\n",
              "                                ...                        \n",
              "774041    covaxin has been developed in collaboration wi...\n",
              "774042    bharat biotech is planning to launch its vacci...\n",
              "774043     vaccine amu medical college to begin covaxin ...\n",
              "774044    bharat biotech to launch covaxin in    india n...\n",
              "774045    the aiims in delhi is likely to submit a propo...\n",
              "Name: process_tweet, Length: 774046, dtype: object"
            ]
          },
          "metadata": {
            "tags": []
          },
          "execution_count": 101
        }
      ]
    },
    {
      "cell_type": "code",
      "metadata": {
        "id": "dqjUX3klSffn",
        "colab": {
          "base_uri": "https://localhost:8080/"
        },
        "outputId": "02fdd4db-bb54-4d04-fdd3-66647c8ad0d8"
      },
      "source": [
        "nltk.download('stopwords')"
      ],
      "execution_count": null,
      "outputs": [
        {
          "output_type": "stream",
          "text": [
            "[nltk_data] Downloading package stopwords to /root/nltk_data...\n",
            "[nltk_data]   Package stopwords is already up-to-date!\n"
          ],
          "name": "stdout"
        },
        {
          "output_type": "execute_result",
          "data": {
            "text/plain": [
              "True"
            ]
          },
          "metadata": {
            "tags": []
          },
          "execution_count": 102
        }
      ]
    },
    {
      "cell_type": "code",
      "metadata": {
        "id": "Qinr46wwu-2X"
      },
      "source": [
        "#removig stop words\n",
        "\n",
        "stopwords = nltk.corpus.stopwords.words('english')\n",
        "\n",
        "def remove_stopwords(txt):\n",
        "  rmv_stpwords = [i for i in txt.split() if i not in stopwords]\n",
        "  rmv_stpwords_join = ' '.join(rmv_stpwords)\n",
        "  return rmv_stpwords_join\n",
        "\n",
        " "
      ],
      "execution_count": null,
      "outputs": []
    },
    {
      "cell_type": "code",
      "metadata": {
        "id": "xOFp4H8Zu-9c",
        "colab": {
          "base_uri": "https://localhost:8080/",
          "height": 200
        },
        "outputId": "f4ce966e-b9d2-4999-d5a0-df1bf05f4c97"
      },
      "source": [
        "data['process_tweet'] = data['process_tweet'].apply(remove_stopwords)\n",
        "\n",
        "data.head()#after removing stopwords"
      ],
      "execution_count": null,
      "outputs": [
        {
          "output_type": "execute_result",
          "data": {
            "text/html": [
              "<div>\n",
              "<style scoped>\n",
              "    .dataframe tbody tr th:only-of-type {\n",
              "        vertical-align: middle;\n",
              "    }\n",
              "\n",
              "    .dataframe tbody tr th {\n",
              "        vertical-align: top;\n",
              "    }\n",
              "\n",
              "    .dataframe thead th {\n",
              "        text-align: right;\n",
              "    }\n",
              "</style>\n",
              "<table border=\"1\" class=\"dataframe\">\n",
              "  <thead>\n",
              "    <tr style=\"text-align: right;\">\n",
              "      <th></th>\n",
              "      <th>date</th>\n",
              "      <th>tweet</th>\n",
              "      <th>process_tweet</th>\n",
              "    </tr>\n",
              "  </thead>\n",
              "  <tbody>\n",
              "    <tr>\n",
              "      <th>0</th>\n",
              "      <td>2020-10-22</td>\n",
              "      <td>@ANI Isn't it the best poll promise ever?? Fre...</td>\n",
              "      <td>isnt best poll promise ever free covid vaccine...</td>\n",
              "    </tr>\n",
              "    <tr>\n",
              "      <th>1</th>\n",
              "      <td>2020-10-22</td>\n",
              "      <td>Now states shall have wait for thier Vidhan Sa...</td>\n",
              "      <td>states shall wait thier vidhan sabha election ...</td>\n",
              "    </tr>\n",
              "    <tr>\n",
              "      <th>2</th>\n",
              "      <td>2020-10-22</td>\n",
              "      <td>@MisseeMonis They said vaccine for all but not...</td>\n",
              "      <td>said vaccine free covid vaccine new lakhs rs e...</td>\n",
              "    </tr>\n",
              "    <tr>\n",
              "      <th>3</th>\n",
              "      <td>2020-10-22</td>\n",
              "      <td>BJP really presenting \"free COVID vaccine\" as ...</td>\n",
              "      <td>bjp really presenting free covid vaccine state...</td>\n",
              "    </tr>\n",
              "    <tr>\n",
              "      <th>4</th>\n",
              "      <td>2020-10-22</td>\n",
              "      <td>Another dose of daily miserablism from Planet ...</td>\n",
              "      <td>another dose daily miserablism planet grauniad...</td>\n",
              "    </tr>\n",
              "  </tbody>\n",
              "</table>\n",
              "</div>"
            ],
            "text/plain": [
              "         date  ...                                      process_tweet\n",
              "0  2020-10-22  ...  isnt best poll promise ever free covid vaccine...\n",
              "1  2020-10-22  ...  states shall wait thier vidhan sabha election ...\n",
              "2  2020-10-22  ...  said vaccine free covid vaccine new lakhs rs e...\n",
              "3  2020-10-22  ...  bjp really presenting free covid vaccine state...\n",
              "4  2020-10-22  ...  another dose daily miserablism planet grauniad...\n",
              "\n",
              "[5 rows x 3 columns]"
            ]
          },
          "metadata": {
            "tags": []
          },
          "execution_count": 104
        }
      ]
    },
    {
      "cell_type": "code",
      "metadata": {
        "id": "VSeFd50AwBv2"
      },
      "source": [
        "from nltk.stem import PorterStemmer\n",
        "st = PorterStemmer()"
      ],
      "execution_count": null,
      "outputs": []
    },
    {
      "cell_type": "code",
      "metadata": {
        "id": "zyj3h_NewLJL"
      },
      "source": [
        "def stemming(txt):\n",
        "  txt =[st.stem(word) for word in txt.split()]\n",
        "  txt_join = ' '.join(txt)\n",
        "  return txt_join\n",
        "\n",
        "#Stemming refers to the removal of suffices, like “ing”, “ly”, “s”, etc. by a simple rule-based approach."
      ],
      "execution_count": null,
      "outputs": []
    },
    {
      "cell_type": "code",
      "metadata": {
        "id": "D9VyYrW_0zGu",
        "colab": {
          "base_uri": "https://localhost:8080/",
          "height": 200
        },
        "outputId": "78385133-7e9a-4ef0-8665-f04c979c0020"
      },
      "source": [
        "data['process_tweet'] = data['process_tweet'].apply(stemming)\n",
        "data.head()"
      ],
      "execution_count": null,
      "outputs": [
        {
          "output_type": "execute_result",
          "data": {
            "text/html": [
              "<div>\n",
              "<style scoped>\n",
              "    .dataframe tbody tr th:only-of-type {\n",
              "        vertical-align: middle;\n",
              "    }\n",
              "\n",
              "    .dataframe tbody tr th {\n",
              "        vertical-align: top;\n",
              "    }\n",
              "\n",
              "    .dataframe thead th {\n",
              "        text-align: right;\n",
              "    }\n",
              "</style>\n",
              "<table border=\"1\" class=\"dataframe\">\n",
              "  <thead>\n",
              "    <tr style=\"text-align: right;\">\n",
              "      <th></th>\n",
              "      <th>date</th>\n",
              "      <th>tweet</th>\n",
              "      <th>process_tweet</th>\n",
              "    </tr>\n",
              "  </thead>\n",
              "  <tbody>\n",
              "    <tr>\n",
              "      <th>0</th>\n",
              "      <td>2020-10-22</td>\n",
              "      <td>@ANI Isn't it the best poll promise ever?? Fre...</td>\n",
              "      <td>isnt best poll promis ever free covid vaccin v...</td>\n",
              "    </tr>\n",
              "    <tr>\n",
              "      <th>1</th>\n",
              "      <td>2020-10-22</td>\n",
              "      <td>Now states shall have wait for thier Vidhan Sa...</td>\n",
              "      <td>state shall wait thier vidhan sabha elect get ...</td>\n",
              "    </tr>\n",
              "    <tr>\n",
              "      <th>2</th>\n",
              "      <td>2020-10-22</td>\n",
              "      <td>@MisseeMonis They said vaccine for all but not...</td>\n",
              "      <td>said vaccin free covid vaccin new lakh rs ever...</td>\n",
              "    </tr>\n",
              "    <tr>\n",
              "      <th>3</th>\n",
              "      <td>2020-10-22</td>\n",
              "      <td>BJP really presenting \"free COVID vaccine\" as ...</td>\n",
              "      <td>bjp realli present free covid vaccin state man...</td>\n",
              "    </tr>\n",
              "    <tr>\n",
              "      <th>4</th>\n",
              "      <td>2020-10-22</td>\n",
              "      <td>Another dose of daily miserablism from Planet ...</td>\n",
              "      <td>anoth dose daili miserabl planet grauniad sub ...</td>\n",
              "    </tr>\n",
              "  </tbody>\n",
              "</table>\n",
              "</div>"
            ],
            "text/plain": [
              "         date  ...                                      process_tweet\n",
              "0  2020-10-22  ...  isnt best poll promis ever free covid vaccin v...\n",
              "1  2020-10-22  ...  state shall wait thier vidhan sabha elect get ...\n",
              "2  2020-10-22  ...  said vaccin free covid vaccin new lakh rs ever...\n",
              "3  2020-10-22  ...  bjp realli present free covid vaccin state man...\n",
              "4  2020-10-22  ...  anoth dose daili miserabl planet grauniad sub ...\n",
              "\n",
              "[5 rows x 3 columns]"
            ]
          },
          "metadata": {
            "tags": []
          },
          "execution_count": 107
        }
      ]
    },
    {
      "cell_type": "code",
      "metadata": {
        "colab": {
          "base_uri": "https://localhost:8080/"
        },
        "id": "mSs4yD-YPCzw",
        "outputId": "f72c8f54-2721-4f6f-f843-0dbb8863b773"
      },
      "source": [
        "!pip install vaderSentiment"
      ],
      "execution_count": null,
      "outputs": [
        {
          "output_type": "stream",
          "text": [
            "Requirement already satisfied: vaderSentiment in /usr/local/lib/python3.7/dist-packages (3.3.2)\n",
            "Requirement already satisfied: requests in /usr/local/lib/python3.7/dist-packages (from vaderSentiment) (2.23.0)\n",
            "Requirement already satisfied: urllib3!=1.25.0,!=1.25.1,<1.26,>=1.21.1 in /usr/local/lib/python3.7/dist-packages (from requests->vaderSentiment) (1.24.3)\n",
            "Requirement already satisfied: chardet<4,>=3.0.2 in /usr/local/lib/python3.7/dist-packages (from requests->vaderSentiment) (3.0.4)\n",
            "Requirement already satisfied: idna<3,>=2.5 in /usr/local/lib/python3.7/dist-packages (from requests->vaderSentiment) (2.10)\n",
            "Requirement already satisfied: certifi>=2017.4.17 in /usr/local/lib/python3.7/dist-packages (from requests->vaderSentiment) (2021.5.30)\n"
          ],
          "name": "stdout"
        }
      ]
    },
    {
      "cell_type": "code",
      "metadata": {
        "colab": {
          "base_uri": "https://localhost:8080/"
        },
        "id": "2rUqLCAFQCQj",
        "outputId": "ce206c3c-00a0-42de-abee-3206b5aae1c5"
      },
      "source": [
        "\n",
        "import nltk\n",
        "nltk.download('vader_lexicon')\n",
        "from nltk.sentiment.vader import SentimentIntensityAnalyzer\n",
        "sid = SentimentIntensityAnalyzer()"
      ],
      "execution_count": null,
      "outputs": [
        {
          "output_type": "stream",
          "text": [
            "[nltk_data] Downloading package vader_lexicon to /root/nltk_data...\n",
            "[nltk_data]   Package vader_lexicon is already up-to-date!\n"
          ],
          "name": "stdout"
        }
      ]
    },
    {
      "cell_type": "code",
      "metadata": {
        "colab": {
          "base_uri": "https://localhost:8080/",
          "height": 200
        },
        "id": "Ytd7et31QKME",
        "outputId": "db2b4da6-4407-49c2-eb33-f13fab1e1d34"
      },
      "source": [
        "data['Polarity_Vader'] = data['process_tweet'].apply(lambda txt: sid.polarity_scores(txt)['compound'])\n",
        "data.head()"
      ],
      "execution_count": null,
      "outputs": [
        {
          "output_type": "execute_result",
          "data": {
            "text/html": [
              "<div>\n",
              "<style scoped>\n",
              "    .dataframe tbody tr th:only-of-type {\n",
              "        vertical-align: middle;\n",
              "    }\n",
              "\n",
              "    .dataframe tbody tr th {\n",
              "        vertical-align: top;\n",
              "    }\n",
              "\n",
              "    .dataframe thead th {\n",
              "        text-align: right;\n",
              "    }\n",
              "</style>\n",
              "<table border=\"1\" class=\"dataframe\">\n",
              "  <thead>\n",
              "    <tr style=\"text-align: right;\">\n",
              "      <th></th>\n",
              "      <th>date</th>\n",
              "      <th>tweet</th>\n",
              "      <th>process_tweet</th>\n",
              "      <th>Polarity_Vader</th>\n",
              "    </tr>\n",
              "  </thead>\n",
              "  <tbody>\n",
              "    <tr>\n",
              "      <th>0</th>\n",
              "      <td>2020-10-22</td>\n",
              "      <td>@ANI Isn't it the best poll promise ever?? Fre...</td>\n",
              "      <td>isnt best poll promis ever free covid vaccin v...</td>\n",
              "      <td>-0.7482</td>\n",
              "    </tr>\n",
              "    <tr>\n",
              "      <th>1</th>\n",
              "      <td>2020-10-22</td>\n",
              "      <td>Now states shall have wait for thier Vidhan Sa...</td>\n",
              "      <td>state shall wait thier vidhan sabha elect get ...</td>\n",
              "      <td>0.0000</td>\n",
              "    </tr>\n",
              "    <tr>\n",
              "      <th>2</th>\n",
              "      <td>2020-10-22</td>\n",
              "      <td>@MisseeMonis They said vaccine for all but not...</td>\n",
              "      <td>said vaccin free covid vaccin new lakh rs ever...</td>\n",
              "      <td>0.7717</td>\n",
              "    </tr>\n",
              "    <tr>\n",
              "      <th>3</th>\n",
              "      <td>2020-10-22</td>\n",
              "      <td>BJP really presenting \"free COVID vaccine\" as ...</td>\n",
              "      <td>bjp realli present free covid vaccin state man...</td>\n",
              "      <td>0.7964</td>\n",
              "    </tr>\n",
              "    <tr>\n",
              "      <th>4</th>\n",
              "      <td>2020-10-22</td>\n",
              "      <td>Another dose of daily miserablism from Planet ...</td>\n",
              "      <td>anoth dose daili miserabl planet grauniad sub ...</td>\n",
              "      <td>0.4404</td>\n",
              "    </tr>\n",
              "  </tbody>\n",
              "</table>\n",
              "</div>"
            ],
            "text/plain": [
              "         date  ... Polarity_Vader\n",
              "0  2020-10-22  ...        -0.7482\n",
              "1  2020-10-22  ...         0.0000\n",
              "2  2020-10-22  ...         0.7717\n",
              "3  2020-10-22  ...         0.7964\n",
              "4  2020-10-22  ...         0.4404\n",
              "\n",
              "[5 rows x 4 columns]"
            ]
          },
          "metadata": {
            "tags": []
          },
          "execution_count": 110
        }
      ]
    },
    {
      "cell_type": "code",
      "metadata": {
        "id": "pir0qSmiQvty"
      },
      "source": [
        ""
      ],
      "execution_count": null,
      "outputs": []
    },
    {
      "cell_type": "markdown",
      "metadata": {
        "id": "oQqDtD276ZNk"
      },
      "source": [
        "# Labeling\n",
        "\n",
        "5 labels: \n",
        "strongly positive,\n",
        "positive,\n",
        "nuteral,\n",
        "negative,\n",
        "strongly negetative.\n"
      ]
    },
    {
      "cell_type": "code",
      "metadata": {
        "id": "v5hTuxCeOM_P"
      },
      "source": [
        ""
      ],
      "execution_count": null,
      "outputs": []
    },
    {
      "cell_type": "code",
      "metadata": {
        "id": "AGMa2rlh52cW"
      },
      "source": [
        "\n",
        "def get_text_polarity(txt):\n",
        "  return TextBlob(txt).sentiment.polarity"
      ],
      "execution_count": null,
      "outputs": []
    },
    {
      "cell_type": "code",
      "metadata": {
        "id": "wGxnAfLo7p_6"
      },
      "source": [
        "#add 2 columns(subjectivity and polarity) to the data\n",
        "\n",
        "#data['Subjectivity'] = data['process_tweet'].apply(get_text_subjectivity)\n",
        "\n",
        "data['Polarity_textblob'] = data['process_tweet'].apply(get_text_polarity)"
      ],
      "execution_count": null,
      "outputs": []
    },
    {
      "cell_type": "code",
      "metadata": {
        "id": "LGvzrHiC8edE"
      },
      "source": [
        "\n",
        "#Labeling\n",
        "def get_text_analysis(i):\n",
        "  if (i<-0.5):\n",
        "    return 'Strongly Negative'\n",
        "  elif ((i<0 ) and (i >= -0.5)):\n",
        "    return 'Negative'\n",
        "  elif (i == 0):\n",
        "    return 'Neutral'\n",
        "  elif (i>0 and i<=0.5):\n",
        "    return 'Positive'\n",
        "  else:\n",
        "    return 'Strongly Positive'\n",
        "\n"
      ],
      "execution_count": null,
      "outputs": []
    },
    {
      "cell_type": "code",
      "metadata": {
        "id": "eUeB5HlG-Ejk"
      },
      "source": [
        "data['Sentiment_TB'] = data['Polarity_textblob'].apply(get_text_analysis)\n",
        "data['Sentiment_VADER'] = data['Polarity_Vader'].apply(get_text_analysis)"
      ],
      "execution_count": null,
      "outputs": []
    },
    {
      "cell_type": "code",
      "metadata": {
        "colab": {
          "base_uri": "https://localhost:8080/",
          "height": 200
        },
        "id": "rapWMpLaTRy4",
        "outputId": "8ff20394-b379-42f3-9c27-faeaed822bdb"
      },
      "source": [
        "data.head()"
      ],
      "execution_count": null,
      "outputs": [
        {
          "output_type": "execute_result",
          "data": {
            "text/html": [
              "<div>\n",
              "<style scoped>\n",
              "    .dataframe tbody tr th:only-of-type {\n",
              "        vertical-align: middle;\n",
              "    }\n",
              "\n",
              "    .dataframe tbody tr th {\n",
              "        vertical-align: top;\n",
              "    }\n",
              "\n",
              "    .dataframe thead th {\n",
              "        text-align: right;\n",
              "    }\n",
              "</style>\n",
              "<table border=\"1\" class=\"dataframe\">\n",
              "  <thead>\n",
              "    <tr style=\"text-align: right;\">\n",
              "      <th></th>\n",
              "      <th>date</th>\n",
              "      <th>tweet</th>\n",
              "      <th>process_tweet</th>\n",
              "      <th>Polarity_Vader</th>\n",
              "      <th>Polarity_textblob</th>\n",
              "      <th>Sentiment_TB</th>\n",
              "      <th>Sentiment_VADER</th>\n",
              "    </tr>\n",
              "  </thead>\n",
              "  <tbody>\n",
              "    <tr>\n",
              "      <th>0</th>\n",
              "      <td>2020-10-22</td>\n",
              "      <td>@ANI Isn't it the best poll promise ever?? Fre...</td>\n",
              "      <td>isnt best poll promis ever free covid vaccin v...</td>\n",
              "      <td>-0.7482</td>\n",
              "      <td>0.197500</td>\n",
              "      <td>Positive</td>\n",
              "      <td>Strongly Negative</td>\n",
              "    </tr>\n",
              "    <tr>\n",
              "      <th>1</th>\n",
              "      <td>2020-10-22</td>\n",
              "      <td>Now states shall have wait for thier Vidhan Sa...</td>\n",
              "      <td>state shall wait thier vidhan sabha elect get ...</td>\n",
              "      <td>0.0000</td>\n",
              "      <td>0.800000</td>\n",
              "      <td>Strongly Positive</td>\n",
              "      <td>Neutral</td>\n",
              "    </tr>\n",
              "    <tr>\n",
              "      <th>2</th>\n",
              "      <td>2020-10-22</td>\n",
              "      <td>@MisseeMonis They said vaccine for all but not...</td>\n",
              "      <td>said vaccin free covid vaccin new lakh rs ever...</td>\n",
              "      <td>0.7717</td>\n",
              "      <td>0.378788</td>\n",
              "      <td>Positive</td>\n",
              "      <td>Strongly Positive</td>\n",
              "    </tr>\n",
              "    <tr>\n",
              "      <th>3</th>\n",
              "      <td>2020-10-22</td>\n",
              "      <td>BJP really presenting \"free COVID vaccine\" as ...</td>\n",
              "      <td>bjp realli present free covid vaccin state man...</td>\n",
              "      <td>0.7964</td>\n",
              "      <td>0.500000</td>\n",
              "      <td>Positive</td>\n",
              "      <td>Strongly Positive</td>\n",
              "    </tr>\n",
              "    <tr>\n",
              "      <th>4</th>\n",
              "      <td>2020-10-22</td>\n",
              "      <td>Another dose of daily miserablism from Planet ...</td>\n",
              "      <td>anoth dose daili miserabl planet grauniad sub ...</td>\n",
              "      <td>0.4404</td>\n",
              "      <td>0.000000</td>\n",
              "      <td>Neutral</td>\n",
              "      <td>Positive</td>\n",
              "    </tr>\n",
              "  </tbody>\n",
              "</table>\n",
              "</div>"
            ],
            "text/plain": [
              "         date  ...    Sentiment_VADER\n",
              "0  2020-10-22  ...  Strongly Negative\n",
              "1  2020-10-22  ...            Neutral\n",
              "2  2020-10-22  ...  Strongly Positive\n",
              "3  2020-10-22  ...  Strongly Positive\n",
              "4  2020-10-22  ...           Positive\n",
              "\n",
              "[5 rows x 7 columns]"
            ]
          },
          "metadata": {
            "tags": []
          },
          "execution_count": 115
        }
      ]
    },
    {
      "cell_type": "code",
      "metadata": {
        "id": "ny013lIFy0UW"
      },
      "source": [
        "possible_labels = data.Sentiment_TB.unique()\n",
        "\n",
        "label_dict = {}\n",
        "for index, possible_label in enumerate(possible_labels): \n",
        "#The enumerate() function takes a collection (e.g. a tuple) and returns it as an enumerate object.\n",
        "    label_dict[possible_label] = index\n",
        "\n",
        "data['label_TB'] = data.Sentiment_TB.replace(label_dict)\n",
        "\n"
      ],
      "execution_count": null,
      "outputs": []
    },
    {
      "cell_type": "code",
      "metadata": {
        "id": "2EgK-IJeT95f"
      },
      "source": [
        "#possible_labels = data.Sentiment_VADER.unique()\n",
        "\n",
        "label_dict = {}\n",
        "for index, possible_label in enumerate(possible_labels): \n",
        "#The enumerate() function takes a collection (e.g. a tuple) and returns it as an enumerate object.\n",
        "    label_dict[possible_label] = index\n",
        "\n",
        "data['label_VD'] = data.Sentiment_VADER.replace(label_dict)\n"
      ],
      "execution_count": null,
      "outputs": []
    },
    {
      "cell_type": "code",
      "metadata": {
        "colab": {
          "base_uri": "https://localhost:8080/"
        },
        "id": "zg--TapwEPw4",
        "outputId": "59f45784-7ce8-47b9-fd2e-36e22defa4f0"
      },
      "source": [
        "possible_labels"
      ],
      "execution_count": null,
      "outputs": [
        {
          "output_type": "execute_result",
          "data": {
            "text/plain": [
              "array(['Positive', 'Strongly Positive', 'Neutral', 'Negative',\n",
              "       'Strongly Negative'], dtype=object)"
            ]
          },
          "metadata": {
            "tags": []
          },
          "execution_count": 47
        }
      ]
    },
    {
      "cell_type": "code",
      "metadata": {
        "colab": {
          "base_uri": "https://localhost:8080/",
          "height": 200
        },
        "id": "kPXKsJQ4AGcM",
        "outputId": "dfb46013-efb7-4171-9de1-74128a961d78"
      },
      "source": [
        "df=data[['date','Sentiment_TB' ,'label_TB','Sentiment_VADER' ,'label_VD']]\n",
        "data = data[['process_tweet','Sentiment_TB' ,'label_TB','Sentiment_VADER' ,'label_VD']]\n",
        "data.head()\n",
        "\n"
      ],
      "execution_count": null,
      "outputs": [
        {
          "output_type": "execute_result",
          "data": {
            "text/html": [
              "<div>\n",
              "<style scoped>\n",
              "    .dataframe tbody tr th:only-of-type {\n",
              "        vertical-align: middle;\n",
              "    }\n",
              "\n",
              "    .dataframe tbody tr th {\n",
              "        vertical-align: top;\n",
              "    }\n",
              "\n",
              "    .dataframe thead th {\n",
              "        text-align: right;\n",
              "    }\n",
              "</style>\n",
              "<table border=\"1\" class=\"dataframe\">\n",
              "  <thead>\n",
              "    <tr style=\"text-align: right;\">\n",
              "      <th></th>\n",
              "      <th>process_tweet</th>\n",
              "      <th>Sentiment_TB</th>\n",
              "      <th>label_TB</th>\n",
              "      <th>Sentiment_VADER</th>\n",
              "      <th>label_VD</th>\n",
              "    </tr>\n",
              "  </thead>\n",
              "  <tbody>\n",
              "    <tr>\n",
              "      <th>0</th>\n",
              "      <td>isnt best poll promis ever free covid vaccin v...</td>\n",
              "      <td>Positive</td>\n",
              "      <td>0</td>\n",
              "      <td>Strongly Negative</td>\n",
              "      <td>4</td>\n",
              "    </tr>\n",
              "    <tr>\n",
              "      <th>1</th>\n",
              "      <td>state shall wait thier vidhan sabha elect get ...</td>\n",
              "      <td>Strongly Positive</td>\n",
              "      <td>1</td>\n",
              "      <td>Neutral</td>\n",
              "      <td>2</td>\n",
              "    </tr>\n",
              "    <tr>\n",
              "      <th>2</th>\n",
              "      <td>said vaccin free covid vaccin new lakh rs ever...</td>\n",
              "      <td>Positive</td>\n",
              "      <td>0</td>\n",
              "      <td>Strongly Positive</td>\n",
              "      <td>1</td>\n",
              "    </tr>\n",
              "    <tr>\n",
              "      <th>3</th>\n",
              "      <td>bjp realli present free covid vaccin state man...</td>\n",
              "      <td>Positive</td>\n",
              "      <td>0</td>\n",
              "      <td>Strongly Positive</td>\n",
              "      <td>1</td>\n",
              "    </tr>\n",
              "    <tr>\n",
              "      <th>4</th>\n",
              "      <td>anoth dose daili miserabl planet grauniad sub ...</td>\n",
              "      <td>Neutral</td>\n",
              "      <td>2</td>\n",
              "      <td>Positive</td>\n",
              "      <td>0</td>\n",
              "    </tr>\n",
              "  </tbody>\n",
              "</table>\n",
              "</div>"
            ],
            "text/plain": [
              "                                       process_tweet  ... label_VD\n",
              "0  isnt best poll promis ever free covid vaccin v...  ...        4\n",
              "1  state shall wait thier vidhan sabha elect get ...  ...        2\n",
              "2  said vaccin free covid vaccin new lakh rs ever...  ...        1\n",
              "3  bjp realli present free covid vaccin state man...  ...        1\n",
              "4  anoth dose daili miserabl planet grauniad sub ...  ...        0\n",
              "\n",
              "[5 rows x 5 columns]"
            ]
          },
          "metadata": {
            "tags": []
          },
          "execution_count": 48
        }
      ]
    },
    {
      "cell_type": "code",
      "metadata": {
        "colab": {
          "base_uri": "https://localhost:8080/"
        },
        "id": "ZD9yROnj6RyY",
        "outputId": "f8588c5d-41d5-479f-8a50-156e903d8a3a"
      },
      "source": [
        "from pandas import datetime \n",
        "\n",
        "df['date'] = pd.to_datetime(df['date'])\n",
        "df['Month'] = df['date'].dt.month\n",
        "df['Month-str-full'] = df['date'].dt.strftime('%B')"
      ],
      "execution_count": null,
      "outputs": [
        {
          "output_type": "stream",
          "text": [
            "/usr/local/lib/python3.7/dist-packages/ipykernel_launcher.py:1: FutureWarning: The pandas.datetime class is deprecated and will be removed from pandas in a future version. Import from datetime module instead.\n",
            "  \"\"\"Entry point for launching an IPython kernel.\n"
          ],
          "name": "stderr"
        }
      ]
    },
    {
      "cell_type": "code",
      "metadata": {
        "colab": {
          "base_uri": "https://localhost:8080/"
        },
        "id": "eUpbcRlH4yGb",
        "outputId": "1ab43095-614f-4c33-c245-3a17b27a92cc"
      },
      "source": [
        "possible_months = df['Month-str-full'].unique()\n",
        "print(possible_labels)\n",
        "print(possible_months)"
      ],
      "execution_count": null,
      "outputs": [
        {
          "output_type": "stream",
          "text": [
            "['Positive' 'Strongly Positive' 'Neutral' 'Negative' 'Strongly Negative']\n",
            "['October' 'September' 'August' 'July' 'June' 'May' 'April' 'March'\n",
            " 'February' 'December' 'November' 'January']\n"
          ],
          "name": "stdout"
        }
      ]
    },
    {
      "cell_type": "code",
      "metadata": {
        "colab": {
          "base_uri": "https://localhost:8080/",
          "height": 200
        },
        "id": "n-lqN7cMFP_7",
        "outputId": "9ba848b6-1484-4e39-fc8c-829407fbaf58"
      },
      "source": [
        "df.head()"
      ],
      "execution_count": null,
      "outputs": [
        {
          "output_type": "execute_result",
          "data": {
            "text/html": [
              "<div>\n",
              "<style scoped>\n",
              "    .dataframe tbody tr th:only-of-type {\n",
              "        vertical-align: middle;\n",
              "    }\n",
              "\n",
              "    .dataframe tbody tr th {\n",
              "        vertical-align: top;\n",
              "    }\n",
              "\n",
              "    .dataframe thead th {\n",
              "        text-align: right;\n",
              "    }\n",
              "</style>\n",
              "<table border=\"1\" class=\"dataframe\">\n",
              "  <thead>\n",
              "    <tr style=\"text-align: right;\">\n",
              "      <th></th>\n",
              "      <th>date</th>\n",
              "      <th>Sentiment_TB</th>\n",
              "      <th>label_TB</th>\n",
              "      <th>Sentiment_VADER</th>\n",
              "      <th>label_VD</th>\n",
              "      <th>Month</th>\n",
              "      <th>Month-str-full</th>\n",
              "    </tr>\n",
              "  </thead>\n",
              "  <tbody>\n",
              "    <tr>\n",
              "      <th>0</th>\n",
              "      <td>2020-10-22</td>\n",
              "      <td>Positive</td>\n",
              "      <td>0</td>\n",
              "      <td>Strongly Negative</td>\n",
              "      <td>4</td>\n",
              "      <td>10</td>\n",
              "      <td>October</td>\n",
              "    </tr>\n",
              "    <tr>\n",
              "      <th>1</th>\n",
              "      <td>2020-10-22</td>\n",
              "      <td>Strongly Positive</td>\n",
              "      <td>1</td>\n",
              "      <td>Neutral</td>\n",
              "      <td>2</td>\n",
              "      <td>10</td>\n",
              "      <td>October</td>\n",
              "    </tr>\n",
              "    <tr>\n",
              "      <th>2</th>\n",
              "      <td>2020-10-22</td>\n",
              "      <td>Positive</td>\n",
              "      <td>0</td>\n",
              "      <td>Strongly Positive</td>\n",
              "      <td>1</td>\n",
              "      <td>10</td>\n",
              "      <td>October</td>\n",
              "    </tr>\n",
              "    <tr>\n",
              "      <th>3</th>\n",
              "      <td>2020-10-22</td>\n",
              "      <td>Positive</td>\n",
              "      <td>0</td>\n",
              "      <td>Strongly Positive</td>\n",
              "      <td>1</td>\n",
              "      <td>10</td>\n",
              "      <td>October</td>\n",
              "    </tr>\n",
              "    <tr>\n",
              "      <th>4</th>\n",
              "      <td>2020-10-22</td>\n",
              "      <td>Neutral</td>\n",
              "      <td>2</td>\n",
              "      <td>Positive</td>\n",
              "      <td>0</td>\n",
              "      <td>10</td>\n",
              "      <td>October</td>\n",
              "    </tr>\n",
              "  </tbody>\n",
              "</table>\n",
              "</div>"
            ],
            "text/plain": [
              "        date       Sentiment_TB  label_TB  ... label_VD  Month  Month-str-full\n",
              "0 2020-10-22           Positive         0  ...        4     10         October\n",
              "1 2020-10-22  Strongly Positive         1  ...        2     10         October\n",
              "2 2020-10-22           Positive         0  ...        1     10         October\n",
              "3 2020-10-22           Positive         0  ...        1     10         October\n",
              "4 2020-10-22            Neutral         2  ...        0     10         October\n",
              "\n",
              "[5 rows x 7 columns]"
            ]
          },
          "metadata": {
            "tags": []
          },
          "execution_count": 51
        }
      ]
    },
    {
      "cell_type": "code",
      "metadata": {
        "colab": {
          "base_uri": "https://localhost:8080/"
        },
        "id": "oA0O6OzNJdkV",
        "outputId": "6e8551b2-d764-4c99-b17f-1fc2a44a5d86"
      },
      "source": [
        "df['Month-str-full'].value_counts()"
      ],
      "execution_count": null,
      "outputs": [
        {
          "output_type": "execute_result",
          "data": {
            "text/plain": [
              "November     194118\n",
              "December     109639\n",
              "September    106590\n",
              "August        77587\n",
              "October       76572\n",
              "July          50109\n",
              "April         33751\n",
              "May           33423\n",
              "March         29425\n",
              "February      28447\n",
              "June          25018\n",
              "January        9367\n",
              "Name: Month-str-full, dtype: int64"
            ]
          },
          "metadata": {
            "tags": []
          },
          "execution_count": 52
        }
      ]
    },
    {
      "cell_type": "code",
      "metadata": {
        "id": "KhcCx9weF-lU"
      },
      "source": [
        ""
      ],
      "execution_count": null,
      "outputs": []
    },
    {
      "cell_type": "code",
      "metadata": {
        "id": "JR6E-T6XgeKl"
      },
      "source": [
        "data.to_csv('process_vaccine_tweet.csv')"
      ],
      "execution_count": null,
      "outputs": []
    },
    {
      "cell_type": "code",
      "metadata": {
        "colab": {
          "base_uri": "https://localhost:8080/",
          "height": 200
        },
        "id": "EY0I9Vrajb2V",
        "outputId": "54d3e7dd-5563-40ea-ac25-c5fdf364754b"
      },
      "source": [
        "df_new = data.copy()\n",
        "\n",
        "#df_new.rename(columns={'Sentiment' : 'Data'} , inplace= True)\n",
        "\n",
        "df_new.head()"
      ],
      "execution_count": null,
      "outputs": [
        {
          "output_type": "execute_result",
          "data": {
            "text/html": [
              "<div>\n",
              "<style scoped>\n",
              "    .dataframe tbody tr th:only-of-type {\n",
              "        vertical-align: middle;\n",
              "    }\n",
              "\n",
              "    .dataframe tbody tr th {\n",
              "        vertical-align: top;\n",
              "    }\n",
              "\n",
              "    .dataframe thead th {\n",
              "        text-align: right;\n",
              "    }\n",
              "</style>\n",
              "<table border=\"1\" class=\"dataframe\">\n",
              "  <thead>\n",
              "    <tr style=\"text-align: right;\">\n",
              "      <th></th>\n",
              "      <th>process_tweet</th>\n",
              "      <th>Sentiment_TB</th>\n",
              "      <th>label_TB</th>\n",
              "      <th>Sentiment_VADER</th>\n",
              "      <th>label_VD</th>\n",
              "    </tr>\n",
              "  </thead>\n",
              "  <tbody>\n",
              "    <tr>\n",
              "      <th>0</th>\n",
              "      <td>isnt best poll promis ever free covid vaccin v...</td>\n",
              "      <td>Positive</td>\n",
              "      <td>0</td>\n",
              "      <td>Strongly Negative</td>\n",
              "      <td>4</td>\n",
              "    </tr>\n",
              "    <tr>\n",
              "      <th>1</th>\n",
              "      <td>state shall wait thier vidhan sabha elect get ...</td>\n",
              "      <td>Strongly Positive</td>\n",
              "      <td>1</td>\n",
              "      <td>Neutral</td>\n",
              "      <td>2</td>\n",
              "    </tr>\n",
              "    <tr>\n",
              "      <th>2</th>\n",
              "      <td>said vaccin free covid vaccin new lakh rs ever...</td>\n",
              "      <td>Positive</td>\n",
              "      <td>0</td>\n",
              "      <td>Strongly Positive</td>\n",
              "      <td>1</td>\n",
              "    </tr>\n",
              "    <tr>\n",
              "      <th>3</th>\n",
              "      <td>bjp realli present free covid vaccin state man...</td>\n",
              "      <td>Positive</td>\n",
              "      <td>0</td>\n",
              "      <td>Strongly Positive</td>\n",
              "      <td>1</td>\n",
              "    </tr>\n",
              "    <tr>\n",
              "      <th>4</th>\n",
              "      <td>anoth dose daili miserabl planet grauniad sub ...</td>\n",
              "      <td>Neutral</td>\n",
              "      <td>2</td>\n",
              "      <td>Positive</td>\n",
              "      <td>0</td>\n",
              "    </tr>\n",
              "  </tbody>\n",
              "</table>\n",
              "</div>"
            ],
            "text/plain": [
              "                                       process_tweet  ... label_VD\n",
              "0  isnt best poll promis ever free covid vaccin v...  ...        4\n",
              "1  state shall wait thier vidhan sabha elect get ...  ...        2\n",
              "2  said vaccin free covid vaccin new lakh rs ever...  ...        1\n",
              "3  bjp realli present free covid vaccin state man...  ...        1\n",
              "4  anoth dose daili miserabl planet grauniad sub ...  ...        0\n",
              "\n",
              "[5 rows x 5 columns]"
            ]
          },
          "metadata": {
            "tags": []
          },
          "execution_count": 56
        }
      ]
    },
    {
      "cell_type": "code",
      "metadata": {
        "colab": {
          "base_uri": "https://localhost:8080/",
          "height": 656
        },
        "id": "srgy9EWoWdGI",
        "outputId": "d3724f0c-0a43-41a1-b3db-991b2433b227"
      },
      "source": [
        "import seaborn as sns\n",
        "\n",
        "plt.figure(figsize=(10,5))\n",
        "sns.countplot(x='Sentiment_VADER', data=df_new, order=['Strongly Negative' ,'Negative' , 'Neutral' , 'Positive' , 'Strongly Positive']);\n",
        "\n",
        "\n",
        "\n",
        "\n",
        "plt.figure(figsize=(10,5))\n",
        "sns.countplot(x='Sentiment_TB', data=df_new, order=['Strongly Negative' ,'Negative' , 'Neutral' , 'Positive' , 'Strongly Positive']);"
      ],
      "execution_count": null,
      "outputs": [
        {
          "output_type": "display_data",
          "data": {
            "image/png": "[encoded data removed]",
            "text/plain": [
              "<Figure size 720x360 with 1 Axes>"
            ]
          },
          "metadata": {
            "tags": [],
            "needs_background": "light"
          }
        },
        {
          "output_type": "display_data",
          "data": {
            "image/png": "[encoded data removed]",
            "text/plain": [
              "<Figure size 720x360 with 1 Axes>"
            ]
          },
          "metadata": {
            "tags": [],
            "needs_background": "light"
          }
        }
      ]
    },
    {
      "cell_type": "code",
      "metadata": {
        "id": "iTuWiRwQc1wt"
      },
      "source": [
        "data.to_csv('Vaccine_Label_Data_Stream.csv')"
      ],
      "execution_count": null,
      "outputs": []
    },
    {
      "cell_type": "code",
      "metadata": {
        "colab": {
          "base_uri": "https://localhost:8080/",
          "height": 295
        },
        "id": "UiAGr_2LY1G-",
        "outputId": "aab1020d-f30b-45d8-f4ad-f844c1772bdd"
      },
      "source": [
        "data['process_tweet'].str.len().plot.hist()\n",
        "plt.xlabel('Word Length')\n",
        "plt.ylabel('Num of Tweet ')"
      ],
      "execution_count": null,
      "outputs": [
        {
          "output_type": "execute_result",
          "data": {
            "text/plain": [
              "Text(0, 0.5, 'Num of Tweet ')"
            ]
          },
          "metadata": {
            "tags": []
          },
          "execution_count": 59
        },
        {
          "output_type": "display_data",
          "data": {
            "image/png": "[encoded data removed]",
            "text/plain": [
              "<Figure size 432x288 with 1 Axes>"
            ]
          },
          "metadata": {
            "tags": [],
            "needs_background": "light"
          }
        }
      ]
    },
    {
      "cell_type": "code",
      "metadata": {
        "id": "aKZW2yFAf_D1"
      },
      "source": [
        ""
      ],
      "execution_count": null,
      "outputs": []
    },
    {
      "cell_type": "code",
      "metadata": {
        "id": "NDylelzaY1Os"
      },
      "source": [
        "#import library for deep learning\n",
        "from sklearn.model_selection import train_test_split\n",
        "\n",
        "\n",
        "from keras.models import Sequential, load_model\n",
        "from keras.layers import Dense, LSTM, Embedding, Dropout\n",
        "from keras.preprocessing.text import Tokenizer\n",
        "from keras.preprocessing.sequence import pad_sequences"
      ],
      "execution_count": null,
      "outputs": []
    },
    {
      "cell_type": "code",
      "metadata": {
        "colab": {
          "base_uri": "https://localhost:8080/",
          "height": 200
        },
        "id": "4t7aI-iGD8KF",
        "outputId": "9ede5774-d310-4c0a-d811-2e136840d051"
      },
      "source": [
        "data.head()"
      ],
      "execution_count": null,
      "outputs": [
        {
          "output_type": "execute_result",
          "data": {
            "text/html": [
              "<div>\n",
              "<style scoped>\n",
              "    .dataframe tbody tr th:only-of-type {\n",
              "        vertical-align: middle;\n",
              "    }\n",
              "\n",
              "    .dataframe tbody tr th {\n",
              "        vertical-align: top;\n",
              "    }\n",
              "\n",
              "    .dataframe thead th {\n",
              "        text-align: right;\n",
              "    }\n",
              "</style>\n",
              "<table border=\"1\" class=\"dataframe\">\n",
              "  <thead>\n",
              "    <tr style=\"text-align: right;\">\n",
              "      <th></th>\n",
              "      <th>process_tweet</th>\n",
              "      <th>Sentiment_TB</th>\n",
              "      <th>label_TB</th>\n",
              "      <th>Sentiment_VADER</th>\n",
              "      <th>label_VD</th>\n",
              "    </tr>\n",
              "  </thead>\n",
              "  <tbody>\n",
              "    <tr>\n",
              "      <th>0</th>\n",
              "      <td>isnt best poll promis ever free covid vaccin v...</td>\n",
              "      <td>Positive</td>\n",
              "      <td>0</td>\n",
              "      <td>Strongly Negative</td>\n",
              "      <td>4</td>\n",
              "    </tr>\n",
              "    <tr>\n",
              "      <th>1</th>\n",
              "      <td>state shall wait thier vidhan sabha elect get ...</td>\n",
              "      <td>Strongly Positive</td>\n",
              "      <td>1</td>\n",
              "      <td>Neutral</td>\n",
              "      <td>2</td>\n",
              "    </tr>\n",
              "    <tr>\n",
              "      <th>2</th>\n",
              "      <td>said vaccin free covid vaccin new lakh rs ever...</td>\n",
              "      <td>Positive</td>\n",
              "      <td>0</td>\n",
              "      <td>Strongly Positive</td>\n",
              "      <td>1</td>\n",
              "    </tr>\n",
              "    <tr>\n",
              "      <th>3</th>\n",
              "      <td>bjp realli present free covid vaccin state man...</td>\n",
              "      <td>Positive</td>\n",
              "      <td>0</td>\n",
              "      <td>Strongly Positive</td>\n",
              "      <td>1</td>\n",
              "    </tr>\n",
              "    <tr>\n",
              "      <th>4</th>\n",
              "      <td>anoth dose daili miserabl planet grauniad sub ...</td>\n",
              "      <td>Neutral</td>\n",
              "      <td>2</td>\n",
              "      <td>Positive</td>\n",
              "      <td>0</td>\n",
              "    </tr>\n",
              "  </tbody>\n",
              "</table>\n",
              "</div>"
            ],
            "text/plain": [
              "                                       process_tweet  ... label_VD\n",
              "0  isnt best poll promis ever free covid vaccin v...  ...        4\n",
              "1  state shall wait thier vidhan sabha elect get ...  ...        2\n",
              "2  said vaccin free covid vaccin new lakh rs ever...  ...        1\n",
              "3  bjp realli present free covid vaccin state man...  ...        1\n",
              "4  anoth dose daili miserabl planet grauniad sub ...  ...        0\n",
              "\n",
              "[5 rows x 5 columns]"
            ]
          },
          "metadata": {
            "tags": []
          },
          "execution_count": 61
        }
      ]
    },
    {
      "cell_type": "markdown",
      "metadata": {
        "id": "_atTlHiuV6YR"
      },
      "source": [
        "# **FOR VADER ONLY**"
      ]
    },
    {
      "cell_type": "code",
      "metadata": {
        "colab": {
          "base_uri": "https://localhost:8080/",
          "height": 200
        },
        "id": "fJ0PZxIPY1XP",
        "outputId": "0355383f-7678-4031-83e2-b848c3d4c8a2"
      },
      "source": [
        "\n",
        "#for deep learning we need to only 2 colums(sentiment and process tweet)\n",
        "data = data[['Sentiment_TB','process_tweet' ]]\n",
        "data.head()"
      ],
      "execution_count": null,
      "outputs": [
        {
          "output_type": "execute_result",
          "data": {
            "text/html": [
              "<div>\n",
              "<style scoped>\n",
              "    .dataframe tbody tr th:only-of-type {\n",
              "        vertical-align: middle;\n",
              "    }\n",
              "\n",
              "    .dataframe tbody tr th {\n",
              "        vertical-align: top;\n",
              "    }\n",
              "\n",
              "    .dataframe thead th {\n",
              "        text-align: right;\n",
              "    }\n",
              "</style>\n",
              "<table border=\"1\" class=\"dataframe\">\n",
              "  <thead>\n",
              "    <tr style=\"text-align: right;\">\n",
              "      <th></th>\n",
              "      <th>Sentiment_TB</th>\n",
              "      <th>process_tweet</th>\n",
              "    </tr>\n",
              "  </thead>\n",
              "  <tbody>\n",
              "    <tr>\n",
              "      <th>0</th>\n",
              "      <td>Positive</td>\n",
              "      <td>isnt best poll promis ever free covid vaccin v...</td>\n",
              "    </tr>\n",
              "    <tr>\n",
              "      <th>1</th>\n",
              "      <td>Strongly Positive</td>\n",
              "      <td>state shall wait thier vidhan sabha elect get ...</td>\n",
              "    </tr>\n",
              "    <tr>\n",
              "      <th>2</th>\n",
              "      <td>Positive</td>\n",
              "      <td>said vaccin free covid vaccin new lakh rs ever...</td>\n",
              "    </tr>\n",
              "    <tr>\n",
              "      <th>3</th>\n",
              "      <td>Positive</td>\n",
              "      <td>bjp realli present free covid vaccin state man...</td>\n",
              "    </tr>\n",
              "    <tr>\n",
              "      <th>4</th>\n",
              "      <td>Neutral</td>\n",
              "      <td>anoth dose daili miserabl planet grauniad sub ...</td>\n",
              "    </tr>\n",
              "  </tbody>\n",
              "</table>\n",
              "</div>"
            ],
            "text/plain": [
              "        Sentiment_TB                                      process_tweet\n",
              "0           Positive  isnt best poll promis ever free covid vaccin v...\n",
              "1  Strongly Positive  state shall wait thier vidhan sabha elect get ...\n",
              "2           Positive  said vaccin free covid vaccin new lakh rs ever...\n",
              "3           Positive  bjp realli present free covid vaccin state man...\n",
              "4            Neutral  anoth dose daili miserabl planet grauniad sub ..."
            ]
          },
          "metadata": {
            "tags": []
          },
          "execution_count": 62
        }
      ]
    },
    {
      "cell_type": "code",
      "metadata": {
        "id": "8Pld3dFuY1ba"
      },
      "source": [
        "data1 = data.copy()      #########    for experiment ,max_words"
      ],
      "execution_count": null,
      "outputs": []
    },
    {
      "cell_type": "code",
      "metadata": {
        "colab": {
          "base_uri": "https://localhost:8080/",
          "height": 200
        },
        "id": "eZYTkyCcYxbt",
        "outputId": "afe98735-255f-47ba-8501-5e16c60f7ec5"
      },
      "source": [
        "data1.head()"
      ],
      "execution_count": null,
      "outputs": [
        {
          "output_type": "execute_result",
          "data": {
            "text/html": [
              "<div>\n",
              "<style scoped>\n",
              "    .dataframe tbody tr th:only-of-type {\n",
              "        vertical-align: middle;\n",
              "    }\n",
              "\n",
              "    .dataframe tbody tr th {\n",
              "        vertical-align: top;\n",
              "    }\n",
              "\n",
              "    .dataframe thead th {\n",
              "        text-align: right;\n",
              "    }\n",
              "</style>\n",
              "<table border=\"1\" class=\"dataframe\">\n",
              "  <thead>\n",
              "    <tr style=\"text-align: right;\">\n",
              "      <th></th>\n",
              "      <th>Sentiment_TB</th>\n",
              "      <th>process_tweet</th>\n",
              "    </tr>\n",
              "  </thead>\n",
              "  <tbody>\n",
              "    <tr>\n",
              "      <th>0</th>\n",
              "      <td>Positive</td>\n",
              "      <td>isnt best poll promis ever free covid vaccin v...</td>\n",
              "    </tr>\n",
              "    <tr>\n",
              "      <th>1</th>\n",
              "      <td>Strongly Positive</td>\n",
              "      <td>state shall wait thier vidhan sabha elect get ...</td>\n",
              "    </tr>\n",
              "    <tr>\n",
              "      <th>2</th>\n",
              "      <td>Positive</td>\n",
              "      <td>said vaccin free covid vaccin new lakh rs ever...</td>\n",
              "    </tr>\n",
              "    <tr>\n",
              "      <th>3</th>\n",
              "      <td>Positive</td>\n",
              "      <td>bjp realli present free covid vaccin state man...</td>\n",
              "    </tr>\n",
              "    <tr>\n",
              "      <th>4</th>\n",
              "      <td>Neutral</td>\n",
              "      <td>anoth dose daili miserabl planet grauniad sub ...</td>\n",
              "    </tr>\n",
              "  </tbody>\n",
              "</table>\n",
              "</div>"
            ],
            "text/plain": [
              "        Sentiment_TB                                      process_tweet\n",
              "0           Positive  isnt best poll promis ever free covid vaccin v...\n",
              "1  Strongly Positive  state shall wait thier vidhan sabha elect get ...\n",
              "2           Positive  said vaccin free covid vaccin new lakh rs ever...\n",
              "3           Positive  bjp realli present free covid vaccin state man...\n",
              "4            Neutral  anoth dose daili miserabl planet grauniad sub ..."
            ]
          },
          "metadata": {
            "tags": []
          },
          "execution_count": 64
        }
      ]
    },
    {
      "cell_type": "code",
      "metadata": {
        "colab": {
          "base_uri": "https://localhost:8080/",
          "height": 200
        },
        "id": "t1SNInACd4_o",
        "outputId": "e2dea8b5-9dc1-4598-f148-d35257dd053f"
      },
      "source": [
        "data1 = data1.reset_index(drop=True) #for removing missig index \n",
        "\n",
        "#see previous index 3 is replaced by new index 2\n",
        "data1.head() "
      ],
      "execution_count": null,
      "outputs": [
        {
          "output_type": "execute_result",
          "data": {
            "text/html": [
              "<div>\n",
              "<style scoped>\n",
              "    .dataframe tbody tr th:only-of-type {\n",
              "        vertical-align: middle;\n",
              "    }\n",
              "\n",
              "    .dataframe tbody tr th {\n",
              "        vertical-align: top;\n",
              "    }\n",
              "\n",
              "    .dataframe thead th {\n",
              "        text-align: right;\n",
              "    }\n",
              "</style>\n",
              "<table border=\"1\" class=\"dataframe\">\n",
              "  <thead>\n",
              "    <tr style=\"text-align: right;\">\n",
              "      <th></th>\n",
              "      <th>Sentiment_TB</th>\n",
              "      <th>process_tweet</th>\n",
              "    </tr>\n",
              "  </thead>\n",
              "  <tbody>\n",
              "    <tr>\n",
              "      <th>0</th>\n",
              "      <td>Positive</td>\n",
              "      <td>isnt best poll promis ever free covid vaccin v...</td>\n",
              "    </tr>\n",
              "    <tr>\n",
              "      <th>1</th>\n",
              "      <td>Strongly Positive</td>\n",
              "      <td>state shall wait thier vidhan sabha elect get ...</td>\n",
              "    </tr>\n",
              "    <tr>\n",
              "      <th>2</th>\n",
              "      <td>Positive</td>\n",
              "      <td>said vaccin free covid vaccin new lakh rs ever...</td>\n",
              "    </tr>\n",
              "    <tr>\n",
              "      <th>3</th>\n",
              "      <td>Positive</td>\n",
              "      <td>bjp realli present free covid vaccin state man...</td>\n",
              "    </tr>\n",
              "    <tr>\n",
              "      <th>4</th>\n",
              "      <td>Neutral</td>\n",
              "      <td>anoth dose daili miserabl planet grauniad sub ...</td>\n",
              "    </tr>\n",
              "  </tbody>\n",
              "</table>\n",
              "</div>"
            ],
            "text/plain": [
              "        Sentiment_TB                                      process_tweet\n",
              "0           Positive  isnt best poll promis ever free covid vaccin v...\n",
              "1  Strongly Positive  state shall wait thier vidhan sabha elect get ...\n",
              "2           Positive  said vaccin free covid vaccin new lakh rs ever...\n",
              "3           Positive  bjp realli present free covid vaccin state man...\n",
              "4            Neutral  anoth dose daili miserabl planet grauniad sub ..."
            ]
          },
          "metadata": {
            "tags": []
          },
          "execution_count": 65
        }
      ]
    },
    {
      "cell_type": "code",
      "metadata": {
        "id": "dj404WeUB5w3",
        "colab": {
          "base_uri": "https://localhost:8080/"
        },
        "outputId": "3ef3251f-f71b-4a7f-8e4f-d205a857d4c3"
      },
      "source": [
        "uniqueWords = list(set(\" \".join(data['process_tweet']).lower().split(\" \")))\n",
        "count = len(uniqueWords)\n",
        "print(count)"
      ],
      "execution_count": null,
      "outputs": [
        {
          "output_type": "stream",
          "text": [
            "165769\n"
          ],
          "name": "stdout"
        }
      ]
    },
    {
      "cell_type": "code",
      "metadata": {
        "colab": {
          "base_uri": "https://localhost:8080/",
          "height": 200
        },
        "id": "XWUVKQ0YDp9d",
        "outputId": "c26a3438-39f1-4bae-845b-4e4e36259f62"
      },
      "source": [
        "data1 = data.copy()    \n",
        "\n",
        "data1.head()"
      ],
      "execution_count": null,
      "outputs": [
        {
          "output_type": "execute_result",
          "data": {
            "text/html": [
              "<div>\n",
              "<style scoped>\n",
              "    .dataframe tbody tr th:only-of-type {\n",
              "        vertical-align: middle;\n",
              "    }\n",
              "\n",
              "    .dataframe tbody tr th {\n",
              "        vertical-align: top;\n",
              "    }\n",
              "\n",
              "    .dataframe thead th {\n",
              "        text-align: right;\n",
              "    }\n",
              "</style>\n",
              "<table border=\"1\" class=\"dataframe\">\n",
              "  <thead>\n",
              "    <tr style=\"text-align: right;\">\n",
              "      <th></th>\n",
              "      <th>Sentiment_TB</th>\n",
              "      <th>process_tweet</th>\n",
              "      <th>label_TB</th>\n",
              "    </tr>\n",
              "  </thead>\n",
              "  <tbody>\n",
              "    <tr>\n",
              "      <th>0</th>\n",
              "      <td>Positive</td>\n",
              "      <td>isnt best poll promis ever free covid vaccin v...</td>\n",
              "      <td>0</td>\n",
              "    </tr>\n",
              "    <tr>\n",
              "      <th>1</th>\n",
              "      <td>Strongly Positive</td>\n",
              "      <td>state shall wait thier vidhan sabha elect get ...</td>\n",
              "      <td>1</td>\n",
              "    </tr>\n",
              "    <tr>\n",
              "      <th>2</th>\n",
              "      <td>Positive</td>\n",
              "      <td>said vaccin free covid vaccin new lakh rs ever...</td>\n",
              "      <td>0</td>\n",
              "    </tr>\n",
              "    <tr>\n",
              "      <th>3</th>\n",
              "      <td>Positive</td>\n",
              "      <td>bjp realli present free covid vaccin state man...</td>\n",
              "      <td>0</td>\n",
              "    </tr>\n",
              "    <tr>\n",
              "      <th>4</th>\n",
              "      <td>Neutral</td>\n",
              "      <td>anoth dose daili miserabl planet grauniad sub ...</td>\n",
              "      <td>2</td>\n",
              "    </tr>\n",
              "  </tbody>\n",
              "</table>\n",
              "</div>"
            ],
            "text/plain": [
              "        Sentiment_TB  ... label_TB\n",
              "0           Positive  ...        0\n",
              "1  Strongly Positive  ...        1\n",
              "2           Positive  ...        0\n",
              "3           Positive  ...        0\n",
              "4            Neutral  ...        2\n",
              "\n",
              "[5 rows x 3 columns]"
            ]
          },
          "metadata": {
            "tags": []
          },
          "execution_count": 109
        }
      ]
    },
    {
      "cell_type": "code",
      "metadata": {
        "colab": {
          "base_uri": "https://localhost:8080/",
          "height": 408
        },
        "id": "FouICzBHyx9F",
        "outputId": "e012d6d9-e356-49b0-a5c5-309527830309"
      },
      "source": [
        "data1"
      ],
      "execution_count": null,
      "outputs": [
        {
          "output_type": "execute_result",
          "data": {
            "text/html": [
              "<div>\n",
              "<style scoped>\n",
              "    .dataframe tbody tr th:only-of-type {\n",
              "        vertical-align: middle;\n",
              "    }\n",
              "\n",
              "    .dataframe tbody tr th {\n",
              "        vertical-align: top;\n",
              "    }\n",
              "\n",
              "    .dataframe thead th {\n",
              "        text-align: right;\n",
              "    }\n",
              "</style>\n",
              "<table border=\"1\" class=\"dataframe\">\n",
              "  <thead>\n",
              "    <tr style=\"text-align: right;\">\n",
              "      <th></th>\n",
              "      <th>Sentiment_TB</th>\n",
              "      <th>process_tweet</th>\n",
              "    </tr>\n",
              "  </thead>\n",
              "  <tbody>\n",
              "    <tr>\n",
              "      <th>0</th>\n",
              "      <td>Positive</td>\n",
              "      <td>isnt best poll promis ever free covid vaccin v...</td>\n",
              "    </tr>\n",
              "    <tr>\n",
              "      <th>1</th>\n",
              "      <td>Strongly Positive</td>\n",
              "      <td>state shall wait thier vidhan sabha elect get ...</td>\n",
              "    </tr>\n",
              "    <tr>\n",
              "      <th>2</th>\n",
              "      <td>Positive</td>\n",
              "      <td>said vaccin free covid vaccin new lakh rs ever...</td>\n",
              "    </tr>\n",
              "    <tr>\n",
              "      <th>3</th>\n",
              "      <td>Positive</td>\n",
              "      <td>bjp realli present free covid vaccin state man...</td>\n",
              "    </tr>\n",
              "    <tr>\n",
              "      <th>4</th>\n",
              "      <td>Neutral</td>\n",
              "      <td>anoth dose daili miserabl planet grauniad sub ...</td>\n",
              "    </tr>\n",
              "    <tr>\n",
              "      <th>...</th>\n",
              "      <td>...</td>\n",
              "      <td>...</td>\n",
              "    </tr>\n",
              "    <tr>\n",
              "      <th>774041</th>\n",
              "      <td>Neutral</td>\n",
              "      <td>covaxin develop collabor indian council medic ...</td>\n",
              "    </tr>\n",
              "    <tr>\n",
              "      <th>774042</th>\n",
              "      <td>Positive</td>\n",
              "      <td>bharat biotech plan launch vaccin call covaxin...</td>\n",
              "    </tr>\n",
              "    <tr>\n",
              "      <th>774043</th>\n",
              "      <td>Neutral</td>\n",
              "      <td>vaccin amu medic colleg begin covaxin trial no...</td>\n",
              "    </tr>\n",
              "    <tr>\n",
              "      <th>774044</th>\n",
              "      <td>Neutral</td>\n",
              "      <td>bharat biotech launch covaxin india news</td>\n",
              "    </tr>\n",
              "    <tr>\n",
              "      <th>774045</th>\n",
              "      <td>Strongly Positive</td>\n",
              "      <td>aiim delhi like submit propos ethic committe s...</td>\n",
              "    </tr>\n",
              "  </tbody>\n",
              "</table>\n",
              "<p>774046 rows × 2 columns</p>\n",
              "</div>"
            ],
            "text/plain": [
              "             Sentiment_TB                                      process_tweet\n",
              "0                Positive  isnt best poll promis ever free covid vaccin v...\n",
              "1       Strongly Positive  state shall wait thier vidhan sabha elect get ...\n",
              "2                Positive  said vaccin free covid vaccin new lakh rs ever...\n",
              "3                Positive  bjp realli present free covid vaccin state man...\n",
              "4                 Neutral  anoth dose daili miserabl planet grauniad sub ...\n",
              "...                   ...                                                ...\n",
              "774041            Neutral  covaxin develop collabor indian council medic ...\n",
              "774042           Positive  bharat biotech plan launch vaccin call covaxin...\n",
              "774043            Neutral  vaccin amu medic colleg begin covaxin trial no...\n",
              "774044            Neutral           bharat biotech launch covaxin india news\n",
              "774045  Strongly Positive  aiim delhi like submit propos ethic committe s...\n",
              "\n",
              "[774046 rows x 2 columns]"
            ]
          },
          "metadata": {
            "tags": []
          },
          "execution_count": 70
        }
      ]
    },
    {
      "cell_type": "code",
      "metadata": {
        "id": "TcnPXuA9DK0S"
      },
      "source": [
        "#algorithm\n",
        "\n",
        "from sklearn.model_selection import train_test_split\n",
        "\n",
        "X_train, X_test, y_train, y_test = train_test_split(data1['process_tweet'], data1['label_TB'], test_size=0.2, stratify=data1['label_TB'])  #stratify##########"
      ],
      "execution_count": null,
      "outputs": []
    },
    {
      "cell_type": "code",
      "metadata": {
        "id": "zdavcPeKDLIK"
      },
      "source": [
        "from sklearn.naive_bayes import MultinomialNB\n",
        "model = MultinomialNB()\n",
        "\n",
        "from sklearn.feature_extraction.text import CountVectorizer, TfidfVectorizer\n",
        "vect = CountVectorizer()\n",
        "tf_train=vect.fit_transform(X_train)  #train the vectorizer, build the vocablury\n",
        "tf_test=vect.transform(X_test)  #get same encodings on test data as of vocabulary built\n",
        "\n",
        "model.fit(X=tf_train,y=y_train)\n",
        "\n",
        "expected = y_test\n",
        "predicted=model.predict(tf_test)"
      ],
      "execution_count": null,
      "outputs": []
    },
    {
      "cell_type": "code",
      "metadata": {
        "colab": {
          "base_uri": "https://localhost:8080/"
        },
        "id": "3udfi9AzDLM0",
        "outputId": "4fdfa52b-4d9e-4fa6-a7a5-fb962ba84f0f"
      },
      "source": [
        "from sklearn import metrics\n",
        "\n",
        "print(metrics.classification_report(expected, predicted))\n",
        "print(metrics.confusion_matrix(expected, predicted))"
      ],
      "execution_count": null,
      "outputs": [
        {
          "output_type": "stream",
          "text": [
            "              precision    recall  f1-score   support\n",
            "\n",
            "           0       0.78      0.92      0.84     49205\n",
            "           1       0.85      0.27      0.41      6814\n",
            "           2       0.97      0.91      0.94     76309\n",
            "           3       0.68      0.75      0.71     20489\n",
            "           4       0.71      0.08      0.14      1993\n",
            "\n",
            "    accuracy                           0.85    154810\n",
            "   macro avg       0.80      0.59      0.61    154810\n",
            "weighted avg       0.86      0.85      0.85    154810\n",
            "\n",
            "[[45066   154   818  3160     7]\n",
            " [ 4731  1866   119    98     0]\n",
            " [ 3926   169 69793  2376    45]\n",
            " [ 4203     7   897 15369    13]\n",
            " [  108     1   161  1566   157]]\n"
          ],
          "name": "stdout"
        }
      ]
    },
    {
      "cell_type": "code",
      "metadata": {
        "id": "W_T0qITGysdY"
      },
      "source": [
        "#algorithm\n",
        "\n",
        "from sklearn.model_selection import train_test_split\n",
        "\n",
        "X_train, X_test, y_train, y_test = train_test_split(data['process_tweet'], data['label_TB'], test_size=0.2, stratify=data['label_TB'])  #stratify##########"
      ],
      "execution_count": null,
      "outputs": []
    },
    {
      "cell_type": "code",
      "metadata": {
        "id": "jZ9EjQBP2KfU"
      },
      "source": [
        "from sklearn.feature_extraction.text import CountVectorizer, TfidfVectorizer\n",
        "vect = CountVectorizer()\n",
        "tf_train=vect.fit_transform(X_train)  #train the vectorizer, build the vocablury\n",
        "tf_test=vect.transform(X_test)  #get same encodings on test data as of vocabulary built\n",
        "\n"
      ],
      "execution_count": null,
      "outputs": []
    },
    {
      "cell_type": "code",
      "metadata": {
        "colab": {
          "base_uri": "https://localhost:8080/"
        },
        "id": "Hs1g6ozlxd2c",
        "outputId": "5d3cda39-ff44-48d4-d1ba-7bf46d718246"
      },
      "source": [
        "from sklearn.linear_model import LogisticRegression\n",
        "\n",
        "logreg = LogisticRegression(n_jobs=1, C=1e5 , multi_class='multinomial')\n",
        "logreg.fit(X=tf_train,y=y_train)\n",
        "\n",
        "expected = y_test\n",
        "predicted=logreg.predict(tf_test)\n",
        "\n",
        "lst_sentiment =[   'Negative','Neutral','Positive','Strongly Negative','Strongly Positive' ]\n",
        "from sklearn import metrics\n",
        "\n",
        "print(metrics.classification_report(expected, predicted, target_names=lst_sentiment))\n",
        "print(metrics.confusion_matrix(expected, predicted))"
      ],
      "execution_count": null,
      "outputs": [
        {
          "output_type": "stream",
          "text": [
            "/usr/local/lib/python3.7/dist-packages/sklearn/linear_model/_logistic.py:940: ConvergenceWarning: lbfgs failed to converge (status=1):\n",
            "STOP: TOTAL NO. of ITERATIONS REACHED LIMIT.\n",
            "\n",
            "Increase the number of iterations (max_iter) or scale the data as shown in:\n",
            "    https://scikit-learn.org/stable/modules/preprocessing.html\n",
            "Please also refer to the documentation for alternative solver options:\n",
            "    https://scikit-learn.org/stable/modules/linear_model.html#logistic-regression\n",
            "  extra_warning_msg=_LOGISTIC_SOLVER_CONVERGENCE_MSG)\n"
          ],
          "name": "stderr"
        },
        {
          "output_type": "stream",
          "text": [
            "                   precision    recall  f1-score   support\n",
            "\n",
            "         Negative       0.98      0.98      0.98     49205\n",
            "          Neutral       0.94      0.94      0.94      6814\n",
            "         Positive       1.00      0.99      1.00     76309\n",
            "Strongly Negative       0.96      0.96      0.96     20489\n",
            "Strongly Positive       0.88      0.87      0.87      1993\n",
            "\n",
            "         accuracy                           0.98    154810\n",
            "        macro avg       0.95      0.95      0.95    154810\n",
            "     weighted avg       0.98      0.98      0.98    154810\n",
            "\n",
            "[[48378   358   121   330    18]\n",
            " [  409  6393    12     0     0]\n",
            " [  230     9 75898   160    12]\n",
            " [  437    15   148 19685   204]\n",
            " [    0     0    22   244  1727]]\n"
          ],
          "name": "stdout"
        }
      ]
    },
    {
      "cell_type": "code",
      "metadata": {
        "id": "3ZSiEWFfDLa-",
        "colab": {
          "base_uri": "https://localhost:8080/"
        },
        "outputId": "489a6e29-d90c-43ac-97b8-63428964f139"
      },
      "source": [
        "#Mean Squared Error\n",
        "from sklearn.metrics import mean_squared_error\n",
        "mean_squared_error(expected, predicted)"
      ],
      "execution_count": null,
      "outputs": [
        {
          "output_type": "execute_result",
          "data": {
            "text/plain": [
              "0.066759253278212"
            ]
          },
          "metadata": {
            "tags": []
          },
          "execution_count": 130
        }
      ]
    }
  ]
}