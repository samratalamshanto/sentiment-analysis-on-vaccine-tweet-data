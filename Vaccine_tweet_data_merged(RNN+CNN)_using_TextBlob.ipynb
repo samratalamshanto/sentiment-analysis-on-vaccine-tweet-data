{
  "nbformat": 4,
  "nbformat_minor": 0,
  "metadata": {
    "colab": {
      "name": "Vaccine tweet data merged(RNN+CNN) using TextBlob",
      "provenance": [],
      "collapsed_sections": []
    },
    "kernelspec": {
      "display_name": "Python 3",
      "name": "python3"
    }
  },
  "cells": [
    {
      "cell_type": "code",
      "metadata": {
        "id": "RlYZZJPYYon5",
        "colab": {
          "base_uri": "https://localhost:8080/"
        },
        "outputId": "c535288a-20ab-4680-d4f9-9c3988dc037c"
      },
      "source": [
        "!pip install kaggle\n",
        "from google.colab import files \n",
        "#files.open('/content/drive/MyDrive/Colab Notebooks/json kaggle')\n",
        "files.upload() #download and upload json file\n",
        "\n",
        "!mkdir -p ~/.kaggle\n",
        "!cp kaggle.json ~/.kaggle/\n",
        "\n",
        "\n",
        "!chmod 600 ~/.kaggle/kaggle.json\n"
      ],
      "execution_count": null,
      "outputs": [
        {
          "output_type": "stream",
          "text": [
            "Requirement already satisfied: kaggle in /usr/local/lib/python3.7/dist-packages (1.5.12)\n",
            "Requirement already satisfied: certifi in /usr/local/lib/python3.7/dist-packages (from kaggle) (2021.5.30)\n",
            "Requirement already satisfied: python-dateutil in /usr/local/lib/python3.7/dist-packages (from kaggle) (2.8.1)\n",
            "Requirement already satisfied: tqdm in /usr/local/lib/python3.7/dist-packages (from kaggle) (4.41.1)\n",
            "Requirement already satisfied: python-slugify in /usr/local/lib/python3.7/dist-packages (from kaggle) (5.0.2)\n",
            "Requirement already satisfied: urllib3 in /usr/local/lib/python3.7/dist-packages (from kaggle) (1.24.3)\n",
            "Requirement already satisfied: requests in /usr/local/lib/python3.7/dist-packages (from kaggle) (2.23.0)\n",
            "Requirement already satisfied: six>=1.10 in /usr/local/lib/python3.7/dist-packages (from kaggle) (1.15.0)\n",
            "Requirement already satisfied: text-unidecode>=1.3 in /usr/local/lib/python3.7/dist-packages (from python-slugify->kaggle) (1.3)\n",
            "Requirement already satisfied: chardet<4,>=3.0.2 in /usr/local/lib/python3.7/dist-packages (from requests->kaggle) (3.0.4)\n",
            "Requirement already satisfied: idna<3,>=2.5 in /usr/local/lib/python3.7/dist-packages (from requests->kaggle) (2.10)\n"
          ],
          "name": "stdout"
        },
        {
          "output_type": "display_data",
          "data": {
            "text/html": [
              "\n",
              "     <input type=\"file\" id=\"files-c07e9164-b33a-4297-8acc-282f8f8aa52f\" name=\"files[]\" multiple disabled\n",
              "        style=\"border:none\" />\n",
              "     <output id=\"result-c07e9164-b33a-4297-8acc-282f8f8aa52f\">\n",
              "      Upload widget is only available when the cell has been executed in the\n",
              "      current browser session. Please rerun this cell to enable.\n",
              "      </output>\n",
              "      <script src=\"/nbextensions/google.colab/files.js\"></script> "
            ],
            "text/plain": [
              "<IPython.core.display.HTML object>"
            ]
          },
          "metadata": {
            "tags": []
          }
        }
      ]
    },
    {
      "cell_type": "code",
      "metadata": {
        "id": "C0x2pILHyz08"
      },
      "source": [
        "!kaggle datasets download -d merahul28/covid19-vaccine-related-tweets"
      ],
      "execution_count": null,
      "outputs": []
    },
    {
      "cell_type": "code",
      "metadata": {
        "id": "gULnLxzjaBT5"
      },
      "source": [
        "!kaggle datasets download -d ritesh2000/covid19-vaccine-tweets"
      ],
      "execution_count": null,
      "outputs": []
    },
    {
      "cell_type": "code",
      "metadata": {
        "id": "EBchWS3XZsXc"
      },
      "source": [
        "from zipfile import ZipFile\n",
        "file_name= \"covid19-vaccine-tweets.zip\"\n",
        "\n",
        "with ZipFile(file_name ,'r') as zip:\n",
        "  zip.extractall()\n",
        "  print('Done')"
      ],
      "execution_count": null,
      "outputs": []
    },
    {
      "cell_type": "code",
      "metadata": {
        "id": "F1QChh9Xy4kW"
      },
      "source": [
        "from zipfile import ZipFile\n",
        "file_name= \"covid19-vaccine-related-tweets.zip\"\n",
        "\n",
        "with ZipFile(file_name ,'r') as zip:\n",
        "  zip.extractall()\n",
        "  print('Done')"
      ],
      "execution_count": null,
      "outputs": []
    },
    {
      "cell_type": "code",
      "metadata": {
        "id": "TegBpjDtaR9u"
      },
      "source": [
        "#import library\n",
        "\n",
        "import pandas as pd\n",
        "import numpy as np\n",
        "\n",
        "import matplotlib.pyplot as plt\n",
        "%matplotlib inline\n",
        "\n",
        "from sklearn.model_selection import train_test_split\n",
        "from sklearn.preprocessing import LabelEncoder   ###########\n",
        "from sklearn.metrics import confusion_matrix , classification_report , accuracy_score\n",
        "from sklearn.manifold import TSNE ######\n",
        "from sklearn.feature_extraction.text import TfidfVectorizer #############\n",
        "\n",
        "from keras.preprocessing.text import Tokenizer         #######\n",
        "from keras.preprocessing.sequence import pad_sequences #######\n",
        "from keras.models import Sequential\n",
        "from keras.layers import Dropout , Conv1D ,MaxPool1D,Activation , Dense , Flatten , Embedding , LSTM ####\n",
        "\n",
        "from keras import utils\n",
        "from keras.callbacks import ReduceLROnPlateau , EarlyStopping\n",
        "\n",
        "\n",
        "#nltk\n",
        "\n",
        "import nltk\n",
        "from nltk.corpus import stopwords ########\n",
        "from nltk.stem import SnowballStemmer ############\n",
        "\n",
        "\n",
        "#word to vec\n",
        "import gensim\n",
        "\n",
        "import re #####\n",
        "import os\n",
        "from collections import Counter #######\n",
        "import logging ###\n",
        "import time\n",
        "import pickle ######\n",
        "import itertools ######\n",
        "\n",
        "\n",
        "from textblob import TextBlob # TextBlob - Python library for processing textual data\n",
        "import random\n",
        "np.random.seed(0)\n",
        "\n",
        "\n",
        "# import SentimentIntensityAnalyzer class\n",
        "# from vaderSentiment.vaderSentiment module.\n",
        "#from vaderSentiment.vaderSentiment import SentimentIntensityAnalyzer\n"
      ],
      "execution_count": null,
      "outputs": []
    },
    {
      "cell_type": "code",
      "metadata": {
        "id": "zJ1UTKIPTiyi"
      },
      "source": [
        "#load data \n",
        "df1 = pd.read_csv('/content/file.csv')\n",
        "df2=pd.read_csv('/content/COVID-Vaccine Related tweets NOV1 to DEC16.csv')"
      ],
      "execution_count": null,
      "outputs": []
    },
    {
      "cell_type": "code",
      "metadata": {
        "id": "0aiqBm5jzOYj"
      },
      "source": [
        "display(df2)"
      ],
      "execution_count": null,
      "outputs": []
    },
    {
      "cell_type": "code",
      "metadata": {
        "id": "ZTyj1AaCzVV9"
      },
      "source": [
        "df2.columns"
      ],
      "execution_count": null,
      "outputs": []
    },
    {
      "cell_type": "code",
      "metadata": {
        "id": "BHqC9tmYzVdz"
      },
      "source": [
        "df2.head()"
      ],
      "execution_count": null,
      "outputs": []
    },
    {
      "cell_type": "code",
      "metadata": {
        "id": "4_oOS8TizVg1"
      },
      "source": [
        "from pandas import datetime \n",
        "\n",
        "df2['date'] = pd.to_datetime(df2['date'])\n",
        "df2['Month'] = df2['date'].dt.month\n",
        "df2['Month-str-full'] = df2['date'].dt.strftime('%B')\n"
      ],
      "execution_count": null,
      "outputs": []
    },
    {
      "cell_type": "code",
      "metadata": {
        "id": "7b5G-aXnzVjr"
      },
      "source": [
        "df2['Month-str-full'].value_counts()"
      ],
      "execution_count": null,
      "outputs": []
    },
    {
      "cell_type": "code",
      "metadata": {
        "id": "qosCtArdzVnZ"
      },
      "source": [
        "\n",
        "print(min(df2['date']))\n",
        "print(max(df2['date']))"
      ],
      "execution_count": null,
      "outputs": []
    },
    {
      "cell_type": "code",
      "metadata": {
        "id": "V8DYLPG2zVqZ"
      },
      "source": [
        "print(min(df1['date']))\n",
        "print(max(df1['date']))"
      ],
      "execution_count": null,
      "outputs": []
    },
    {
      "cell_type": "code",
      "metadata": {
        "id": "RiC1QlrMzVtR"
      },
      "source": [
        "df2 = df2[df2['language']=='en']\n",
        "df2 = df2[['date' , 'tweet']]"
      ],
      "execution_count": null,
      "outputs": []
    },
    {
      "cell_type": "code",
      "metadata": {
        "id": "xhpm5L_6zVwa"
      },
      "source": [
        "df1 = df1[df1['language']=='en']\n",
        "df1 = df1[['date' , 'tweet']]"
      ],
      "execution_count": null,
      "outputs": []
    },
    {
      "cell_type": "code",
      "metadata": {
        "id": "PxtFwmZA8rCZ"
      },
      "source": [
        "df1.head()"
      ],
      "execution_count": null,
      "outputs": []
    },
    {
      "cell_type": "code",
      "metadata": {
        "id": "MnNAlB6Z1nKQ"
      },
      "source": [
        "df2.head()"
      ],
      "execution_count": null,
      "outputs": []
    },
    {
      "cell_type": "code",
      "metadata": {
        "id": "oCFZTh5rwPFJ"
      },
      "source": [
        "\n",
        "df2['tweet'].isna().sum()"
      ],
      "execution_count": null,
      "outputs": []
    },
    {
      "cell_type": "code",
      "metadata": {
        "id": "d2JJ3VLWxYrW"
      },
      "source": [
        "df2['date'].isna().sum()"
      ],
      "execution_count": null,
      "outputs": []
    },
    {
      "cell_type": "code",
      "metadata": {
        "id": "yynDEJfr1ybk"
      },
      "source": [
        "df1['tweet'].isna().sum()"
      ],
      "execution_count": null,
      "outputs": []
    },
    {
      "cell_type": "code",
      "metadata": {
        "id": "VVRddMY411Rm"
      },
      "source": [
        "df1['date'].isna().sum()"
      ],
      "execution_count": null,
      "outputs": []
    },
    {
      "cell_type": "code",
      "metadata": {
        "id": "hZ20uM1YxfRG"
      },
      "source": [
        "print(df1.shape)\n",
        "print(df2.shape)"
      ],
      "execution_count": null,
      "outputs": []
    },
    {
      "cell_type": "code",
      "metadata": {
        "id": "-LxcHX5U176p"
      },
      "source": [
        "data = pd.concat([df1,df2],ignore_index=True)\n",
        "data.head()"
      ],
      "execution_count": null,
      "outputs": []
    },
    {
      "cell_type": "code",
      "metadata": {
        "id": "AwuNsrd6xh98"
      },
      "source": [
        "data.shape"
      ],
      "execution_count": null,
      "outputs": []
    },
    {
      "cell_type": "code",
      "metadata": {
        "id": "XsERjRLQ2pHL"
      },
      "source": [
        "data.drop_duplicates(subset=['tweet'])\n",
        "data.shape"
      ],
      "execution_count": null,
      "outputs": []
    },
    {
      "cell_type": "code",
      "metadata": {
        "id": "kRX1ZEKEz4tG"
      },
      "source": [
        "data['process_tweet'] = data['tweet'].copy()\n",
        "data.head()"
      ],
      "execution_count": null,
      "outputs": []
    },
    {
      "cell_type": "markdown",
      "metadata": {
        "id": "YLBGRCim2yB_"
      },
      "source": [
        "# Preprocessing the Tweet\n"
      ]
    },
    {
      "cell_type": "code",
      "metadata": {
        "id": "2DHCeZn822Vz"
      },
      "source": [
        "def clean_data(txt):\n",
        "  txt = txt.lower()  # lowercase\n",
        "  txt = re.sub(r'@[A-Za-z0-9_]+' , '' , txt)   #remove mentions\n",
        "  txt = re.sub(r'#' , '' , txt) #remove hashtags\n",
        "  txt = re.sub(r'RT : ','' , txt) # remove retweets\n",
        "  txt = re.sub(r'https?:\\/\\/[A-Za-z0-9\\./\\/]+' , '' , txt) #removes url\n",
        "  txt = re.sub('\\[.*?\\]' , '' , txt) #remove square brackets\n",
        "  txt = re.sub(r'[^\\w\\s]' , '' , txt) #remove puntuations\n",
        "  txt = re.sub('\\w*\\d\\w*' , '' ,txt) #removes words containig numbers\n",
        "  txt = re.sub('\\n' , '' ,txt) #remove new lines\n",
        " \n",
        "\n",
        "  return txt\n"
      ],
      "execution_count": null,
      "outputs": []
    },
    {
      "cell_type": "code",
      "metadata": {
        "id": "iqYMECJk5Xzq"
      },
      "source": [
        "data['process_tweet'] = data['process_tweet'].apply(clean_data)\n",
        "data['process_tweet']"
      ],
      "execution_count": null,
      "outputs": []
    },
    {
      "cell_type": "code",
      "metadata": {
        "id": "dqjUX3klSffn"
      },
      "source": [
        "nltk.download('stopwords')"
      ],
      "execution_count": null,
      "outputs": []
    },
    {
      "cell_type": "code",
      "metadata": {
        "id": "Qinr46wwu-2X"
      },
      "source": [
        "#removig stop words\n",
        "\n",
        "stopwords = nltk.corpus.stopwords.words('english')\n",
        "\n",
        "def remove_stopwords(txt):\n",
        "  rmv_stpwords = [i for i in txt.split() if i not in stopwords]\n",
        "  rmv_stpwords_join = ' '.join(rmv_stpwords)\n",
        "  return rmv_stpwords_join\n",
        "\n",
        " "
      ],
      "execution_count": null,
      "outputs": []
    },
    {
      "cell_type": "code",
      "metadata": {
        "id": "xOFp4H8Zu-9c"
      },
      "source": [
        "data['process_tweet'] = data['process_tweet'].apply(remove_stopwords)\n",
        "\n",
        "data.head()#after removing stopwords"
      ],
      "execution_count": null,
      "outputs": []
    },
    {
      "cell_type": "code",
      "metadata": {
        "id": "VSeFd50AwBv2"
      },
      "source": [
        "from nltk.stem import PorterStemmer\n",
        "st = PorterStemmer()"
      ],
      "execution_count": null,
      "outputs": []
    },
    {
      "cell_type": "code",
      "metadata": {
        "id": "zyj3h_NewLJL"
      },
      "source": [
        "def stemming(txt):\n",
        "  txt =[st.stem(word) for word in txt.split()]\n",
        "  txt_join = ' '.join(txt)\n",
        "  return txt_join\n",
        "\n",
        "#Stemming refers to the removal of suffices, like “ing”, “ly”, “s”, etc. by a simple rule-based approach."
      ],
      "execution_count": null,
      "outputs": []
    },
    {
      "cell_type": "code",
      "metadata": {
        "id": "D9VyYrW_0zGu"
      },
      "source": [
        "data['process_tweet'] = data['process_tweet'].apply(stemming)\n",
        "data.head()"
      ],
      "execution_count": null,
      "outputs": []
    },
    {
      "cell_type": "code",
      "metadata": {
        "id": "mSs4yD-YPCzw"
      },
      "source": [
        "!pip install vaderSentiment"
      ],
      "execution_count": null,
      "outputs": []
    },
    {
      "cell_type": "code",
      "metadata": {
        "id": "2rUqLCAFQCQj"
      },
      "source": [
        "\n",
        "import nltk\n",
        "nltk.download('vader_lexicon')\n",
        "from nltk.sentiment.vader import SentimentIntensityAnalyzer\n",
        "sid = SentimentIntensityAnalyzer()"
      ],
      "execution_count": null,
      "outputs": []
    },
    {
      "cell_type": "code",
      "metadata": {
        "id": "Ytd7et31QKME"
      },
      "source": [
        "data['Polarity_Vader'] = data['process_tweet'].apply(lambda txt: sid.polarity_scores(txt)['compound'])\n",
        "data.head()"
      ],
      "execution_count": null,
      "outputs": []
    },
    {
      "cell_type": "code",
      "metadata": {
        "id": "pir0qSmiQvty"
      },
      "source": [
        ""
      ],
      "execution_count": null,
      "outputs": []
    },
    {
      "cell_type": "markdown",
      "metadata": {
        "id": "oQqDtD276ZNk"
      },
      "source": [
        "# Labeling\n",
        "\n",
        "5 labels: \n",
        "strongly positive,\n",
        "positive,\n",
        "nuteral,\n",
        "negative,\n",
        "strongly negetative.\n"
      ]
    },
    {
      "cell_type": "code",
      "metadata": {
        "id": "v5hTuxCeOM_P"
      },
      "source": [
        ""
      ],
      "execution_count": null,
      "outputs": []
    },
    {
      "cell_type": "code",
      "metadata": {
        "id": "AGMa2rlh52cW"
      },
      "source": [
        "\n",
        "def get_text_polarity(txt):\n",
        "  return TextBlob(txt).sentiment.polarity"
      ],
      "execution_count": null,
      "outputs": []
    },
    {
      "cell_type": "code",
      "metadata": {
        "id": "wGxnAfLo7p_6"
      },
      "source": [
        "#add 2 columns(subjectivity and polarity) to the data\n",
        "\n",
        "#data['Subjectivity'] = data['process_tweet'].apply(get_text_subjectivity)\n",
        "\n",
        "data['Polarity_textblob'] = data['process_tweet'].apply(get_text_polarity)"
      ],
      "execution_count": null,
      "outputs": []
    },
    {
      "cell_type": "code",
      "metadata": {
        "id": "LGvzrHiC8edE"
      },
      "source": [
        "\n",
        "#Labeling\n",
        "def get_text_analysis(i):\n",
        "  if (i<-0.5):\n",
        "    return 'Strongly Negative'\n",
        "  elif ((i<0 ) and (i >= -0.5)):\n",
        "    return 'Negative'\n",
        "  elif (i == 0):\n",
        "    return 'Neutral'\n",
        "  elif (i>0 and i<=0.5):\n",
        "    return 'Positive'\n",
        "  else:\n",
        "    return 'Strongly Positive'\n",
        "\n"
      ],
      "execution_count": null,
      "outputs": []
    },
    {
      "cell_type": "code",
      "metadata": {
        "id": "eUeB5HlG-Ejk"
      },
      "source": [
        "data['Sentiment_TB'] = data['Polarity_textblob'].apply(get_text_analysis)\n",
        "data['Sentiment_VADER'] = data['Polarity_Vader'].apply(get_text_analysis)"
      ],
      "execution_count": null,
      "outputs": []
    },
    {
      "cell_type": "code",
      "metadata": {
        "id": "rapWMpLaTRy4"
      },
      "source": [
        "data.head()"
      ],
      "execution_count": null,
      "outputs": []
    },
    {
      "cell_type": "code",
      "metadata": {
        "id": "ny013lIFy0UW"
      },
      "source": [
        "possible_labels = data.Sentiment_TB.unique()\n",
        "\n",
        "label_dict = {}\n",
        "for index, possible_label in enumerate(possible_labels): \n",
        "#The enumerate() function takes a collection (e.g. a tuple) and returns it as an enumerate object.\n",
        "    label_dict[possible_label] = index\n",
        "\n",
        "data['label_TB'] = data.Sentiment_TB.replace(label_dict)\n",
        "\n"
      ],
      "execution_count": null,
      "outputs": []
    },
    {
      "cell_type": "code",
      "metadata": {
        "id": "2EgK-IJeT95f"
      },
      "source": [
        "#possible_labels = data.Sentiment_VADER.unique()\n",
        "\n",
        "label_dict = {}\n",
        "for index, possible_label in enumerate(possible_labels): \n",
        "#The enumerate() function takes a collection (e.g. a tuple) and returns it as an enumerate object.\n",
        "    label_dict[possible_label] = index\n",
        "\n",
        "data['label_VD'] = data.Sentiment_VADER.replace(label_dict)\n"
      ],
      "execution_count": null,
      "outputs": []
    },
    {
      "cell_type": "code",
      "metadata": {
        "id": "zg--TapwEPw4"
      },
      "source": [
        "possible_labels"
      ],
      "execution_count": null,
      "outputs": []
    },
    {
      "cell_type": "code",
      "metadata": {
        "id": "yOn4-1icTwo1"
      },
      "source": [
        "from sklearn.utils import shuffle\n",
        "data = shuffle(data)\n",
        "data.reset_index(inplace=True, drop=True)\n",
        "data.head()"
      ],
      "execution_count": null,
      "outputs": []
    },
    {
      "cell_type": "code",
      "metadata": {
        "colab": {
          "base_uri": "https://localhost:8080/",
          "height": 202
        },
        "id": "kPXKsJQ4AGcM",
        "outputId": "2449dddf-202b-48b6-ccc8-d87209e07491"
      },
      "source": [
        "df=data[['date','Sentiment_TB' ,'label_TB','Sentiment_VADER' ,'label_VD']]\n",
        "data = data[['process_tweet','Sentiment_TB' ,'label_TB','Sentiment_VADER' ,'label_VD']]\n",
        "data.head()\n",
        "\n"
      ],
      "execution_count": null,
      "outputs": [
        {
          "output_type": "execute_result",
          "data": {
            "text/html": [
              "<div>\n",
              "<style scoped>\n",
              "    .dataframe tbody tr th:only-of-type {\n",
              "        vertical-align: middle;\n",
              "    }\n",
              "\n",
              "    .dataframe tbody tr th {\n",
              "        vertical-align: top;\n",
              "    }\n",
              "\n",
              "    .dataframe thead th {\n",
              "        text-align: right;\n",
              "    }\n",
              "</style>\n",
              "<table border=\"1\" class=\"dataframe\">\n",
              "  <thead>\n",
              "    <tr style=\"text-align: right;\">\n",
              "      <th></th>\n",
              "      <th>process_tweet</th>\n",
              "      <th>Sentiment_TB</th>\n",
              "      <th>label_TB</th>\n",
              "      <th>Sentiment_VADER</th>\n",
              "      <th>label_VD</th>\n",
              "    </tr>\n",
              "  </thead>\n",
              "  <tbody>\n",
              "    <tr>\n",
              "      <th>0</th>\n",
              "      <td>pfizer expect file eua coronaviru vaccin soon ...</td>\n",
              "      <td>Neutral</td>\n",
              "      <td>2</td>\n",
              "      <td>Positive</td>\n",
              "      <td>0</td>\n",
              "    </tr>\n",
              "    <tr>\n",
              "      <th>1</th>\n",
              "      <td>year covid vaccin normal thing understand relu...</td>\n",
              "      <td>Positive</td>\n",
              "      <td>0</td>\n",
              "      <td>Neutral</td>\n",
              "      <td>2</td>\n",
              "    </tr>\n",
              "    <tr>\n",
              "      <th>2</th>\n",
              "      <td>well said unfortun diseas u refer limit peopl ...</td>\n",
              "      <td>Strongly Negative</td>\n",
              "      <td>4</td>\n",
              "      <td>Negative</td>\n",
              "      <td>3</td>\n",
              "    </tr>\n",
              "    <tr>\n",
              "      <th>3</th>\n",
              "      <td>look forward scalp covidvaccin paperwork park lot</td>\n",
              "      <td>Neutral</td>\n",
              "      <td>2</td>\n",
              "      <td>Neutral</td>\n",
              "      <td>2</td>\n",
              "    </tr>\n",
              "    <tr>\n",
              "      <th>4</th>\n",
              "      <td>hope covid vaccin mutat give everyon superpow</td>\n",
              "      <td>Neutral</td>\n",
              "      <td>2</td>\n",
              "      <td>Positive</td>\n",
              "      <td>0</td>\n",
              "    </tr>\n",
              "  </tbody>\n",
              "</table>\n",
              "</div>"
            ],
            "text/plain": [
              "                                       process_tweet  ... label_VD\n",
              "0  pfizer expect file eua coronaviru vaccin soon ...  ...        0\n",
              "1  year covid vaccin normal thing understand relu...  ...        2\n",
              "2  well said unfortun diseas u refer limit peopl ...  ...        3\n",
              "3  look forward scalp covidvaccin paperwork park lot  ...        2\n",
              "4      hope covid vaccin mutat give everyon superpow  ...        0\n",
              "\n",
              "[5 rows x 5 columns]"
            ]
          },
          "metadata": {
            "tags": []
          },
          "execution_count": 48
        }
      ]
    },
    {
      "cell_type": "code",
      "metadata": {
        "colab": {
          "base_uri": "https://localhost:8080/",
          "height": 202
        },
        "id": "igFHRNF6Xigm",
        "outputId": "6c1d5fd2-669a-4e26-da7d-78da18b59aae"
      },
      "source": [
        "from sklearn.utils import shuffle\n",
        "df = shuffle(df)\n",
        "df.reset_index(inplace=True, drop=True)\n",
        "df.head()"
      ],
      "execution_count": null,
      "outputs": [
        {
          "output_type": "execute_result",
          "data": {
            "text/html": [
              "<div>\n",
              "<style scoped>\n",
              "    .dataframe tbody tr th:only-of-type {\n",
              "        vertical-align: middle;\n",
              "    }\n",
              "\n",
              "    .dataframe tbody tr th {\n",
              "        vertical-align: top;\n",
              "    }\n",
              "\n",
              "    .dataframe thead th {\n",
              "        text-align: right;\n",
              "    }\n",
              "</style>\n",
              "<table border=\"1\" class=\"dataframe\">\n",
              "  <thead>\n",
              "    <tr style=\"text-align: right;\">\n",
              "      <th></th>\n",
              "      <th>date</th>\n",
              "      <th>Sentiment_TB</th>\n",
              "      <th>label_TB</th>\n",
              "      <th>Sentiment_VADER</th>\n",
              "      <th>label_VD</th>\n",
              "    </tr>\n",
              "  </thead>\n",
              "  <tbody>\n",
              "    <tr>\n",
              "      <th>0</th>\n",
              "      <td>2020-10-12 00:00:00</td>\n",
              "      <td>Neutral</td>\n",
              "      <td>2</td>\n",
              "      <td>Strongly Negative</td>\n",
              "      <td>4</td>\n",
              "    </tr>\n",
              "    <tr>\n",
              "      <th>1</th>\n",
              "      <td>2020-06-12 00:00:00</td>\n",
              "      <td>Positive</td>\n",
              "      <td>0</td>\n",
              "      <td>Neutral</td>\n",
              "      <td>2</td>\n",
              "    </tr>\n",
              "    <tr>\n",
              "      <th>2</th>\n",
              "      <td>2020-11-14 00:00:00</td>\n",
              "      <td>Neutral</td>\n",
              "      <td>2</td>\n",
              "      <td>Negative</td>\n",
              "      <td>3</td>\n",
              "    </tr>\n",
              "    <tr>\n",
              "      <th>3</th>\n",
              "      <td>2020-01-12 00:00:00</td>\n",
              "      <td>Neutral</td>\n",
              "      <td>2</td>\n",
              "      <td>Neutral</td>\n",
              "      <td>2</td>\n",
              "    </tr>\n",
              "    <tr>\n",
              "      <th>4</th>\n",
              "      <td>2020-11-19 00:00:00</td>\n",
              "      <td>Neutral</td>\n",
              "      <td>2</td>\n",
              "      <td>Strongly Negative</td>\n",
              "      <td>4</td>\n",
              "    </tr>\n",
              "  </tbody>\n",
              "</table>\n",
              "</div>"
            ],
            "text/plain": [
              "                  date Sentiment_TB  label_TB    Sentiment_VADER  label_VD\n",
              "0  2020-10-12 00:00:00      Neutral         2  Strongly Negative         4\n",
              "1  2020-06-12 00:00:00     Positive         0            Neutral         2\n",
              "2  2020-11-14 00:00:00      Neutral         2           Negative         3\n",
              "3  2020-01-12 00:00:00      Neutral         2            Neutral         2\n",
              "4  2020-11-19 00:00:00      Neutral         2  Strongly Negative         4"
            ]
          },
          "metadata": {
            "tags": []
          },
          "execution_count": 49
        }
      ]
    },
    {
      "cell_type": "code",
      "metadata": {
        "colab": {
          "base_uri": "https://localhost:8080/",
          "height": 414
        },
        "id": "D1QC0AmcU5vk",
        "outputId": "4806abc2-4a15-4303-ca57-3cddb9267702"
      },
      "source": [
        "df[\"date\"] = pd.to_datetime(df['date'])\n",
        "\n",
        "df = df.sort_values(by='date')\n",
        "display(df)"
      ],
      "execution_count": null,
      "outputs": [
        {
          "output_type": "display_data",
          "data": {
            "text/html": [
              "<div>\n",
              "<style scoped>\n",
              "    .dataframe tbody tr th:only-of-type {\n",
              "        vertical-align: middle;\n",
              "    }\n",
              "\n",
              "    .dataframe tbody tr th {\n",
              "        vertical-align: top;\n",
              "    }\n",
              "\n",
              "    .dataframe thead th {\n",
              "        text-align: right;\n",
              "    }\n",
              "</style>\n",
              "<table border=\"1\" class=\"dataframe\">\n",
              "  <thead>\n",
              "    <tr style=\"text-align: right;\">\n",
              "      <th></th>\n",
              "      <th>date</th>\n",
              "      <th>Sentiment_TB</th>\n",
              "      <th>label_TB</th>\n",
              "      <th>Sentiment_VADER</th>\n",
              "      <th>label_VD</th>\n",
              "    </tr>\n",
              "  </thead>\n",
              "  <tbody>\n",
              "    <tr>\n",
              "      <th>455142</th>\n",
              "      <td>2020-01-11</td>\n",
              "      <td>Neutral</td>\n",
              "      <td>2</td>\n",
              "      <td>Neutral</td>\n",
              "      <td>2</td>\n",
              "    </tr>\n",
              "    <tr>\n",
              "      <th>340542</th>\n",
              "      <td>2020-01-11</td>\n",
              "      <td>Negative</td>\n",
              "      <td>3</td>\n",
              "      <td>Positive</td>\n",
              "      <td>0</td>\n",
              "    </tr>\n",
              "    <tr>\n",
              "      <th>6520</th>\n",
              "      <td>2020-01-11</td>\n",
              "      <td>Neutral</td>\n",
              "      <td>2</td>\n",
              "      <td>Neutral</td>\n",
              "      <td>2</td>\n",
              "    </tr>\n",
              "    <tr>\n",
              "      <th>443864</th>\n",
              "      <td>2020-01-11</td>\n",
              "      <td>Neutral</td>\n",
              "      <td>2</td>\n",
              "      <td>Neutral</td>\n",
              "      <td>2</td>\n",
              "    </tr>\n",
              "    <tr>\n",
              "      <th>734485</th>\n",
              "      <td>2020-01-11</td>\n",
              "      <td>Positive</td>\n",
              "      <td>0</td>\n",
              "      <td>Positive</td>\n",
              "      <td>0</td>\n",
              "    </tr>\n",
              "    <tr>\n",
              "      <th>...</th>\n",
              "      <td>...</td>\n",
              "      <td>...</td>\n",
              "      <td>...</td>\n",
              "      <td>...</td>\n",
              "      <td>...</td>\n",
              "    </tr>\n",
              "    <tr>\n",
              "      <th>587739</th>\n",
              "      <td>2020-12-16</td>\n",
              "      <td>Neutral</td>\n",
              "      <td>2</td>\n",
              "      <td>Neutral</td>\n",
              "      <td>2</td>\n",
              "    </tr>\n",
              "    <tr>\n",
              "      <th>8002</th>\n",
              "      <td>2020-12-16</td>\n",
              "      <td>Positive</td>\n",
              "      <td>0</td>\n",
              "      <td>Neutral</td>\n",
              "      <td>2</td>\n",
              "    </tr>\n",
              "    <tr>\n",
              "      <th>354511</th>\n",
              "      <td>2020-12-16</td>\n",
              "      <td>Positive</td>\n",
              "      <td>0</td>\n",
              "      <td>Strongly Positive</td>\n",
              "      <td>1</td>\n",
              "    </tr>\n",
              "    <tr>\n",
              "      <th>300333</th>\n",
              "      <td>2020-12-16</td>\n",
              "      <td>Negative</td>\n",
              "      <td>3</td>\n",
              "      <td>Neutral</td>\n",
              "      <td>2</td>\n",
              "    </tr>\n",
              "    <tr>\n",
              "      <th>77554</th>\n",
              "      <td>2020-12-16</td>\n",
              "      <td>Positive</td>\n",
              "      <td>0</td>\n",
              "      <td>Negative</td>\n",
              "      <td>3</td>\n",
              "    </tr>\n",
              "  </tbody>\n",
              "</table>\n",
              "<p>774046 rows × 5 columns</p>\n",
              "</div>"
            ],
            "text/plain": [
              "             date Sentiment_TB  label_TB    Sentiment_VADER  label_VD\n",
              "455142 2020-01-11      Neutral         2            Neutral         2\n",
              "340542 2020-01-11     Negative         3           Positive         0\n",
              "6520   2020-01-11      Neutral         2            Neutral         2\n",
              "443864 2020-01-11      Neutral         2            Neutral         2\n",
              "734485 2020-01-11     Positive         0           Positive         0\n",
              "...           ...          ...       ...                ...       ...\n",
              "587739 2020-12-16      Neutral         2            Neutral         2\n",
              "8002   2020-12-16     Positive         0            Neutral         2\n",
              "354511 2020-12-16     Positive         0  Strongly Positive         1\n",
              "300333 2020-12-16     Negative         3            Neutral         2\n",
              "77554  2020-12-16     Positive         0           Negative         3\n",
              "\n",
              "[774046 rows x 5 columns]"
            ]
          },
          "metadata": {
            "tags": []
          }
        }
      ]
    },
    {
      "cell_type": "code",
      "metadata": {
        "colab": {
          "base_uri": "https://localhost:8080/",
          "height": 202
        },
        "id": "qJ4VWGRedbQt",
        "outputId": "09e2bbc3-bb94-4222-e13a-c45adf9230ba"
      },
      "source": [
        "df['mnth_yr'] = df['date'].apply(lambda x: x.strftime('%B-%Y')) \n",
        "df.head()"
      ],
      "execution_count": null,
      "outputs": [
        {
          "output_type": "execute_result",
          "data": {
            "text/html": [
              "<div>\n",
              "<style scoped>\n",
              "    .dataframe tbody tr th:only-of-type {\n",
              "        vertical-align: middle;\n",
              "    }\n",
              "\n",
              "    .dataframe tbody tr th {\n",
              "        vertical-align: top;\n",
              "    }\n",
              "\n",
              "    .dataframe thead th {\n",
              "        text-align: right;\n",
              "    }\n",
              "</style>\n",
              "<table border=\"1\" class=\"dataframe\">\n",
              "  <thead>\n",
              "    <tr style=\"text-align: right;\">\n",
              "      <th></th>\n",
              "      <th>date</th>\n",
              "      <th>Sentiment_TB</th>\n",
              "      <th>label_TB</th>\n",
              "      <th>Sentiment_VADER</th>\n",
              "      <th>label_VD</th>\n",
              "      <th>mnth_yr</th>\n",
              "    </tr>\n",
              "  </thead>\n",
              "  <tbody>\n",
              "    <tr>\n",
              "      <th>455142</th>\n",
              "      <td>2020-01-11</td>\n",
              "      <td>Neutral</td>\n",
              "      <td>2</td>\n",
              "      <td>Neutral</td>\n",
              "      <td>2</td>\n",
              "      <td>January-2020</td>\n",
              "    </tr>\n",
              "    <tr>\n",
              "      <th>340542</th>\n",
              "      <td>2020-01-11</td>\n",
              "      <td>Negative</td>\n",
              "      <td>3</td>\n",
              "      <td>Positive</td>\n",
              "      <td>0</td>\n",
              "      <td>January-2020</td>\n",
              "    </tr>\n",
              "    <tr>\n",
              "      <th>6520</th>\n",
              "      <td>2020-01-11</td>\n",
              "      <td>Neutral</td>\n",
              "      <td>2</td>\n",
              "      <td>Neutral</td>\n",
              "      <td>2</td>\n",
              "      <td>January-2020</td>\n",
              "    </tr>\n",
              "    <tr>\n",
              "      <th>443864</th>\n",
              "      <td>2020-01-11</td>\n",
              "      <td>Neutral</td>\n",
              "      <td>2</td>\n",
              "      <td>Neutral</td>\n",
              "      <td>2</td>\n",
              "      <td>January-2020</td>\n",
              "    </tr>\n",
              "    <tr>\n",
              "      <th>734485</th>\n",
              "      <td>2020-01-11</td>\n",
              "      <td>Positive</td>\n",
              "      <td>0</td>\n",
              "      <td>Positive</td>\n",
              "      <td>0</td>\n",
              "      <td>January-2020</td>\n",
              "    </tr>\n",
              "  </tbody>\n",
              "</table>\n",
              "</div>"
            ],
            "text/plain": [
              "             date Sentiment_TB  ...  label_VD       mnth_yr\n",
              "455142 2020-01-11      Neutral  ...         2  January-2020\n",
              "340542 2020-01-11     Negative  ...         0  January-2020\n",
              "6520   2020-01-11      Neutral  ...         2  January-2020\n",
              "443864 2020-01-11      Neutral  ...         2  January-2020\n",
              "734485 2020-01-11     Positive  ...         0  January-2020\n",
              "\n",
              "[5 rows x 6 columns]"
            ]
          },
          "metadata": {
            "tags": []
          },
          "execution_count": 51
        }
      ]
    },
    {
      "cell_type": "code",
      "metadata": {
        "colab": {
          "base_uri": "https://localhost:8080/",
          "height": 202
        },
        "id": "eXm6zlb4X0HC",
        "outputId": "885759d5-b076-4a73-ee7f-87e18051c6ae"
      },
      "source": [
        "from sklearn.utils import shuffle\n",
        "df = shuffle(df)\n",
        "df.reset_index(inplace=True, drop=True)\n",
        "df.head()"
      ],
      "execution_count": null,
      "outputs": [
        {
          "output_type": "execute_result",
          "data": {
            "text/html": [
              "<div>\n",
              "<style scoped>\n",
              "    .dataframe tbody tr th:only-of-type {\n",
              "        vertical-align: middle;\n",
              "    }\n",
              "\n",
              "    .dataframe tbody tr th {\n",
              "        vertical-align: top;\n",
              "    }\n",
              "\n",
              "    .dataframe thead th {\n",
              "        text-align: right;\n",
              "    }\n",
              "</style>\n",
              "<table border=\"1\" class=\"dataframe\">\n",
              "  <thead>\n",
              "    <tr style=\"text-align: right;\">\n",
              "      <th></th>\n",
              "      <th>date</th>\n",
              "      <th>Sentiment_TB</th>\n",
              "      <th>label_TB</th>\n",
              "      <th>Sentiment_VADER</th>\n",
              "      <th>label_VD</th>\n",
              "      <th>mnth_yr</th>\n",
              "    </tr>\n",
              "  </thead>\n",
              "  <tbody>\n",
              "    <tr>\n",
              "      <th>0</th>\n",
              "      <td>2020-09-09</td>\n",
              "      <td>Neutral</td>\n",
              "      <td>2</td>\n",
              "      <td>Neutral</td>\n",
              "      <td>2</td>\n",
              "      <td>September-2020</td>\n",
              "    </tr>\n",
              "    <tr>\n",
              "      <th>1</th>\n",
              "      <td>2020-08-28</td>\n",
              "      <td>Positive</td>\n",
              "      <td>0</td>\n",
              "      <td>Positive</td>\n",
              "      <td>0</td>\n",
              "      <td>August-2020</td>\n",
              "    </tr>\n",
              "    <tr>\n",
              "      <th>2</th>\n",
              "      <td>2020-11-24</td>\n",
              "      <td>Neutral</td>\n",
              "      <td>2</td>\n",
              "      <td>Negative</td>\n",
              "      <td>3</td>\n",
              "      <td>November-2020</td>\n",
              "    </tr>\n",
              "    <tr>\n",
              "      <th>3</th>\n",
              "      <td>2020-11-18</td>\n",
              "      <td>Neutral</td>\n",
              "      <td>2</td>\n",
              "      <td>Negative</td>\n",
              "      <td>3</td>\n",
              "      <td>November-2020</td>\n",
              "    </tr>\n",
              "    <tr>\n",
              "      <th>4</th>\n",
              "      <td>2020-12-13</td>\n",
              "      <td>Positive</td>\n",
              "      <td>0</td>\n",
              "      <td>Strongly Positive</td>\n",
              "      <td>1</td>\n",
              "      <td>December-2020</td>\n",
              "    </tr>\n",
              "  </tbody>\n",
              "</table>\n",
              "</div>"
            ],
            "text/plain": [
              "        date Sentiment_TB  ...  label_VD         mnth_yr\n",
              "0 2020-09-09      Neutral  ...         2  September-2020\n",
              "1 2020-08-28     Positive  ...         0     August-2020\n",
              "2 2020-11-24      Neutral  ...         3   November-2020\n",
              "3 2020-11-18      Neutral  ...         3   November-2020\n",
              "4 2020-12-13     Positive  ...         1   December-2020\n",
              "\n",
              "[5 rows x 6 columns]"
            ]
          },
          "metadata": {
            "tags": []
          },
          "execution_count": 52
        }
      ]
    },
    {
      "cell_type": "code",
      "metadata": {
        "colab": {
          "base_uri": "https://localhost:8080/"
        },
        "id": "M99HSqH1doNZ",
        "outputId": "23e19da0-801b-40b3-cd26-74f750e242ce"
      },
      "source": [
        "df['mnth_yr'].unique()"
      ],
      "execution_count": null,
      "outputs": [
        {
          "output_type": "execute_result",
          "data": {
            "text/plain": [
              "array(['September-2020', 'August-2020', 'November-2020', 'December-2020',\n",
              "       'April-2020', 'January-2020', 'October-2020', 'July-2020',\n",
              "       'February-2020', 'June-2020', 'March-2020', 'May-2020'],\n",
              "      dtype=object)"
            ]
          },
          "metadata": {
            "tags": []
          },
          "execution_count": 53
        }
      ]
    },
    {
      "cell_type": "code",
      "metadata": {
        "colab": {
          "base_uri": "https://localhost:8080/"
        },
        "id": "axylLukKfDxO",
        "outputId": "1f60eda5-3ff1-41d1-c3f2-a9b4336bd917"
      },
      "source": [
        "df['Year'] = pd.DatetimeIndex(df['date']).year  \n",
        "df['Year'].unique()"
      ],
      "execution_count": null,
      "outputs": [
        {
          "output_type": "execute_result",
          "data": {
            "text/plain": [
              "array([2020])"
            ]
          },
          "metadata": {
            "tags": []
          },
          "execution_count": 54
        }
      ]
    },
    {
      "cell_type": "code",
      "metadata": {
        "colab": {
          "base_uri": "https://localhost:8080/"
        },
        "id": "ZD9yROnj6RyY",
        "outputId": "34b218c0-0966-4333-b238-08fbc10b1926"
      },
      "source": [
        "from pandas import datetime \n",
        "\n",
        "df['date'] = pd.to_datetime(df['date'])\n",
        "df['Month'] = df['date'].dt.month\n",
        "df['year'] = df['date'].dt.year\n",
        "df['Month-str-full'] = df['date'].dt.strftime('%B')"
      ],
      "execution_count": null,
      "outputs": [
        {
          "output_type": "stream",
          "text": [
            "/usr/local/lib/python3.7/dist-packages/ipykernel_launcher.py:1: FutureWarning: The pandas.datetime class is deprecated and will be removed from pandas in a future version. Import from datetime module instead.\n",
            "  \"\"\"Entry point for launching an IPython kernel.\n"
          ],
          "name": "stderr"
        }
      ]
    },
    {
      "cell_type": "code",
      "metadata": {
        "colab": {
          "base_uri": "https://localhost:8080/"
        },
        "id": "eUpbcRlH4yGb",
        "outputId": "b2c64755-85a5-4362-b6cd-62d964820531"
      },
      "source": [
        "possible_months = df['Month-str-full'].unique()\n",
        "print(possible_labels)\n",
        "print(possible_months)"
      ],
      "execution_count": null,
      "outputs": [
        {
          "output_type": "stream",
          "text": [
            "['Positive' 'Strongly Positive' 'Neutral' 'Negative' 'Strongly Negative']\n",
            "['September' 'August' 'November' 'December' 'April' 'January' 'October'\n",
            " 'July' 'February' 'June' 'March' 'May']\n"
          ],
          "name": "stdout"
        }
      ]
    },
    {
      "cell_type": "code",
      "metadata": {
        "colab": {
          "base_uri": "https://localhost:8080/",
          "height": 202
        },
        "id": "n-lqN7cMFP_7",
        "outputId": "5cbda70b-d9b5-4316-ea8c-3d231ad13dc0"
      },
      "source": [
        "df.head()"
      ],
      "execution_count": null,
      "outputs": [
        {
          "output_type": "execute_result",
          "data": {
            "text/html": [
              "<div>\n",
              "<style scoped>\n",
              "    .dataframe tbody tr th:only-of-type {\n",
              "        vertical-align: middle;\n",
              "    }\n",
              "\n",
              "    .dataframe tbody tr th {\n",
              "        vertical-align: top;\n",
              "    }\n",
              "\n",
              "    .dataframe thead th {\n",
              "        text-align: right;\n",
              "    }\n",
              "</style>\n",
              "<table border=\"1\" class=\"dataframe\">\n",
              "  <thead>\n",
              "    <tr style=\"text-align: right;\">\n",
              "      <th></th>\n",
              "      <th>date</th>\n",
              "      <th>Sentiment_TB</th>\n",
              "      <th>label_TB</th>\n",
              "      <th>Sentiment_VADER</th>\n",
              "      <th>label_VD</th>\n",
              "      <th>mnth_yr</th>\n",
              "      <th>Year</th>\n",
              "      <th>Month</th>\n",
              "      <th>year</th>\n",
              "      <th>Month-str-full</th>\n",
              "    </tr>\n",
              "  </thead>\n",
              "  <tbody>\n",
              "    <tr>\n",
              "      <th>0</th>\n",
              "      <td>2020-09-09</td>\n",
              "      <td>Neutral</td>\n",
              "      <td>2</td>\n",
              "      <td>Neutral</td>\n",
              "      <td>2</td>\n",
              "      <td>September-2020</td>\n",
              "      <td>2020</td>\n",
              "      <td>9</td>\n",
              "      <td>2020</td>\n",
              "      <td>September</td>\n",
              "    </tr>\n",
              "    <tr>\n",
              "      <th>1</th>\n",
              "      <td>2020-08-28</td>\n",
              "      <td>Positive</td>\n",
              "      <td>0</td>\n",
              "      <td>Positive</td>\n",
              "      <td>0</td>\n",
              "      <td>August-2020</td>\n",
              "      <td>2020</td>\n",
              "      <td>8</td>\n",
              "      <td>2020</td>\n",
              "      <td>August</td>\n",
              "    </tr>\n",
              "    <tr>\n",
              "      <th>2</th>\n",
              "      <td>2020-11-24</td>\n",
              "      <td>Neutral</td>\n",
              "      <td>2</td>\n",
              "      <td>Negative</td>\n",
              "      <td>3</td>\n",
              "      <td>November-2020</td>\n",
              "      <td>2020</td>\n",
              "      <td>11</td>\n",
              "      <td>2020</td>\n",
              "      <td>November</td>\n",
              "    </tr>\n",
              "    <tr>\n",
              "      <th>3</th>\n",
              "      <td>2020-11-18</td>\n",
              "      <td>Neutral</td>\n",
              "      <td>2</td>\n",
              "      <td>Negative</td>\n",
              "      <td>3</td>\n",
              "      <td>November-2020</td>\n",
              "      <td>2020</td>\n",
              "      <td>11</td>\n",
              "      <td>2020</td>\n",
              "      <td>November</td>\n",
              "    </tr>\n",
              "    <tr>\n",
              "      <th>4</th>\n",
              "      <td>2020-12-13</td>\n",
              "      <td>Positive</td>\n",
              "      <td>0</td>\n",
              "      <td>Strongly Positive</td>\n",
              "      <td>1</td>\n",
              "      <td>December-2020</td>\n",
              "      <td>2020</td>\n",
              "      <td>12</td>\n",
              "      <td>2020</td>\n",
              "      <td>December</td>\n",
              "    </tr>\n",
              "  </tbody>\n",
              "</table>\n",
              "</div>"
            ],
            "text/plain": [
              "        date Sentiment_TB  label_TB  ... Month  year Month-str-full\n",
              "0 2020-09-09      Neutral         2  ...     9  2020      September\n",
              "1 2020-08-28     Positive         0  ...     8  2020         August\n",
              "2 2020-11-24      Neutral         2  ...    11  2020       November\n",
              "3 2020-11-18      Neutral         2  ...    11  2020       November\n",
              "4 2020-12-13     Positive         0  ...    12  2020       December\n",
              "\n",
              "[5 rows x 10 columns]"
            ]
          },
          "metadata": {
            "tags": []
          },
          "execution_count": 57
        }
      ]
    },
    {
      "cell_type": "code",
      "metadata": {
        "colab": {
          "base_uri": "https://localhost:8080/"
        },
        "id": "oA0O6OzNJdkV",
        "outputId": "aac4200b-f20e-4d91-8314-64625a379ea5"
      },
      "source": [
        "df['Month-str-full'].value_counts()"
      ],
      "execution_count": null,
      "outputs": [
        {
          "output_type": "execute_result",
          "data": {
            "text/plain": [
              "November     194118\n",
              "December     109639\n",
              "September    106590\n",
              "August        77587\n",
              "October       76572\n",
              "July          50109\n",
              "April         33751\n",
              "May           33423\n",
              "March         29425\n",
              "February      28447\n",
              "June          25018\n",
              "January        9367\n",
              "Name: Month-str-full, dtype: int64"
            ]
          },
          "metadata": {
            "tags": []
          },
          "execution_count": 58
        }
      ]
    },
    {
      "cell_type": "code",
      "metadata": {
        "colab": {
          "base_uri": "https://localhost:8080/",
          "height": 390
        },
        "id": "fQhbwz-lYNdy",
        "outputId": "0b31be1d-8318-4eb3-964b-0664fff88655"
      },
      "source": [
        "import seaborn as sns\n",
        "\n",
        "plt.figure(figsize=(10,5))\n",
        "\n",
        "sns.countplot(df['Month-str-full']);"
      ],
      "execution_count": null,
      "outputs": [
        {
          "output_type": "stream",
          "text": [
            "/usr/local/lib/python3.7/dist-packages/seaborn/_decorators.py:43: FutureWarning: Pass the following variable as a keyword arg: x. From version 0.12, the only valid positional argument will be `data`, and passing other arguments without an explicit keyword will result in an error or misinterpretation.\n",
            "  FutureWarning\n"
          ],
          "name": "stderr"
        },
        {
          "output_type": "display_data",
          "data": {
            "image/png": "[encoded data removed]",
            "text/plain": [
              "<Figure size 720x360 with 1 Axes>"
            ]
          },
          "metadata": {
            "tags": [],
            "needs_background": "light"
          }
        }
      ]
    },
    {
      "cell_type": "code",
      "metadata": {
        "id": "KhcCx9weF-lU"
      },
      "source": [
        ""
      ],
      "execution_count": null,
      "outputs": []
    },
    {
      "cell_type": "code",
      "metadata": {
        "colab": {
          "base_uri": "https://localhost:8080/",
          "height": 202
        },
        "id": "EY0I9Vrajb2V",
        "outputId": "a046fa87-eb58-440c-ea8b-e4035b387a93"
      },
      "source": [
        "df_new = data.copy()\n",
        "\n",
        "#df_new.rename(columns={'Sentiment' : 'Data'} , inplace= True)\n",
        "\n",
        "df_new.head()"
      ],
      "execution_count": null,
      "outputs": [
        {
          "output_type": "execute_result",
          "data": {
            "text/html": [
              "<div>\n",
              "<style scoped>\n",
              "    .dataframe tbody tr th:only-of-type {\n",
              "        vertical-align: middle;\n",
              "    }\n",
              "\n",
              "    .dataframe tbody tr th {\n",
              "        vertical-align: top;\n",
              "    }\n",
              "\n",
              "    .dataframe thead th {\n",
              "        text-align: right;\n",
              "    }\n",
              "</style>\n",
              "<table border=\"1\" class=\"dataframe\">\n",
              "  <thead>\n",
              "    <tr style=\"text-align: right;\">\n",
              "      <th></th>\n",
              "      <th>process_tweet</th>\n",
              "      <th>Sentiment_TB</th>\n",
              "      <th>label_TB</th>\n",
              "      <th>Sentiment_VADER</th>\n",
              "      <th>label_VD</th>\n",
              "    </tr>\n",
              "  </thead>\n",
              "  <tbody>\n",
              "    <tr>\n",
              "      <th>0</th>\n",
              "      <td>pfizer expect file eua coronaviru vaccin soon ...</td>\n",
              "      <td>Neutral</td>\n",
              "      <td>2</td>\n",
              "      <td>Positive</td>\n",
              "      <td>0</td>\n",
              "    </tr>\n",
              "    <tr>\n",
              "      <th>1</th>\n",
              "      <td>year covid vaccin normal thing understand relu...</td>\n",
              "      <td>Positive</td>\n",
              "      <td>0</td>\n",
              "      <td>Neutral</td>\n",
              "      <td>2</td>\n",
              "    </tr>\n",
              "    <tr>\n",
              "      <th>2</th>\n",
              "      <td>well said unfortun diseas u refer limit peopl ...</td>\n",
              "      <td>Strongly Negative</td>\n",
              "      <td>4</td>\n",
              "      <td>Negative</td>\n",
              "      <td>3</td>\n",
              "    </tr>\n",
              "    <tr>\n",
              "      <th>3</th>\n",
              "      <td>look forward scalp covidvaccin paperwork park lot</td>\n",
              "      <td>Neutral</td>\n",
              "      <td>2</td>\n",
              "      <td>Neutral</td>\n",
              "      <td>2</td>\n",
              "    </tr>\n",
              "    <tr>\n",
              "      <th>4</th>\n",
              "      <td>hope covid vaccin mutat give everyon superpow</td>\n",
              "      <td>Neutral</td>\n",
              "      <td>2</td>\n",
              "      <td>Positive</td>\n",
              "      <td>0</td>\n",
              "    </tr>\n",
              "  </tbody>\n",
              "</table>\n",
              "</div>"
            ],
            "text/plain": [
              "                                       process_tweet  ... label_VD\n",
              "0  pfizer expect file eua coronaviru vaccin soon ...  ...        0\n",
              "1  year covid vaccin normal thing understand relu...  ...        2\n",
              "2  well said unfortun diseas u refer limit peopl ...  ...        3\n",
              "3  look forward scalp covidvaccin paperwork park lot  ...        2\n",
              "4      hope covid vaccin mutat give everyon superpow  ...        0\n",
              "\n",
              "[5 rows x 5 columns]"
            ]
          },
          "metadata": {
            "tags": []
          },
          "execution_count": 62
        }
      ]
    },
    {
      "cell_type": "code",
      "metadata": {
        "colab": {
          "base_uri": "https://localhost:8080/",
          "height": 655
        },
        "id": "srgy9EWoWdGI",
        "outputId": "055c0ee0-4bc2-4c6a-dbb2-f9f7035c154c"
      },
      "source": [
        "import seaborn as sns\n",
        "\n",
        "plt.figure(figsize=(10,5))\n",
        "sns.countplot(x='Sentiment_VADER', data=df_new, order=['Strongly Negative' ,'Negative' , 'Neutral' , 'Positive' , 'Strongly Positive']);\n",
        "\n",
        "\n",
        "\n",
        "\n",
        "plt.figure(figsize=(10,5))\n",
        "sns.countplot(x='Sentiment_TB', data=df_new, order=['Strongly Negative' ,'Negative' , 'Neutral' , 'Positive' , 'Strongly Positive']);"
      ],
      "execution_count": null,
      "outputs": [
        {
          "output_type": "display_data",
          "data": {
            "image/png": "[encoded data removed]",
            "text/plain": [
              "<Figure size 720x360 with 1 Axes>"
            ]
          },
          "metadata": {
            "tags": [],
            "needs_background": "light"
          }
        },
        {
          "output_type": "display_data",
          "data": {
            "image/png": "[encoded data removed]",
            "text/plain": [
              "<Figure size 720x360 with 1 Axes>"
            ]
          },
          "metadata": {
            "tags": [],
            "needs_background": "light"
          }
        }
      ]
    },
    {
      "cell_type": "code",
      "metadata": {
        "colab": {
          "base_uri": "https://localhost:8080/",
          "height": 296
        },
        "id": "UiAGr_2LY1G-",
        "outputId": "22ec9770-06d1-4989-bc28-97b7c2fad1c7"
      },
      "source": [
        "data['process_tweet'].str.len().plot.hist()\n",
        "plt.xlabel('Word Length')\n",
        "plt.ylabel('Num of Tweet ')"
      ],
      "execution_count": null,
      "outputs": [
        {
          "output_type": "execute_result",
          "data": {
            "text/plain": [
              "Text(0, 0.5, 'Num of Tweet ')"
            ]
          },
          "metadata": {
            "tags": []
          },
          "execution_count": 64
        },
        {
          "output_type": "display_data",
          "data": {
            "image/png": "[encoded data removed]",
            "text/plain": [
              "<Figure size 432x288 with 1 Axes>"
            ]
          },
          "metadata": {
            "tags": [],
            "needs_background": "light"
          }
        }
      ]
    },
    {
      "cell_type": "code",
      "metadata": {
        "id": "aKZW2yFAf_D1"
      },
      "source": [
        ""
      ],
      "execution_count": null,
      "outputs": []
    },
    {
      "cell_type": "code",
      "metadata": {
        "id": "NDylelzaY1Os"
      },
      "source": [
        "#import library for deep learning\n",
        "from sklearn.model_selection import train_test_split\n",
        "\n",
        "\n",
        "from keras.models import Sequential, load_model\n",
        "from keras.layers import Dense, LSTM, Embedding, Dropout\n",
        "from keras.preprocessing.text import Tokenizer\n",
        "from keras.preprocessing.sequence import pad_sequences"
      ],
      "execution_count": null,
      "outputs": []
    },
    {
      "cell_type": "code",
      "metadata": {
        "id": "hK6FTzH9YHqU"
      },
      "source": [
        "from time import time \n",
        "import tensorflow as tf\n",
        "import keras\n",
        "from keras.models import Sequential\n",
        "from keras.layers import LSTM,Dense,Dropout,Activation,Embedding,Flatten,Bidirectional,MaxPooling2D, Conv1D, MaxPooling1D\n",
        "from keras.optimizers import SGD,Adam\n",
        "from keras import regularizers\n",
        "from keras.preprocessing.text import Tokenizer\n",
        "from keras.preprocessing.sequence import pad_sequences\n",
        "from keras.utils.np_utils import to_categorical"
      ],
      "execution_count": null,
      "outputs": []
    },
    {
      "cell_type": "code",
      "metadata": {
        "colab": {
          "base_uri": "https://localhost:8080/",
          "height": 202
        },
        "id": "fJ0PZxIPY1XP",
        "outputId": "1a5d4fc7-ee8a-4d7f-89e1-23f78c9040a1"
      },
      "source": [
        "\n",
        "#for deep learning we need to only 2 colums(sentiment and process tweet)\n",
        "data = data[['Sentiment_TB','process_tweet' ]]\n",
        "data.head()"
      ],
      "execution_count": null,
      "outputs": [
        {
          "output_type": "execute_result",
          "data": {
            "text/html": [
              "<div>\n",
              "<style scoped>\n",
              "    .dataframe tbody tr th:only-of-type {\n",
              "        vertical-align: middle;\n",
              "    }\n",
              "\n",
              "    .dataframe tbody tr th {\n",
              "        vertical-align: top;\n",
              "    }\n",
              "\n",
              "    .dataframe thead th {\n",
              "        text-align: right;\n",
              "    }\n",
              "</style>\n",
              "<table border=\"1\" class=\"dataframe\">\n",
              "  <thead>\n",
              "    <tr style=\"text-align: right;\">\n",
              "      <th></th>\n",
              "      <th>Sentiment_TB</th>\n",
              "      <th>process_tweet</th>\n",
              "    </tr>\n",
              "  </thead>\n",
              "  <tbody>\n",
              "    <tr>\n",
              "      <th>0</th>\n",
              "      <td>Neutral</td>\n",
              "      <td>pfizer expect file eua coronaviru vaccin soon ...</td>\n",
              "    </tr>\n",
              "    <tr>\n",
              "      <th>1</th>\n",
              "      <td>Positive</td>\n",
              "      <td>year covid vaccin normal thing understand relu...</td>\n",
              "    </tr>\n",
              "    <tr>\n",
              "      <th>2</th>\n",
              "      <td>Strongly Negative</td>\n",
              "      <td>well said unfortun diseas u refer limit peopl ...</td>\n",
              "    </tr>\n",
              "    <tr>\n",
              "      <th>3</th>\n",
              "      <td>Neutral</td>\n",
              "      <td>look forward scalp covidvaccin paperwork park lot</td>\n",
              "    </tr>\n",
              "    <tr>\n",
              "      <th>4</th>\n",
              "      <td>Neutral</td>\n",
              "      <td>hope covid vaccin mutat give everyon superpow</td>\n",
              "    </tr>\n",
              "  </tbody>\n",
              "</table>\n",
              "</div>"
            ],
            "text/plain": [
              "        Sentiment_TB                                      process_tweet\n",
              "0            Neutral  pfizer expect file eua coronaviru vaccin soon ...\n",
              "1           Positive  year covid vaccin normal thing understand relu...\n",
              "2  Strongly Negative  well said unfortun diseas u refer limit peopl ...\n",
              "3            Neutral  look forward scalp covidvaccin paperwork park lot\n",
              "4            Neutral      hope covid vaccin mutat give everyon superpow"
            ]
          },
          "metadata": {
            "tags": []
          },
          "execution_count": 67
        }
      ]
    },
    {
      "cell_type": "code",
      "metadata": {
        "id": "8Pld3dFuY1ba"
      },
      "source": [
        "data1 = data.copy()      #########    for experiment ,max_words"
      ],
      "execution_count": null,
      "outputs": []
    },
    {
      "cell_type": "code",
      "metadata": {
        "colab": {
          "base_uri": "https://localhost:8080/",
          "height": 202
        },
        "id": "eZYTkyCcYxbt",
        "outputId": "6d12f7b5-c806-4637-b3eb-dec932c32efd"
      },
      "source": [
        "data1.head()"
      ],
      "execution_count": null,
      "outputs": [
        {
          "output_type": "execute_result",
          "data": {
            "text/html": [
              "<div>\n",
              "<style scoped>\n",
              "    .dataframe tbody tr th:only-of-type {\n",
              "        vertical-align: middle;\n",
              "    }\n",
              "\n",
              "    .dataframe tbody tr th {\n",
              "        vertical-align: top;\n",
              "    }\n",
              "\n",
              "    .dataframe thead th {\n",
              "        text-align: right;\n",
              "    }\n",
              "</style>\n",
              "<table border=\"1\" class=\"dataframe\">\n",
              "  <thead>\n",
              "    <tr style=\"text-align: right;\">\n",
              "      <th></th>\n",
              "      <th>Sentiment_TB</th>\n",
              "      <th>process_tweet</th>\n",
              "    </tr>\n",
              "  </thead>\n",
              "  <tbody>\n",
              "    <tr>\n",
              "      <th>0</th>\n",
              "      <td>Neutral</td>\n",
              "      <td>pfizer expect file eua coronaviru vaccin soon ...</td>\n",
              "    </tr>\n",
              "    <tr>\n",
              "      <th>1</th>\n",
              "      <td>Positive</td>\n",
              "      <td>year covid vaccin normal thing understand relu...</td>\n",
              "    </tr>\n",
              "    <tr>\n",
              "      <th>2</th>\n",
              "      <td>Strongly Negative</td>\n",
              "      <td>well said unfortun diseas u refer limit peopl ...</td>\n",
              "    </tr>\n",
              "    <tr>\n",
              "      <th>3</th>\n",
              "      <td>Neutral</td>\n",
              "      <td>look forward scalp covidvaccin paperwork park lot</td>\n",
              "    </tr>\n",
              "    <tr>\n",
              "      <th>4</th>\n",
              "      <td>Neutral</td>\n",
              "      <td>hope covid vaccin mutat give everyon superpow</td>\n",
              "    </tr>\n",
              "  </tbody>\n",
              "</table>\n",
              "</div>"
            ],
            "text/plain": [
              "        Sentiment_TB                                      process_tweet\n",
              "0            Neutral  pfizer expect file eua coronaviru vaccin soon ...\n",
              "1           Positive  year covid vaccin normal thing understand relu...\n",
              "2  Strongly Negative  well said unfortun diseas u refer limit peopl ...\n",
              "3            Neutral  look forward scalp covidvaccin paperwork park lot\n",
              "4            Neutral      hope covid vaccin mutat give everyon superpow"
            ]
          },
          "metadata": {
            "tags": []
          },
          "execution_count": 69
        }
      ]
    },
    {
      "cell_type": "code",
      "metadata": {
        "colab": {
          "base_uri": "https://localhost:8080/",
          "height": 202
        },
        "id": "t1SNInACd4_o",
        "outputId": "a3713e93-1294-48ab-bdaa-1cda9a87dc5b"
      },
      "source": [
        "data1 = data1.reset_index(drop=True) #for removing missig index \n",
        "\n",
        "#see previous index 3 is replaced by new index 2\n",
        "data1.head() "
      ],
      "execution_count": null,
      "outputs": [
        {
          "output_type": "execute_result",
          "data": {
            "text/html": [
              "<div>\n",
              "<style scoped>\n",
              "    .dataframe tbody tr th:only-of-type {\n",
              "        vertical-align: middle;\n",
              "    }\n",
              "\n",
              "    .dataframe tbody tr th {\n",
              "        vertical-align: top;\n",
              "    }\n",
              "\n",
              "    .dataframe thead th {\n",
              "        text-align: right;\n",
              "    }\n",
              "</style>\n",
              "<table border=\"1\" class=\"dataframe\">\n",
              "  <thead>\n",
              "    <tr style=\"text-align: right;\">\n",
              "      <th></th>\n",
              "      <th>Sentiment_TB</th>\n",
              "      <th>process_tweet</th>\n",
              "    </tr>\n",
              "  </thead>\n",
              "  <tbody>\n",
              "    <tr>\n",
              "      <th>0</th>\n",
              "      <td>Neutral</td>\n",
              "      <td>pfizer expect file eua coronaviru vaccin soon ...</td>\n",
              "    </tr>\n",
              "    <tr>\n",
              "      <th>1</th>\n",
              "      <td>Positive</td>\n",
              "      <td>year covid vaccin normal thing understand relu...</td>\n",
              "    </tr>\n",
              "    <tr>\n",
              "      <th>2</th>\n",
              "      <td>Strongly Negative</td>\n",
              "      <td>well said unfortun diseas u refer limit peopl ...</td>\n",
              "    </tr>\n",
              "    <tr>\n",
              "      <th>3</th>\n",
              "      <td>Neutral</td>\n",
              "      <td>look forward scalp covidvaccin paperwork park lot</td>\n",
              "    </tr>\n",
              "    <tr>\n",
              "      <th>4</th>\n",
              "      <td>Neutral</td>\n",
              "      <td>hope covid vaccin mutat give everyon superpow</td>\n",
              "    </tr>\n",
              "  </tbody>\n",
              "</table>\n",
              "</div>"
            ],
            "text/plain": [
              "        Sentiment_TB                                      process_tweet\n",
              "0            Neutral  pfizer expect file eua coronaviru vaccin soon ...\n",
              "1           Positive  year covid vaccin normal thing understand relu...\n",
              "2  Strongly Negative  well said unfortun diseas u refer limit peopl ...\n",
              "3            Neutral  look forward scalp covidvaccin paperwork park lot\n",
              "4            Neutral      hope covid vaccin mutat give everyon superpow"
            ]
          },
          "metadata": {
            "tags": []
          },
          "execution_count": 70
        }
      ]
    },
    {
      "cell_type": "code",
      "metadata": {
        "id": "dj404WeUB5w3",
        "colab": {
          "base_uri": "https://localhost:8080/"
        },
        "outputId": "8517b606-cba5-467f-aaca-079ccf56de15"
      },
      "source": [
        "uniqueWords = list(set(\" \".join(data['process_tweet']).lower().split(\" \")))\n",
        "count = len(uniqueWords)\n",
        "print(count)"
      ],
      "execution_count": null,
      "outputs": [
        {
          "output_type": "stream",
          "text": [
            "165769\n"
          ],
          "name": "stdout"
        }
      ]
    },
    {
      "cell_type": "code",
      "metadata": {
        "id": "8VuSN33QNdfR"
      },
      "source": [
        "#tokenization\n",
        "tokenizer = Tokenizer(num_words=count, split=' ')\n",
        "#num_words: the maximum number of words to keep, based on word frequency. Only the most common num_words-1 words will be kept.\n",
        "\n",
        "\n",
        "tokenizer.fit_on_texts(data1['process_tweet'].values)\n",
        "\n",
        "X = tokenizer.texts_to_sequences(data1['process_tweet'].values)"
      ],
      "execution_count": null,
      "outputs": []
    },
    {
      "cell_type": "code",
      "metadata": {
        "colab": {
          "base_uri": "https://localhost:8080/"
        },
        "id": "MDG5u0gjNdjT",
        "outputId": "83def193-f6fb-4e0a-b5b5-c3fe47d2501a"
      },
      "source": [
        "X[:3] #before padding"
      ],
      "execution_count": null,
      "outputs": [
        {
          "output_type": "execute_result",
          "data": {
            "text/plain": [
              "[[6,\n",
              "  143,\n",
              "  1213,\n",
              "  1121,\n",
              "  3,\n",
              "  1,\n",
              "  126,\n",
              "  1121,\n",
              "  146,\n",
              "  334,\n",
              "  467,\n",
              "  1121,\n",
              "  69,\n",
              "  376,\n",
              "  226,\n",
              "  1,\n",
              "  1252,\n",
              "  1731,\n",
              "  6,\n",
              "  674],\n",
              " [30, 2, 1, 273, 116, 417, 3282, 294, 362, 40],\n",
              " [93,\n",
              "  54,\n",
              "  1739,\n",
              "  320,\n",
              "  319,\n",
              "  1542,\n",
              "  873,\n",
              "  7,\n",
              "  1128,\n",
              "  1882,\n",
              "  43555,\n",
              "  892,\n",
              "  18,\n",
              "  428,\n",
              "  1403,\n",
              "  10,\n",
              "  72,\n",
              "  68,\n",
              "  42,\n",
              "  2,\n",
              "  1,\n",
              "  1751,\n",
              "  18,\n",
              "  62752,\n",
              "  123,\n",
              "  82,\n",
              "  1335,\n",
              "  1138]]"
            ]
          },
          "metadata": {
            "tags": []
          },
          "execution_count": 73
        }
      ]
    },
    {
      "cell_type": "code",
      "metadata": {
        "colab": {
          "base_uri": "https://localhost:8080/"
        },
        "id": "a5dbMPpRNdnc",
        "outputId": "92169ccd-60bf-4f75-8bab-1fe63dc5eefb"
      },
      "source": [
        "#padding to make all text vector to same length\n",
        "\n",
        "X = pad_sequences(X)\n",
        "\n",
        "X[:3] #after padding"
      ],
      "execution_count": null,
      "outputs": [
        {
          "output_type": "execute_result",
          "data": {
            "text/plain": [
              "array([[    0,     0,     0,     0,     0,     0,     0,     0,     0,\n",
              "            0,     0,     0,     0,     0,     0,     0,     0,     0,\n",
              "            0,     0,     0,     0,     0,     0,     0,     0,     0,\n",
              "            0,     0,     0,     0,     6,   143,  1213,  1121,     3,\n",
              "            1,   126,  1121,   146,   334,   467,  1121,    69,   376,\n",
              "          226,     1,  1252,  1731,     6,   674],\n",
              "       [    0,     0,     0,     0,     0,     0,     0,     0,     0,\n",
              "            0,     0,     0,     0,     0,     0,     0,     0,     0,\n",
              "            0,     0,     0,     0,     0,     0,     0,     0,     0,\n",
              "            0,     0,     0,     0,     0,     0,     0,     0,     0,\n",
              "            0,     0,     0,     0,     0,    30,     2,     1,   273,\n",
              "          116,   417,  3282,   294,   362,    40],\n",
              "       [    0,     0,     0,     0,     0,     0,     0,     0,     0,\n",
              "            0,     0,     0,     0,     0,     0,     0,     0,     0,\n",
              "            0,     0,     0,     0,     0,    93,    54,  1739,   320,\n",
              "          319,  1542,   873,     7,  1128,  1882, 43555,   892,    18,\n",
              "          428,  1403,    10,    72,    68,    42,     2,     1,  1751,\n",
              "           18, 62752,   123,    82,  1335,  1138]], dtype=int32)"
            ]
          },
          "metadata": {
            "tags": []
          },
          "execution_count": 74
        }
      ]
    },
    {
      "cell_type": "code",
      "metadata": {
        "colab": {
          "base_uri": "https://localhost:8080/"
        },
        "id": "9xNeAywwNdq5",
        "outputId": "cf8795b8-82c1-4c12-d165-b0f694a1421a"
      },
      "source": [
        "X.shape[1]"
      ],
      "execution_count": null,
      "outputs": [
        {
          "output_type": "execute_result",
          "data": {
            "text/plain": [
              "51"
            ]
          },
          "metadata": {
            "tags": []
          },
          "execution_count": 75
        }
      ]
    },
    {
      "cell_type": "code",
      "metadata": {
        "colab": {
          "base_uri": "https://localhost:8080/"
        },
        "id": "75sviW5cw_VO",
        "outputId": "7cee811b-03db-4bdc-dbc6-52c8a723b5fc"
      },
      "source": [
        "\n",
        "model= Sequential()\n",
        "model.add(Embedding(count, 256 , input_length=X.shape[1]))\n",
        "model.add(Conv1D(200, kernel_size=3, activation = \"relu\"))\n",
        "model.add(Dropout(0.3))\n",
        "model.add(LSTM(128 , return_sequences=True , dropout=0.3 , recurrent_dropout=0.3))\n",
        "model.add(LSTM(128,dropout=0.3 , recurrent_dropout=0.3))\n",
        "model.add(Flatten())\n",
        "model.add(Dense(5, activation='softmax'))\n",
        "\n",
        "adam=Adam(learning_rate=0.0005,beta_1=0.9,beta_2=0.999,epsilon=1e-07,amsgrad=False)\n",
        "model.summary()\n",
        "model.compile(loss='categorical_crossentropy',optimizer=adam,metrics=['accuracy'])\n"
      ],
      "execution_count": null,
      "outputs": [
        {
          "output_type": "stream",
          "text": [
            "WARNING:tensorflow:Layer lstm will not use cuDNN kernels since it doesn't meet the criteria. It will use a generic GPU kernel as fallback when running on GPU.\n",
            "WARNING:tensorflow:Layer lstm_1 will not use cuDNN kernels since it doesn't meet the criteria. It will use a generic GPU kernel as fallback when running on GPU.\n",
            "Model: \"sequential\"\n",
            "_________________________________________________________________\n",
            "Layer (type)                 Output Shape              Param #   \n",
            "=================================================================\n",
            "embedding (Embedding)        (None, 51, 256)           42436864  \n",
            "_________________________________________________________________\n",
            "conv1d (Conv1D)              (None, 49, 200)           153800    \n",
            "_________________________________________________________________\n",
            "dropout (Dropout)            (None, 49, 200)           0         \n",
            "_________________________________________________________________\n",
            "lstm (LSTM)                  (None, 49, 128)           168448    \n",
            "_________________________________________________________________\n",
            "lstm_1 (LSTM)                (None, 128)               131584    \n",
            "_________________________________________________________________\n",
            "flatten (Flatten)            (None, 128)               0         \n",
            "_________________________________________________________________\n",
            "dense (Dense)                (None, 5)                 645       \n",
            "=================================================================\n",
            "Total params: 42,891,341\n",
            "Trainable params: 42,891,341\n",
            "Non-trainable params: 0\n",
            "_________________________________________________________________\n"
          ],
          "name": "stdout"
        }
      ]
    },
    {
      "cell_type": "code",
      "metadata": {
        "colab": {
          "base_uri": "https://localhost:8080/"
        },
        "id": "kKPW6S6JNdwn",
        "outputId": "25503350-4547-4ce8-8f44-f91de162778e"
      },
      "source": [
        "model.summary()"
      ],
      "execution_count": null,
      "outputs": [
        {
          "output_type": "stream",
          "text": [
            "Model: \"sequential_1\"\n",
            "_________________________________________________________________\n",
            "Layer (type)                 Output Shape              Param #   \n",
            "=================================================================\n",
            "embedding_1 (Embedding)      (None, 51, 256)           42436864  \n",
            "_________________________________________________________________\n",
            "conv1d_1 (Conv1D)            (None, 49, 200)           153800    \n",
            "_________________________________________________________________\n",
            "bidirectional_2 (Bidirection (None, 49, 128)           135680    \n",
            "_________________________________________________________________\n",
            "dropout_1 (Dropout)          (None, 49, 128)           0         \n",
            "_________________________________________________________________\n",
            "bidirectional_3 (Bidirection (None, 128)               98816     \n",
            "_________________________________________________________________\n",
            "dense_4 (Dense)              (None, 50)                6450      \n",
            "_________________________________________________________________\n",
            "dense_5 (Dense)              (None, 50)                2550      \n",
            "_________________________________________________________________\n",
            "flatten_1 (Flatten)          (None, 50)                0         \n",
            "_________________________________________________________________\n",
            "dense_6 (Dense)              (None, 100)               5100      \n",
            "_________________________________________________________________\n",
            "dense_7 (Dense)              (None, 5)                 505       \n",
            "=================================================================\n",
            "Total params: 42,839,765\n",
            "Trainable params: 42,839,765\n",
            "Non-trainable params: 0\n",
            "_________________________________________________________________\n"
          ],
          "name": "stdout"
        }
      ]
    },
    {
      "cell_type": "code",
      "metadata": {
        "id": "fm-mGnBEX8S2"
      },
      "source": [
        ""
      ],
      "execution_count": null,
      "outputs": []
    },
    {
      "cell_type": "code",
      "metadata": {
        "colab": {
          "base_uri": "https://localhost:8080/"
        },
        "id": "ypn4KFUMX8WS",
        "outputId": "31192ea2-1b54-4b02-cce8-78f9f950bd64"
      },
      "source": [
        "#one hot encoding\n",
        "\n",
        "y = pd.get_dummies(data1['Sentiment_TB']).values\n",
        "\n",
        "[print(data1['Sentiment_TB'][i] ,y[i]) for i in range(0,5)]"
      ],
      "execution_count": null,
      "outputs": [
        {
          "output_type": "stream",
          "text": [
            "Neutral [0 1 0 0 0]\n",
            "Positive [0 0 1 0 0]\n",
            "Strongly Negative [0 0 0 1 0]\n",
            "Neutral [0 1 0 0 0]\n",
            "Neutral [0 1 0 0 0]\n"
          ],
          "name": "stdout"
        },
        {
          "output_type": "execute_result",
          "data": {
            "text/plain": [
              "[None, None, None, None, None]"
            ]
          },
          "metadata": {
            "tags": []
          },
          "execution_count": 77
        }
      ]
    },
    {
      "cell_type": "code",
      "metadata": {
        "id": "w-IlUUvqX8aa"
      },
      "source": [
        "x_train , x_test , y_train , y_test = train_test_split(X , y , test_size = 0.2 ,random_state = 22)"
      ],
      "execution_count": null,
      "outputs": []
    },
    {
      "cell_type": "code",
      "metadata": {
        "id": "C0piOTG2X8d5"
      },
      "source": [
        "#trannig model\n",
        "batch_size = 128\n",
        "epochs = 5"
      ],
      "execution_count": null,
      "outputs": []
    },
    {
      "cell_type": "code",
      "metadata": {
        "colab": {
          "base_uri": "https://localhost:8080/"
        },
        "id": "hK1tBN32X8hE",
        "outputId": "c16f4b70-5d6b-4576-8698-9a84a8b30911"
      },
      "source": [
        "history = model.fit(x_train , y_train ,\n",
        "          epochs = epochs,\n",
        "          batch_size = batch_size,\n",
        "          validation_split=0.1,\n",
        "          verbose=1)"
      ],
      "execution_count": null,
      "outputs": [
        {
          "output_type": "stream",
          "text": [
            "Epoch 1/5\n",
            "4354/4354 [==============================] - 2390s 537ms/step - loss: 0.2747 - accuracy: 0.9015 - val_loss: 0.0454 - val_accuracy: 0.9842\n",
            "Epoch 2/5\n",
            "4354/4354 [==============================] - 2314s 532ms/step - loss: 0.0332 - accuracy: 0.9895 - val_loss: 0.0283 - val_accuracy: 0.9910\n",
            "Epoch 3/5\n",
            "4354/4354 [==============================] - 2330s 535ms/step - loss: 0.0224 - accuracy: 0.9929 - val_loss: 0.0238 - val_accuracy: 0.9924\n",
            "Epoch 4/5\n",
            "4354/4354 [==============================] - 2322s 533ms/step - loss: 0.0160 - accuracy: 0.9949 - val_loss: 0.0237 - val_accuracy: 0.9922\n",
            "Epoch 5/5\n",
            "4354/4354 [==============================] - 2309s 530ms/step - loss: 0.0123 - accuracy: 0.9961 - val_loss: 0.0275 - val_accuracy: 0.9911\n"
          ],
          "name": "stdout"
        }
      ]
    },
    {
      "cell_type": "code",
      "metadata": {
        "id": "8tLUUDmnX8kK",
        "colab": {
          "base_uri": "https://localhost:8080/"
        },
        "outputId": "56027809-b09d-4dc5-c368-9afbe2f47653"
      },
      "source": [
        "predictions = model.predict(x_test)\n",
        "print('done')"
      ],
      "execution_count": null,
      "outputs": [
        {
          "output_type": "stream",
          "text": [
            "done\n"
          ],
          "name": "stdout"
        }
      ]
    },
    {
      "cell_type": "markdown",
      "metadata": {
        "id": "Pamsrj_r8krh"
      },
      "source": [
        ""
      ]
    },
    {
      "cell_type": "code",
      "metadata": {
        "id": "0PUojuRmX8n6",
        "colab": {
          "base_uri": "https://localhost:8080/"
        },
        "outputId": "0cefb9a7-e869-404a-d8a9-fc2175e290d4"
      },
      "source": [
        "print(predictions)"
      ],
      "execution_count": null,
      "outputs": [
        {
          "output_type": "stream",
          "text": [
            "[[2.61491641e-06 1.57661743e-05 1.48867539e-05 1.33335625e-05\n",
            "  9.99953389e-01]\n",
            " [1.54602822e-06 9.99987960e-01 6.20877881e-06 1.94729500e-06\n",
            "  2.40846202e-06]\n",
            " [1.67237079e-06 9.99986887e-01 6.71163707e-06 2.08095571e-06\n",
            "  2.57920510e-06]\n",
            " ...\n",
            " [3.17011626e-07 5.59002547e-06 4.39371797e-05 2.10828875e-06\n",
            "  9.99948025e-01]\n",
            " [6.22240714e-06 6.61630984e-05 9.99926209e-01 2.53945046e-07\n",
            "  1.16846024e-06]\n",
            " [9.99678493e-01 1.47811224e-04 4.71953499e-05 1.25661536e-04\n",
            "  1.01249395e-06]]\n"
          ],
          "name": "stdout"
        }
      ]
    },
    {
      "cell_type": "code",
      "metadata": {
        "id": "Hr_QI1hPX8sX",
        "colab": {
          "base_uri": "https://localhost:8080/"
        },
        "outputId": "8b132d3e-0d55-45f9-c323-6611755ac653"
      },
      "source": [
        "%%time\n",
        "score = model.evaluate(x_test, y_test , batch_size = batch_size)\n",
        "print()\n",
        "print(\"ACCURACY:\",score[1])\n",
        "print(\"LOSS:\",score[0])"
      ],
      "execution_count": null,
      "outputs": [
        {
          "output_type": "stream",
          "text": [
            "1210/1210 [==============================] - 37s 31ms/step - loss: 0.0289 - accuracy: 0.9909\n",
            "\n",
            "ACCURACY: 0.9909307956695557\n",
            "LOSS: 0.028910571709275246\n",
            "CPU times: user 37.3 s, sys: 826 ms, total: 38.1 s\n",
            "Wall time: 37.2 s\n"
          ],
          "name": "stdout"
        }
      ]
    },
    {
      "cell_type": "code",
      "metadata": {
        "id": "PjQChZKeX8v4",
        "colab": {
          "base_uri": "https://localhost:8080/"
        },
        "outputId": "31523da0-9c34-454d-867f-40a9b2709fd4"
      },
      "source": [
        "[print(data1['process_tweet'][i], predictions[i], y_test[i] ) for i in range(1, 3)\n",
        "]"
      ],
      "execution_count": null,
      "outputs": [
        {
          "output_type": "stream",
          "text": [
            "year covid vaccin normal thing understand reluct deal real time [1.5460282e-06 9.9998796e-01 6.2087788e-06 1.9472950e-06 2.4084620e-06] [0 1 0 0 0]\n",
            "well said unfortun diseas u refer limit peopl specif color peabrain idiot like guy everywher say let start test covid vaccin moron like himmayb that way contribut societi [1.6723708e-06 9.9998689e-01 6.7116371e-06 2.0809557e-06 2.5792051e-06] [0 1 0 0 0]\n"
          ],
          "name": "stdout"
        },
        {
          "output_type": "execute_result",
          "data": {
            "text/plain": [
              "[None, None]"
            ]
          },
          "metadata": {
            "tags": []
          },
          "execution_count": 84
        }
      ]
    },
    {
      "cell_type": "code",
      "metadata": {
        "id": "cuJsnPMHX8zX",
        "colab": {
          "base_uri": "https://localhost:8080/"
        },
        "outputId": "d15cbabc-9930-49fd-b85c-56a9d84401cb"
      },
      "source": [
        "\n",
        "pred1 = np.argmax(predictions , axis=1)\n",
        "pred1[:10]"
      ],
      "execution_count": null,
      "outputs": [
        {
          "output_type": "execute_result",
          "data": {
            "text/plain": [
              "array([4, 1, 1, 2, 0, 1, 1, 1, 2, 1])"
            ]
          },
          "metadata": {
            "tags": []
          },
          "execution_count": 85
        }
      ]
    },
    {
      "cell_type": "code",
      "metadata": {
        "id": "A49-jDEwX83K"
      },
      "source": [
        "y_test = np.argmax(y_test , axis=1)\n"
      ],
      "execution_count": null,
      "outputs": []
    },
    {
      "cell_type": "code",
      "metadata": {
        "id": "1-Xdag84X86W",
        "colab": {
          "base_uri": "https://localhost:8080/"
        },
        "outputId": "4add55d2-4a92-4c20-e161-1eea2bd76730"
      },
      "source": [
        "\n",
        "\n",
        "print(y_train.shape)\n",
        "print(x_train.shape)  #160824 trainnig data"
      ],
      "execution_count": null,
      "outputs": [
        {
          "output_type": "stream",
          "text": [
            "(619236, 5)\n",
            "(619236, 51)\n"
          ],
          "name": "stdout"
        }
      ]
    },
    {
      "cell_type": "code",
      "metadata": {
        "id": "s8MqB5w_X89Y",
        "colab": {
          "base_uri": "https://localhost:8080/"
        },
        "outputId": "9038afce-a285-4585-b54b-7fe83ea3024c"
      },
      "source": [
        "print(y_test.shape)\n",
        "print(x_test.shape)     #40206 test data"
      ],
      "execution_count": null,
      "outputs": [
        {
          "output_type": "stream",
          "text": [
            "(154810,)\n",
            "(154810, 51)\n"
          ],
          "name": "stdout"
        }
      ]
    },
    {
      "cell_type": "code",
      "metadata": {
        "id": "AjvwlCWzX9IN",
        "colab": {
          "base_uri": "https://localhost:8080/"
        },
        "outputId": "5b3426b1-140d-4ff6-c9f1-4a77cc3889dd"
      },
      "source": [
        "print(confusion_matrix(y_test , pred1 ,normalize=None))"
      ],
      "execution_count": null,
      "outputs": [
        {
          "output_type": "stream",
          "text": [
            "[[20319    64   100    30     0]\n",
            " [  159 76242    77     1     1]\n",
            " [  376   227 48223     0   191]\n",
            " [   65     2     0  1929     0]\n",
            " [    0     0   111     0  6693]]\n"
          ],
          "name": "stdout"
        }
      ]
    },
    {
      "cell_type": "code",
      "metadata": {
        "id": "70z038ZFY17i",
        "colab": {
          "base_uri": "https://localhost:8080/"
        },
        "outputId": "43521cac-2348-448a-adb6-c00a2b128e57"
      },
      "source": [
        "print(confusion_matrix(y_test , pred1))"
      ],
      "execution_count": null,
      "outputs": [
        {
          "output_type": "stream",
          "text": [
            "[[20319    64   100    30     0]\n",
            " [  159 76242    77     1     1]\n",
            " [  376   227 48223     0   191]\n",
            " [   65     2     0  1929     0]\n",
            " [    0     0   111     0  6693]]\n"
          ],
          "name": "stdout"
        }
      ]
    },
    {
      "cell_type": "code",
      "metadata": {
        "id": "Pi4icYQMY1_y",
        "colab": {
          "base_uri": "https://localhost:8080/"
        },
        "outputId": "a2520b7e-7f4c-471a-f234-29db5d567db3"
      },
      "source": [
        "print(classification_report(y_test , pred1))"
      ],
      "execution_count": null,
      "outputs": [
        {
          "output_type": "stream",
          "text": [
            "              precision    recall  f1-score   support\n",
            "\n",
            "           0       0.97      0.99      0.98     20513\n",
            "           1       1.00      1.00      1.00     76480\n",
            "           2       0.99      0.98      0.99     49017\n",
            "           3       0.98      0.97      0.98      1996\n",
            "           4       0.97      0.98      0.98      6804\n",
            "\n",
            "    accuracy                           0.99    154810\n",
            "   macro avg       0.98      0.98      0.98    154810\n",
            "weighted avg       0.99      0.99      0.99    154810\n",
            "\n"
          ],
          "name": "stdout"
        }
      ]
    },
    {
      "cell_type": "code",
      "metadata": {
        "id": "s-z8sQKCY2FM",
        "colab": {
          "base_uri": "https://localhost:8080/"
        },
        "outputId": "da4f37e1-145d-444f-b1fe-4365f12e3f21"
      },
      "source": [
        "accuracy_score(y_test , pred1)"
      ],
      "execution_count": null,
      "outputs": [
        {
          "output_type": "execute_result",
          "data": {
            "text/plain": [
              "0.9909308184225826"
            ]
          },
          "metadata": {
            "tags": []
          },
          "execution_count": 93
        }
      ]
    },
    {
      "cell_type": "code",
      "metadata": {
        "id": "hu1T3aXcY2JB",
        "colab": {
          "base_uri": "https://localhost:8080/"
        },
        "outputId": "936b08bd-686a-4fd2-fe40-104fa517a1cf"
      },
      "source": [
        "print(confusion_matrix(y_test , pred1))"
      ],
      "execution_count": null,
      "outputs": [
        {
          "output_type": "stream",
          "text": [
            "[[20319    64   100    30     0]\n",
            " [  159 76242    77     1     1]\n",
            " [  376   227 48223     0   191]\n",
            " [   65     2     0  1929     0]\n",
            " [    0     0   111     0  6693]]\n"
          ],
          "name": "stdout"
        }
      ]
    },
    {
      "cell_type": "code",
      "metadata": {
        "colab": {
          "base_uri": "https://localhost:8080/"
        },
        "id": "3HvLvE0uHpLl",
        "outputId": "382807ff-4115-49a4-97a9-6d3c3bbbc6d4"
      },
      "source": [
        "#Mean Squared Error\n",
        "from sklearn.metrics import mean_squared_error\n",
        "mean_squared_error(y_test, pred1)"
      ],
      "execution_count": null,
      "outputs": [
        {
          "output_type": "execute_result",
          "data": {
            "text/plain": [
              "0.02916478263678057"
            ]
          },
          "metadata": {
            "tags": []
          },
          "execution_count": 95
        }
      ]
    },
    {
      "cell_type": "code",
      "metadata": {
        "id": "SlIjJ8RvY2Q4",
        "colab": {
          "base_uri": "https://localhost:8080/",
          "height": 654
        },
        "outputId": "7162824f-03e0-44ac-9c53-ccc01520b9e7"
      },
      "source": [
        "plt.figure(figsize=(10,5))\n",
        "acc = history.history['accuracy']\n",
        "val_acc = history.history['val_accuracy']\n",
        "loss = history.history['loss']\n",
        "val_loss = history.history['val_loss']\n",
        " \n",
        "epochs = range(len(acc))\n",
        " \n",
        "plt.plot(epochs, acc, 'b', label='Training acc')\n",
        "plt.plot(epochs, val_acc, 'r', label='Validation acc')\n",
        "plt.title('Training and Validation accuracy')\n",
        "plt.legend()\n",
        "plt.grid(True)\n",
        " \n",
        "plt.figure(figsize=(10,5))\n",
        " \n",
        "plt.plot(epochs, loss, 'b', label='Training loss')\n",
        "plt.plot(epochs, val_loss, 'r', label='Validation loss')\n",
        "plt.title('Training and Validation loss')\n",
        "plt.grid(True)\n",
        "plt.legend()\n",
        "\n",
        "plt.show()\n"
      ],
      "execution_count": null,
      "outputs": [
        {
          "output_type": "display_data",
          "data": {
            "image/png": "[encoded data removed]",
            "text/plain": [
              "<Figure size 720x360 with 1 Axes>"
            ]
          },
          "metadata": {
            "tags": [],
            "needs_background": "light"
          }
        },
        {
          "output_type": "display_data",
          "data": {
            "image/png": "[encoded data removed]",
            "text/plain": [
              "<Figure size 720x360 with 1 Axes>"
            ]
          },
          "metadata": {
            "tags": [],
            "needs_background": "light"
          }
        }
      ]
    },
    {
      "cell_type": "code",
      "metadata": {
        "id": "cTE7ZvGpNd0n",
        "colab": {
          "base_uri": "https://localhost:8080/",
          "height": 532
        },
        "outputId": "d2f793f9-e101-4ada-b64d-fca601ac276d"
      },
      "source": [
        "\n",
        "epochs = [i for i in range(5)]\n",
        "fig , ax = plt.subplots(1,2)\n",
        "train_acc = history.history['accuracy']\n",
        "train_loss = history.history['loss']\n",
        "val_acc = history.history['val_accuracy']\n",
        "val_loss = history.history['val_loss']\n",
        "fig.set_size_inches(30,10)\n",
        "\n",
        "\n",
        "ax[0].plot(epochs , train_acc , 'go-' , label = 'Training Accuracy')\n",
        "ax[0].plot(epochs , val_acc , 'ro-' , label = 'Validation Accuracy')\n",
        "ax[0].set_title('Training & Validation Accuracy')\n",
        "\n",
        "ax[0].legend()\n",
        "ax[0].set_xlabel(\"Epochs\")\n",
        "ax[0].set_ylabel(\"Accuracy\")\n",
        "\n",
        "\n",
        "ax[1].plot(epochs , train_loss , 'g-o' , label = 'Training Loss')\n",
        "ax[1].plot(epochs , val_loss , 'r-o' , label = 'Validation Loss')\n",
        "ax[1].set_title('Testing Accuracy & Loss')\n",
        "ax[1].legend()\n",
        "ax[1].set_xlabel(\"Epochs\")\n",
        "ax[1].set_ylabel(\"Training & Validation Loss\")\n",
        "plt.show()"
      ],
      "execution_count": null,
      "outputs": [
        {
          "output_type": "display_data",
          "data": {
            "image/png": "[encoded data removed]",
            "text/plain": [
              "<Figure size 2160x720 with 2 Axes>"
            ]
          },
          "metadata": {
            "tags": [],
            "needs_background": "light"
          }
        }
      ]
    },
    {
      "cell_type": "code",
      "metadata": {
        "id": "d-CrDU2cZEBJ",
        "colab": {
          "base_uri": "https://localhost:8080/",
          "height": 350
        },
        "outputId": "30e3a9f4-9260-4f88-b1d6-d7568f0964e0"
      },
      "source": [
        "\n",
        "epochs = [i for i in range(5)]\n",
        "\n",
        "train_acc = history.history['accuracy']\n",
        "train_loss = history.history['loss']\n",
        "val_acc = history.history['val_accuracy']\n",
        "val_loss = history.history['val_loss']\n",
        "\n",
        "plt.figure(figsize=(10,5))\n",
        "\n",
        "\n",
        "plt.plot(epochs , train_acc , 'go-' , label = 'Training Accuracy')\n",
        "plt.plot(epochs , val_acc , 'ro-' , label = 'Validation Accuracy')\n",
        "plt.title('Training & Validation Accuracy')\n",
        "\n",
        "plt.legend()\n",
        "plt.xlabel(\"Epochs\")\n",
        "plt.ylabel(\"Accuracy\")\n",
        "\n",
        "plt.show()"
      ],
      "execution_count": null,
      "outputs": [
        {
          "output_type": "display_data",
          "data": {
            "image/png": "[encoded data removed]",
            "text/plain": [
              "<Figure size 720x360 with 1 Axes>"
            ]
          },
          "metadata": {
            "tags": [],
            "needs_background": "light"
          }
        }
      ]
    },
    {
      "cell_type": "code",
      "metadata": {
        "id": "Cb_MisHLZEFh",
        "colab": {
          "base_uri": "https://localhost:8080/",
          "height": 350
        },
        "outputId": "e62fc192-b1b4-4603-9732-d23b3ab442a3"
      },
      "source": [
        "epochs = [i for i in range(5)]\n",
        "\n",
        "train_acc = history.history['accuracy']\n",
        "train_loss = history.history['loss']\n",
        "val_acc = history.history['val_accuracy']\n",
        "val_loss = history.history['val_loss']\n",
        "\n",
        "plt.figure(figsize=(10,5))\n",
        "\n",
        "\n",
        "plt.plot(epochs , train_loss , 'go-' , label = 'Training Loss')\n",
        "plt.plot(epochs , val_loss , 'ro-' , label = 'Validation Loss')\n",
        "plt.title('Training & Validation Loss')\n",
        "\n",
        "plt.legend()\n",
        "plt.xlabel(\"Epochs\")\n",
        "plt.ylabel(\"Loss\")\n",
        "\n",
        "plt.show()"
      ],
      "execution_count": null,
      "outputs": [
        {
          "output_type": "display_data",
          "data": {
            "image/png": "[encoded data removed]",
            "text/plain": [
              "<Figure size 720x360 with 1 Axes>"
            ]
          },
          "metadata": {
            "tags": [],
            "needs_background": "light"
          }
        }
      ]
    }
  ]
}