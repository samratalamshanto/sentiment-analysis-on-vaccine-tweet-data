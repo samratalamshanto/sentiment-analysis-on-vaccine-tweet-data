{
  "nbformat": 4,
  "nbformat_minor": 0,
  "metadata": {
    "colab": {
      "name": "Vaccine tweet data RNN using VADER",
      "provenance": [],
      "collapsed_sections": []
    },
    "kernelspec": {
      "display_name": "Python 3",
      "name": "python3"
    },
    "accelerator": "GPU"
  },
  "cells": [
    {
      "cell_type": "code",
      "metadata": {
        "id": "RlYZZJPYYon5",
        "colab": {
          "resources": {
            "http://localhost:8080/nbextensions/google.colab/files.js": {
              "data": "Ly8gQ29weXJpZ2h0IDIwMTcgR29vZ2xlIExMQwovLwovLyBMaWNlbnNlZCB1bmRlciB0aGUgQXBhY2hlIExpY2Vuc2UsIFZlcnNpb24gMi4wICh0aGUgIkxpY2Vuc2UiKTsKLy8geW91IG1heSBub3QgdXNlIHRoaXMgZmlsZSBleGNlcHQgaW4gY29tcGxpYW5jZSB3aXRoIHRoZSBMaWNlbnNlLgovLyBZb3UgbWF5IG9idGFpbiBhIGNvcHkgb2YgdGhlIExpY2Vuc2UgYXQKLy8KLy8gICAgICBodHRwOi8vd3d3LmFwYWNoZS5vcmcvbGljZW5zZXMvTElDRU5TRS0yLjAKLy8KLy8gVW5sZXNzIHJlcXVpcmVkIGJ5IGFwcGxpY2FibGUgbGF3IG9yIGFncmVlZCB0byBpbiB3cml0aW5nLCBzb2Z0d2FyZQovLyBkaXN0cmlidXRlZCB1bmRlciB0aGUgTGljZW5zZSBpcyBkaXN0cmlidXRlZCBvbiBhbiAiQVMgSVMiIEJBU0lTLAovLyBXSVRIT1VUIFdBUlJBTlRJRVMgT1IgQ09ORElUSU9OUyBPRiBBTlkgS0lORCwgZWl0aGVyIGV4cHJlc3Mgb3IgaW1wbGllZC4KLy8gU2VlIHRoZSBMaWNlbnNlIGZvciB0aGUgc3BlY2lmaWMgbGFuZ3VhZ2UgZ292ZXJuaW5nIHBlcm1pc3Npb25zIGFuZAovLyBsaW1pdGF0aW9ucyB1bmRlciB0aGUgTGljZW5zZS4KCi8qKgogKiBAZmlsZW92ZXJ2aWV3IEhlbHBlcnMgZm9yIGdvb2dsZS5jb2xhYiBQeXRob24gbW9kdWxlLgogKi8KKGZ1bmN0aW9uKHNjb3BlKSB7CmZ1bmN0aW9uIHNwYW4odGV4dCwgc3R5bGVBdHRyaWJ1dGVzID0ge30pIHsKICBjb25zdCBlbGVtZW50ID0gZG9jdW1lbnQuY3JlYXRlRWxlbWVudCgnc3BhbicpOwogIGVsZW1lbnQudGV4dENvbnRlbnQgPSB0ZXh0OwogIGZvciAoY29uc3Qga2V5IG9mIE9iamVjdC5rZXlzKHN0eWxlQXR0cmlidXRlcykpIHsKICAgIGVsZW1lbnQuc3R5bGVba2V5XSA9IHN0eWxlQXR0cmlidXRlc1trZXldOwogIH0KICByZXR1cm4gZWxlbWVudDsKfQoKLy8gTWF4IG51bWJlciBvZiBieXRlcyB3aGljaCB3aWxsIGJlIHVwbG9hZGVkIGF0IGEgdGltZS4KY29uc3QgTUFYX1BBWUxPQURfU0laRSA9IDEwMCAqIDEwMjQ7CgpmdW5jdGlvbiBfdXBsb2FkRmlsZXMoaW5wdXRJZCwgb3V0cHV0SWQpIHsKICBjb25zdCBzdGVwcyA9IHVwbG9hZEZpbGVzU3RlcChpbnB1dElkLCBvdXRwdXRJZCk7CiAgY29uc3Qgb3V0cHV0RWxlbWVudCA9IGRvY3VtZW50LmdldEVsZW1lbnRCeUlkKG91dHB1dElkKTsKICAvLyBDYWNoZSBzdGVwcyBvbiB0aGUgb3V0cHV0RWxlbWVudCB0byBtYWtlIGl0IGF2YWlsYWJsZSBmb3IgdGhlIG5leHQgY2FsbAogIC8vIHRvIHVwbG9hZEZpbGVzQ29udGludWUgZnJvbSBQeXRob24uCiAgb3V0cHV0RWxlbWVudC5zdGVwcyA9IHN0ZXBzOwoKICByZXR1cm4gX3VwbG9hZEZpbGVzQ29udGludWUob3V0cHV0SWQpOwp9CgovLyBUaGlzIGlzIHJvdWdobHkgYW4gYXN5bmMgZ2VuZXJhdG9yIChub3Qgc3VwcG9ydGVkIGluIHRoZSBicm93c2VyIHlldCksCi8vIHdoZXJlIHRoZXJlIGFyZSBtdWx0aXBsZSBhc3luY2hyb25vdXMgc3RlcHMgYW5kIHRoZSBQeXRob24gc2lkZSBpcyBnb2luZwovLyB0byBwb2xsIGZvciBjb21wbGV0aW9uIG9mIGVhY2ggc3RlcC4KLy8gVGhpcyB1c2VzIGEgUHJvbWlzZSB0byBibG9jayB0aGUgcHl0aG9uIHNpZGUgb24gY29tcGxldGlvbiBvZiBlYWNoIHN0ZXAsCi8vIHRoZW4gcGFzc2VzIHRoZSByZXN1bHQgb2YgdGhlIHByZXZpb3VzIHN0ZXAgYXMgdGhlIGlucHV0IHRvIHRoZSBuZXh0IHN0ZXAuCmZ1bmN0aW9uIF91cGxvYWRGaWxlc0NvbnRpbnVlKG91dHB1dElkKSB7CiAgY29uc3Qgb3V0cHV0RWxlbWVudCA9IGRvY3VtZW50LmdldEVsZW1lbnRCeUlkKG91dHB1dElkKTsKICBjb25zdCBzdGVwcyA9IG91dHB1dEVsZW1lbnQuc3RlcHM7CgogIGNvbnN0IG5leHQgPSBzdGVwcy5uZXh0KG91dHB1dEVsZW1lbnQubGFzdFByb21pc2VWYWx1ZSk7CiAgcmV0dXJuIFByb21pc2UucmVzb2x2ZShuZXh0LnZhbHVlLnByb21pc2UpLnRoZW4oKHZhbHVlKSA9PiB7CiAgICAvLyBDYWNoZSB0aGUgbGFzdCBwcm9taXNlIHZhbHVlIHRvIG1ha2UgaXQgYXZhaWxhYmxlIHRvIHRoZSBuZXh0CiAgICAvLyBzdGVwIG9mIHRoZSBnZW5lcmF0b3IuCiAgICBvdXRwdXRFbGVtZW50Lmxhc3RQcm9taXNlVmFsdWUgPSB2YWx1ZTsKICAgIHJldHVybiBuZXh0LnZhbHVlLnJlc3BvbnNlOwogIH0pOwp9CgovKioKICogR2VuZXJhdG9yIGZ1bmN0aW9uIHdoaWNoIGlzIGNhbGxlZCBiZXR3ZWVuIGVhY2ggYXN5bmMgc3RlcCBvZiB0aGUgdXBsb2FkCiAqIHByb2Nlc3MuCiAqIEBwYXJhbSB7c3RyaW5nfSBpbnB1dElkIEVsZW1lbnQgSUQgb2YgdGhlIGlucHV0IGZpbGUgcGlja2VyIGVsZW1lbnQuCiAqIEBwYXJhbSB7c3RyaW5nfSBvdXRwdXRJZCBFbGVtZW50IElEIG9mIHRoZSBvdXRwdXQgZGlzcGxheS4KICogQHJldHVybiB7IUl0ZXJhYmxlPCFPYmplY3Q+fSBJdGVyYWJsZSBvZiBuZXh0IHN0ZXBzLgogKi8KZnVuY3Rpb24qIHVwbG9hZEZpbGVzU3RlcChpbnB1dElkLCBvdXRwdXRJZCkgewogIGNvbnN0IGlucHV0RWxlbWVudCA9IGRvY3VtZW50LmdldEVsZW1lbnRCeUlkKGlucHV0SWQpOwogIGlucHV0RWxlbWVudC5kaXNhYmxlZCA9IGZhbHNlOwoKICBjb25zdCBvdXRwdXRFbGVtZW50ID0gZG9jdW1lbnQuZ2V0RWxlbWVudEJ5SWQob3V0cHV0SWQpOwogIG91dHB1dEVsZW1lbnQuaW5uZXJIVE1MID0gJyc7CgogIGNvbnN0IHBpY2tlZFByb21pc2UgPSBuZXcgUHJvbWlzZSgocmVzb2x2ZSkgPT4gewogICAgaW5wdXRFbGVtZW50LmFkZEV2ZW50TGlzdGVuZXIoJ2NoYW5nZScsIChlKSA9PiB7CiAgICAgIHJlc29sdmUoZS50YXJnZXQuZmlsZXMpOwogICAgfSk7CiAgfSk7CgogIGNvbnN0IGNhbmNlbCA9IGRvY3VtZW50LmNyZWF0ZUVsZW1lbnQoJ2J1dHRvbicpOwogIGlucHV0RWxlbWVudC5wYXJlbnRFbGVtZW50LmFwcGVuZENoaWxkKGNhbmNlbCk7CiAgY2FuY2VsLnRleHRDb250ZW50ID0gJ0NhbmNlbCB1cGxvYWQnOwogIGNvbnN0IGNhbmNlbFByb21pc2UgPSBuZXcgUHJvbWlzZSgocmVzb2x2ZSkgPT4gewogICAgY2FuY2VsLm9uY2xpY2sgPSAoKSA9PiB7CiAgICAgIHJlc29sdmUobnVsbCk7CiAgICB9OwogIH0pOwoKICAvLyBXYWl0IGZvciB0aGUgdXNlciB0byBwaWNrIHRoZSBmaWxlcy4KICBjb25zdCBmaWxlcyA9IHlpZWxkIHsKICAgIHByb21pc2U6IFByb21pc2UucmFjZShbcGlja2VkUHJvbWlzZSwgY2FuY2VsUHJvbWlzZV0pLAogICAgcmVzcG9uc2U6IHsKICAgICAgYWN0aW9uOiAnc3RhcnRpbmcnLAogICAgfQogIH07CgogIGNhbmNlbC5yZW1vdmUoKTsKCiAgLy8gRGlzYWJsZSB0aGUgaW5wdXQgZWxlbWVudCBzaW5jZSBmdXJ0aGVyIHBpY2tzIGFyZSBub3QgYWxsb3dlZC4KICBpbnB1dEVsZW1lbnQuZGlzYWJsZWQgPSB0cnVlOwoKICBpZiAoIWZpbGVzKSB7CiAgICByZXR1cm4gewogICAgICByZXNwb25zZTogewogICAgICAgIGFjdGlvbjogJ2NvbXBsZXRlJywKICAgICAgfQogICAgfTsKICB9CgogIGZvciAoY29uc3QgZmlsZSBvZiBmaWxlcykgewogICAgY29uc3QgbGkgPSBkb2N1bWVudC5jcmVhdGVFbGVtZW50KCdsaScpOwogICAgbGkuYXBwZW5kKHNwYW4oZmlsZS5uYW1lLCB7Zm9udFdlaWdodDogJ2JvbGQnfSkpOwogICAgbGkuYXBwZW5kKHNwYW4oCiAgICAgICAgYCgke2ZpbGUudHlwZSB8fCAnbi9hJ30pIC0gJHtmaWxlLnNpemV9IGJ5dGVzLCBgICsKICAgICAgICBgbGFzdCBtb2RpZmllZDogJHsKICAgICAgICAgICAgZmlsZS5sYXN0TW9kaWZpZWREYXRlID8gZmlsZS5sYXN0TW9kaWZpZWREYXRlLnRvTG9jYWxlRGF0ZVN0cmluZygpIDoKICAgICAgICAgICAgICAgICAgICAgICAgICAgICAgICAgICAgJ24vYSd9IC0gYCkpOwogICAgY29uc3QgcGVyY2VudCA9IHNwYW4oJzAlIGRvbmUnKTsKICAgIGxpLmFwcGVuZENoaWxkKHBlcmNlbnQpOwoKICAgIG91dHB1dEVsZW1lbnQuYXBwZW5kQ2hpbGQobGkpOwoKICAgIGNvbnN0IGZpbGVEYXRhUHJvbWlzZSA9IG5ldyBQcm9taXNlKChyZXNvbHZlKSA9PiB7CiAgICAgIGNvbnN0IHJlYWRlciA9IG5ldyBGaWxlUmVhZGVyKCk7CiAgICAgIHJlYWRlci5vbmxvYWQgPSAoZSkgPT4gewogICAgICAgIHJlc29sdmUoZS50YXJnZXQucmVzdWx0KTsKICAgICAgfTsKICAgICAgcmVhZGVyLnJlYWRBc0FycmF5QnVmZmVyKGZpbGUpOwogICAgfSk7CiAgICAvLyBXYWl0IGZvciB0aGUgZGF0YSB0byBiZSByZWFkeS4KICAgIGxldCBmaWxlRGF0YSA9IHlpZWxkIHsKICAgICAgcHJvbWlzZTogZmlsZURhdGFQcm9taXNlLAogICAgICByZXNwb25zZTogewogICAgICAgIGFjdGlvbjogJ2NvbnRpbnVlJywKICAgICAgfQogICAgfTsKCiAgICAvLyBVc2UgYSBjaHVua2VkIHNlbmRpbmcgdG8gYXZvaWQgbWVzc2FnZSBzaXplIGxpbWl0cy4gU2VlIGIvNjIxMTU2NjAuCiAgICBsZXQgcG9zaXRpb24gPSAwOwogICAgZG8gewogICAgICBjb25zdCBsZW5ndGggPSBNYXRoLm1pbihmaWxlRGF0YS5ieXRlTGVuZ3RoIC0gcG9zaXRpb24sIE1BWF9QQVlMT0FEX1NJWkUpOwogICAgICBjb25zdCBjaHVuayA9IG5ldyBVaW50OEFycmF5KGZpbGVEYXRhLCBwb3NpdGlvbiwgbGVuZ3RoKTsKICAgICAgcG9zaXRpb24gKz0gbGVuZ3RoOwoKICAgICAgY29uc3QgYmFzZTY0ID0gYnRvYShTdHJpbmcuZnJvbUNoYXJDb2RlLmFwcGx5KG51bGwsIGNodW5rKSk7CiAgICAgIHlpZWxkIHsKICAgICAgICByZXNwb25zZTogewogICAgICAgICAgYWN0aW9uOiAnYXBwZW5kJywKICAgICAgICAgIGZpbGU6IGZpbGUubmFtZSwKICAgICAgICAgIGRhdGE6IGJhc2U2NCwKICAgICAgICB9LAogICAgICB9OwoKICAgICAgbGV0IHBlcmNlbnREb25lID0gZmlsZURhdGEuYnl0ZUxlbmd0aCA9PT0gMCA/CiAgICAgICAgICAxMDAgOgogICAgICAgICAgTWF0aC5yb3VuZCgocG9zaXRpb24gLyBmaWxlRGF0YS5ieXRlTGVuZ3RoKSAqIDEwMCk7CiAgICAgIHBlcmNlbnQudGV4dENvbnRlbnQgPSBgJHtwZXJjZW50RG9uZX0lIGRvbmVgOwoKICAgIH0gd2hpbGUgKHBvc2l0aW9uIDwgZmlsZURhdGEuYnl0ZUxlbmd0aCk7CiAgfQoKICAvLyBBbGwgZG9uZS4KICB5aWVsZCB7CiAgICByZXNwb25zZTogewogICAgICBhY3Rpb246ICdjb21wbGV0ZScsCiAgICB9CiAgfTsKfQoKc2NvcGUuZ29vZ2xlID0gc2NvcGUuZ29vZ2xlIHx8IHt9OwpzY29wZS5nb29nbGUuY29sYWIgPSBzY29wZS5nb29nbGUuY29sYWIgfHwge307CnNjb3BlLmdvb2dsZS5jb2xhYi5fZmlsZXMgPSB7CiAgX3VwbG9hZEZpbGVzLAogIF91cGxvYWRGaWxlc0NvbnRpbnVlLAp9Owp9KShzZWxmKTsK",
              "ok": true,
              "headers": [
                [
                  "content-type",
                  "application/javascript"
                ]
              ],
              "status": 200,
              "status_text": ""
            }
          },
          "base_uri": "https://localhost:8080/",
          "height": 248
        },
        "outputId": "5791ad64-ba38-4e30-fd86-0c6ce0d2a7b5"
      },
      "source": [
        "!pip install kaggle\n",
        "from google.colab import files \n",
        "#files.open('/content/drive/MyDrive/Colab Notebooks/json kaggle')\n",
        "files.upload() #download and upload json file\n",
        "\n",
        "!mkdir -p ~/.kaggle\n",
        "!cp kaggle.json ~/.kaggle/\n",
        "\n",
        "\n",
        "!chmod 600 ~/.kaggle/kaggle.json\n"
      ],
      "execution_count": null,
      "outputs": [
        {
          "output_type": "stream",
          "text": [
            "Requirement already satisfied: kaggle in /usr/local/lib/python3.7/dist-packages (1.5.12)\n",
            "Requirement already satisfied: python-dateutil in /usr/local/lib/python3.7/dist-packages (from kaggle) (2.8.1)\n",
            "Requirement already satisfied: certifi in /usr/local/lib/python3.7/dist-packages (from kaggle) (2021.5.30)\n",
            "Requirement already satisfied: urllib3 in /usr/local/lib/python3.7/dist-packages (from kaggle) (1.24.3)\n",
            "Requirement already satisfied: tqdm in /usr/local/lib/python3.7/dist-packages (from kaggle) (4.41.1)\n",
            "Requirement already satisfied: requests in /usr/local/lib/python3.7/dist-packages (from kaggle) (2.23.0)\n",
            "Requirement already satisfied: python-slugify in /usr/local/lib/python3.7/dist-packages (from kaggle) (5.0.2)\n",
            "Requirement already satisfied: six>=1.10 in /usr/local/lib/python3.7/dist-packages (from kaggle) (1.15.0)\n",
            "Requirement already satisfied: chardet<4,>=3.0.2 in /usr/local/lib/python3.7/dist-packages (from requests->kaggle) (3.0.4)\n",
            "Requirement already satisfied: idna<3,>=2.5 in /usr/local/lib/python3.7/dist-packages (from requests->kaggle) (2.10)\n",
            "Requirement already satisfied: text-unidecode>=1.3 in /usr/local/lib/python3.7/dist-packages (from python-slugify->kaggle) (1.3)\n"
          ],
          "name": "stdout"
        },
        {
          "output_type": "display_data",
          "data": {
            "text/html": [
              "\n",
              "     <input type=\"file\" id=\"files-93e9681b-ed46-4964-9f62-0edf782e5615\" name=\"files[]\" multiple disabled\n",
              "        style=\"border:none\" />\n",
              "     <output id=\"result-93e9681b-ed46-4964-9f62-0edf782e5615\">\n",
              "      Upload widget is only available when the cell has been executed in the\n",
              "      current browser session. Please rerun this cell to enable.\n",
              "      </output>\n",
              "      <script src=\"/nbextensions/google.colab/files.js\"></script> "
            ],
            "text/plain": [
              "<IPython.core.display.HTML object>"
            ]
          },
          "metadata": {
            "tags": []
          }
        },
        {
          "output_type": "stream",
          "text": [
            "Saving kaggle.json to kaggle.json\n"
          ],
          "name": "stdout"
        }
      ]
    },
    {
      "cell_type": "code",
      "metadata": {
        "colab": {
          "base_uri": "https://localhost:8080/"
        },
        "id": "C0x2pILHyz08",
        "outputId": "7242921a-d386-4917-ad1a-5fc865a2fcf1"
      },
      "source": [
        "!kaggle datasets download -d merahul28/covid19-vaccine-related-tweets"
      ],
      "execution_count": null,
      "outputs": [
        {
          "output_type": "stream",
          "text": [
            "Downloading covid19-vaccine-related-tweets.zip to /content\n",
            " 80% 73.0M/91.3M [00:01<00:00, 45.8MB/s]\n",
            "100% 91.3M/91.3M [00:01<00:00, 78.7MB/s]\n"
          ],
          "name": "stdout"
        }
      ]
    },
    {
      "cell_type": "code",
      "metadata": {
        "id": "gULnLxzjaBT5",
        "colab": {
          "base_uri": "https://localhost:8080/"
        },
        "outputId": "7f76449b-f752-4407-abf4-61f53d546dcd"
      },
      "source": [
        "!kaggle datasets download -d ritesh2000/covid19-vaccine-tweets"
      ],
      "execution_count": null,
      "outputs": [
        {
          "output_type": "stream",
          "text": [
            "Downloading covid19-vaccine-tweets.zip to /content\n",
            " 50% 17.0M/34.1M [00:00<00:00, 69.5MB/s]\n",
            "100% 34.1M/34.1M [00:00<00:00, 114MB/s] \n"
          ],
          "name": "stdout"
        }
      ]
    },
    {
      "cell_type": "code",
      "metadata": {
        "id": "EBchWS3XZsXc",
        "colab": {
          "base_uri": "https://localhost:8080/"
        },
        "outputId": "7045a457-6a97-4e28-871e-5c028a48a03c"
      },
      "source": [
        "from zipfile import ZipFile\n",
        "file_name= \"covid19-vaccine-tweets.zip\"\n",
        "\n",
        "with ZipFile(file_name ,'r') as zip:\n",
        "  zip.extractall()\n",
        "  print('Done')"
      ],
      "execution_count": null,
      "outputs": [
        {
          "output_type": "stream",
          "text": [
            "Done\n"
          ],
          "name": "stdout"
        }
      ]
    },
    {
      "cell_type": "code",
      "metadata": {
        "colab": {
          "base_uri": "https://localhost:8080/"
        },
        "id": "F1QChh9Xy4kW",
        "outputId": "b1f7f2c7-405a-4f9f-aa29-10cc922833f9"
      },
      "source": [
        "from zipfile import ZipFile\n",
        "file_name= \"covid19-vaccine-related-tweets.zip\"\n",
        "\n",
        "with ZipFile(file_name ,'r') as zip:\n",
        "  zip.extractall()\n",
        "  print('Done')"
      ],
      "execution_count": null,
      "outputs": [
        {
          "output_type": "stream",
          "text": [
            "Done\n"
          ],
          "name": "stdout"
        }
      ]
    },
    {
      "cell_type": "code",
      "metadata": {
        "id": "TegBpjDtaR9u"
      },
      "source": [
        "#import library\n",
        "\n",
        "import pandas as pd\n",
        "import numpy as np\n",
        "\n",
        "import matplotlib.pyplot as plt\n",
        "%matplotlib inline\n",
        "\n",
        "from sklearn.model_selection import train_test_split\n",
        "from sklearn.preprocessing import LabelEncoder   ###########\n",
        "from sklearn.metrics import confusion_matrix , classification_report , accuracy_score\n",
        "from sklearn.manifold import TSNE ######\n",
        "from sklearn.feature_extraction.text import TfidfVectorizer #############\n",
        "\n",
        "from keras.preprocessing.text import Tokenizer         #######\n",
        "from keras.preprocessing.sequence import pad_sequences #######\n",
        "from keras.models import Sequential\n",
        "from keras.layers import Dropout , Conv1D ,MaxPool1D,Activation , Dense , Flatten , Embedding , LSTM ####\n",
        "\n",
        "from keras import utils\n",
        "from keras.callbacks import ReduceLROnPlateau , EarlyStopping\n",
        "\n",
        "\n",
        "#nltk\n",
        "\n",
        "import nltk\n",
        "from nltk.corpus import stopwords ########\n",
        "from nltk.stem import SnowballStemmer ############\n",
        "\n",
        "\n",
        "#word to vec\n",
        "import gensim\n",
        "\n",
        "import re #####\n",
        "import os\n",
        "from collections import Counter #######\n",
        "import logging ###\n",
        "import time\n",
        "import pickle ######\n",
        "import itertools ######\n",
        "\n",
        "\n",
        "from textblob import TextBlob # TextBlob - Python library for processing textual data\n",
        "import random\n",
        "np.random.seed(0)\n",
        "\n",
        "\n",
        "# import SentimentIntensityAnalyzer class\n",
        "# from vaderSentiment.vaderSentiment module.\n",
        "#from vaderSentiment.vaderSentiment import SentimentIntensityAnalyzer\n"
      ],
      "execution_count": null,
      "outputs": []
    },
    {
      "cell_type": "code",
      "metadata": {
        "id": "zJ1UTKIPTiyi"
      },
      "source": [
        "#load data \n",
        "df1 = pd.read_csv('/content/file.csv')\n",
        "df2=pd.read_csv('/content/COVID-Vaccine Related tweets NOV1 to DEC16.csv')"
      ],
      "execution_count": null,
      "outputs": []
    },
    {
      "cell_type": "code",
      "metadata": {
        "colab": {
          "base_uri": "https://localhost:8080/",
          "height": 932
        },
        "id": "0aiqBm5jzOYj",
        "outputId": "2f59dcf8-f664-471e-e13e-277e9ce8bc88"
      },
      "source": [
        "display(df2)"
      ],
      "execution_count": null,
      "outputs": [
        {
          "output_type": "display_data",
          "data": {
            "text/html": [
              "<div>\n",
              "<style scoped>\n",
              "    .dataframe tbody tr th:only-of-type {\n",
              "        vertical-align: middle;\n",
              "    }\n",
              "\n",
              "    .dataframe tbody tr th {\n",
              "        vertical-align: top;\n",
              "    }\n",
              "\n",
              "    .dataframe thead th {\n",
              "        text-align: right;\n",
              "    }\n",
              "</style>\n",
              "<table border=\"1\" class=\"dataframe\">\n",
              "  <thead>\n",
              "    <tr style=\"text-align: right;\">\n",
              "      <th></th>\n",
              "      <th>date</th>\n",
              "      <th>time</th>\n",
              "      <th>user_id</th>\n",
              "      <th>username</th>\n",
              "      <th>name</th>\n",
              "      <th>tweet</th>\n",
              "      <th>language</th>\n",
              "      <th>mentions</th>\n",
              "      <th>urls</th>\n",
              "      <th>photos</th>\n",
              "      <th>replies_count</th>\n",
              "      <th>retweets_count</th>\n",
              "      <th>likes_count</th>\n",
              "      <th>hashtags</th>\n",
              "      <th>link</th>\n",
              "    </tr>\n",
              "  </thead>\n",
              "  <tbody>\n",
              "    <tr>\n",
              "      <th>0</th>\n",
              "      <td>16-12-2020</td>\n",
              "      <td>04:37:24</td>\n",
              "      <td>1.369881e+08</td>\n",
              "      <td>beforethestars</td>\n",
              "      <td>Andrea Davison</td>\n",
              "      <td>Vegetarians here is a reason \"AZD1222 (ChAdOx1...</td>\n",
              "      <td>en</td>\n",
              "      <td>[]</td>\n",
              "      <td>[]</td>\n",
              "      <td>[]</td>\n",
              "      <td>0</td>\n",
              "      <td>3</td>\n",
              "      <td>3</td>\n",
              "      <td>[]</td>\n",
              "      <td>https://twitter.com/beforethestars/status/1338...</td>\n",
              "    </tr>\n",
              "    <tr>\n",
              "      <th>1</th>\n",
              "      <td>16-12-2020</td>\n",
              "      <td>04:03:02</td>\n",
              "      <td>1.458063e+09</td>\n",
              "      <td>artofhitech</td>\n",
              "      <td>Техно Ньюс !</td>\n",
              "      <td>AstraZeneca начинает клинические испытания вак...</td>\n",
              "      <td>ru</td>\n",
              "      <td>[]</td>\n",
              "      <td>[]</td>\n",
              "      <td>[]</td>\n",
              "      <td>0</td>\n",
              "      <td>0</td>\n",
              "      <td>0</td>\n",
              "      <td>[]</td>\n",
              "      <td>https://twitter.com/ArtOfHiTech/status/1338975...</td>\n",
              "    </tr>\n",
              "    <tr>\n",
              "      <th>2</th>\n",
              "      <td>16-12-2020</td>\n",
              "      <td>03:39:43</td>\n",
              "      <td>1.412535e+07</td>\n",
              "      <td>n6mac41717</td>\n",
              "      <td>Chuck Han</td>\n",
              "      <td>@ByLizC 1) Let's see what the US Phase III tri...</td>\n",
              "      <td>en</td>\n",
              "      <td>[]</td>\n",
              "      <td>[]</td>\n",
              "      <td>[]</td>\n",
              "      <td>0</td>\n",
              "      <td>0</td>\n",
              "      <td>0</td>\n",
              "      <td>[]</td>\n",
              "      <td>https://twitter.com/n6mac41717/status/13389695...</td>\n",
              "    </tr>\n",
              "    <tr>\n",
              "      <th>3</th>\n",
              "      <td>16-12-2020</td>\n",
              "      <td>03:30:18</td>\n",
              "      <td>3.312676e+09</td>\n",
              "      <td>codigofmx</td>\n",
              "      <td>codigof.mx</td>\n",
              "      <td>El pasado 11 de diciembre, el laboratorio Astr...</td>\n",
              "      <td>es</td>\n",
              "      <td>[]</td>\n",
              "      <td>['http://ow.ly/iu8o50CMlt5']</td>\n",
              "      <td>['https://pbs.twimg.com/media/EpT3hY_W8AM6C_x....</td>\n",
              "      <td>0</td>\n",
              "      <td>0</td>\n",
              "      <td>4</td>\n",
              "      <td>[]</td>\n",
              "      <td>https://twitter.com/codigofmx/status/133896714...</td>\n",
              "    </tr>\n",
              "    <tr>\n",
              "      <th>4</th>\n",
              "      <td>16-12-2020</td>\n",
              "      <td>01:39:04</td>\n",
              "      <td>9.536980e+17</td>\n",
              "      <td>ae1tt</td>\n",
              "      <td>Deborah A Nicholas, M.D.</td>\n",
              "      <td>@sabrigley @IncognitoNewt @thespybrief Yep. Pu...</td>\n",
              "      <td>en</td>\n",
              "      <td>[]</td>\n",
              "      <td>['https://www.thelancet.com/journals/lancet/ar...</td>\n",
              "      <td>[]</td>\n",
              "      <td>1</td>\n",
              "      <td>0</td>\n",
              "      <td>6</td>\n",
              "      <td>[]</td>\n",
              "      <td>https://twitter.com/AE1TT/status/1338939149072...</td>\n",
              "    </tr>\n",
              "    <tr>\n",
              "      <th>...</th>\n",
              "      <td>...</td>\n",
              "      <td>...</td>\n",
              "      <td>...</td>\n",
              "      <td>...</td>\n",
              "      <td>...</td>\n",
              "      <td>...</td>\n",
              "      <td>...</td>\n",
              "      <td>...</td>\n",
              "      <td>...</td>\n",
              "      <td>...</td>\n",
              "      <td>...</td>\n",
              "      <td>...</td>\n",
              "      <td>...</td>\n",
              "      <td>...</td>\n",
              "      <td>...</td>\n",
              "    </tr>\n",
              "    <tr>\n",
              "      <th>686100</th>\n",
              "      <td>01-11-2020</td>\n",
              "      <td>07:35:53</td>\n",
              "      <td>1.336240e+08</td>\n",
              "      <td>vrtarak</td>\n",
              "      <td>viggy</td>\n",
              "      <td>@imeghanavirat Kadhu India dhi covaxin valu ip...</td>\n",
              "      <td>in</td>\n",
              "      <td>[]</td>\n",
              "      <td>[]</td>\n",
              "      <td>[]</td>\n",
              "      <td>3</td>\n",
              "      <td>0</td>\n",
              "      <td>0</td>\n",
              "      <td>[]</td>\n",
              "      <td>https://twitter.com/VRtarak/status/13227214928...</td>\n",
              "    </tr>\n",
              "    <tr>\n",
              "      <th>686101</th>\n",
              "      <td>01-11-2020</td>\n",
              "      <td>07:33:47</td>\n",
              "      <td>1.039760e+18</td>\n",
              "      <td>tv9bharatvarsh</td>\n",
              "      <td>TV9 Bharatvarsh</td>\n",
              "      <td>#Covaxin के तीसरे फेज का ट्रायल जल्द होगा शुरू...</td>\n",
              "      <td>hi</td>\n",
              "      <td>[]</td>\n",
              "      <td>['https://www.tv9bharatvarsh.com/india/corona-...</td>\n",
              "      <td>[]</td>\n",
              "      <td>0</td>\n",
              "      <td>0</td>\n",
              "      <td>15</td>\n",
              "      <td>['covaxin', 'coronavirus', 'covid19']</td>\n",
              "      <td>https://twitter.com/TV9Bharatvarsh/status/1322...</td>\n",
              "    </tr>\n",
              "    <tr>\n",
              "      <th>686102</th>\n",
              "      <td>01-11-2020</td>\n",
              "      <td>07:26:19</td>\n",
              "      <td>1.336240e+08</td>\n",
              "      <td>vrtarak</td>\n",
              "      <td>viggy</td>\n",
              "      <td>@imeghanavirat Russia la vaccine odaladame at ...</td>\n",
              "      <td>in</td>\n",
              "      <td>[]</td>\n",
              "      <td>[]</td>\n",
              "      <td>[]</td>\n",
              "      <td>1</td>\n",
              "      <td>0</td>\n",
              "      <td>0</td>\n",
              "      <td>[]</td>\n",
              "      <td>https://twitter.com/VRtarak/status/13227190842...</td>\n",
              "    </tr>\n",
              "    <tr>\n",
              "      <th>686103</th>\n",
              "      <td>01-11-2020</td>\n",
              "      <td>07:02:32</td>\n",
              "      <td>1.238370e+18</td>\n",
              "      <td>covidmexico</td>\n",
              "      <td>Covid México</td>\n",
              "      <td>ste candidato ha entrado en ensayos de Fase 2....</td>\n",
              "      <td>es</td>\n",
              "      <td>[]</td>\n",
              "      <td>[]</td>\n",
              "      <td>[]</td>\n",
              "      <td>1</td>\n",
              "      <td>1</td>\n",
              "      <td>0</td>\n",
              "      <td>[]</td>\n",
              "      <td>https://twitter.com/CovidMexico/status/1322713...</td>\n",
              "    </tr>\n",
              "    <tr>\n",
              "      <th>686104</th>\n",
              "      <td>01-11-2020</td>\n",
              "      <td>07:02:30</td>\n",
              "      <td>1.238370e+18</td>\n",
              "      <td>covidmexico</td>\n",
              "      <td>Covid México</td>\n",
              "      <td>Covaxin - Inactivated vaccine Estado: Los prim...</td>\n",
              "      <td>es</td>\n",
              "      <td>[]</td>\n",
              "      <td>[]</td>\n",
              "      <td>[]</td>\n",
              "      <td>1</td>\n",
              "      <td>0</td>\n",
              "      <td>1</td>\n",
              "      <td>[]</td>\n",
              "      <td>https://twitter.com/CovidMexico/status/1322713...</td>\n",
              "    </tr>\n",
              "  </tbody>\n",
              "</table>\n",
              "<p>686105 rows × 15 columns</p>\n",
              "</div>"
            ],
            "text/plain": [
              "              date  ...                                               link\n",
              "0       16-12-2020  ...  https://twitter.com/beforethestars/status/1338...\n",
              "1       16-12-2020  ...  https://twitter.com/ArtOfHiTech/status/1338975...\n",
              "2       16-12-2020  ...  https://twitter.com/n6mac41717/status/13389695...\n",
              "3       16-12-2020  ...  https://twitter.com/codigofmx/status/133896714...\n",
              "4       16-12-2020  ...  https://twitter.com/AE1TT/status/1338939149072...\n",
              "...            ...  ...                                                ...\n",
              "686100  01-11-2020  ...  https://twitter.com/VRtarak/status/13227214928...\n",
              "686101  01-11-2020  ...  https://twitter.com/TV9Bharatvarsh/status/1322...\n",
              "686102  01-11-2020  ...  https://twitter.com/VRtarak/status/13227190842...\n",
              "686103  01-11-2020  ...  https://twitter.com/CovidMexico/status/1322713...\n",
              "686104  01-11-2020  ...  https://twitter.com/CovidMexico/status/1322713...\n",
              "\n",
              "[686105 rows x 15 columns]"
            ]
          },
          "metadata": {
            "tags": []
          }
        }
      ]
    },
    {
      "cell_type": "code",
      "metadata": {
        "colab": {
          "base_uri": "https://localhost:8080/"
        },
        "id": "ZTyj1AaCzVV9",
        "outputId": "04c25068-7bca-452b-c630-8d645f2750b7"
      },
      "source": [
        "df2.columns"
      ],
      "execution_count": null,
      "outputs": [
        {
          "output_type": "execute_result",
          "data": {
            "text/plain": [
              "Index(['date', 'time', 'user_id', 'username', 'name', 'tweet', 'language',\n",
              "       'mentions', 'urls', 'photos', 'replies_count', 'retweets_count',\n",
              "       'likes_count', 'hashtags', 'link'],\n",
              "      dtype='object')"
            ]
          },
          "metadata": {
            "tags": []
          },
          "execution_count": 9
        }
      ]
    },
    {
      "cell_type": "code",
      "metadata": {
        "colab": {
          "base_uri": "https://localhost:8080/",
          "height": 480
        },
        "id": "BHqC9tmYzVdz",
        "outputId": "7a68b349-c64f-4954-eb22-a1fc308f7ff3"
      },
      "source": [
        "df2.head()"
      ],
      "execution_count": null,
      "outputs": [
        {
          "output_type": "execute_result",
          "data": {
            "text/html": [
              "<div>\n",
              "<style scoped>\n",
              "    .dataframe tbody tr th:only-of-type {\n",
              "        vertical-align: middle;\n",
              "    }\n",
              "\n",
              "    .dataframe tbody tr th {\n",
              "        vertical-align: top;\n",
              "    }\n",
              "\n",
              "    .dataframe thead th {\n",
              "        text-align: right;\n",
              "    }\n",
              "</style>\n",
              "<table border=\"1\" class=\"dataframe\">\n",
              "  <thead>\n",
              "    <tr style=\"text-align: right;\">\n",
              "      <th></th>\n",
              "      <th>date</th>\n",
              "      <th>time</th>\n",
              "      <th>user_id</th>\n",
              "      <th>username</th>\n",
              "      <th>name</th>\n",
              "      <th>tweet</th>\n",
              "      <th>language</th>\n",
              "      <th>mentions</th>\n",
              "      <th>urls</th>\n",
              "      <th>photos</th>\n",
              "      <th>replies_count</th>\n",
              "      <th>retweets_count</th>\n",
              "      <th>likes_count</th>\n",
              "      <th>hashtags</th>\n",
              "      <th>link</th>\n",
              "    </tr>\n",
              "  </thead>\n",
              "  <tbody>\n",
              "    <tr>\n",
              "      <th>0</th>\n",
              "      <td>16-12-2020</td>\n",
              "      <td>04:37:24</td>\n",
              "      <td>1.369881e+08</td>\n",
              "      <td>beforethestars</td>\n",
              "      <td>Andrea Davison</td>\n",
              "      <td>Vegetarians here is a reason \"AZD1222 (ChAdOx1...</td>\n",
              "      <td>en</td>\n",
              "      <td>[]</td>\n",
              "      <td>[]</td>\n",
              "      <td>[]</td>\n",
              "      <td>0</td>\n",
              "      <td>3</td>\n",
              "      <td>3</td>\n",
              "      <td>[]</td>\n",
              "      <td>https://twitter.com/beforethestars/status/1338...</td>\n",
              "    </tr>\n",
              "    <tr>\n",
              "      <th>1</th>\n",
              "      <td>16-12-2020</td>\n",
              "      <td>04:03:02</td>\n",
              "      <td>1.458063e+09</td>\n",
              "      <td>artofhitech</td>\n",
              "      <td>Техно Ньюс !</td>\n",
              "      <td>AstraZeneca начинает клинические испытания вак...</td>\n",
              "      <td>ru</td>\n",
              "      <td>[]</td>\n",
              "      <td>[]</td>\n",
              "      <td>[]</td>\n",
              "      <td>0</td>\n",
              "      <td>0</td>\n",
              "      <td>0</td>\n",
              "      <td>[]</td>\n",
              "      <td>https://twitter.com/ArtOfHiTech/status/1338975...</td>\n",
              "    </tr>\n",
              "    <tr>\n",
              "      <th>2</th>\n",
              "      <td>16-12-2020</td>\n",
              "      <td>03:39:43</td>\n",
              "      <td>1.412535e+07</td>\n",
              "      <td>n6mac41717</td>\n",
              "      <td>Chuck Han</td>\n",
              "      <td>@ByLizC 1) Let's see what the US Phase III tri...</td>\n",
              "      <td>en</td>\n",
              "      <td>[]</td>\n",
              "      <td>[]</td>\n",
              "      <td>[]</td>\n",
              "      <td>0</td>\n",
              "      <td>0</td>\n",
              "      <td>0</td>\n",
              "      <td>[]</td>\n",
              "      <td>https://twitter.com/n6mac41717/status/13389695...</td>\n",
              "    </tr>\n",
              "    <tr>\n",
              "      <th>3</th>\n",
              "      <td>16-12-2020</td>\n",
              "      <td>03:30:18</td>\n",
              "      <td>3.312676e+09</td>\n",
              "      <td>codigofmx</td>\n",
              "      <td>codigof.mx</td>\n",
              "      <td>El pasado 11 de diciembre, el laboratorio Astr...</td>\n",
              "      <td>es</td>\n",
              "      <td>[]</td>\n",
              "      <td>['http://ow.ly/iu8o50CMlt5']</td>\n",
              "      <td>['https://pbs.twimg.com/media/EpT3hY_W8AM6C_x....</td>\n",
              "      <td>0</td>\n",
              "      <td>0</td>\n",
              "      <td>4</td>\n",
              "      <td>[]</td>\n",
              "      <td>https://twitter.com/codigofmx/status/133896714...</td>\n",
              "    </tr>\n",
              "    <tr>\n",
              "      <th>4</th>\n",
              "      <td>16-12-2020</td>\n",
              "      <td>01:39:04</td>\n",
              "      <td>9.536980e+17</td>\n",
              "      <td>ae1tt</td>\n",
              "      <td>Deborah A Nicholas, M.D.</td>\n",
              "      <td>@sabrigley @IncognitoNewt @thespybrief Yep. Pu...</td>\n",
              "      <td>en</td>\n",
              "      <td>[]</td>\n",
              "      <td>['https://www.thelancet.com/journals/lancet/ar...</td>\n",
              "      <td>[]</td>\n",
              "      <td>1</td>\n",
              "      <td>0</td>\n",
              "      <td>6</td>\n",
              "      <td>[]</td>\n",
              "      <td>https://twitter.com/AE1TT/status/1338939149072...</td>\n",
              "    </tr>\n",
              "  </tbody>\n",
              "</table>\n",
              "</div>"
            ],
            "text/plain": [
              "         date  ...                                               link\n",
              "0  16-12-2020  ...  https://twitter.com/beforethestars/status/1338...\n",
              "1  16-12-2020  ...  https://twitter.com/ArtOfHiTech/status/1338975...\n",
              "2  16-12-2020  ...  https://twitter.com/n6mac41717/status/13389695...\n",
              "3  16-12-2020  ...  https://twitter.com/codigofmx/status/133896714...\n",
              "4  16-12-2020  ...  https://twitter.com/AE1TT/status/1338939149072...\n",
              "\n",
              "[5 rows x 15 columns]"
            ]
          },
          "metadata": {
            "tags": []
          },
          "execution_count": 10
        }
      ]
    },
    {
      "cell_type": "code",
      "metadata": {
        "colab": {
          "base_uri": "https://localhost:8080/"
        },
        "id": "4_oOS8TizVg1",
        "outputId": "7859ed45-b7da-4ac3-9e0d-034ac763c357"
      },
      "source": [
        "from pandas import datetime \n",
        "\n",
        "df2['date'] = pd.to_datetime(df2['date'])\n",
        "df2['Month'] = df2['date'].dt.month\n",
        "df2['Month-str-full'] = df2['date'].dt.strftime('%B')\n"
      ],
      "execution_count": null,
      "outputs": [
        {
          "output_type": "stream",
          "text": [
            "/usr/local/lib/python3.7/dist-packages/ipykernel_launcher.py:1: FutureWarning: The pandas.datetime class is deprecated and will be removed from pandas in a future version. Import from datetime module instead.\n",
            "  \"\"\"Entry point for launching an IPython kernel.\n"
          ],
          "name": "stderr"
        }
      ]
    },
    {
      "cell_type": "code",
      "metadata": {
        "colab": {
          "base_uri": "https://localhost:8080/"
        },
        "id": "7b5G-aXnzVjr",
        "outputId": "97f45f52-d7d1-4257-c3f0-f53374746b9f"
      },
      "source": [
        "df2['Month-str-full'].value_counts()"
      ],
      "execution_count": null,
      "outputs": [
        {
          "output_type": "execute_result",
          "data": {
            "text/plain": [
              "November     235000\n",
              "December     127569\n",
              "October       61870\n",
              "September     61747\n",
              "August        39862\n",
              "March         33318\n",
              "February      31353\n",
              "April         28618\n",
              "May           21633\n",
              "July          19290\n",
              "June          14970\n",
              "January       10875\n",
              "Name: Month-str-full, dtype: int64"
            ]
          },
          "metadata": {
            "tags": []
          },
          "execution_count": 12
        }
      ]
    },
    {
      "cell_type": "code",
      "metadata": {
        "colab": {
          "base_uri": "https://localhost:8080/"
        },
        "id": "qosCtArdzVnZ",
        "outputId": "137f0d99-223b-4b53-bf8d-d76651ae3697"
      },
      "source": [
        "\n",
        "print(min(df2['date']))\n",
        "print(max(df2['date']))"
      ],
      "execution_count": null,
      "outputs": [
        {
          "output_type": "stream",
          "text": [
            "2020-01-11 00:00:00\n",
            "2020-12-16 00:00:00\n"
          ],
          "name": "stdout"
        }
      ]
    },
    {
      "cell_type": "code",
      "metadata": {
        "colab": {
          "base_uri": "https://localhost:8080/"
        },
        "id": "V8DYLPG2zVqZ",
        "outputId": "94f53eaa-b41e-4152-fff0-d806be96a1fb"
      },
      "source": [
        "print(min(df1['date']))\n",
        "print(max(df1['date']))"
      ],
      "execution_count": null,
      "outputs": [
        {
          "output_type": "stream",
          "text": [
            "2020-02-12\n",
            "2020-10-22\n"
          ],
          "name": "stdout"
        }
      ]
    },
    {
      "cell_type": "code",
      "metadata": {
        "id": "RiC1QlrMzVtR"
      },
      "source": [
        "df2 = df2[df2['language']=='en']\n",
        "df2 = df2[['date' , 'tweet']]"
      ],
      "execution_count": null,
      "outputs": []
    },
    {
      "cell_type": "code",
      "metadata": {
        "id": "xhpm5L_6zVwa"
      },
      "source": [
        "df1 = df1[df1['language']=='en']\n",
        "df1 = df1[['date' , 'tweet']]"
      ],
      "execution_count": null,
      "outputs": []
    },
    {
      "cell_type": "code",
      "metadata": {
        "id": "PxtFwmZA8rCZ",
        "colab": {
          "base_uri": "https://localhost:8080/",
          "height": 200
        },
        "outputId": "b41294cc-becc-457f-89e6-ac72367c8c77"
      },
      "source": [
        "df1.head()"
      ],
      "execution_count": null,
      "outputs": [
        {
          "output_type": "execute_result",
          "data": {
            "text/html": [
              "<div>\n",
              "<style scoped>\n",
              "    .dataframe tbody tr th:only-of-type {\n",
              "        vertical-align: middle;\n",
              "    }\n",
              "\n",
              "    .dataframe tbody tr th {\n",
              "        vertical-align: top;\n",
              "    }\n",
              "\n",
              "    .dataframe thead th {\n",
              "        text-align: right;\n",
              "    }\n",
              "</style>\n",
              "<table border=\"1\" class=\"dataframe\">\n",
              "  <thead>\n",
              "    <tr style=\"text-align: right;\">\n",
              "      <th></th>\n",
              "      <th>date</th>\n",
              "      <th>tweet</th>\n",
              "    </tr>\n",
              "  </thead>\n",
              "  <tbody>\n",
              "    <tr>\n",
              "      <th>0</th>\n",
              "      <td>2020-10-22</td>\n",
              "      <td>@ANI Isn't it the best poll promise ever?? Fre...</td>\n",
              "    </tr>\n",
              "    <tr>\n",
              "      <th>1</th>\n",
              "      <td>2020-10-22</td>\n",
              "      <td>Now states shall have wait for thier Vidhan Sa...</td>\n",
              "    </tr>\n",
              "    <tr>\n",
              "      <th>3</th>\n",
              "      <td>2020-10-22</td>\n",
              "      <td>@MisseeMonis They said vaccine for all but not...</td>\n",
              "    </tr>\n",
              "    <tr>\n",
              "      <th>4</th>\n",
              "      <td>2020-10-22</td>\n",
              "      <td>BJP really presenting \"free COVID vaccine\" as ...</td>\n",
              "    </tr>\n",
              "    <tr>\n",
              "      <th>5</th>\n",
              "      <td>2020-10-22</td>\n",
              "      <td>Another dose of daily miserablism from Planet ...</td>\n",
              "    </tr>\n",
              "  </tbody>\n",
              "</table>\n",
              "</div>"
            ],
            "text/plain": [
              "         date                                              tweet\n",
              "0  2020-10-22  @ANI Isn't it the best poll promise ever?? Fre...\n",
              "1  2020-10-22  Now states shall have wait for thier Vidhan Sa...\n",
              "3  2020-10-22  @MisseeMonis They said vaccine for all but not...\n",
              "4  2020-10-22  BJP really presenting \"free COVID vaccine\" as ...\n",
              "5  2020-10-22  Another dose of daily miserablism from Planet ..."
            ]
          },
          "metadata": {
            "tags": []
          },
          "execution_count": 17
        }
      ]
    },
    {
      "cell_type": "code",
      "metadata": {
        "colab": {
          "base_uri": "https://localhost:8080/",
          "height": 200
        },
        "id": "MnNAlB6Z1nKQ",
        "outputId": "68861b34-83fc-4098-8b63-08e4577a704f"
      },
      "source": [
        "df2.head()"
      ],
      "execution_count": null,
      "outputs": [
        {
          "output_type": "execute_result",
          "data": {
            "text/html": [
              "<div>\n",
              "<style scoped>\n",
              "    .dataframe tbody tr th:only-of-type {\n",
              "        vertical-align: middle;\n",
              "    }\n",
              "\n",
              "    .dataframe tbody tr th {\n",
              "        vertical-align: top;\n",
              "    }\n",
              "\n",
              "    .dataframe thead th {\n",
              "        text-align: right;\n",
              "    }\n",
              "</style>\n",
              "<table border=\"1\" class=\"dataframe\">\n",
              "  <thead>\n",
              "    <tr style=\"text-align: right;\">\n",
              "      <th></th>\n",
              "      <th>date</th>\n",
              "      <th>tweet</th>\n",
              "    </tr>\n",
              "  </thead>\n",
              "  <tbody>\n",
              "    <tr>\n",
              "      <th>0</th>\n",
              "      <td>2020-12-16</td>\n",
              "      <td>Vegetarians here is a reason \"AZD1222 (ChAdOx1...</td>\n",
              "    </tr>\n",
              "    <tr>\n",
              "      <th>2</th>\n",
              "      <td>2020-12-16</td>\n",
              "      <td>@ByLizC 1) Let's see what the US Phase III tri...</td>\n",
              "    </tr>\n",
              "    <tr>\n",
              "      <th>4</th>\n",
              "      <td>2020-12-16</td>\n",
              "      <td>@sabrigley @IncognitoNewt @thespybrief Yep. Pu...</td>\n",
              "    </tr>\n",
              "    <tr>\n",
              "      <th>5</th>\n",
              "      <td>2020-12-16</td>\n",
              "      <td>@IncognitoNewt @thespybrief Lancet published i...</td>\n",
              "    </tr>\n",
              "    <tr>\n",
              "      <th>6</th>\n",
              "      <td>2020-12-16</td>\n",
              "      <td>AZD1222 Oxford Phase III trials interim analys...</td>\n",
              "    </tr>\n",
              "  </tbody>\n",
              "</table>\n",
              "</div>"
            ],
            "text/plain": [
              "        date                                              tweet\n",
              "0 2020-12-16  Vegetarians here is a reason \"AZD1222 (ChAdOx1...\n",
              "2 2020-12-16  @ByLizC 1) Let's see what the US Phase III tri...\n",
              "4 2020-12-16  @sabrigley @IncognitoNewt @thespybrief Yep. Pu...\n",
              "5 2020-12-16  @IncognitoNewt @thespybrief Lancet published i...\n",
              "6 2020-12-16  AZD1222 Oxford Phase III trials interim analys..."
            ]
          },
          "metadata": {
            "tags": []
          },
          "execution_count": 18
        }
      ]
    },
    {
      "cell_type": "code",
      "metadata": {
        "id": "oCFZTh5rwPFJ",
        "colab": {
          "base_uri": "https://localhost:8080/"
        },
        "outputId": "59870500-a473-4033-dbbe-b33513ff4816"
      },
      "source": [
        "\n",
        "df2['tweet'].isna().sum()"
      ],
      "execution_count": null,
      "outputs": [
        {
          "output_type": "execute_result",
          "data": {
            "text/plain": [
              "0"
            ]
          },
          "metadata": {
            "tags": []
          },
          "execution_count": 19
        }
      ]
    },
    {
      "cell_type": "code",
      "metadata": {
        "id": "d2JJ3VLWxYrW",
        "colab": {
          "base_uri": "https://localhost:8080/"
        },
        "outputId": "0538a5aa-2749-41ad-f27d-56342e4de4e9"
      },
      "source": [
        "df2['date'].isna().sum()"
      ],
      "execution_count": null,
      "outputs": [
        {
          "output_type": "execute_result",
          "data": {
            "text/plain": [
              "0"
            ]
          },
          "metadata": {
            "tags": []
          },
          "execution_count": 20
        }
      ]
    },
    {
      "cell_type": "code",
      "metadata": {
        "colab": {
          "base_uri": "https://localhost:8080/"
        },
        "id": "yynDEJfr1ybk",
        "outputId": "b27556e0-8262-4fb3-ad81-7e0beaf722bd"
      },
      "source": [
        "df1['tweet'].isna().sum()"
      ],
      "execution_count": null,
      "outputs": [
        {
          "output_type": "execute_result",
          "data": {
            "text/plain": [
              "0"
            ]
          },
          "metadata": {
            "tags": []
          },
          "execution_count": 21
        }
      ]
    },
    {
      "cell_type": "code",
      "metadata": {
        "colab": {
          "base_uri": "https://localhost:8080/"
        },
        "id": "VVRddMY411Rm",
        "outputId": "a2b4988f-ab6e-43cc-986d-73b933049f5c"
      },
      "source": [
        "df1['date'].isna().sum()"
      ],
      "execution_count": null,
      "outputs": [
        {
          "output_type": "execute_result",
          "data": {
            "text/plain": [
              "0"
            ]
          },
          "metadata": {
            "tags": []
          },
          "execution_count": 22
        }
      ]
    },
    {
      "cell_type": "code",
      "metadata": {
        "id": "hZ20uM1YxfRG",
        "colab": {
          "base_uri": "https://localhost:8080/"
        },
        "outputId": "fabc189d-2ac5-4688-9ad3-e28fb93a3a1f"
      },
      "source": [
        "print(df1.shape)\n",
        "print(df2.shape)"
      ],
      "execution_count": null,
      "outputs": [
        {
          "output_type": "stream",
          "text": [
            "(201030, 2)\n",
            "(573016, 2)\n"
          ],
          "name": "stdout"
        }
      ]
    },
    {
      "cell_type": "code",
      "metadata": {
        "colab": {
          "base_uri": "https://localhost:8080/",
          "height": 200
        },
        "id": "-LxcHX5U176p",
        "outputId": "3282b3be-c3c9-4368-b4b3-b6810e799b4e"
      },
      "source": [
        "data = pd.concat([df1,df2],ignore_index=True)\n",
        "data.head()"
      ],
      "execution_count": null,
      "outputs": [
        {
          "output_type": "execute_result",
          "data": {
            "text/html": [
              "<div>\n",
              "<style scoped>\n",
              "    .dataframe tbody tr th:only-of-type {\n",
              "        vertical-align: middle;\n",
              "    }\n",
              "\n",
              "    .dataframe tbody tr th {\n",
              "        vertical-align: top;\n",
              "    }\n",
              "\n",
              "    .dataframe thead th {\n",
              "        text-align: right;\n",
              "    }\n",
              "</style>\n",
              "<table border=\"1\" class=\"dataframe\">\n",
              "  <thead>\n",
              "    <tr style=\"text-align: right;\">\n",
              "      <th></th>\n",
              "      <th>date</th>\n",
              "      <th>tweet</th>\n",
              "    </tr>\n",
              "  </thead>\n",
              "  <tbody>\n",
              "    <tr>\n",
              "      <th>0</th>\n",
              "      <td>2020-10-22</td>\n",
              "      <td>@ANI Isn't it the best poll promise ever?? Fre...</td>\n",
              "    </tr>\n",
              "    <tr>\n",
              "      <th>1</th>\n",
              "      <td>2020-10-22</td>\n",
              "      <td>Now states shall have wait for thier Vidhan Sa...</td>\n",
              "    </tr>\n",
              "    <tr>\n",
              "      <th>2</th>\n",
              "      <td>2020-10-22</td>\n",
              "      <td>@MisseeMonis They said vaccine for all but not...</td>\n",
              "    </tr>\n",
              "    <tr>\n",
              "      <th>3</th>\n",
              "      <td>2020-10-22</td>\n",
              "      <td>BJP really presenting \"free COVID vaccine\" as ...</td>\n",
              "    </tr>\n",
              "    <tr>\n",
              "      <th>4</th>\n",
              "      <td>2020-10-22</td>\n",
              "      <td>Another dose of daily miserablism from Planet ...</td>\n",
              "    </tr>\n",
              "  </tbody>\n",
              "</table>\n",
              "</div>"
            ],
            "text/plain": [
              "         date                                              tweet\n",
              "0  2020-10-22  @ANI Isn't it the best poll promise ever?? Fre...\n",
              "1  2020-10-22  Now states shall have wait for thier Vidhan Sa...\n",
              "2  2020-10-22  @MisseeMonis They said vaccine for all but not...\n",
              "3  2020-10-22  BJP really presenting \"free COVID vaccine\" as ...\n",
              "4  2020-10-22  Another dose of daily miserablism from Planet ..."
            ]
          },
          "metadata": {
            "tags": []
          },
          "execution_count": 24
        }
      ]
    },
    {
      "cell_type": "code",
      "metadata": {
        "id": "AwuNsrd6xh98",
        "colab": {
          "base_uri": "https://localhost:8080/"
        },
        "outputId": "7739e5b7-5828-4c70-c24a-f3129eefc4ed"
      },
      "source": [
        "data.shape"
      ],
      "execution_count": null,
      "outputs": [
        {
          "output_type": "execute_result",
          "data": {
            "text/plain": [
              "(774046, 2)"
            ]
          },
          "metadata": {
            "tags": []
          },
          "execution_count": 25
        }
      ]
    },
    {
      "cell_type": "code",
      "metadata": {
        "colab": {
          "base_uri": "https://localhost:8080/"
        },
        "id": "XsERjRLQ2pHL",
        "outputId": "faf57408-ed30-456b-de7e-4bf0e8ba4892"
      },
      "source": [
        "data.drop_duplicates(subset=['tweet'])\n",
        "data.shape"
      ],
      "execution_count": null,
      "outputs": [
        {
          "output_type": "execute_result",
          "data": {
            "text/plain": [
              "(774046, 2)"
            ]
          },
          "metadata": {
            "tags": []
          },
          "execution_count": 26
        }
      ]
    },
    {
      "cell_type": "code",
      "metadata": {
        "id": "6puQjCFZieaW"
      },
      "source": [
        "data.to_csv('MERGE_vaccine_tweet.csv')"
      ],
      "execution_count": null,
      "outputs": []
    },
    {
      "cell_type": "code",
      "metadata": {
        "id": "kRX1ZEKEz4tG",
        "colab": {
          "base_uri": "https://localhost:8080/",
          "height": 200
        },
        "outputId": "2b8462df-a20d-4cb6-e281-28bb444f39ec"
      },
      "source": [
        "data['process_tweet'] = data['tweet'].copy()\n",
        "data.head()"
      ],
      "execution_count": null,
      "outputs": [
        {
          "output_type": "execute_result",
          "data": {
            "text/html": [
              "<div>\n",
              "<style scoped>\n",
              "    .dataframe tbody tr th:only-of-type {\n",
              "        vertical-align: middle;\n",
              "    }\n",
              "\n",
              "    .dataframe tbody tr th {\n",
              "        vertical-align: top;\n",
              "    }\n",
              "\n",
              "    .dataframe thead th {\n",
              "        text-align: right;\n",
              "    }\n",
              "</style>\n",
              "<table border=\"1\" class=\"dataframe\">\n",
              "  <thead>\n",
              "    <tr style=\"text-align: right;\">\n",
              "      <th></th>\n",
              "      <th>date</th>\n",
              "      <th>tweet</th>\n",
              "      <th>process_tweet</th>\n",
              "    </tr>\n",
              "  </thead>\n",
              "  <tbody>\n",
              "    <tr>\n",
              "      <th>0</th>\n",
              "      <td>2020-10-22</td>\n",
              "      <td>@ANI Isn't it the best poll promise ever?? Fre...</td>\n",
              "      <td>@ANI Isn't it the best poll promise ever?? Fre...</td>\n",
              "    </tr>\n",
              "    <tr>\n",
              "      <th>1</th>\n",
              "      <td>2020-10-22</td>\n",
              "      <td>Now states shall have wait for thier Vidhan Sa...</td>\n",
              "      <td>Now states shall have wait for thier Vidhan Sa...</td>\n",
              "    </tr>\n",
              "    <tr>\n",
              "      <th>2</th>\n",
              "      <td>2020-10-22</td>\n",
              "      <td>@MisseeMonis They said vaccine for all but not...</td>\n",
              "      <td>@MisseeMonis They said vaccine for all but not...</td>\n",
              "    </tr>\n",
              "    <tr>\n",
              "      <th>3</th>\n",
              "      <td>2020-10-22</td>\n",
              "      <td>BJP really presenting \"free COVID vaccine\" as ...</td>\n",
              "      <td>BJP really presenting \"free COVID vaccine\" as ...</td>\n",
              "    </tr>\n",
              "    <tr>\n",
              "      <th>4</th>\n",
              "      <td>2020-10-22</td>\n",
              "      <td>Another dose of daily miserablism from Planet ...</td>\n",
              "      <td>Another dose of daily miserablism from Planet ...</td>\n",
              "    </tr>\n",
              "  </tbody>\n",
              "</table>\n",
              "</div>"
            ],
            "text/plain": [
              "         date  ...                                      process_tweet\n",
              "0  2020-10-22  ...  @ANI Isn't it the best poll promise ever?? Fre...\n",
              "1  2020-10-22  ...  Now states shall have wait for thier Vidhan Sa...\n",
              "2  2020-10-22  ...  @MisseeMonis They said vaccine for all but not...\n",
              "3  2020-10-22  ...  BJP really presenting \"free COVID vaccine\" as ...\n",
              "4  2020-10-22  ...  Another dose of daily miserablism from Planet ...\n",
              "\n",
              "[5 rows x 3 columns]"
            ]
          },
          "metadata": {
            "tags": []
          },
          "execution_count": 28
        }
      ]
    },
    {
      "cell_type": "code",
      "metadata": {
        "id": "Qc_SfKBPidTx"
      },
      "source": [
        ""
      ],
      "execution_count": null,
      "outputs": []
    },
    {
      "cell_type": "markdown",
      "metadata": {
        "id": "YLBGRCim2yB_"
      },
      "source": [
        "# Preprocessing the Tweet\n"
      ]
    },
    {
      "cell_type": "code",
      "metadata": {
        "id": "2DHCeZn822Vz"
      },
      "source": [
        "def clean_data(txt):\n",
        "  txt = txt.lower()  # lowercase\n",
        "  txt = re.sub(r'@[A-Za-z0-9_]+' , '' , txt)   #remove mentions\n",
        "  txt = re.sub(r'#' , '' , txt) #remove hashtags\n",
        "  txt = re.sub(r'RT : ','' , txt) # remove retweets\n",
        "  txt = re.sub(r'https?:\\/\\/[A-Za-z0-9\\./\\/]+' , '' , txt) #removes url\n",
        "  txt = re.sub('\\[.*?\\]' , '' , txt) #remove square brackets\n",
        "  txt = re.sub(r'[^\\w\\s]' , '' , txt) #remove puntuations\n",
        "  txt = re.sub('\\w*\\d\\w*' , '' ,txt) #removes words containig numbers\n",
        "  txt = re.sub('\\n' , '' ,txt) #remove new lines\n",
        " \n",
        "\n",
        "  return txt\n"
      ],
      "execution_count": null,
      "outputs": []
    },
    {
      "cell_type": "code",
      "metadata": {
        "id": "iqYMECJk5Xzq",
        "colab": {
          "base_uri": "https://localhost:8080/"
        },
        "outputId": "bc94cdeb-b2d5-4976-d47f-9d8a622f44f9"
      },
      "source": [
        "data['process_tweet'] = data['process_tweet'].apply(clean_data)\n",
        "data['process_tweet']"
      ],
      "execution_count": null,
      "outputs": [
        {
          "output_type": "execute_result",
          "data": {
            "text/plain": [
              "0          isnt it the best poll promise ever free covid...\n",
              "1         now states shall have wait for thier vidhan sa...\n",
              "2          they said vaccine for all but not when free c...\n",
              "3         bjp really presenting free covid vaccine as a ...\n",
              "4         another dose of daily miserablism from planet ...\n",
              "                                ...                        \n",
              "774041    covaxin has been developed in collaboration wi...\n",
              "774042    bharat biotech is planning to launch its vacci...\n",
              "774043     vaccine amu medical college to begin covaxin ...\n",
              "774044    bharat biotech to launch covaxin in    india n...\n",
              "774045    the aiims in delhi is likely to submit a propo...\n",
              "Name: process_tweet, Length: 774046, dtype: object"
            ]
          },
          "metadata": {
            "tags": []
          },
          "execution_count": 30
        }
      ]
    },
    {
      "cell_type": "code",
      "metadata": {
        "id": "dqjUX3klSffn",
        "colab": {
          "base_uri": "https://localhost:8080/"
        },
        "outputId": "08bb471d-0259-4ffd-e115-c59a8f355787"
      },
      "source": [
        "nltk.download('stopwords')"
      ],
      "execution_count": null,
      "outputs": [
        {
          "output_type": "stream",
          "text": [
            "[nltk_data] Downloading package stopwords to /root/nltk_data...\n",
            "[nltk_data]   Unzipping corpora/stopwords.zip.\n"
          ],
          "name": "stdout"
        },
        {
          "output_type": "execute_result",
          "data": {
            "text/plain": [
              "True"
            ]
          },
          "metadata": {
            "tags": []
          },
          "execution_count": 31
        }
      ]
    },
    {
      "cell_type": "code",
      "metadata": {
        "id": "Qinr46wwu-2X"
      },
      "source": [
        "#removig stop words\n",
        "\n",
        "stopwords = nltk.corpus.stopwords.words('english')\n",
        "\n",
        "def remove_stopwords(txt):\n",
        "  rmv_stpwords = [i for i in txt.split() if i not in stopwords]\n",
        "  rmv_stpwords_join = ' '.join(rmv_stpwords)\n",
        "  return rmv_stpwords_join\n",
        "\n",
        " "
      ],
      "execution_count": null,
      "outputs": []
    },
    {
      "cell_type": "code",
      "metadata": {
        "id": "xOFp4H8Zu-9c",
        "colab": {
          "base_uri": "https://localhost:8080/",
          "height": 200
        },
        "outputId": "47f3ed98-f255-4afa-eae7-b1741d1e7857"
      },
      "source": [
        "data['process_tweet'] = data['process_tweet'].apply(remove_stopwords)\n",
        "\n",
        "data.head()#after removing stopwords"
      ],
      "execution_count": null,
      "outputs": [
        {
          "output_type": "execute_result",
          "data": {
            "text/html": [
              "<div>\n",
              "<style scoped>\n",
              "    .dataframe tbody tr th:only-of-type {\n",
              "        vertical-align: middle;\n",
              "    }\n",
              "\n",
              "    .dataframe tbody tr th {\n",
              "        vertical-align: top;\n",
              "    }\n",
              "\n",
              "    .dataframe thead th {\n",
              "        text-align: right;\n",
              "    }\n",
              "</style>\n",
              "<table border=\"1\" class=\"dataframe\">\n",
              "  <thead>\n",
              "    <tr style=\"text-align: right;\">\n",
              "      <th></th>\n",
              "      <th>date</th>\n",
              "      <th>tweet</th>\n",
              "      <th>process_tweet</th>\n",
              "    </tr>\n",
              "  </thead>\n",
              "  <tbody>\n",
              "    <tr>\n",
              "      <th>0</th>\n",
              "      <td>2020-10-22</td>\n",
              "      <td>@ANI Isn't it the best poll promise ever?? Fre...</td>\n",
              "      <td>isnt best poll promise ever free covid vaccine...</td>\n",
              "    </tr>\n",
              "    <tr>\n",
              "      <th>1</th>\n",
              "      <td>2020-10-22</td>\n",
              "      <td>Now states shall have wait for thier Vidhan Sa...</td>\n",
              "      <td>states shall wait thier vidhan sabha election ...</td>\n",
              "    </tr>\n",
              "    <tr>\n",
              "      <th>2</th>\n",
              "      <td>2020-10-22</td>\n",
              "      <td>@MisseeMonis They said vaccine for all but not...</td>\n",
              "      <td>said vaccine free covid vaccine new lakhs rs e...</td>\n",
              "    </tr>\n",
              "    <tr>\n",
              "      <th>3</th>\n",
              "      <td>2020-10-22</td>\n",
              "      <td>BJP really presenting \"free COVID vaccine\" as ...</td>\n",
              "      <td>bjp really presenting free covid vaccine state...</td>\n",
              "    </tr>\n",
              "    <tr>\n",
              "      <th>4</th>\n",
              "      <td>2020-10-22</td>\n",
              "      <td>Another dose of daily miserablism from Planet ...</td>\n",
              "      <td>another dose daily miserablism planet grauniad...</td>\n",
              "    </tr>\n",
              "  </tbody>\n",
              "</table>\n",
              "</div>"
            ],
            "text/plain": [
              "         date  ...                                      process_tweet\n",
              "0  2020-10-22  ...  isnt best poll promise ever free covid vaccine...\n",
              "1  2020-10-22  ...  states shall wait thier vidhan sabha election ...\n",
              "2  2020-10-22  ...  said vaccine free covid vaccine new lakhs rs e...\n",
              "3  2020-10-22  ...  bjp really presenting free covid vaccine state...\n",
              "4  2020-10-22  ...  another dose daily miserablism planet grauniad...\n",
              "\n",
              "[5 rows x 3 columns]"
            ]
          },
          "metadata": {
            "tags": []
          },
          "execution_count": 33
        }
      ]
    },
    {
      "cell_type": "code",
      "metadata": {
        "id": "VSeFd50AwBv2"
      },
      "source": [
        "from nltk.stem import PorterStemmer\n",
        "st = PorterStemmer()"
      ],
      "execution_count": null,
      "outputs": []
    },
    {
      "cell_type": "code",
      "metadata": {
        "id": "zyj3h_NewLJL"
      },
      "source": [
        "def stemming(txt):\n",
        "  txt =[st.stem(word) for word in txt.split()]\n",
        "  txt_join = ' '.join(txt)\n",
        "  return txt_join\n",
        "\n",
        "#Stemming refers to the removal of suffices, like “ing”, “ly”, “s”, etc. by a simple rule-based approach."
      ],
      "execution_count": null,
      "outputs": []
    },
    {
      "cell_type": "code",
      "metadata": {
        "id": "D9VyYrW_0zGu",
        "colab": {
          "base_uri": "https://localhost:8080/",
          "height": 200
        },
        "outputId": "fdb97fd1-0cdf-4886-e5d6-250a70986802"
      },
      "source": [
        "data['process_tweet'] = data['process_tweet'].apply(stemming)\n",
        "data.head()"
      ],
      "execution_count": null,
      "outputs": [
        {
          "output_type": "execute_result",
          "data": {
            "text/html": [
              "<div>\n",
              "<style scoped>\n",
              "    .dataframe tbody tr th:only-of-type {\n",
              "        vertical-align: middle;\n",
              "    }\n",
              "\n",
              "    .dataframe tbody tr th {\n",
              "        vertical-align: top;\n",
              "    }\n",
              "\n",
              "    .dataframe thead th {\n",
              "        text-align: right;\n",
              "    }\n",
              "</style>\n",
              "<table border=\"1\" class=\"dataframe\">\n",
              "  <thead>\n",
              "    <tr style=\"text-align: right;\">\n",
              "      <th></th>\n",
              "      <th>date</th>\n",
              "      <th>tweet</th>\n",
              "      <th>process_tweet</th>\n",
              "    </tr>\n",
              "  </thead>\n",
              "  <tbody>\n",
              "    <tr>\n",
              "      <th>0</th>\n",
              "      <td>2020-10-22</td>\n",
              "      <td>@ANI Isn't it the best poll promise ever?? Fre...</td>\n",
              "      <td>isnt best poll promis ever free covid vaccin v...</td>\n",
              "    </tr>\n",
              "    <tr>\n",
              "      <th>1</th>\n",
              "      <td>2020-10-22</td>\n",
              "      <td>Now states shall have wait for thier Vidhan Sa...</td>\n",
              "      <td>state shall wait thier vidhan sabha elect get ...</td>\n",
              "    </tr>\n",
              "    <tr>\n",
              "      <th>2</th>\n",
              "      <td>2020-10-22</td>\n",
              "      <td>@MisseeMonis They said vaccine for all but not...</td>\n",
              "      <td>said vaccin free covid vaccin new lakh rs ever...</td>\n",
              "    </tr>\n",
              "    <tr>\n",
              "      <th>3</th>\n",
              "      <td>2020-10-22</td>\n",
              "      <td>BJP really presenting \"free COVID vaccine\" as ...</td>\n",
              "      <td>bjp realli present free covid vaccin state man...</td>\n",
              "    </tr>\n",
              "    <tr>\n",
              "      <th>4</th>\n",
              "      <td>2020-10-22</td>\n",
              "      <td>Another dose of daily miserablism from Planet ...</td>\n",
              "      <td>anoth dose daili miserabl planet grauniad sub ...</td>\n",
              "    </tr>\n",
              "  </tbody>\n",
              "</table>\n",
              "</div>"
            ],
            "text/plain": [
              "         date  ...                                      process_tweet\n",
              "0  2020-10-22  ...  isnt best poll promis ever free covid vaccin v...\n",
              "1  2020-10-22  ...  state shall wait thier vidhan sabha elect get ...\n",
              "2  2020-10-22  ...  said vaccin free covid vaccin new lakh rs ever...\n",
              "3  2020-10-22  ...  bjp realli present free covid vaccin state man...\n",
              "4  2020-10-22  ...  anoth dose daili miserabl planet grauniad sub ...\n",
              "\n",
              "[5 rows x 3 columns]"
            ]
          },
          "metadata": {
            "tags": []
          },
          "execution_count": 36
        }
      ]
    },
    {
      "cell_type": "code",
      "metadata": {
        "colab": {
          "base_uri": "https://localhost:8080/"
        },
        "id": "mSs4yD-YPCzw",
        "outputId": "694e34ef-034a-4941-edb2-a7df92022613"
      },
      "source": [
        "!pip install vaderSentiment"
      ],
      "execution_count": null,
      "outputs": [
        {
          "output_type": "stream",
          "text": [
            "Collecting vaderSentiment\n",
            "\u001b[?25l  Downloading https://files.pythonhosted.org/packages/76/fc/310e16254683c1ed35eeb97386986d6c00bc29df17ce280aed64d55537e9/vaderSentiment-3.3.2-py2.py3-none-any.whl (125kB)\n",
            "\r\u001b[K     |██▋                             | 10kB 23.4MB/s eta 0:00:01\r\u001b[K     |█████▏                          | 20kB 31.1MB/s eta 0:00:01\r\u001b[K     |███████▉                        | 30kB 35.2MB/s eta 0:00:01\r\u001b[K     |██████████▍                     | 40kB 29.7MB/s eta 0:00:01\r\u001b[K     |█████████████                   | 51kB 31.8MB/s eta 0:00:01\r\u001b[K     |███████████████▋                | 61kB 32.9MB/s eta 0:00:01\r\u001b[K     |██████████████████▏             | 71kB 34.4MB/s eta 0:00:01\r\u001b[K     |████████████████████▉           | 81kB 28.2MB/s eta 0:00:01\r\u001b[K     |███████████████████████▍        | 92kB 29.3MB/s eta 0:00:01\r\u001b[K     |██████████████████████████      | 102kB 30.3MB/s eta 0:00:01\r\u001b[K     |████████████████████████████▋   | 112kB 30.3MB/s eta 0:00:01\r\u001b[K     |███████████████████████████████▏| 122kB 30.3MB/s eta 0:00:01\r\u001b[K     |████████████████████████████████| 133kB 30.3MB/s \n",
            "\u001b[?25hRequirement already satisfied: requests in /usr/local/lib/python3.7/dist-packages (from vaderSentiment) (2.23.0)\n",
            "Requirement already satisfied: idna<3,>=2.5 in /usr/local/lib/python3.7/dist-packages (from requests->vaderSentiment) (2.10)\n",
            "Requirement already satisfied: urllib3!=1.25.0,!=1.25.1,<1.26,>=1.21.1 in /usr/local/lib/python3.7/dist-packages (from requests->vaderSentiment) (1.24.3)\n",
            "Requirement already satisfied: chardet<4,>=3.0.2 in /usr/local/lib/python3.7/dist-packages (from requests->vaderSentiment) (3.0.4)\n",
            "Requirement already satisfied: certifi>=2017.4.17 in /usr/local/lib/python3.7/dist-packages (from requests->vaderSentiment) (2021.5.30)\n",
            "Installing collected packages: vaderSentiment\n",
            "Successfully installed vaderSentiment-3.3.2\n"
          ],
          "name": "stdout"
        }
      ]
    },
    {
      "cell_type": "code",
      "metadata": {
        "colab": {
          "base_uri": "https://localhost:8080/"
        },
        "id": "2rUqLCAFQCQj",
        "outputId": "bd1210ec-5aaa-4c9e-d836-1e5483898239"
      },
      "source": [
        "\n",
        "import nltk\n",
        "nltk.download('vader_lexicon')\n",
        "from nltk.sentiment.vader import SentimentIntensityAnalyzer\n",
        "sid = SentimentIntensityAnalyzer()"
      ],
      "execution_count": null,
      "outputs": [
        {
          "output_type": "stream",
          "text": [
            "[nltk_data] Downloading package vader_lexicon to /root/nltk_data...\n"
          ],
          "name": "stdout"
        },
        {
          "output_type": "stream",
          "text": [
            "/usr/local/lib/python3.7/dist-packages/nltk/twitter/__init__.py:20: UserWarning: The twython library has not been installed. Some functionality from the twitter package will not be available.\n",
            "  warnings.warn(\"The twython library has not been installed. \"\n"
          ],
          "name": "stderr"
        }
      ]
    },
    {
      "cell_type": "code",
      "metadata": {
        "colab": {
          "base_uri": "https://localhost:8080/",
          "height": 200
        },
        "id": "Ytd7et31QKME",
        "outputId": "bfb2bdb6-6f65-4c61-d20d-1dc49a90dcbf"
      },
      "source": [
        "data['Polarity_Vader'] = data['process_tweet'].apply(lambda txt: sid.polarity_scores(txt)['compound'])\n",
        "data.head()"
      ],
      "execution_count": null,
      "outputs": [
        {
          "output_type": "execute_result",
          "data": {
            "text/html": [
              "<div>\n",
              "<style scoped>\n",
              "    .dataframe tbody tr th:only-of-type {\n",
              "        vertical-align: middle;\n",
              "    }\n",
              "\n",
              "    .dataframe tbody tr th {\n",
              "        vertical-align: top;\n",
              "    }\n",
              "\n",
              "    .dataframe thead th {\n",
              "        text-align: right;\n",
              "    }\n",
              "</style>\n",
              "<table border=\"1\" class=\"dataframe\">\n",
              "  <thead>\n",
              "    <tr style=\"text-align: right;\">\n",
              "      <th></th>\n",
              "      <th>date</th>\n",
              "      <th>tweet</th>\n",
              "      <th>process_tweet</th>\n",
              "      <th>Polarity_Vader</th>\n",
              "    </tr>\n",
              "  </thead>\n",
              "  <tbody>\n",
              "    <tr>\n",
              "      <th>0</th>\n",
              "      <td>2020-10-22</td>\n",
              "      <td>@ANI Isn't it the best poll promise ever?? Fre...</td>\n",
              "      <td>isnt best poll promis ever free covid vaccin v...</td>\n",
              "      <td>-0.7482</td>\n",
              "    </tr>\n",
              "    <tr>\n",
              "      <th>1</th>\n",
              "      <td>2020-10-22</td>\n",
              "      <td>Now states shall have wait for thier Vidhan Sa...</td>\n",
              "      <td>state shall wait thier vidhan sabha elect get ...</td>\n",
              "      <td>0.0000</td>\n",
              "    </tr>\n",
              "    <tr>\n",
              "      <th>2</th>\n",
              "      <td>2020-10-22</td>\n",
              "      <td>@MisseeMonis They said vaccine for all but not...</td>\n",
              "      <td>said vaccin free covid vaccin new lakh rs ever...</td>\n",
              "      <td>0.7717</td>\n",
              "    </tr>\n",
              "    <tr>\n",
              "      <th>3</th>\n",
              "      <td>2020-10-22</td>\n",
              "      <td>BJP really presenting \"free COVID vaccine\" as ...</td>\n",
              "      <td>bjp realli present free covid vaccin state man...</td>\n",
              "      <td>0.7964</td>\n",
              "    </tr>\n",
              "    <tr>\n",
              "      <th>4</th>\n",
              "      <td>2020-10-22</td>\n",
              "      <td>Another dose of daily miserablism from Planet ...</td>\n",
              "      <td>anoth dose daili miserabl planet grauniad sub ...</td>\n",
              "      <td>0.4404</td>\n",
              "    </tr>\n",
              "  </tbody>\n",
              "</table>\n",
              "</div>"
            ],
            "text/plain": [
              "         date  ... Polarity_Vader\n",
              "0  2020-10-22  ...        -0.7482\n",
              "1  2020-10-22  ...         0.0000\n",
              "2  2020-10-22  ...         0.7717\n",
              "3  2020-10-22  ...         0.7964\n",
              "4  2020-10-22  ...         0.4404\n",
              "\n",
              "[5 rows x 4 columns]"
            ]
          },
          "metadata": {
            "tags": []
          },
          "execution_count": 39
        }
      ]
    },
    {
      "cell_type": "code",
      "metadata": {
        "id": "pir0qSmiQvty"
      },
      "source": [
        ""
      ],
      "execution_count": null,
      "outputs": []
    },
    {
      "cell_type": "markdown",
      "metadata": {
        "id": "oQqDtD276ZNk"
      },
      "source": [
        "# Labeling\n",
        "\n",
        "5 labels: \n",
        "strongly positive,\n",
        "positive,\n",
        "nuteral,\n",
        "negative,\n",
        "strongly negetative.\n"
      ]
    },
    {
      "cell_type": "code",
      "metadata": {
        "id": "v5hTuxCeOM_P"
      },
      "source": [
        ""
      ],
      "execution_count": null,
      "outputs": []
    },
    {
      "cell_type": "code",
      "metadata": {
        "id": "AGMa2rlh52cW"
      },
      "source": [
        "\n",
        "def get_text_polarity(txt):\n",
        "  return TextBlob(txt).sentiment.polarity"
      ],
      "execution_count": null,
      "outputs": []
    },
    {
      "cell_type": "code",
      "metadata": {
        "id": "wGxnAfLo7p_6"
      },
      "source": [
        "#add 2 columns(subjectivity and polarity) to the data\n",
        "\n",
        "#data['Subjectivity'] = data['process_tweet'].apply(get_text_subjectivity)\n",
        "\n",
        "data['Polarity_textblob'] = data['process_tweet'].apply(get_text_polarity)"
      ],
      "execution_count": null,
      "outputs": []
    },
    {
      "cell_type": "code",
      "metadata": {
        "id": "LGvzrHiC8edE"
      },
      "source": [
        "\n",
        "#Labeling\n",
        "def get_text_analysis(i):\n",
        "  if (i<-0.5):\n",
        "    return 'Strongly Negative'\n",
        "  elif ((i<0 ) and (i >= -0.5)):\n",
        "    return 'Negative'\n",
        "  elif (i == 0):\n",
        "    return 'Neutral'\n",
        "  elif (i>0 and i<=0.5):\n",
        "    return 'Positive'\n",
        "  else:\n",
        "    return 'Strongly Positive'\n",
        "\n"
      ],
      "execution_count": null,
      "outputs": []
    },
    {
      "cell_type": "code",
      "metadata": {
        "id": "eUeB5HlG-Ejk"
      },
      "source": [
        "data['Sentiment_TB'] = data['Polarity_textblob'].apply(get_text_analysis)\n",
        "data['Sentiment_VADER'] = data['Polarity_Vader'].apply(get_text_analysis)"
      ],
      "execution_count": null,
      "outputs": []
    },
    {
      "cell_type": "code",
      "metadata": {
        "colab": {
          "base_uri": "https://localhost:8080/",
          "height": 200
        },
        "id": "rapWMpLaTRy4",
        "outputId": "d8dace0f-5133-4b94-ce35-5c73110389be"
      },
      "source": [
        "data.head()"
      ],
      "execution_count": null,
      "outputs": [
        {
          "output_type": "execute_result",
          "data": {
            "text/html": [
              "<div>\n",
              "<style scoped>\n",
              "    .dataframe tbody tr th:only-of-type {\n",
              "        vertical-align: middle;\n",
              "    }\n",
              "\n",
              "    .dataframe tbody tr th {\n",
              "        vertical-align: top;\n",
              "    }\n",
              "\n",
              "    .dataframe thead th {\n",
              "        text-align: right;\n",
              "    }\n",
              "</style>\n",
              "<table border=\"1\" class=\"dataframe\">\n",
              "  <thead>\n",
              "    <tr style=\"text-align: right;\">\n",
              "      <th></th>\n",
              "      <th>date</th>\n",
              "      <th>tweet</th>\n",
              "      <th>process_tweet</th>\n",
              "      <th>Polarity_Vader</th>\n",
              "      <th>Polarity_textblob</th>\n",
              "      <th>Sentiment_TB</th>\n",
              "      <th>Sentiment_VADER</th>\n",
              "    </tr>\n",
              "  </thead>\n",
              "  <tbody>\n",
              "    <tr>\n",
              "      <th>0</th>\n",
              "      <td>2020-10-22</td>\n",
              "      <td>@ANI Isn't it the best poll promise ever?? Fre...</td>\n",
              "      <td>isnt best poll promis ever free covid vaccin v...</td>\n",
              "      <td>-0.7482</td>\n",
              "      <td>0.197500</td>\n",
              "      <td>Positive</td>\n",
              "      <td>Strongly Negative</td>\n",
              "    </tr>\n",
              "    <tr>\n",
              "      <th>1</th>\n",
              "      <td>2020-10-22</td>\n",
              "      <td>Now states shall have wait for thier Vidhan Sa...</td>\n",
              "      <td>state shall wait thier vidhan sabha elect get ...</td>\n",
              "      <td>0.0000</td>\n",
              "      <td>0.800000</td>\n",
              "      <td>Strongly Positive</td>\n",
              "      <td>Neutral</td>\n",
              "    </tr>\n",
              "    <tr>\n",
              "      <th>2</th>\n",
              "      <td>2020-10-22</td>\n",
              "      <td>@MisseeMonis They said vaccine for all but not...</td>\n",
              "      <td>said vaccin free covid vaccin new lakh rs ever...</td>\n",
              "      <td>0.7717</td>\n",
              "      <td>0.378788</td>\n",
              "      <td>Positive</td>\n",
              "      <td>Strongly Positive</td>\n",
              "    </tr>\n",
              "    <tr>\n",
              "      <th>3</th>\n",
              "      <td>2020-10-22</td>\n",
              "      <td>BJP really presenting \"free COVID vaccine\" as ...</td>\n",
              "      <td>bjp realli present free covid vaccin state man...</td>\n",
              "      <td>0.7964</td>\n",
              "      <td>0.500000</td>\n",
              "      <td>Positive</td>\n",
              "      <td>Strongly Positive</td>\n",
              "    </tr>\n",
              "    <tr>\n",
              "      <th>4</th>\n",
              "      <td>2020-10-22</td>\n",
              "      <td>Another dose of daily miserablism from Planet ...</td>\n",
              "      <td>anoth dose daili miserabl planet grauniad sub ...</td>\n",
              "      <td>0.4404</td>\n",
              "      <td>0.000000</td>\n",
              "      <td>Neutral</td>\n",
              "      <td>Positive</td>\n",
              "    </tr>\n",
              "  </tbody>\n",
              "</table>\n",
              "</div>"
            ],
            "text/plain": [
              "         date  ...    Sentiment_VADER\n",
              "0  2020-10-22  ...  Strongly Negative\n",
              "1  2020-10-22  ...            Neutral\n",
              "2  2020-10-22  ...  Strongly Positive\n",
              "3  2020-10-22  ...  Strongly Positive\n",
              "4  2020-10-22  ...           Positive\n",
              "\n",
              "[5 rows x 7 columns]"
            ]
          },
          "metadata": {
            "tags": []
          },
          "execution_count": 44
        }
      ]
    },
    {
      "cell_type": "code",
      "metadata": {
        "id": "ny013lIFy0UW"
      },
      "source": [
        "possible_labels = data.Sentiment_TB.unique()\n",
        "\n",
        "label_dict = {}\n",
        "for index, possible_label in enumerate(possible_labels): \n",
        "#The enumerate() function takes a collection (e.g. a tuple) and returns it as an enumerate object.\n",
        "    label_dict[possible_label] = index\n",
        "\n",
        "data['label_TB'] = data.Sentiment_TB.replace(label_dict)\n",
        "\n"
      ],
      "execution_count": null,
      "outputs": []
    },
    {
      "cell_type": "code",
      "metadata": {
        "id": "2EgK-IJeT95f"
      },
      "source": [
        "#possible_labels = data.Sentiment_VADER.unique()\n",
        "\n",
        "label_dict = {}\n",
        "for index, possible_label in enumerate(possible_labels): \n",
        "#The enumerate() function takes a collection (e.g. a tuple) and returns it as an enumerate object.\n",
        "    label_dict[possible_label] = index\n",
        "\n",
        "data['label_VD'] = data.Sentiment_VADER.replace(label_dict)\n"
      ],
      "execution_count": null,
      "outputs": []
    },
    {
      "cell_type": "code",
      "metadata": {
        "colab": {
          "base_uri": "https://localhost:8080/"
        },
        "id": "zg--TapwEPw4",
        "outputId": "ead90904-8c83-41a0-9b2b-7227effa8a5a"
      },
      "source": [
        "possible_labels"
      ],
      "execution_count": null,
      "outputs": [
        {
          "output_type": "execute_result",
          "data": {
            "text/plain": [
              "array(['Positive', 'Strongly Positive', 'Neutral', 'Negative',\n",
              "       'Strongly Negative'], dtype=object)"
            ]
          },
          "metadata": {
            "tags": []
          },
          "execution_count": 47
        }
      ]
    },
    {
      "cell_type": "code",
      "metadata": {
        "id": "yOn4-1icTwo1"
      },
      "source": [
        ""
      ],
      "execution_count": null,
      "outputs": []
    },
    {
      "cell_type": "code",
      "metadata": {
        "colab": {
          "base_uri": "https://localhost:8080/",
          "height": 200
        },
        "id": "kPXKsJQ4AGcM",
        "outputId": "ecf13001-036a-4c16-eca8-a5f6bcacd760"
      },
      "source": [
        "df=data[['date','Sentiment_TB' ,'label_TB','Sentiment_VADER' ,'label_VD']]\n",
        "data = data[['process_tweet','Sentiment_TB' ,'label_TB','Sentiment_VADER' ,'label_VD']]\n",
        "data.head()\n",
        "\n"
      ],
      "execution_count": null,
      "outputs": [
        {
          "output_type": "execute_result",
          "data": {
            "text/html": [
              "<div>\n",
              "<style scoped>\n",
              "    .dataframe tbody tr th:only-of-type {\n",
              "        vertical-align: middle;\n",
              "    }\n",
              "\n",
              "    .dataframe tbody tr th {\n",
              "        vertical-align: top;\n",
              "    }\n",
              "\n",
              "    .dataframe thead th {\n",
              "        text-align: right;\n",
              "    }\n",
              "</style>\n",
              "<table border=\"1\" class=\"dataframe\">\n",
              "  <thead>\n",
              "    <tr style=\"text-align: right;\">\n",
              "      <th></th>\n",
              "      <th>process_tweet</th>\n",
              "      <th>Sentiment_TB</th>\n",
              "      <th>label_TB</th>\n",
              "      <th>Sentiment_VADER</th>\n",
              "      <th>label_VD</th>\n",
              "    </tr>\n",
              "  </thead>\n",
              "  <tbody>\n",
              "    <tr>\n",
              "      <th>0</th>\n",
              "      <td>isnt best poll promis ever free covid vaccin v...</td>\n",
              "      <td>Positive</td>\n",
              "      <td>0</td>\n",
              "      <td>Strongly Negative</td>\n",
              "      <td>4</td>\n",
              "    </tr>\n",
              "    <tr>\n",
              "      <th>1</th>\n",
              "      <td>state shall wait thier vidhan sabha elect get ...</td>\n",
              "      <td>Strongly Positive</td>\n",
              "      <td>1</td>\n",
              "      <td>Neutral</td>\n",
              "      <td>2</td>\n",
              "    </tr>\n",
              "    <tr>\n",
              "      <th>2</th>\n",
              "      <td>said vaccin free covid vaccin new lakh rs ever...</td>\n",
              "      <td>Positive</td>\n",
              "      <td>0</td>\n",
              "      <td>Strongly Positive</td>\n",
              "      <td>1</td>\n",
              "    </tr>\n",
              "    <tr>\n",
              "      <th>3</th>\n",
              "      <td>bjp realli present free covid vaccin state man...</td>\n",
              "      <td>Positive</td>\n",
              "      <td>0</td>\n",
              "      <td>Strongly Positive</td>\n",
              "      <td>1</td>\n",
              "    </tr>\n",
              "    <tr>\n",
              "      <th>4</th>\n",
              "      <td>anoth dose daili miserabl planet grauniad sub ...</td>\n",
              "      <td>Neutral</td>\n",
              "      <td>2</td>\n",
              "      <td>Positive</td>\n",
              "      <td>0</td>\n",
              "    </tr>\n",
              "  </tbody>\n",
              "</table>\n",
              "</div>"
            ],
            "text/plain": [
              "                                       process_tweet  ... label_VD\n",
              "0  isnt best poll promis ever free covid vaccin v...  ...        4\n",
              "1  state shall wait thier vidhan sabha elect get ...  ...        2\n",
              "2  said vaccin free covid vaccin new lakh rs ever...  ...        1\n",
              "3  bjp realli present free covid vaccin state man...  ...        1\n",
              "4  anoth dose daili miserabl planet grauniad sub ...  ...        0\n",
              "\n",
              "[5 rows x 5 columns]"
            ]
          },
          "metadata": {
            "tags": []
          },
          "execution_count": 48
        }
      ]
    },
    {
      "cell_type": "code",
      "metadata": {
        "colab": {
          "base_uri": "https://localhost:8080/",
          "height": 408
        },
        "id": "D1QC0AmcU5vk",
        "outputId": "58e688e3-7e9d-439f-fede-eeaa9f359625"
      },
      "source": [
        "df[\"date\"] = pd.to_datetime(df['date'])\n",
        "\n",
        "df = df.sort_values(by='date')\n",
        "display(df)"
      ],
      "execution_count": null,
      "outputs": [
        {
          "output_type": "display_data",
          "data": {
            "text/html": [
              "<div>\n",
              "<style scoped>\n",
              "    .dataframe tbody tr th:only-of-type {\n",
              "        vertical-align: middle;\n",
              "    }\n",
              "\n",
              "    .dataframe tbody tr th {\n",
              "        vertical-align: top;\n",
              "    }\n",
              "\n",
              "    .dataframe thead th {\n",
              "        text-align: right;\n",
              "    }\n",
              "</style>\n",
              "<table border=\"1\" class=\"dataframe\">\n",
              "  <thead>\n",
              "    <tr style=\"text-align: right;\">\n",
              "      <th></th>\n",
              "      <th>date</th>\n",
              "      <th>Sentiment_TB</th>\n",
              "      <th>label_TB</th>\n",
              "      <th>Sentiment_VADER</th>\n",
              "      <th>label_VD</th>\n",
              "    </tr>\n",
              "  </thead>\n",
              "  <tbody>\n",
              "    <tr>\n",
              "      <th>774045</th>\n",
              "      <td>2020-01-11</td>\n",
              "      <td>Strongly Positive</td>\n",
              "      <td>1</td>\n",
              "      <td>Positive</td>\n",
              "      <td>0</td>\n",
              "    </tr>\n",
              "    <tr>\n",
              "      <th>746679</th>\n",
              "      <td>2020-01-11</td>\n",
              "      <td>Positive</td>\n",
              "      <td>0</td>\n",
              "      <td>Positive</td>\n",
              "      <td>0</td>\n",
              "    </tr>\n",
              "    <tr>\n",
              "      <th>692305</th>\n",
              "      <td>2020-01-11</td>\n",
              "      <td>Neutral</td>\n",
              "      <td>2</td>\n",
              "      <td>Strongly Positive</td>\n",
              "      <td>1</td>\n",
              "    </tr>\n",
              "    <tr>\n",
              "      <th>692304</th>\n",
              "      <td>2020-01-11</td>\n",
              "      <td>Neutral</td>\n",
              "      <td>2</td>\n",
              "      <td>Negative</td>\n",
              "      <td>3</td>\n",
              "    </tr>\n",
              "    <tr>\n",
              "      <th>692303</th>\n",
              "      <td>2020-01-11</td>\n",
              "      <td>Positive</td>\n",
              "      <td>0</td>\n",
              "      <td>Neutral</td>\n",
              "      <td>2</td>\n",
              "    </tr>\n",
              "    <tr>\n",
              "      <th>...</th>\n",
              "      <td>...</td>\n",
              "      <td>...</td>\n",
              "      <td>...</td>\n",
              "      <td>...</td>\n",
              "      <td>...</td>\n",
              "    </tr>\n",
              "    <tr>\n",
              "      <th>263012</th>\n",
              "      <td>2020-12-16</td>\n",
              "      <td>Strongly Positive</td>\n",
              "      <td>1</td>\n",
              "      <td>Strongly Positive</td>\n",
              "      <td>1</td>\n",
              "    </tr>\n",
              "    <tr>\n",
              "      <th>263011</th>\n",
              "      <td>2020-12-16</td>\n",
              "      <td>Neutral</td>\n",
              "      <td>2</td>\n",
              "      <td>Neutral</td>\n",
              "      <td>2</td>\n",
              "    </tr>\n",
              "    <tr>\n",
              "      <th>263010</th>\n",
              "      <td>2020-12-16</td>\n",
              "      <td>Neutral</td>\n",
              "      <td>2</td>\n",
              "      <td>Positive</td>\n",
              "      <td>0</td>\n",
              "    </tr>\n",
              "    <tr>\n",
              "      <th>263018</th>\n",
              "      <td>2020-12-16</td>\n",
              "      <td>Positive</td>\n",
              "      <td>0</td>\n",
              "      <td>Strongly Negative</td>\n",
              "      <td>4</td>\n",
              "    </tr>\n",
              "    <tr>\n",
              "      <th>265103</th>\n",
              "      <td>2020-12-16</td>\n",
              "      <td>Negative</td>\n",
              "      <td>3</td>\n",
              "      <td>Strongly Negative</td>\n",
              "      <td>4</td>\n",
              "    </tr>\n",
              "  </tbody>\n",
              "</table>\n",
              "<p>774046 rows × 5 columns</p>\n",
              "</div>"
            ],
            "text/plain": [
              "             date       Sentiment_TB  label_TB    Sentiment_VADER  label_VD\n",
              "774045 2020-01-11  Strongly Positive         1           Positive         0\n",
              "746679 2020-01-11           Positive         0           Positive         0\n",
              "692305 2020-01-11            Neutral         2  Strongly Positive         1\n",
              "692304 2020-01-11            Neutral         2           Negative         3\n",
              "692303 2020-01-11           Positive         0            Neutral         2\n",
              "...           ...                ...       ...                ...       ...\n",
              "263012 2020-12-16  Strongly Positive         1  Strongly Positive         1\n",
              "263011 2020-12-16            Neutral         2            Neutral         2\n",
              "263010 2020-12-16            Neutral         2           Positive         0\n",
              "263018 2020-12-16           Positive         0  Strongly Negative         4\n",
              "265103 2020-12-16           Negative         3  Strongly Negative         4\n",
              "\n",
              "[774046 rows x 5 columns]"
            ]
          },
          "metadata": {
            "tags": []
          }
        }
      ]
    },
    {
      "cell_type": "code",
      "metadata": {
        "colab": {
          "base_uri": "https://localhost:8080/",
          "height": 200
        },
        "id": "qJ4VWGRedbQt",
        "outputId": "7835f0ee-0326-44cb-b226-997cfeecf3a6"
      },
      "source": [
        "df['mnth_yr'] = df['date'].apply(lambda x: x.strftime('%B-%Y')) \n",
        "df.head()"
      ],
      "execution_count": null,
      "outputs": [
        {
          "output_type": "execute_result",
          "data": {
            "text/html": [
              "<div>\n",
              "<style scoped>\n",
              "    .dataframe tbody tr th:only-of-type {\n",
              "        vertical-align: middle;\n",
              "    }\n",
              "\n",
              "    .dataframe tbody tr th {\n",
              "        vertical-align: top;\n",
              "    }\n",
              "\n",
              "    .dataframe thead th {\n",
              "        text-align: right;\n",
              "    }\n",
              "</style>\n",
              "<table border=\"1\" class=\"dataframe\">\n",
              "  <thead>\n",
              "    <tr style=\"text-align: right;\">\n",
              "      <th></th>\n",
              "      <th>date</th>\n",
              "      <th>Sentiment_TB</th>\n",
              "      <th>label_TB</th>\n",
              "      <th>Sentiment_VADER</th>\n",
              "      <th>label_VD</th>\n",
              "      <th>mnth_yr</th>\n",
              "    </tr>\n",
              "  </thead>\n",
              "  <tbody>\n",
              "    <tr>\n",
              "      <th>774045</th>\n",
              "      <td>2020-01-11</td>\n",
              "      <td>Strongly Positive</td>\n",
              "      <td>1</td>\n",
              "      <td>Positive</td>\n",
              "      <td>0</td>\n",
              "      <td>January-2020</td>\n",
              "    </tr>\n",
              "    <tr>\n",
              "      <th>746679</th>\n",
              "      <td>2020-01-11</td>\n",
              "      <td>Positive</td>\n",
              "      <td>0</td>\n",
              "      <td>Positive</td>\n",
              "      <td>0</td>\n",
              "      <td>January-2020</td>\n",
              "    </tr>\n",
              "    <tr>\n",
              "      <th>692305</th>\n",
              "      <td>2020-01-11</td>\n",
              "      <td>Neutral</td>\n",
              "      <td>2</td>\n",
              "      <td>Strongly Positive</td>\n",
              "      <td>1</td>\n",
              "      <td>January-2020</td>\n",
              "    </tr>\n",
              "    <tr>\n",
              "      <th>692304</th>\n",
              "      <td>2020-01-11</td>\n",
              "      <td>Neutral</td>\n",
              "      <td>2</td>\n",
              "      <td>Negative</td>\n",
              "      <td>3</td>\n",
              "      <td>January-2020</td>\n",
              "    </tr>\n",
              "    <tr>\n",
              "      <th>692303</th>\n",
              "      <td>2020-01-11</td>\n",
              "      <td>Positive</td>\n",
              "      <td>0</td>\n",
              "      <td>Neutral</td>\n",
              "      <td>2</td>\n",
              "      <td>January-2020</td>\n",
              "    </tr>\n",
              "  </tbody>\n",
              "</table>\n",
              "</div>"
            ],
            "text/plain": [
              "             date       Sentiment_TB  ...  label_VD       mnth_yr\n",
              "774045 2020-01-11  Strongly Positive  ...         0  January-2020\n",
              "746679 2020-01-11           Positive  ...         0  January-2020\n",
              "692305 2020-01-11            Neutral  ...         1  January-2020\n",
              "692304 2020-01-11            Neutral  ...         3  January-2020\n",
              "692303 2020-01-11           Positive  ...         2  January-2020\n",
              "\n",
              "[5 rows x 6 columns]"
            ]
          },
          "metadata": {
            "tags": []
          },
          "execution_count": 50
        }
      ]
    },
    {
      "cell_type": "code",
      "metadata": {
        "colab": {
          "base_uri": "https://localhost:8080/"
        },
        "id": "M99HSqH1doNZ",
        "outputId": "2d858361-53f3-44f6-f8cc-b773fea9ee13"
      },
      "source": [
        "df['mnth_yr'].unique()"
      ],
      "execution_count": null,
      "outputs": [
        {
          "output_type": "execute_result",
          "data": {
            "text/plain": [
              "array(['January-2020', 'February-2020', 'March-2020', 'April-2020',\n",
              "       'May-2020', 'June-2020', 'July-2020', 'August-2020',\n",
              "       'September-2020', 'October-2020', 'November-2020', 'December-2020'],\n",
              "      dtype=object)"
            ]
          },
          "metadata": {
            "tags": []
          },
          "execution_count": 51
        }
      ]
    },
    {
      "cell_type": "code",
      "metadata": {
        "colab": {
          "base_uri": "https://localhost:8080/"
        },
        "id": "axylLukKfDxO",
        "outputId": "0fd4371f-8bc5-4efa-ea77-bae794be9083"
      },
      "source": [
        "df['Year'] = pd.DatetimeIndex(df['date']).year  \n",
        "df['Year'].unique()"
      ],
      "execution_count": null,
      "outputs": [
        {
          "output_type": "execute_result",
          "data": {
            "text/plain": [
              "array([2020])"
            ]
          },
          "metadata": {
            "tags": []
          },
          "execution_count": 52
        }
      ]
    },
    {
      "cell_type": "code",
      "metadata": {
        "colab": {
          "base_uri": "https://localhost:8080/"
        },
        "id": "ZD9yROnj6RyY",
        "outputId": "b6b576ec-cded-44f3-842a-6edff0b3165c"
      },
      "source": [
        "from pandas import datetime \n",
        "\n",
        "df['date'] = pd.to_datetime(df['date'])\n",
        "df['Month'] = df['date'].dt.month\n",
        "df['year'] = df['date'].dt.year\n",
        "df['Month-str-full'] = df['date'].dt.strftime('%B')"
      ],
      "execution_count": null,
      "outputs": [
        {
          "output_type": "stream",
          "text": [
            "/usr/local/lib/python3.7/dist-packages/ipykernel_launcher.py:1: FutureWarning: The pandas.datetime class is deprecated and will be removed from pandas in a future version. Import from datetime module instead.\n",
            "  \"\"\"Entry point for launching an IPython kernel.\n"
          ],
          "name": "stderr"
        }
      ]
    },
    {
      "cell_type": "code",
      "metadata": {
        "colab": {
          "base_uri": "https://localhost:8080/"
        },
        "id": "eUpbcRlH4yGb",
        "outputId": "8c305b43-e63b-4493-d5f4-e6392027df2a"
      },
      "source": [
        "possible_months = df['Month-str-full'].unique()\n",
        "print(possible_labels)\n",
        "print(possible_months)"
      ],
      "execution_count": null,
      "outputs": [
        {
          "output_type": "stream",
          "text": [
            "['Positive' 'Strongly Positive' 'Neutral' 'Negative' 'Strongly Negative']\n",
            "['January' 'February' 'March' 'April' 'May' 'June' 'July' 'August'\n",
            " 'September' 'October' 'November' 'December']\n"
          ],
          "name": "stdout"
        }
      ]
    },
    {
      "cell_type": "code",
      "metadata": {
        "colab": {
          "base_uri": "https://localhost:8080/",
          "height": 200
        },
        "id": "n-lqN7cMFP_7",
        "outputId": "2d94ea23-536d-47f5-b583-9d0e562ef1c1"
      },
      "source": [
        "df.head()"
      ],
      "execution_count": null,
      "outputs": [
        {
          "output_type": "execute_result",
          "data": {
            "text/html": [
              "<div>\n",
              "<style scoped>\n",
              "    .dataframe tbody tr th:only-of-type {\n",
              "        vertical-align: middle;\n",
              "    }\n",
              "\n",
              "    .dataframe tbody tr th {\n",
              "        vertical-align: top;\n",
              "    }\n",
              "\n",
              "    .dataframe thead th {\n",
              "        text-align: right;\n",
              "    }\n",
              "</style>\n",
              "<table border=\"1\" class=\"dataframe\">\n",
              "  <thead>\n",
              "    <tr style=\"text-align: right;\">\n",
              "      <th></th>\n",
              "      <th>date</th>\n",
              "      <th>Sentiment_TB</th>\n",
              "      <th>label_TB</th>\n",
              "      <th>Sentiment_VADER</th>\n",
              "      <th>label_VD</th>\n",
              "      <th>mnth_yr</th>\n",
              "      <th>Year</th>\n",
              "      <th>Month</th>\n",
              "      <th>year</th>\n",
              "      <th>Month-str-full</th>\n",
              "    </tr>\n",
              "  </thead>\n",
              "  <tbody>\n",
              "    <tr>\n",
              "      <th>774045</th>\n",
              "      <td>2020-01-11</td>\n",
              "      <td>Strongly Positive</td>\n",
              "      <td>1</td>\n",
              "      <td>Positive</td>\n",
              "      <td>0</td>\n",
              "      <td>January-2020</td>\n",
              "      <td>2020</td>\n",
              "      <td>1</td>\n",
              "      <td>2020</td>\n",
              "      <td>January</td>\n",
              "    </tr>\n",
              "    <tr>\n",
              "      <th>746679</th>\n",
              "      <td>2020-01-11</td>\n",
              "      <td>Positive</td>\n",
              "      <td>0</td>\n",
              "      <td>Positive</td>\n",
              "      <td>0</td>\n",
              "      <td>January-2020</td>\n",
              "      <td>2020</td>\n",
              "      <td>1</td>\n",
              "      <td>2020</td>\n",
              "      <td>January</td>\n",
              "    </tr>\n",
              "    <tr>\n",
              "      <th>692305</th>\n",
              "      <td>2020-01-11</td>\n",
              "      <td>Neutral</td>\n",
              "      <td>2</td>\n",
              "      <td>Strongly Positive</td>\n",
              "      <td>1</td>\n",
              "      <td>January-2020</td>\n",
              "      <td>2020</td>\n",
              "      <td>1</td>\n",
              "      <td>2020</td>\n",
              "      <td>January</td>\n",
              "    </tr>\n",
              "    <tr>\n",
              "      <th>692304</th>\n",
              "      <td>2020-01-11</td>\n",
              "      <td>Neutral</td>\n",
              "      <td>2</td>\n",
              "      <td>Negative</td>\n",
              "      <td>3</td>\n",
              "      <td>January-2020</td>\n",
              "      <td>2020</td>\n",
              "      <td>1</td>\n",
              "      <td>2020</td>\n",
              "      <td>January</td>\n",
              "    </tr>\n",
              "    <tr>\n",
              "      <th>692303</th>\n",
              "      <td>2020-01-11</td>\n",
              "      <td>Positive</td>\n",
              "      <td>0</td>\n",
              "      <td>Neutral</td>\n",
              "      <td>2</td>\n",
              "      <td>January-2020</td>\n",
              "      <td>2020</td>\n",
              "      <td>1</td>\n",
              "      <td>2020</td>\n",
              "      <td>January</td>\n",
              "    </tr>\n",
              "  </tbody>\n",
              "</table>\n",
              "</div>"
            ],
            "text/plain": [
              "             date       Sentiment_TB  label_TB  ... Month  year Month-str-full\n",
              "774045 2020-01-11  Strongly Positive         1  ...     1  2020        January\n",
              "746679 2020-01-11           Positive         0  ...     1  2020        January\n",
              "692305 2020-01-11            Neutral         2  ...     1  2020        January\n",
              "692304 2020-01-11            Neutral         2  ...     1  2020        January\n",
              "692303 2020-01-11           Positive         0  ...     1  2020        January\n",
              "\n",
              "[5 rows x 10 columns]"
            ]
          },
          "metadata": {
            "tags": []
          },
          "execution_count": 55
        }
      ]
    },
    {
      "cell_type": "code",
      "metadata": {
        "colab": {
          "base_uri": "https://localhost:8080/"
        },
        "id": "oA0O6OzNJdkV",
        "outputId": "cef35947-e4fa-4ca0-fbca-26e1247e0703"
      },
      "source": [
        "df['Month-str-full'].value_counts()"
      ],
      "execution_count": null,
      "outputs": [
        {
          "output_type": "execute_result",
          "data": {
            "text/plain": [
              "November     194118\n",
              "December     109639\n",
              "September    106590\n",
              "August        77587\n",
              "October       76572\n",
              "July          50109\n",
              "April         33751\n",
              "May           33423\n",
              "March         29425\n",
              "February      28447\n",
              "June          25018\n",
              "January        9367\n",
              "Name: Month-str-full, dtype: int64"
            ]
          },
          "metadata": {
            "tags": []
          },
          "execution_count": 56
        }
      ]
    },
    {
      "cell_type": "code",
      "metadata": {
        "colab": {
          "base_uri": "https://localhost:8080/",
          "height": 200
        },
        "id": "EY0I9Vrajb2V",
        "outputId": "f70f2acc-7fa2-4b84-8254-b3e6d3e10b41"
      },
      "source": [
        "df_new = data.copy()\n",
        "\n",
        "#df_new.rename(columns={'Sentiment' : 'Data'} , inplace= True)\n",
        "\n",
        "df_new.head()"
      ],
      "execution_count": null,
      "outputs": [
        {
          "output_type": "execute_result",
          "data": {
            "text/html": [
              "<div>\n",
              "<style scoped>\n",
              "    .dataframe tbody tr th:only-of-type {\n",
              "        vertical-align: middle;\n",
              "    }\n",
              "\n",
              "    .dataframe tbody tr th {\n",
              "        vertical-align: top;\n",
              "    }\n",
              "\n",
              "    .dataframe thead th {\n",
              "        text-align: right;\n",
              "    }\n",
              "</style>\n",
              "<table border=\"1\" class=\"dataframe\">\n",
              "  <thead>\n",
              "    <tr style=\"text-align: right;\">\n",
              "      <th></th>\n",
              "      <th>process_tweet</th>\n",
              "      <th>Sentiment_TB</th>\n",
              "      <th>label_TB</th>\n",
              "      <th>Sentiment_VADER</th>\n",
              "      <th>label_VD</th>\n",
              "    </tr>\n",
              "  </thead>\n",
              "  <tbody>\n",
              "    <tr>\n",
              "      <th>0</th>\n",
              "      <td>isnt best poll promis ever free covid vaccin v...</td>\n",
              "      <td>Positive</td>\n",
              "      <td>0</td>\n",
              "      <td>Strongly Negative</td>\n",
              "      <td>4</td>\n",
              "    </tr>\n",
              "    <tr>\n",
              "      <th>1</th>\n",
              "      <td>state shall wait thier vidhan sabha elect get ...</td>\n",
              "      <td>Strongly Positive</td>\n",
              "      <td>1</td>\n",
              "      <td>Neutral</td>\n",
              "      <td>2</td>\n",
              "    </tr>\n",
              "    <tr>\n",
              "      <th>2</th>\n",
              "      <td>said vaccin free covid vaccin new lakh rs ever...</td>\n",
              "      <td>Positive</td>\n",
              "      <td>0</td>\n",
              "      <td>Strongly Positive</td>\n",
              "      <td>1</td>\n",
              "    </tr>\n",
              "    <tr>\n",
              "      <th>3</th>\n",
              "      <td>bjp realli present free covid vaccin state man...</td>\n",
              "      <td>Positive</td>\n",
              "      <td>0</td>\n",
              "      <td>Strongly Positive</td>\n",
              "      <td>1</td>\n",
              "    </tr>\n",
              "    <tr>\n",
              "      <th>4</th>\n",
              "      <td>anoth dose daili miserabl planet grauniad sub ...</td>\n",
              "      <td>Neutral</td>\n",
              "      <td>2</td>\n",
              "      <td>Positive</td>\n",
              "      <td>0</td>\n",
              "    </tr>\n",
              "  </tbody>\n",
              "</table>\n",
              "</div>"
            ],
            "text/plain": [
              "                                       process_tweet  ... label_VD\n",
              "0  isnt best poll promis ever free covid vaccin v...  ...        4\n",
              "1  state shall wait thier vidhan sabha elect get ...  ...        2\n",
              "2  said vaccin free covid vaccin new lakh rs ever...  ...        1\n",
              "3  bjp realli present free covid vaccin state man...  ...        1\n",
              "4  anoth dose daili miserabl planet grauniad sub ...  ...        0\n",
              "\n",
              "[5 rows x 5 columns]"
            ]
          },
          "metadata": {
            "tags": []
          },
          "execution_count": 57
        }
      ]
    },
    {
      "cell_type": "code",
      "metadata": {
        "id": "aKZW2yFAf_D1"
      },
      "source": [
        ""
      ],
      "execution_count": null,
      "outputs": []
    },
    {
      "cell_type": "code",
      "metadata": {
        "id": "NDylelzaY1Os"
      },
      "source": [
        "#import library for deep learning\n",
        "from sklearn.model_selection import train_test_split\n",
        "\n",
        "\n",
        "from keras.models import Sequential, load_model\n",
        "from keras.layers import Dense, LSTM, Embedding, Dropout\n",
        "from keras.preprocessing.text import Tokenizer\n",
        "from keras.preprocessing.sequence import pad_sequences"
      ],
      "execution_count": null,
      "outputs": []
    },
    {
      "cell_type": "markdown",
      "metadata": {
        "id": "_atTlHiuV6YR"
      },
      "source": [
        "# **FOR VADER ONLY**"
      ]
    },
    {
      "cell_type": "code",
      "metadata": {
        "colab": {
          "base_uri": "https://localhost:8080/",
          "height": 200
        },
        "id": "fJ0PZxIPY1XP",
        "outputId": "fa3d6226-68bf-451b-aa69-7e13924a4f32"
      },
      "source": [
        "\n",
        "#for deep learning we need to only 2 colums(sentiment and process tweet)\n",
        "data = data[['Sentiment_VADER','process_tweet' ]]\n",
        "data.head()"
      ],
      "execution_count": null,
      "outputs": [
        {
          "output_type": "execute_result",
          "data": {
            "text/html": [
              "<div>\n",
              "<style scoped>\n",
              "    .dataframe tbody tr th:only-of-type {\n",
              "        vertical-align: middle;\n",
              "    }\n",
              "\n",
              "    .dataframe tbody tr th {\n",
              "        vertical-align: top;\n",
              "    }\n",
              "\n",
              "    .dataframe thead th {\n",
              "        text-align: right;\n",
              "    }\n",
              "</style>\n",
              "<table border=\"1\" class=\"dataframe\">\n",
              "  <thead>\n",
              "    <tr style=\"text-align: right;\">\n",
              "      <th></th>\n",
              "      <th>Sentiment_VADER</th>\n",
              "      <th>process_tweet</th>\n",
              "    </tr>\n",
              "  </thead>\n",
              "  <tbody>\n",
              "    <tr>\n",
              "      <th>0</th>\n",
              "      <td>Strongly Negative</td>\n",
              "      <td>isnt best poll promis ever free covid vaccin v...</td>\n",
              "    </tr>\n",
              "    <tr>\n",
              "      <th>1</th>\n",
              "      <td>Neutral</td>\n",
              "      <td>state shall wait thier vidhan sabha elect get ...</td>\n",
              "    </tr>\n",
              "    <tr>\n",
              "      <th>2</th>\n",
              "      <td>Strongly Positive</td>\n",
              "      <td>said vaccin free covid vaccin new lakh rs ever...</td>\n",
              "    </tr>\n",
              "    <tr>\n",
              "      <th>3</th>\n",
              "      <td>Strongly Positive</td>\n",
              "      <td>bjp realli present free covid vaccin state man...</td>\n",
              "    </tr>\n",
              "    <tr>\n",
              "      <th>4</th>\n",
              "      <td>Positive</td>\n",
              "      <td>anoth dose daili miserabl planet grauniad sub ...</td>\n",
              "    </tr>\n",
              "  </tbody>\n",
              "</table>\n",
              "</div>"
            ],
            "text/plain": [
              "     Sentiment_VADER                                      process_tweet\n",
              "0  Strongly Negative  isnt best poll promis ever free covid vaccin v...\n",
              "1            Neutral  state shall wait thier vidhan sabha elect get ...\n",
              "2  Strongly Positive  said vaccin free covid vaccin new lakh rs ever...\n",
              "3  Strongly Positive  bjp realli present free covid vaccin state man...\n",
              "4           Positive  anoth dose daili miserabl planet grauniad sub ..."
            ]
          },
          "metadata": {
            "tags": []
          },
          "execution_count": 59
        }
      ]
    },
    {
      "cell_type": "code",
      "metadata": {
        "id": "8Pld3dFuY1ba"
      },
      "source": [
        "data1 = data.copy()      #########    for experiment ,max_words"
      ],
      "execution_count": null,
      "outputs": []
    },
    {
      "cell_type": "code",
      "metadata": {
        "colab": {
          "base_uri": "https://localhost:8080/",
          "height": 200
        },
        "id": "eZYTkyCcYxbt",
        "outputId": "945dcd61-ae07-4c1d-9be8-ce8c17100539"
      },
      "source": [
        "data1.head()"
      ],
      "execution_count": null,
      "outputs": [
        {
          "output_type": "execute_result",
          "data": {
            "text/html": [
              "<div>\n",
              "<style scoped>\n",
              "    .dataframe tbody tr th:only-of-type {\n",
              "        vertical-align: middle;\n",
              "    }\n",
              "\n",
              "    .dataframe tbody tr th {\n",
              "        vertical-align: top;\n",
              "    }\n",
              "\n",
              "    .dataframe thead th {\n",
              "        text-align: right;\n",
              "    }\n",
              "</style>\n",
              "<table border=\"1\" class=\"dataframe\">\n",
              "  <thead>\n",
              "    <tr style=\"text-align: right;\">\n",
              "      <th></th>\n",
              "      <th>Sentiment_VADER</th>\n",
              "      <th>process_tweet</th>\n",
              "    </tr>\n",
              "  </thead>\n",
              "  <tbody>\n",
              "    <tr>\n",
              "      <th>0</th>\n",
              "      <td>Strongly Negative</td>\n",
              "      <td>isnt best poll promis ever free covid vaccin v...</td>\n",
              "    </tr>\n",
              "    <tr>\n",
              "      <th>1</th>\n",
              "      <td>Neutral</td>\n",
              "      <td>state shall wait thier vidhan sabha elect get ...</td>\n",
              "    </tr>\n",
              "    <tr>\n",
              "      <th>2</th>\n",
              "      <td>Strongly Positive</td>\n",
              "      <td>said vaccin free covid vaccin new lakh rs ever...</td>\n",
              "    </tr>\n",
              "    <tr>\n",
              "      <th>3</th>\n",
              "      <td>Strongly Positive</td>\n",
              "      <td>bjp realli present free covid vaccin state man...</td>\n",
              "    </tr>\n",
              "    <tr>\n",
              "      <th>4</th>\n",
              "      <td>Positive</td>\n",
              "      <td>anoth dose daili miserabl planet grauniad sub ...</td>\n",
              "    </tr>\n",
              "  </tbody>\n",
              "</table>\n",
              "</div>"
            ],
            "text/plain": [
              "     Sentiment_VADER                                      process_tweet\n",
              "0  Strongly Negative  isnt best poll promis ever free covid vaccin v...\n",
              "1            Neutral  state shall wait thier vidhan sabha elect get ...\n",
              "2  Strongly Positive  said vaccin free covid vaccin new lakh rs ever...\n",
              "3  Strongly Positive  bjp realli present free covid vaccin state man...\n",
              "4           Positive  anoth dose daili miserabl planet grauniad sub ..."
            ]
          },
          "metadata": {
            "tags": []
          },
          "execution_count": 61
        }
      ]
    },
    {
      "cell_type": "code",
      "metadata": {
        "colab": {
          "base_uri": "https://localhost:8080/",
          "height": 200
        },
        "id": "t1SNInACd4_o",
        "outputId": "7e290058-1282-4f98-f59c-af9e606daa2b"
      },
      "source": [
        "data1 = data1.reset_index(drop=True) #for removing missig index \n",
        "\n",
        "#see previous index 3 is replaced by new index 2\n",
        "data1.head() "
      ],
      "execution_count": null,
      "outputs": [
        {
          "output_type": "execute_result",
          "data": {
            "text/html": [
              "<div>\n",
              "<style scoped>\n",
              "    .dataframe tbody tr th:only-of-type {\n",
              "        vertical-align: middle;\n",
              "    }\n",
              "\n",
              "    .dataframe tbody tr th {\n",
              "        vertical-align: top;\n",
              "    }\n",
              "\n",
              "    .dataframe thead th {\n",
              "        text-align: right;\n",
              "    }\n",
              "</style>\n",
              "<table border=\"1\" class=\"dataframe\">\n",
              "  <thead>\n",
              "    <tr style=\"text-align: right;\">\n",
              "      <th></th>\n",
              "      <th>Sentiment_VADER</th>\n",
              "      <th>process_tweet</th>\n",
              "    </tr>\n",
              "  </thead>\n",
              "  <tbody>\n",
              "    <tr>\n",
              "      <th>0</th>\n",
              "      <td>Strongly Negative</td>\n",
              "      <td>isnt best poll promis ever free covid vaccin v...</td>\n",
              "    </tr>\n",
              "    <tr>\n",
              "      <th>1</th>\n",
              "      <td>Neutral</td>\n",
              "      <td>state shall wait thier vidhan sabha elect get ...</td>\n",
              "    </tr>\n",
              "    <tr>\n",
              "      <th>2</th>\n",
              "      <td>Strongly Positive</td>\n",
              "      <td>said vaccin free covid vaccin new lakh rs ever...</td>\n",
              "    </tr>\n",
              "    <tr>\n",
              "      <th>3</th>\n",
              "      <td>Strongly Positive</td>\n",
              "      <td>bjp realli present free covid vaccin state man...</td>\n",
              "    </tr>\n",
              "    <tr>\n",
              "      <th>4</th>\n",
              "      <td>Positive</td>\n",
              "      <td>anoth dose daili miserabl planet grauniad sub ...</td>\n",
              "    </tr>\n",
              "  </tbody>\n",
              "</table>\n",
              "</div>"
            ],
            "text/plain": [
              "     Sentiment_VADER                                      process_tweet\n",
              "0  Strongly Negative  isnt best poll promis ever free covid vaccin v...\n",
              "1            Neutral  state shall wait thier vidhan sabha elect get ...\n",
              "2  Strongly Positive  said vaccin free covid vaccin new lakh rs ever...\n",
              "3  Strongly Positive  bjp realli present free covid vaccin state man...\n",
              "4           Positive  anoth dose daili miserabl planet grauniad sub ..."
            ]
          },
          "metadata": {
            "tags": []
          },
          "execution_count": 62
        }
      ]
    },
    {
      "cell_type": "code",
      "metadata": {
        "id": "dj404WeUB5w3",
        "colab": {
          "base_uri": "https://localhost:8080/"
        },
        "outputId": "7881d98d-266e-400b-9980-4d4c07bafa8a"
      },
      "source": [
        "uniqueWords = list(set(\" \".join(data['process_tweet']).lower().split(\" \")))\n",
        "count = len(uniqueWords)\n",
        "print(count)"
      ],
      "execution_count": null,
      "outputs": [
        {
          "output_type": "stream",
          "text": [
            "165769\n"
          ],
          "name": "stdout"
        }
      ]
    },
    {
      "cell_type": "code",
      "metadata": {
        "id": "8VuSN33QNdfR"
      },
      "source": [
        "#tokenization\n",
        "tokenizer = Tokenizer(num_words=count, split=' ')\n",
        "#num_words: the maximum number of words to keep, based on word frequency. Only the most common num_words-1 words will be kept.\n",
        "\n",
        "\n",
        "tokenizer.fit_on_texts(data1['process_tweet'].values)\n",
        "\n",
        "X = tokenizer.texts_to_sequences(data1['process_tweet'].values)"
      ],
      "execution_count": null,
      "outputs": []
    },
    {
      "cell_type": "code",
      "metadata": {
        "colab": {
          "base_uri": "https://localhost:8080/"
        },
        "id": "MDG5u0gjNdjT",
        "outputId": "d53d724a-c86c-4bff-a179-e93c205b933d"
      },
      "source": [
        "X[:3] #before padding"
      ],
      "execution_count": null,
      "outputs": [
        {
          "output_type": "execute_result",
          "data": {
            "text/plain": [
              "[[265,\n",
              "  299,\n",
              "  531,\n",
              "  209,\n",
              "  202,\n",
              "  136,\n",
              "  2,\n",
              "  1,\n",
              "  181,\n",
              "  1893,\n",
              "  80,\n",
              "  17,\n",
              "  181,\n",
              "  72,\n",
              "  2445,\n",
              "  118,\n",
              "  159,\n",
              "  1049,\n",
              "  292,\n",
              "  1,\n",
              "  83,\n",
              "  885,\n",
              "  1893,\n",
              "  5905,\n",
              "  14259,\n",
              "  123,\n",
              "  399,\n",
              "  97,\n",
              "  1539,\n",
              "  297,\n",
              "  690],\n",
              " [83, 1612, 80, 8560, 62752, 12479, 130, 4, 2, 1, 14260],\n",
              " [54, 1, 136, 2, 1, 28, 2133, 1620, 167, 978, 756, 6410]]"
            ]
          },
          "metadata": {
            "tags": []
          },
          "execution_count": 65
        }
      ]
    },
    {
      "cell_type": "code",
      "metadata": {
        "colab": {
          "base_uri": "https://localhost:8080/"
        },
        "id": "a5dbMPpRNdnc",
        "outputId": "3614accb-ca05-47cb-a0f7-ea659396236c"
      },
      "source": [
        "#padding to make all text vector to same length\n",
        "\n",
        "X = pad_sequences(X)\n",
        "\n",
        "X[:3] #after padding"
      ],
      "execution_count": null,
      "outputs": [
        {
          "output_type": "execute_result",
          "data": {
            "text/plain": [
              "array([[    0,     0,     0,     0,     0,     0,     0,     0,     0,\n",
              "            0,     0,     0,     0,     0,     0,     0,     0,     0,\n",
              "            0,     0,   265,   299,   531,   209,   202,   136,     2,\n",
              "            1,   181,  1893,    80,    17,   181,    72,  2445,   118,\n",
              "          159,  1049,   292,     1,    83,   885,  1893,  5905, 14259,\n",
              "          123,   399,    97,  1539,   297,   690],\n",
              "       [    0,     0,     0,     0,     0,     0,     0,     0,     0,\n",
              "            0,     0,     0,     0,     0,     0,     0,     0,     0,\n",
              "            0,     0,     0,     0,     0,     0,     0,     0,     0,\n",
              "            0,     0,     0,     0,     0,     0,     0,     0,     0,\n",
              "            0,     0,     0,     0,    83,  1612,    80,  8560, 62752,\n",
              "        12479,   130,     4,     2,     1, 14260],\n",
              "       [    0,     0,     0,     0,     0,     0,     0,     0,     0,\n",
              "            0,     0,     0,     0,     0,     0,     0,     0,     0,\n",
              "            0,     0,     0,     0,     0,     0,     0,     0,     0,\n",
              "            0,     0,     0,     0,     0,     0,     0,     0,     0,\n",
              "            0,     0,     0,    54,     1,   136,     2,     1,    28,\n",
              "         2133,  1620,   167,   978,   756,  6410]], dtype=int32)"
            ]
          },
          "metadata": {
            "tags": []
          },
          "execution_count": 66
        }
      ]
    },
    {
      "cell_type": "code",
      "metadata": {
        "colab": {
          "base_uri": "https://localhost:8080/"
        },
        "id": "9xNeAywwNdq5",
        "outputId": "040c8c52-89c9-41bf-b54a-81cf42c1ec65"
      },
      "source": [
        "X.shape[1]"
      ],
      "execution_count": null,
      "outputs": [
        {
          "output_type": "execute_result",
          "data": {
            "text/plain": [
              "51"
            ]
          },
          "metadata": {
            "tags": []
          },
          "execution_count": 67
        }
      ]
    },
    {
      "cell_type": "code",
      "metadata": {
        "id": "1vI-57qSNdt3",
        "colab": {
          "base_uri": "https://localhost:8080/"
        },
        "outputId": "86e7c83d-cc7d-4948-fab1-65840f9374f9"
      },
      "source": [
        "#creating models\n",
        "\n",
        "model= Sequential()\n",
        "model.add(Embedding(count, 256 , input_length=X.shape[1]))\n",
        "model.add(Dropout(0.3))\n",
        "\n",
        "\n",
        "model.add(LSTM(128 , return_sequences=True , dropout=0.3 , recurrent_dropout=0.3))\n",
        "model.add(LSTM(128,dropout=0.3 , recurrent_dropout=0.3))\n",
        "\n",
        "\n",
        "model.add(Dense(5 , activation='softmax'))\n"
      ],
      "execution_count": null,
      "outputs": [
        {
          "output_type": "stream",
          "text": [
            "WARNING:tensorflow:Layer lstm will not use cuDNN kernels since it doesn't meet the criteria. It will use a generic GPU kernel as fallback when running on GPU.\n",
            "WARNING:tensorflow:Layer lstm_1 will not use cuDNN kernels since it doesn't meet the criteria. It will use a generic GPU kernel as fallback when running on GPU.\n"
          ],
          "name": "stdout"
        }
      ]
    },
    {
      "cell_type": "code",
      "metadata": {
        "colab": {
          "base_uri": "https://localhost:8080/"
        },
        "id": "kKPW6S6JNdwn",
        "outputId": "0891d9e5-37ff-4955-a5a9-2e23c867edfa"
      },
      "source": [
        "model.summary()"
      ],
      "execution_count": null,
      "outputs": [
        {
          "output_type": "stream",
          "text": [
            "Model: \"sequential\"\n",
            "_________________________________________________________________\n",
            "Layer (type)                 Output Shape              Param #   \n",
            "=================================================================\n",
            "embedding (Embedding)        (None, 51, 256)           42436864  \n",
            "_________________________________________________________________\n",
            "dropout (Dropout)            (None, 51, 256)           0         \n",
            "_________________________________________________________________\n",
            "lstm (LSTM)                  (None, 51, 128)           197120    \n",
            "_________________________________________________________________\n",
            "lstm_1 (LSTM)                (None, 128)               131584    \n",
            "_________________________________________________________________\n",
            "dense (Dense)                (None, 5)                 645       \n",
            "=================================================================\n",
            "Total params: 42,766,213\n",
            "Trainable params: 42,766,213\n",
            "Non-trainable params: 0\n",
            "_________________________________________________________________\n"
          ],
          "name": "stdout"
        }
      ]
    },
    {
      "cell_type": "code",
      "metadata": {
        "id": "fm-mGnBEX8S2"
      },
      "source": [
        "model.compile(optimizer='adam' , loss = 'categorical_crossentropy' , metrics=['accuracy'])"
      ],
      "execution_count": null,
      "outputs": []
    },
    {
      "cell_type": "code",
      "metadata": {
        "colab": {
          "base_uri": "https://localhost:8080/"
        },
        "id": "ypn4KFUMX8WS",
        "outputId": "146efda1-892d-46d1-e117-8085de2534c5"
      },
      "source": [
        "#one hot encoding\n",
        "\n",
        "y = pd.get_dummies(data1['Sentiment_VADER']).values\n",
        "\n",
        "[print(data1['Sentiment_VADER'][i] ,y[i]) for i in range(0,5)]"
      ],
      "execution_count": null,
      "outputs": [
        {
          "output_type": "stream",
          "text": [
            "Strongly Negative [0 0 0 1 0]\n",
            "Neutral [0 1 0 0 0]\n",
            "Strongly Positive [0 0 0 0 1]\n",
            "Strongly Positive [0 0 0 0 1]\n",
            "Positive [0 0 1 0 0]\n"
          ],
          "name": "stdout"
        },
        {
          "output_type": "execute_result",
          "data": {
            "text/plain": [
              "[None, None, None, None, None]"
            ]
          },
          "metadata": {
            "tags": []
          },
          "execution_count": 72
        }
      ]
    },
    {
      "cell_type": "code",
      "metadata": {
        "id": "w-IlUUvqX8aa"
      },
      "source": [
        "x_train , x_test , y_train , y_test = train_test_split(X , y , test_size = 0.2 ,random_state = 22)"
      ],
      "execution_count": null,
      "outputs": []
    },
    {
      "cell_type": "code",
      "metadata": {
        "id": "C0piOTG2X8d5"
      },
      "source": [
        "#trannig model\n",
        "batch_size = 128\n",
        "epochs = 5"
      ],
      "execution_count": null,
      "outputs": []
    },
    {
      "cell_type": "code",
      "metadata": {
        "colab": {
          "base_uri": "https://localhost:8080/"
        },
        "id": "hK1tBN32X8hE",
        "outputId": "08fddf99-a592-4fff-f8a3-7aa42515c5c2"
      },
      "source": [
        "history = model.fit(x_train , y_train ,\n",
        "          epochs = epochs,\n",
        "          batch_size = batch_size,\n",
        "          validation_split=0.1,\n",
        "          verbose=1)"
      ],
      "execution_count": null,
      "outputs": [
        {
          "output_type": "stream",
          "text": [
            "Epoch 1/5\n",
            "4354/4354 [==============================] - 2267s 515ms/step - loss: 0.3818 - accuracy: 0.8587 - val_loss: 0.0738 - val_accuracy: 0.9742\n",
            "Epoch 2/5\n",
            "4354/4354 [==============================] - 2244s 515ms/step - loss: 0.0726 - accuracy: 0.9742 - val_loss: 0.0521 - val_accuracy: 0.9823\n",
            "Epoch 3/5\n",
            "4354/4354 [==============================] - 2249s 517ms/step - loss: 0.0513 - accuracy: 0.9820 - val_loss: 0.0528 - val_accuracy: 0.9815\n",
            "Epoch 4/5\n",
            "4354/4354 [==============================] - 2230s 512ms/step - loss: 0.0412 - accuracy: 0.9855 - val_loss: 0.0549 - val_accuracy: 0.9817\n",
            "Epoch 5/5\n",
            "4354/4354 [==============================] - 2263s 520ms/step - loss: 0.0328 - accuracy: 0.9885 - val_loss: 0.0537 - val_accuracy: 0.9828\n"
          ],
          "name": "stdout"
        }
      ]
    },
    {
      "cell_type": "code",
      "metadata": {
        "id": "8tLUUDmnX8kK",
        "colab": {
          "base_uri": "https://localhost:8080/"
        },
        "outputId": "2f0ea0b2-00a0-44ba-a546-6d6719b32b55"
      },
      "source": [
        "predictions = model.predict(x_test)\n",
        "print('done')"
      ],
      "execution_count": null,
      "outputs": [
        {
          "output_type": "stream",
          "text": [
            "done\n"
          ],
          "name": "stdout"
        }
      ]
    },
    {
      "cell_type": "markdown",
      "metadata": {
        "id": "Pamsrj_r8krh"
      },
      "source": [
        ""
      ]
    },
    {
      "cell_type": "code",
      "metadata": {
        "id": "0PUojuRmX8n6",
        "colab": {
          "base_uri": "https://localhost:8080/"
        },
        "outputId": "c03c7774-fb9f-4378-d4c1-cbdcd094b5cd"
      },
      "source": [
        "print(predictions)"
      ],
      "execution_count": null,
      "outputs": [
        {
          "output_type": "stream",
          "text": [
            "[[9.89990294e-05 1.40811483e-06 1.81608766e-06 9.99896288e-01\n",
            "  1.57168233e-06]\n",
            " [1.18626913e-05 1.10098608e-05 9.99968767e-01 6.14638225e-08\n",
            "  8.25489678e-06]\n",
            " [2.03653708e-05 9.99955297e-01 4.89706190e-06 6.09505605e-06\n",
            "  1.33348967e-05]\n",
            " ...\n",
            " [7.05350612e-06 9.99973774e-01 6.20399624e-06 5.84342024e-06\n",
            "  7.14314683e-06]\n",
            " [2.81432895e-05 1.04952436e-04 9.68539536e-01 1.88740523e-05\n",
            "  3.13084871e-02]\n",
            " [1.17801710e-05 9.99964356e-01 5.19442665e-06 9.97841289e-06\n",
            "  8.71162229e-06]]\n"
          ],
          "name": "stdout"
        }
      ]
    },
    {
      "cell_type": "code",
      "metadata": {
        "id": "Hr_QI1hPX8sX",
        "colab": {
          "base_uri": "https://localhost:8080/"
        },
        "outputId": "d5e55be3-f58d-48f0-cff5-f5df4900ac08"
      },
      "source": [
        "%%time\n",
        "score = model.evaluate(x_test, y_test , batch_size = batch_size)\n",
        "print()\n",
        "print(\"ACCURACY:\",score[1])\n",
        "print(\"LOSS:\",score[0])"
      ],
      "execution_count": null,
      "outputs": [
        {
          "output_type": "stream",
          "text": [
            "1210/1210 [==============================] - 36s 30ms/step - loss: 0.0534 - accuracy: 0.9821\n",
            "\n",
            "ACCURACY: 0.9820683598518372\n",
            "LOSS: 0.053436778485774994\n",
            "CPU times: user 36.1 s, sys: 796 ms, total: 36.9 s\n",
            "Wall time: 36.3 s\n"
          ],
          "name": "stdout"
        }
      ]
    },
    {
      "cell_type": "code",
      "metadata": {
        "id": "PjQChZKeX8v4",
        "colab": {
          "base_uri": "https://localhost:8080/"
        },
        "outputId": "ef9c3984-81fd-41d8-f012-ec34cc6ea9db"
      },
      "source": [
        "[print(data1['process_tweet'][i], predictions[i], y_test[i] ) for i in range(1, 3)\n",
        "]"
      ],
      "execution_count": null,
      "outputs": [
        {
          "output_type": "stream",
          "text": [
            "state shall wait thier vidhan sabha elect get covid vaccin biharpol [1.1862691e-05 1.1009861e-05 9.9996877e-01 6.1463822e-08 8.2548968e-06] [0 0 1 0 0]\n",
            "said vaccin free covid vaccin new lakh rs everi account kind jumla [2.0365371e-05 9.9995530e-01 4.8970619e-06 6.0950561e-06 1.3334897e-05] [0 1 0 0 0]\n"
          ],
          "name": "stdout"
        },
        {
          "output_type": "execute_result",
          "data": {
            "text/plain": [
              "[None, None]"
            ]
          },
          "metadata": {
            "tags": []
          },
          "execution_count": 79
        }
      ]
    },
    {
      "cell_type": "code",
      "metadata": {
        "id": "cuJsnPMHX8zX",
        "colab": {
          "base_uri": "https://localhost:8080/"
        },
        "outputId": "b22ea608-2265-4ac9-f04b-3857914e8eae"
      },
      "source": [
        "\n",
        "pred1 = np.argmax(predictions , axis=1)\n",
        "pred1[:10]"
      ],
      "execution_count": null,
      "outputs": [
        {
          "output_type": "execute_result",
          "data": {
            "text/plain": [
              "array([3, 2, 1, 2, 4, 1, 2, 1, 1, 3])"
            ]
          },
          "metadata": {
            "tags": []
          },
          "execution_count": 80
        }
      ]
    },
    {
      "cell_type": "code",
      "metadata": {
        "id": "A49-jDEwX83K"
      },
      "source": [
        "y_test = np.argmax(y_test , axis=1)\n"
      ],
      "execution_count": null,
      "outputs": []
    },
    {
      "cell_type": "code",
      "metadata": {
        "id": "1-Xdag84X86W",
        "colab": {
          "base_uri": "https://localhost:8080/"
        },
        "outputId": "aa97eb54-8c9d-4973-8b80-3b5acc4b796e"
      },
      "source": [
        "\n",
        "\n",
        "print(y_train.shape)\n",
        "print(x_train.shape)  #160824 trainnig data"
      ],
      "execution_count": null,
      "outputs": [
        {
          "output_type": "stream",
          "text": [
            "(619236, 5)\n",
            "(619236, 51)\n"
          ],
          "name": "stdout"
        }
      ]
    },
    {
      "cell_type": "code",
      "metadata": {
        "id": "s8MqB5w_X89Y",
        "colab": {
          "base_uri": "https://localhost:8080/"
        },
        "outputId": "ca0edd52-d25e-4cbf-beb4-f0f22463c837"
      },
      "source": [
        "print(y_test.shape)\n",
        "print(x_test.shape)     #40206 test data"
      ],
      "execution_count": null,
      "outputs": [
        {
          "output_type": "stream",
          "text": [
            "(154810,)\n",
            "(154810, 51)\n"
          ],
          "name": "stdout"
        }
      ]
    },
    {
      "cell_type": "code",
      "metadata": {
        "id": "AjvwlCWzX9IN",
        "colab": {
          "base_uri": "https://localhost:8080/"
        },
        "outputId": "3fc8e85f-00b8-47d6-ec47-3444f29c3d35"
      },
      "source": [
        "print(confusion_matrix(y_test , pred1 ,normalize=None))"
      ],
      "execution_count": null,
      "outputs": [
        {
          "output_type": "stream",
          "text": [
            "[[19774    70   439   389    22]\n",
            " [  172 62840   224     4     1]\n",
            " [  226    26 34018    20   291]\n",
            " [  333     1    48 13944     2]\n",
            " [   28     1   474     5 21458]]\n"
          ],
          "name": "stdout"
        }
      ]
    },
    {
      "cell_type": "code",
      "metadata": {
        "id": "70z038ZFY17i",
        "colab": {
          "base_uri": "https://localhost:8080/"
        },
        "outputId": "7dbd7391-4db9-4f39-deb5-7d1714229d5c"
      },
      "source": [
        "print(confusion_matrix(y_test , pred1))"
      ],
      "execution_count": null,
      "outputs": [
        {
          "output_type": "stream",
          "text": [
            "[[19774    70   439   389    22]\n",
            " [  172 62840   224     4     1]\n",
            " [  226    26 34018    20   291]\n",
            " [  333     1    48 13944     2]\n",
            " [   28     1   474     5 21458]]\n"
          ],
          "name": "stdout"
        }
      ]
    },
    {
      "cell_type": "code",
      "metadata": {
        "id": "Pi4icYQMY1_y",
        "colab": {
          "base_uri": "https://localhost:8080/"
        },
        "outputId": "62fab57c-e838-4b01-c045-f95608433f46"
      },
      "source": [
        "print(classification_report(y_test , pred1))"
      ],
      "execution_count": null,
      "outputs": [
        {
          "output_type": "stream",
          "text": [
            "              precision    recall  f1-score   support\n",
            "\n",
            "           0       0.96      0.96      0.96     20694\n",
            "           1       1.00      0.99      1.00     63241\n",
            "           2       0.97      0.98      0.97     34581\n",
            "           3       0.97      0.97      0.97     14328\n",
            "           4       0.99      0.98      0.98     21966\n",
            "\n",
            "    accuracy                           0.98    154810\n",
            "   macro avg       0.98      0.98      0.98    154810\n",
            "weighted avg       0.98      0.98      0.98    154810\n",
            "\n"
          ],
          "name": "stdout"
        }
      ]
    },
    {
      "cell_type": "code",
      "metadata": {
        "id": "s-z8sQKCY2FM",
        "colab": {
          "base_uri": "https://localhost:8080/"
        },
        "outputId": "58ed28d0-3fb8-44ce-e868-407187cd1ee6"
      },
      "source": [
        "accuracy_score(y_test , pred1)"
      ],
      "execution_count": null,
      "outputs": [
        {
          "output_type": "execute_result",
          "data": {
            "text/plain": [
              "0.9820683418383825"
            ]
          },
          "metadata": {
            "tags": []
          },
          "execution_count": 88
        }
      ]
    },
    {
      "cell_type": "code",
      "metadata": {
        "id": "hu1T3aXcY2JB",
        "colab": {
          "base_uri": "https://localhost:8080/"
        },
        "outputId": "570b64ab-af14-457b-8c5c-efe5e3555a04"
      },
      "source": [
        "print(confusion_matrix(y_test , pred1))"
      ],
      "execution_count": null,
      "outputs": [
        {
          "output_type": "stream",
          "text": [
            "[[19774    70   439   389    22]\n",
            " [  172 62840   224     4     1]\n",
            " [  226    26 34018    20   291]\n",
            " [  333     1    48 13944     2]\n",
            " [   28     1   474     5 21458]]\n"
          ],
          "name": "stdout"
        }
      ]
    },
    {
      "cell_type": "code",
      "metadata": {
        "colab": {
          "base_uri": "https://localhost:8080/"
        },
        "id": "3HvLvE0uHpLl",
        "outputId": "b5097138-575c-46fa-f8db-d510335c2401"
      },
      "source": [
        "#Mean Squared Error\n",
        "from sklearn.metrics import mean_squared_error\n",
        "mean_squared_error(y_test, pred1)"
      ],
      "execution_count": null,
      "outputs": [
        {
          "output_type": "execute_result",
          "data": {
            "text/plain": [
              "0.08799819133130934"
            ]
          },
          "metadata": {
            "tags": []
          },
          "execution_count": 90
        }
      ]
    },
    {
      "cell_type": "code",
      "metadata": {
        "id": "SlIjJ8RvY2Q4",
        "colab": {
          "base_uri": "https://localhost:8080/",
          "height": 655
        },
        "outputId": "342d90e7-65ba-4566-89a2-a796997fc202"
      },
      "source": [
        "plt.figure(figsize=(10,5))\n",
        "acc = history.history['accuracy']\n",
        "val_acc = history.history['val_accuracy']\n",
        "loss = history.history['loss']\n",
        "val_loss = history.history['val_loss']\n",
        " \n",
        "epochs = range(len(acc))\n",
        " \n",
        "plt.plot(epochs, acc, 'b', label='Training acc')\n",
        "plt.plot(epochs, val_acc, 'r', label='Validation acc')\n",
        "plt.title('Training and Validation accuracy')\n",
        "plt.legend()\n",
        "plt.grid(True)\n",
        " \n",
        "plt.figure(figsize=(10,5))\n",
        " \n",
        "plt.plot(epochs, loss, 'b', label='Training loss')\n",
        "plt.plot(epochs, val_loss, 'r', label='Validation loss')\n",
        "plt.title('Training and Validation loss')\n",
        "plt.grid(True)\n",
        "plt.legend()\n",
        "\n",
        "plt.show()\n"
      ],
      "execution_count": null,
      "outputs": [
        {
          "output_type": "display_data",
          "data": {
            "image/png": "[encoded data removed]",
            "text/plain": [
              "<Figure size 720x360 with 1 Axes>"
            ]
          },
          "metadata": {
            "tags": [],
            "needs_background": "light"
          }
        },
        {
          "output_type": "display_data",
          "data": {
            "image/png": "[encoded data removed]",
            "text/plain": [
              "<Figure size 720x360 with 1 Axes>"
            ]
          },
          "metadata": {
            "tags": [],
            "needs_background": "light"
          }
        }
      ]
    },
    {
      "cell_type": "code",
      "metadata": {
        "id": "cTE7ZvGpNd0n",
        "colab": {
          "base_uri": "https://localhost:8080/",
          "height": 532
        },
        "outputId": "e103756d-1a41-49fd-fd8a-7a6f7460de2b"
      },
      "source": [
        "\n",
        "epochs = [i for i in range(5)]\n",
        "fig , ax = plt.subplots(1,2)\n",
        "train_acc = history.history['accuracy']\n",
        "train_loss = history.history['loss']\n",
        "val_acc = history.history['val_accuracy']\n",
        "val_loss = history.history['val_loss']\n",
        "fig.set_size_inches(30,10)\n",
        "\n",
        "\n",
        "ax[0].plot(epochs , train_acc , 'go-' , label = 'Training Accuracy')\n",
        "ax[0].plot(epochs , val_acc , 'ro-' , label = 'Validation Accuracy')\n",
        "ax[0].set_title('Training & Validation Accuracy')\n",
        "\n",
        "ax[0].legend()\n",
        "ax[0].set_xlabel(\"Epochs\")\n",
        "ax[0].set_ylabel(\"Accuracy\")\n",
        "\n",
        "\n",
        "ax[1].plot(epochs , train_loss , 'g-o' , label = 'Training Loss')\n",
        "ax[1].plot(epochs , val_loss , 'r-o' , label = 'Validation Loss')\n",
        "ax[1].set_title('Testing Accuracy & Loss')\n",
        "ax[1].legend()\n",
        "ax[1].set_xlabel(\"Epochs\")\n",
        "ax[1].set_ylabel(\"Training & Validation Loss\")\n",
        "plt.show()"
      ],
      "execution_count": null,
      "outputs": [
        {
          "output_type": "display_data",
          "data": {
            "image/png": "[encoded data removed]",
            "text/plain": [
              "<Figure size 2160x720 with 2 Axes>"
            ]
          },
          "metadata": {
            "tags": [],
            "needs_background": "light"
          }
        }
      ]
    },
    {
      "cell_type": "code",
      "metadata": {
        "id": "d-CrDU2cZEBJ",
        "colab": {
          "base_uri": "https://localhost:8080/",
          "height": 350
        },
        "outputId": "26c8768a-635f-4706-cb53-7966e3bc952c"
      },
      "source": [
        "\n",
        "epochs = [i for i in range(5)]\n",
        "\n",
        "train_acc = history.history['accuracy']\n",
        "train_loss = history.history['loss']\n",
        "val_acc = history.history['val_accuracy']\n",
        "val_loss = history.history['val_loss']\n",
        "\n",
        "plt.figure(figsize=(10,5))\n",
        "\n",
        "\n",
        "plt.plot(epochs , train_acc , 'go-' , label = 'Training Accuracy')\n",
        "plt.plot(epochs , val_acc , 'ro-' , label = 'Validation Accuracy')\n",
        "plt.title('Training & Validation Accuracy')\n",
        "\n",
        "plt.legend()\n",
        "plt.xlabel(\"Epochs\")\n",
        "plt.ylabel(\"Accuracy\")\n",
        "\n",
        "plt.show()"
      ],
      "execution_count": null,
      "outputs": [
        {
          "output_type": "display_data",
          "data": {
            "image/png": "[encoded data removed]",
            "text/plain": [
              "<Figure size 720x360 with 1 Axes>"
            ]
          },
          "metadata": {
            "tags": [],
            "needs_background": "light"
          }
        }
      ]
    },
    {
      "cell_type": "code",
      "metadata": {
        "id": "Cb_MisHLZEFh",
        "colab": {
          "base_uri": "https://localhost:8080/",
          "height": 350
        },
        "outputId": "69ced9e9-04a1-4011-f256-8bab3a52a1f8"
      },
      "source": [
        "epochs = [i for i in range(5)]\n",
        "\n",
        "train_acc = history.history['accuracy']\n",
        "train_loss = history.history['loss']\n",
        "val_acc = history.history['val_accuracy']\n",
        "val_loss = history.history['val_loss']\n",
        "\n",
        "plt.figure(figsize=(10,5))\n",
        "\n",
        "\n",
        "plt.plot(epochs , train_loss , 'go-' , label = 'Training Loss')\n",
        "plt.plot(epochs , val_loss , 'ro-' , label = 'Validation Loss')\n",
        "plt.title('Training & Validation Loss')\n",
        "\n",
        "plt.legend()\n",
        "plt.xlabel(\"Epochs\")\n",
        "plt.ylabel(\"Loss\")\n",
        "\n",
        "plt.show()"
      ],
      "execution_count": null,
      "outputs": [
        {
          "output_type": "display_data",
          "data": {
            "image/png": "[encoded data removed]",
            "text/plain": [
              "<Figure size 720x360 with 1 Axes>"
            ]
          },
          "metadata": {
            "tags": [],
            "needs_background": "light"
          }
        }
      ]
    },
    {
      "cell_type": "code",
      "metadata": {
        "colab": {
          "base_uri": "https://localhost:8080/"
        },
        "id": "fwuZesT-sVdG",
        "outputId": "daf4e204-ebcc-4e92-d900-c42fd17687e7"
      },
      "source": [
        "y_test"
      ],
      "execution_count": null,
      "outputs": [
        {
          "output_type": "execute_result",
          "data": {
            "text/plain": [
              "array([3, 2, 1, ..., 1, 2, 1])"
            ]
          },
          "metadata": {
            "tags": []
          },
          "execution_count": 95
        }
      ]
    },
    {
      "cell_type": "code",
      "metadata": {
        "colab": {
          "base_uri": "https://localhost:8080/"
        },
        "id": "ZNLLYvg1sX_k",
        "outputId": "7fe98be1-3afb-4419-e0bf-396d433b9858"
      },
      "source": [
        "pred1"
      ],
      "execution_count": null,
      "outputs": [
        {
          "output_type": "execute_result",
          "data": {
            "text/plain": [
              "array([1, 2, 1, ..., 2, 2, 1])"
            ]
          },
          "metadata": {
            "tags": []
          },
          "execution_count": 103
        }
      ]
    },
    {
      "cell_type": "code",
      "metadata": {
        "colab": {
          "base_uri": "https://localhost:8080/",
          "height": 436
        },
        "id": "AFqP1v_40iy3",
        "outputId": "a6c682bc-6d21-4e81-a639-7f45965301d6"
      },
      "source": [
        ""
      ],
      "execution_count": null,
      "outputs": [
        {
          "output_type": "stream",
          "text": [
            "/usr/local/lib/python3.7/dist-packages/seaborn/distributions.py:1657: FutureWarning:\n",
            "\n",
            "The `bw` parameter is deprecated in favor of `bw_method` and `bw_adjust`. Using 0.1 for `bw_method`, but please see the docs for the new parameters and update your code.\n",
            "\n"
          ],
          "name": "stderr"
        },
        {
          "output_type": "execute_result",
          "data": {
            "text/plain": [
              "<matplotlib.axes._subplots.AxesSubplot at 0x7f795c327b90>"
            ]
          },
          "metadata": {
            "tags": []
          },
          "execution_count": 122
        },
        {
          "output_type": "display_data",
          "data": {
            "image/png": "[encoded data removed]",
            "text/plain": [
              "<Figure size 720x360 with 1 Axes>"
            ]
          },
          "metadata": {
            "tags": []
          }
        }
      ]
    },
    {
      "cell_type": "code",
      "metadata": {
        "colab": {
          "base_uri": "https://localhost:8080/",
          "height": 398
        },
        "id": "EUmfGEFH1CEY",
        "outputId": "0c9d0a9e-7439-4580-8035-7ab8d22641f7"
      },
      "source": [
        "sns.relplot(\n",
        "    data=df, kind=\"line\",\n",
        "    x=df['date'], y=df['label_TB']\n",
        "  \n",
        "\n",
        ")"
      ],
      "execution_count": null,
      "outputs": [
        {
          "output_type": "execute_result",
          "data": {
            "text/plain": [
              "<seaborn.axisgrid.FacetGrid at 0x7f795c24b490>"
            ]
          },
          "metadata": {
            "tags": []
          },
          "execution_count": 127
        },
        {
          "output_type": "display_data",
          "data": {
            "image/png": "[encoded data removed]",
            "text/plain": [
              "<Figure size 360x360 with 1 Axes>"
            ]
          },
          "metadata": {
            "tags": []
          }
        }
      ]
    },
    {
      "cell_type": "code",
      "metadata": {
        "colab": {
          "base_uri": "https://localhost:8080/",
          "height": 397
        },
        "id": "XDQ2QbvL1iof",
        "outputId": "838d63d8-3d5d-4ddc-9f64-558d3dc8e1ff"
      },
      "source": [
        "plt.figure(figsize=(10,5))\n",
        "\n",
        "\n",
        "sns.displot(data=df, col=df['Sentiment_TB'], x=df['Month-str-full'])"
      ],
      "execution_count": null,
      "outputs": [
        {
          "output_type": "execute_result",
          "data": {
            "text/plain": [
              "<seaborn.axisgrid.FacetGrid at 0x7f795aee5fd0>"
            ]
          },
          "metadata": {
            "tags": []
          },
          "execution_count": 146
        },
        {
          "output_type": "display_data",
          "data": {
            "text/plain": [
              "<Figure size 720x360 with 0 Axes>"
            ]
          },
          "metadata": {
            "tags": []
          }
        },
        {
          "output_type": "display_data",
          "data": {
            "image/png": "[encoded data removed]",
            "text/plain": [
              "<Figure size 360x360 with 1 Axes>"
            ]
          },
          "metadata": {
            "tags": []
          }
        }
      ]
    },
    {
      "cell_type": "code",
      "metadata": {
        "colab": {
          "base_uri": "https://localhost:8080/",
          "height": 400
        },
        "id": "IufOMTcI3Kfg",
        "outputId": "4bf0df7f-1af0-4d33-e85c-2e16c56e73d1"
      },
      "source": [
        "import seaborn as sns\n",
        "\n",
        "plt.figure(figsize=(10,5))\n",
        "sns.relplot(x='Sentiment_VADER', y=df['date'],data=df);\n",
        "\n",
        "\n",
        "\n"
      ],
      "execution_count": null,
      "outputs": [
        {
          "output_type": "display_data",
          "data": {
            "text/plain": [
              "<Figure size 720x360 with 0 Axes>"
            ]
          },
          "metadata": {
            "tags": []
          }
        },
        {
          "output_type": "display_data",
          "data": {
            "image/png": "[encoded data removed]",
            "text/plain": [
              "<Figure size 360x360 with 1 Axes>"
            ]
          },
          "metadata": {
            "tags": []
          }
        }
      ]
    },
    {
      "cell_type": "code",
      "metadata": {
        "colab": {
          "base_uri": "https://localhost:8080/",
          "height": 382
        },
        "id": "SmbJoIOZ4G1T",
        "outputId": "57f9b372-fcd0-43e0-e978-9e2b89a300d8"
      },
      "source": [
        "import seaborn as sns\n",
        "\n",
        "sns.set_theme(style=\"dark\")\n",
        "\n",
        "\n",
        "# Plot each year's time series in its own facet\n",
        "g = sns.relplot(\n",
        "    data=df,\n",
        "    y=\"Month\", x=\"Sentiment_TB\", \n",
        "    kind=\"line\", palette=\"crest\",\n",
        "    legend=False,\n",
        ")"
      ],
      "execution_count": null,
      "outputs": [
        {
          "output_type": "display_data",
          "data": {
            "image/png": "[encoded data removed]",
            "text/plain": [
              "<Figure size 360x360 with 1 Axes>"
            ]
          },
          "metadata": {
            "tags": []
          }
        }
      ]
    }
  ]
}