{
  "nbformat": 4,
  "nbformat_minor": 0,
  "metadata": {
    "colab": {
      "name": "Vaccine tweet data Merged Model using VADER",
      "provenance": [],
      "collapsed_sections": []
    },
    "kernelspec": {
      "display_name": "Python 3",
      "name": "python3"
    },
    "accelerator": "GPU"
  },
  "cells": [
    {
      "cell_type": "code",
      "metadata": {
        "id": "RlYZZJPYYon5",
        "colab": {
          "resources": {
            "http://localhost:8080/nbextensions/google.colab/files.js": {
              "data": "Ly8gQ29weXJpZ2h0IDIwMTcgR29vZ2xlIExMQwovLwovLyBMaWNlbnNlZCB1bmRlciB0aGUgQXBhY2hlIExpY2Vuc2UsIFZlcnNpb24gMi4wICh0aGUgIkxpY2Vuc2UiKTsKLy8geW91IG1heSBub3QgdXNlIHRoaXMgZmlsZSBleGNlcHQgaW4gY29tcGxpYW5jZSB3aXRoIHRoZSBMaWNlbnNlLgovLyBZb3UgbWF5IG9idGFpbiBhIGNvcHkgb2YgdGhlIExpY2Vuc2UgYXQKLy8KLy8gICAgICBodHRwOi8vd3d3LmFwYWNoZS5vcmcvbGljZW5zZXMvTElDRU5TRS0yLjAKLy8KLy8gVW5sZXNzIHJlcXVpcmVkIGJ5IGFwcGxpY2FibGUgbGF3IG9yIGFncmVlZCB0byBpbiB3cml0aW5nLCBzb2Z0d2FyZQovLyBkaXN0cmlidXRlZCB1bmRlciB0aGUgTGljZW5zZSBpcyBkaXN0cmlidXRlZCBvbiBhbiAiQVMgSVMiIEJBU0lTLAovLyBXSVRIT1VUIFdBUlJBTlRJRVMgT1IgQ09ORElUSU9OUyBPRiBBTlkgS0lORCwgZWl0aGVyIGV4cHJlc3Mgb3IgaW1wbGllZC4KLy8gU2VlIHRoZSBMaWNlbnNlIGZvciB0aGUgc3BlY2lmaWMgbGFuZ3VhZ2UgZ292ZXJuaW5nIHBlcm1pc3Npb25zIGFuZAovLyBsaW1pdGF0aW9ucyB1bmRlciB0aGUgTGljZW5zZS4KCi8qKgogKiBAZmlsZW92ZXJ2aWV3IEhlbHBlcnMgZm9yIGdvb2dsZS5jb2xhYiBQeXRob24gbW9kdWxlLgogKi8KKGZ1bmN0aW9uKHNjb3BlKSB7CmZ1bmN0aW9uIHNwYW4odGV4dCwgc3R5bGVBdHRyaWJ1dGVzID0ge30pIHsKICBjb25zdCBlbGVtZW50ID0gZG9jdW1lbnQuY3JlYXRlRWxlbWVudCgnc3BhbicpOwogIGVsZW1lbnQudGV4dENvbnRlbnQgPSB0ZXh0OwogIGZvciAoY29uc3Qga2V5IG9mIE9iamVjdC5rZXlzKHN0eWxlQXR0cmlidXRlcykpIHsKICAgIGVsZW1lbnQuc3R5bGVba2V5XSA9IHN0eWxlQXR0cmlidXRlc1trZXldOwogIH0KICByZXR1cm4gZWxlbWVudDsKfQoKLy8gTWF4IG51bWJlciBvZiBieXRlcyB3aGljaCB3aWxsIGJlIHVwbG9hZGVkIGF0IGEgdGltZS4KY29uc3QgTUFYX1BBWUxPQURfU0laRSA9IDEwMCAqIDEwMjQ7CgpmdW5jdGlvbiBfdXBsb2FkRmlsZXMoaW5wdXRJZCwgb3V0cHV0SWQpIHsKICBjb25zdCBzdGVwcyA9IHVwbG9hZEZpbGVzU3RlcChpbnB1dElkLCBvdXRwdXRJZCk7CiAgY29uc3Qgb3V0cHV0RWxlbWVudCA9IGRvY3VtZW50LmdldEVsZW1lbnRCeUlkKG91dHB1dElkKTsKICAvLyBDYWNoZSBzdGVwcyBvbiB0aGUgb3V0cHV0RWxlbWVudCB0byBtYWtlIGl0IGF2YWlsYWJsZSBmb3IgdGhlIG5leHQgY2FsbAogIC8vIHRvIHVwbG9hZEZpbGVzQ29udGludWUgZnJvbSBQeXRob24uCiAgb3V0cHV0RWxlbWVudC5zdGVwcyA9IHN0ZXBzOwoKICByZXR1cm4gX3VwbG9hZEZpbGVzQ29udGludWUob3V0cHV0SWQpOwp9CgovLyBUaGlzIGlzIHJvdWdobHkgYW4gYXN5bmMgZ2VuZXJhdG9yIChub3Qgc3VwcG9ydGVkIGluIHRoZSBicm93c2VyIHlldCksCi8vIHdoZXJlIHRoZXJlIGFyZSBtdWx0aXBsZSBhc3luY2hyb25vdXMgc3RlcHMgYW5kIHRoZSBQeXRob24gc2lkZSBpcyBnb2luZwovLyB0byBwb2xsIGZvciBjb21wbGV0aW9uIG9mIGVhY2ggc3RlcC4KLy8gVGhpcyB1c2VzIGEgUHJvbWlzZSB0byBibG9jayB0aGUgcHl0aG9uIHNpZGUgb24gY29tcGxldGlvbiBvZiBlYWNoIHN0ZXAsCi8vIHRoZW4gcGFzc2VzIHRoZSByZXN1bHQgb2YgdGhlIHByZXZpb3VzIHN0ZXAgYXMgdGhlIGlucHV0IHRvIHRoZSBuZXh0IHN0ZXAuCmZ1bmN0aW9uIF91cGxvYWRGaWxlc0NvbnRpbnVlKG91dHB1dElkKSB7CiAgY29uc3Qgb3V0cHV0RWxlbWVudCA9IGRvY3VtZW50LmdldEVsZW1lbnRCeUlkKG91dHB1dElkKTsKICBjb25zdCBzdGVwcyA9IG91dHB1dEVsZW1lbnQuc3RlcHM7CgogIGNvbnN0IG5leHQgPSBzdGVwcy5uZXh0KG91dHB1dEVsZW1lbnQubGFzdFByb21pc2VWYWx1ZSk7CiAgcmV0dXJuIFByb21pc2UucmVzb2x2ZShuZXh0LnZhbHVlLnByb21pc2UpLnRoZW4oKHZhbHVlKSA9PiB7CiAgICAvLyBDYWNoZSB0aGUgbGFzdCBwcm9taXNlIHZhbHVlIHRvIG1ha2UgaXQgYXZhaWxhYmxlIHRvIHRoZSBuZXh0CiAgICAvLyBzdGVwIG9mIHRoZSBnZW5lcmF0b3IuCiAgICBvdXRwdXRFbGVtZW50Lmxhc3RQcm9taXNlVmFsdWUgPSB2YWx1ZTsKICAgIHJldHVybiBuZXh0LnZhbHVlLnJlc3BvbnNlOwogIH0pOwp9CgovKioKICogR2VuZXJhdG9yIGZ1bmN0aW9uIHdoaWNoIGlzIGNhbGxlZCBiZXR3ZWVuIGVhY2ggYXN5bmMgc3RlcCBvZiB0aGUgdXBsb2FkCiAqIHByb2Nlc3MuCiAqIEBwYXJhbSB7c3RyaW5nfSBpbnB1dElkIEVsZW1lbnQgSUQgb2YgdGhlIGlucHV0IGZpbGUgcGlja2VyIGVsZW1lbnQuCiAqIEBwYXJhbSB7c3RyaW5nfSBvdXRwdXRJZCBFbGVtZW50IElEIG9mIHRoZSBvdXRwdXQgZGlzcGxheS4KICogQHJldHVybiB7IUl0ZXJhYmxlPCFPYmplY3Q+fSBJdGVyYWJsZSBvZiBuZXh0IHN0ZXBzLgogKi8KZnVuY3Rpb24qIHVwbG9hZEZpbGVzU3RlcChpbnB1dElkLCBvdXRwdXRJZCkgewogIGNvbnN0IGlucHV0RWxlbWVudCA9IGRvY3VtZW50LmdldEVsZW1lbnRCeUlkKGlucHV0SWQpOwogIGlucHV0RWxlbWVudC5kaXNhYmxlZCA9IGZhbHNlOwoKICBjb25zdCBvdXRwdXRFbGVtZW50ID0gZG9jdW1lbnQuZ2V0RWxlbWVudEJ5SWQob3V0cHV0SWQpOwogIG91dHB1dEVsZW1lbnQuaW5uZXJIVE1MID0gJyc7CgogIGNvbnN0IHBpY2tlZFByb21pc2UgPSBuZXcgUHJvbWlzZSgocmVzb2x2ZSkgPT4gewogICAgaW5wdXRFbGVtZW50LmFkZEV2ZW50TGlzdGVuZXIoJ2NoYW5nZScsIChlKSA9PiB7CiAgICAgIHJlc29sdmUoZS50YXJnZXQuZmlsZXMpOwogICAgfSk7CiAgfSk7CgogIGNvbnN0IGNhbmNlbCA9IGRvY3VtZW50LmNyZWF0ZUVsZW1lbnQoJ2J1dHRvbicpOwogIGlucHV0RWxlbWVudC5wYXJlbnRFbGVtZW50LmFwcGVuZENoaWxkKGNhbmNlbCk7CiAgY2FuY2VsLnRleHRDb250ZW50ID0gJ0NhbmNlbCB1cGxvYWQnOwogIGNvbnN0IGNhbmNlbFByb21pc2UgPSBuZXcgUHJvbWlzZSgocmVzb2x2ZSkgPT4gewogICAgY2FuY2VsLm9uY2xpY2sgPSAoKSA9PiB7CiAgICAgIHJlc29sdmUobnVsbCk7CiAgICB9OwogIH0pOwoKICAvLyBXYWl0IGZvciB0aGUgdXNlciB0byBwaWNrIHRoZSBmaWxlcy4KICBjb25zdCBmaWxlcyA9IHlpZWxkIHsKICAgIHByb21pc2U6IFByb21pc2UucmFjZShbcGlja2VkUHJvbWlzZSwgY2FuY2VsUHJvbWlzZV0pLAogICAgcmVzcG9uc2U6IHsKICAgICAgYWN0aW9uOiAnc3RhcnRpbmcnLAogICAgfQogIH07CgogIGNhbmNlbC5yZW1vdmUoKTsKCiAgLy8gRGlzYWJsZSB0aGUgaW5wdXQgZWxlbWVudCBzaW5jZSBmdXJ0aGVyIHBpY2tzIGFyZSBub3QgYWxsb3dlZC4KICBpbnB1dEVsZW1lbnQuZGlzYWJsZWQgPSB0cnVlOwoKICBpZiAoIWZpbGVzKSB7CiAgICByZXR1cm4gewogICAgICByZXNwb25zZTogewogICAgICAgIGFjdGlvbjogJ2NvbXBsZXRlJywKICAgICAgfQogICAgfTsKICB9CgogIGZvciAoY29uc3QgZmlsZSBvZiBmaWxlcykgewogICAgY29uc3QgbGkgPSBkb2N1bWVudC5jcmVhdGVFbGVtZW50KCdsaScpOwogICAgbGkuYXBwZW5kKHNwYW4oZmlsZS5uYW1lLCB7Zm9udFdlaWdodDogJ2JvbGQnfSkpOwogICAgbGkuYXBwZW5kKHNwYW4oCiAgICAgICAgYCgke2ZpbGUudHlwZSB8fCAnbi9hJ30pIC0gJHtmaWxlLnNpemV9IGJ5dGVzLCBgICsKICAgICAgICBgbGFzdCBtb2RpZmllZDogJHsKICAgICAgICAgICAgZmlsZS5sYXN0TW9kaWZpZWREYXRlID8gZmlsZS5sYXN0TW9kaWZpZWREYXRlLnRvTG9jYWxlRGF0ZVN0cmluZygpIDoKICAgICAgICAgICAgICAgICAgICAgICAgICAgICAgICAgICAgJ24vYSd9IC0gYCkpOwogICAgY29uc3QgcGVyY2VudCA9IHNwYW4oJzAlIGRvbmUnKTsKICAgIGxpLmFwcGVuZENoaWxkKHBlcmNlbnQpOwoKICAgIG91dHB1dEVsZW1lbnQuYXBwZW5kQ2hpbGQobGkpOwoKICAgIGNvbnN0IGZpbGVEYXRhUHJvbWlzZSA9IG5ldyBQcm9taXNlKChyZXNvbHZlKSA9PiB7CiAgICAgIGNvbnN0IHJlYWRlciA9IG5ldyBGaWxlUmVhZGVyKCk7CiAgICAgIHJlYWRlci5vbmxvYWQgPSAoZSkgPT4gewogICAgICAgIHJlc29sdmUoZS50YXJnZXQucmVzdWx0KTsKICAgICAgfTsKICAgICAgcmVhZGVyLnJlYWRBc0FycmF5QnVmZmVyKGZpbGUpOwogICAgfSk7CiAgICAvLyBXYWl0IGZvciB0aGUgZGF0YSB0byBiZSByZWFkeS4KICAgIGxldCBmaWxlRGF0YSA9IHlpZWxkIHsKICAgICAgcHJvbWlzZTogZmlsZURhdGFQcm9taXNlLAogICAgICByZXNwb25zZTogewogICAgICAgIGFjdGlvbjogJ2NvbnRpbnVlJywKICAgICAgfQogICAgfTsKCiAgICAvLyBVc2UgYSBjaHVua2VkIHNlbmRpbmcgdG8gYXZvaWQgbWVzc2FnZSBzaXplIGxpbWl0cy4gU2VlIGIvNjIxMTU2NjAuCiAgICBsZXQgcG9zaXRpb24gPSAwOwogICAgZG8gewogICAgICBjb25zdCBsZW5ndGggPSBNYXRoLm1pbihmaWxlRGF0YS5ieXRlTGVuZ3RoIC0gcG9zaXRpb24sIE1BWF9QQVlMT0FEX1NJWkUpOwogICAgICBjb25zdCBjaHVuayA9IG5ldyBVaW50OEFycmF5KGZpbGVEYXRhLCBwb3NpdGlvbiwgbGVuZ3RoKTsKICAgICAgcG9zaXRpb24gKz0gbGVuZ3RoOwoKICAgICAgY29uc3QgYmFzZTY0ID0gYnRvYShTdHJpbmcuZnJvbUNoYXJDb2RlLmFwcGx5KG51bGwsIGNodW5rKSk7CiAgICAgIHlpZWxkIHsKICAgICAgICByZXNwb25zZTogewogICAgICAgICAgYWN0aW9uOiAnYXBwZW5kJywKICAgICAgICAgIGZpbGU6IGZpbGUubmFtZSwKICAgICAgICAgIGRhdGE6IGJhc2U2NCwKICAgICAgICB9LAogICAgICB9OwoKICAgICAgbGV0IHBlcmNlbnREb25lID0gZmlsZURhdGEuYnl0ZUxlbmd0aCA9PT0gMCA/CiAgICAgICAgICAxMDAgOgogICAgICAgICAgTWF0aC5yb3VuZCgocG9zaXRpb24gLyBmaWxlRGF0YS5ieXRlTGVuZ3RoKSAqIDEwMCk7CiAgICAgIHBlcmNlbnQudGV4dENvbnRlbnQgPSBgJHtwZXJjZW50RG9uZX0lIGRvbmVgOwoKICAgIH0gd2hpbGUgKHBvc2l0aW9uIDwgZmlsZURhdGEuYnl0ZUxlbmd0aCk7CiAgfQoKICAvLyBBbGwgZG9uZS4KICB5aWVsZCB7CiAgICByZXNwb25zZTogewogICAgICBhY3Rpb246ICdjb21wbGV0ZScsCiAgICB9CiAgfTsKfQoKc2NvcGUuZ29vZ2xlID0gc2NvcGUuZ29vZ2xlIHx8IHt9OwpzY29wZS5nb29nbGUuY29sYWIgPSBzY29wZS5nb29nbGUuY29sYWIgfHwge307CnNjb3BlLmdvb2dsZS5jb2xhYi5fZmlsZXMgPSB7CiAgX3VwbG9hZEZpbGVzLAogIF91cGxvYWRGaWxlc0NvbnRpbnVlLAp9Owp9KShzZWxmKTsK",
              "ok": true,
              "headers": [
                [
                  "content-type",
                  "application/javascript"
                ]
              ],
              "status": 200,
              "status_text": ""
            }
          },
          "base_uri": "https://localhost:8080/",
          "height": 268
        },
        "outputId": "d3b477b1-3a74-4f0c-e227-bb08a59bf68d"
      },
      "source": [
        "!pip install kaggle\n",
        "from google.colab import files \n",
        "#files.open('/content/drive/MyDrive/Colab Notebooks/json kaggle')\n",
        "files.upload() #download and upload json file\n",
        "\n",
        "!mkdir -p ~/.kaggle\n",
        "!cp kaggle.json ~/.kaggle/\n",
        "\n",
        "\n",
        "!chmod 600 ~/.kaggle/kaggle.json\n"
      ],
      "execution_count": null,
      "outputs": [
        {
          "output_type": "stream",
          "text": [
            "Requirement already satisfied: kaggle in /usr/local/lib/python3.7/dist-packages (1.5.12)\n",
            "Requirement already satisfied: requests in /usr/local/lib/python3.7/dist-packages (from kaggle) (2.23.0)\n",
            "Requirement already satisfied: certifi in /usr/local/lib/python3.7/dist-packages (from kaggle) (2021.5.30)\n",
            "Requirement already satisfied: python-slugify in /usr/local/lib/python3.7/dist-packages (from kaggle) (5.0.2)\n",
            "Requirement already satisfied: urllib3 in /usr/local/lib/python3.7/dist-packages (from kaggle) (1.24.3)\n",
            "Requirement already satisfied: tqdm in /usr/local/lib/python3.7/dist-packages (from kaggle) (4.41.1)\n",
            "Requirement already satisfied: six>=1.10 in /usr/local/lib/python3.7/dist-packages (from kaggle) (1.15.0)\n",
            "Requirement already satisfied: python-dateutil in /usr/local/lib/python3.7/dist-packages (from kaggle) (2.8.1)\n",
            "Requirement already satisfied: idna<3,>=2.5 in /usr/local/lib/python3.7/dist-packages (from requests->kaggle) (2.10)\n",
            "Requirement already satisfied: chardet<4,>=3.0.2 in /usr/local/lib/python3.7/dist-packages (from requests->kaggle) (3.0.4)\n",
            "Requirement already satisfied: text-unidecode>=1.3 in /usr/local/lib/python3.7/dist-packages (from python-slugify->kaggle) (1.3)\n"
          ],
          "name": "stdout"
        },
        {
          "output_type": "display_data",
          "data": {
            "text/html": [
              "\n",
              "     <input type=\"file\" id=\"files-bcb9b59f-fa7f-45ab-9100-a93fbffb0375\" name=\"files[]\" multiple disabled\n",
              "        style=\"border:none\" />\n",
              "     <output id=\"result-bcb9b59f-fa7f-45ab-9100-a93fbffb0375\">\n",
              "      Upload widget is only available when the cell has been executed in the\n",
              "      current browser session. Please rerun this cell to enable.\n",
              "      </output>\n",
              "      <script src=\"/nbextensions/google.colab/files.js\"></script> "
            ],
            "text/plain": [
              "<IPython.core.display.HTML object>"
            ]
          },
          "metadata": {
            "tags": []
          }
        },
        {
          "output_type": "stream",
          "text": [
            "Saving kaggle.json to kaggle.json\n"
          ],
          "name": "stdout"
        }
      ]
    },
    {
      "cell_type": "code",
      "metadata": {
        "colab": {
          "base_uri": "https://localhost:8080/"
        },
        "id": "C0x2pILHyz08",
        "outputId": "d3e66d02-dc04-4e8b-dfef-0c21a8424a88"
      },
      "source": [
        "!kaggle datasets download -d merahul28/covid19-vaccine-related-tweets"
      ],
      "execution_count": null,
      "outputs": [
        {
          "output_type": "stream",
          "text": [
            "Downloading covid19-vaccine-related-tweets.zip to /content\n",
            " 90% 82.0M/91.3M [00:01<00:00, 57.4MB/s]\n",
            "100% 91.3M/91.3M [00:01<00:00, 89.5MB/s]\n"
          ],
          "name": "stdout"
        }
      ]
    },
    {
      "cell_type": "code",
      "metadata": {
        "id": "gULnLxzjaBT5",
        "colab": {
          "base_uri": "https://localhost:8080/"
        },
        "outputId": "d90ee941-c83e-4689-ffc7-79c4b74f29de"
      },
      "source": [
        "!kaggle datasets download -d ritesh2000/covid19-vaccine-tweets"
      ],
      "execution_count": null,
      "outputs": [
        {
          "output_type": "stream",
          "text": [
            "Downloading covid19-vaccine-tweets.zip to /content\n",
            " 91% 31.0M/34.1M [00:00<00:00, 31.2MB/s]\n",
            "100% 34.1M/34.1M [00:00<00:00, 61.2MB/s]\n"
          ],
          "name": "stdout"
        }
      ]
    },
    {
      "cell_type": "code",
      "metadata": {
        "id": "EBchWS3XZsXc",
        "colab": {
          "base_uri": "https://localhost:8080/"
        },
        "outputId": "03f355d4-baa2-4466-cb17-0c7c51825d73"
      },
      "source": [
        "from zipfile import ZipFile\n",
        "file_name= \"covid19-vaccine-tweets.zip\"\n",
        "\n",
        "with ZipFile(file_name ,'r') as zip:\n",
        "  zip.extractall()\n",
        "  print('Done')"
      ],
      "execution_count": null,
      "outputs": [
        {
          "output_type": "stream",
          "text": [
            "Done\n"
          ],
          "name": "stdout"
        }
      ]
    },
    {
      "cell_type": "code",
      "metadata": {
        "colab": {
          "base_uri": "https://localhost:8080/"
        },
        "id": "F1QChh9Xy4kW",
        "outputId": "e361417e-efb7-4fc5-b4a4-e7e0c248c16b"
      },
      "source": [
        "from zipfile import ZipFile\n",
        "file_name= \"covid19-vaccine-related-tweets.zip\"\n",
        "\n",
        "with ZipFile(file_name ,'r') as zip:\n",
        "  zip.extractall()\n",
        "  print('Done')"
      ],
      "execution_count": null,
      "outputs": [
        {
          "output_type": "stream",
          "text": [
            "Done\n"
          ],
          "name": "stdout"
        }
      ]
    },
    {
      "cell_type": "code",
      "metadata": {
        "id": "TegBpjDtaR9u"
      },
      "source": [
        "#import library\n",
        "\n",
        "import pandas as pd\n",
        "import numpy as np\n",
        "\n",
        "import matplotlib.pyplot as plt\n",
        "%matplotlib inline\n",
        "\n",
        "from sklearn.model_selection import train_test_split\n",
        "from sklearn.preprocessing import LabelEncoder   ###########\n",
        "from sklearn.metrics import confusion_matrix , classification_report , accuracy_score\n",
        "from sklearn.manifold import TSNE ######\n",
        "from sklearn.feature_extraction.text import TfidfVectorizer #############\n",
        "\n",
        "from keras.preprocessing.text import Tokenizer         #######\n",
        "from keras.preprocessing.sequence import pad_sequences #######\n",
        "from keras.models import Sequential\n",
        "from keras.layers import Dropout , Conv1D ,MaxPool1D,Activation , Dense , Flatten , Embedding , LSTM ####\n",
        "\n",
        "from keras import utils\n",
        "from keras.callbacks import ReduceLROnPlateau , EarlyStopping\n",
        "\n",
        "\n",
        "#nltk\n",
        "\n",
        "import nltk\n",
        "from nltk.corpus import stopwords ########\n",
        "from nltk.stem import SnowballStemmer ############\n",
        "\n",
        "\n",
        "#word to vec\n",
        "import gensim\n",
        "\n",
        "import re #####\n",
        "import os\n",
        "from collections import Counter #######\n",
        "import logging ###\n",
        "import time\n",
        "import pickle ######\n",
        "import itertools ######\n",
        "\n",
        "\n",
        "from textblob import TextBlob # TextBlob - Python library for processing textual data\n",
        "import random\n",
        "np.random.seed(0)\n",
        "\n",
        "\n",
        "# import SentimentIntensityAnalyzer class\n",
        "# from vaderSentiment.vaderSentiment module.\n",
        "#from vaderSentiment.vaderSentiment import SentimentIntensityAnalyzer\n"
      ],
      "execution_count": null,
      "outputs": []
    },
    {
      "cell_type": "code",
      "metadata": {
        "id": "zJ1UTKIPTiyi"
      },
      "source": [
        "#load data \n",
        "df1 = pd.read_csv('/content/file.csv')\n",
        "df2=pd.read_csv('/content/COVID-Vaccine Related tweets NOV1 to DEC16.csv')"
      ],
      "execution_count": null,
      "outputs": []
    },
    {
      "cell_type": "code",
      "metadata": {
        "colab": {
          "base_uri": "https://localhost:8080/",
          "height": 951
        },
        "id": "0aiqBm5jzOYj",
        "outputId": "468dd8bd-fb6f-4784-cfca-f2a7be47623b"
      },
      "source": [
        "display(df2)"
      ],
      "execution_count": null,
      "outputs": [
        {
          "output_type": "display_data",
          "data": {
            "text/html": [
              "<div>\n",
              "<style scoped>\n",
              "    .dataframe tbody tr th:only-of-type {\n",
              "        vertical-align: middle;\n",
              "    }\n",
              "\n",
              "    .dataframe tbody tr th {\n",
              "        vertical-align: top;\n",
              "    }\n",
              "\n",
              "    .dataframe thead th {\n",
              "        text-align: right;\n",
              "    }\n",
              "</style>\n",
              "<table border=\"1\" class=\"dataframe\">\n",
              "  <thead>\n",
              "    <tr style=\"text-align: right;\">\n",
              "      <th></th>\n",
              "      <th>date</th>\n",
              "      <th>time</th>\n",
              "      <th>user_id</th>\n",
              "      <th>username</th>\n",
              "      <th>name</th>\n",
              "      <th>tweet</th>\n",
              "      <th>language</th>\n",
              "      <th>mentions</th>\n",
              "      <th>urls</th>\n",
              "      <th>photos</th>\n",
              "      <th>replies_count</th>\n",
              "      <th>retweets_count</th>\n",
              "      <th>likes_count</th>\n",
              "      <th>hashtags</th>\n",
              "      <th>link</th>\n",
              "    </tr>\n",
              "  </thead>\n",
              "  <tbody>\n",
              "    <tr>\n",
              "      <th>0</th>\n",
              "      <td>16-12-2020</td>\n",
              "      <td>04:37:24</td>\n",
              "      <td>1.369881e+08</td>\n",
              "      <td>beforethestars</td>\n",
              "      <td>Andrea Davison</td>\n",
              "      <td>Vegetarians here is a reason \"AZD1222 (ChAdOx1...</td>\n",
              "      <td>en</td>\n",
              "      <td>[]</td>\n",
              "      <td>[]</td>\n",
              "      <td>[]</td>\n",
              "      <td>0</td>\n",
              "      <td>3</td>\n",
              "      <td>3</td>\n",
              "      <td>[]</td>\n",
              "      <td>https://twitter.com/beforethestars/status/1338...</td>\n",
              "    </tr>\n",
              "    <tr>\n",
              "      <th>1</th>\n",
              "      <td>16-12-2020</td>\n",
              "      <td>04:03:02</td>\n",
              "      <td>1.458063e+09</td>\n",
              "      <td>artofhitech</td>\n",
              "      <td>Техно Ньюс !</td>\n",
              "      <td>AstraZeneca начинает клинические испытания вак...</td>\n",
              "      <td>ru</td>\n",
              "      <td>[]</td>\n",
              "      <td>[]</td>\n",
              "      <td>[]</td>\n",
              "      <td>0</td>\n",
              "      <td>0</td>\n",
              "      <td>0</td>\n",
              "      <td>[]</td>\n",
              "      <td>https://twitter.com/ArtOfHiTech/status/1338975...</td>\n",
              "    </tr>\n",
              "    <tr>\n",
              "      <th>2</th>\n",
              "      <td>16-12-2020</td>\n",
              "      <td>03:39:43</td>\n",
              "      <td>1.412535e+07</td>\n",
              "      <td>n6mac41717</td>\n",
              "      <td>Chuck Han</td>\n",
              "      <td>@ByLizC 1) Let's see what the US Phase III tri...</td>\n",
              "      <td>en</td>\n",
              "      <td>[]</td>\n",
              "      <td>[]</td>\n",
              "      <td>[]</td>\n",
              "      <td>0</td>\n",
              "      <td>0</td>\n",
              "      <td>0</td>\n",
              "      <td>[]</td>\n",
              "      <td>https://twitter.com/n6mac41717/status/13389695...</td>\n",
              "    </tr>\n",
              "    <tr>\n",
              "      <th>3</th>\n",
              "      <td>16-12-2020</td>\n",
              "      <td>03:30:18</td>\n",
              "      <td>3.312676e+09</td>\n",
              "      <td>codigofmx</td>\n",
              "      <td>codigof.mx</td>\n",
              "      <td>El pasado 11 de diciembre, el laboratorio Astr...</td>\n",
              "      <td>es</td>\n",
              "      <td>[]</td>\n",
              "      <td>['http://ow.ly/iu8o50CMlt5']</td>\n",
              "      <td>['https://pbs.twimg.com/media/EpT3hY_W8AM6C_x....</td>\n",
              "      <td>0</td>\n",
              "      <td>0</td>\n",
              "      <td>4</td>\n",
              "      <td>[]</td>\n",
              "      <td>https://twitter.com/codigofmx/status/133896714...</td>\n",
              "    </tr>\n",
              "    <tr>\n",
              "      <th>4</th>\n",
              "      <td>16-12-2020</td>\n",
              "      <td>01:39:04</td>\n",
              "      <td>9.536980e+17</td>\n",
              "      <td>ae1tt</td>\n",
              "      <td>Deborah A Nicholas, M.D.</td>\n",
              "      <td>@sabrigley @IncognitoNewt @thespybrief Yep. Pu...</td>\n",
              "      <td>en</td>\n",
              "      <td>[]</td>\n",
              "      <td>['https://www.thelancet.com/journals/lancet/ar...</td>\n",
              "      <td>[]</td>\n",
              "      <td>1</td>\n",
              "      <td>0</td>\n",
              "      <td>6</td>\n",
              "      <td>[]</td>\n",
              "      <td>https://twitter.com/AE1TT/status/1338939149072...</td>\n",
              "    </tr>\n",
              "    <tr>\n",
              "      <th>...</th>\n",
              "      <td>...</td>\n",
              "      <td>...</td>\n",
              "      <td>...</td>\n",
              "      <td>...</td>\n",
              "      <td>...</td>\n",
              "      <td>...</td>\n",
              "      <td>...</td>\n",
              "      <td>...</td>\n",
              "      <td>...</td>\n",
              "      <td>...</td>\n",
              "      <td>...</td>\n",
              "      <td>...</td>\n",
              "      <td>...</td>\n",
              "      <td>...</td>\n",
              "      <td>...</td>\n",
              "    </tr>\n",
              "    <tr>\n",
              "      <th>686100</th>\n",
              "      <td>01-11-2020</td>\n",
              "      <td>07:35:53</td>\n",
              "      <td>1.336240e+08</td>\n",
              "      <td>vrtarak</td>\n",
              "      <td>viggy</td>\n",
              "      <td>@imeghanavirat Kadhu India dhi covaxin valu ip...</td>\n",
              "      <td>in</td>\n",
              "      <td>[]</td>\n",
              "      <td>[]</td>\n",
              "      <td>[]</td>\n",
              "      <td>3</td>\n",
              "      <td>0</td>\n",
              "      <td>0</td>\n",
              "      <td>[]</td>\n",
              "      <td>https://twitter.com/VRtarak/status/13227214928...</td>\n",
              "    </tr>\n",
              "    <tr>\n",
              "      <th>686101</th>\n",
              "      <td>01-11-2020</td>\n",
              "      <td>07:33:47</td>\n",
              "      <td>1.039760e+18</td>\n",
              "      <td>tv9bharatvarsh</td>\n",
              "      <td>TV9 Bharatvarsh</td>\n",
              "      <td>#Covaxin के तीसरे फेज का ट्रायल जल्द होगा शुरू...</td>\n",
              "      <td>hi</td>\n",
              "      <td>[]</td>\n",
              "      <td>['https://www.tv9bharatvarsh.com/india/corona-...</td>\n",
              "      <td>[]</td>\n",
              "      <td>0</td>\n",
              "      <td>0</td>\n",
              "      <td>15</td>\n",
              "      <td>['covaxin', 'coronavirus', 'covid19']</td>\n",
              "      <td>https://twitter.com/TV9Bharatvarsh/status/1322...</td>\n",
              "    </tr>\n",
              "    <tr>\n",
              "      <th>686102</th>\n",
              "      <td>01-11-2020</td>\n",
              "      <td>07:26:19</td>\n",
              "      <td>1.336240e+08</td>\n",
              "      <td>vrtarak</td>\n",
              "      <td>viggy</td>\n",
              "      <td>@imeghanavirat Russia la vaccine odaladame at ...</td>\n",
              "      <td>in</td>\n",
              "      <td>[]</td>\n",
              "      <td>[]</td>\n",
              "      <td>[]</td>\n",
              "      <td>1</td>\n",
              "      <td>0</td>\n",
              "      <td>0</td>\n",
              "      <td>[]</td>\n",
              "      <td>https://twitter.com/VRtarak/status/13227190842...</td>\n",
              "    </tr>\n",
              "    <tr>\n",
              "      <th>686103</th>\n",
              "      <td>01-11-2020</td>\n",
              "      <td>07:02:32</td>\n",
              "      <td>1.238370e+18</td>\n",
              "      <td>covidmexico</td>\n",
              "      <td>Covid México</td>\n",
              "      <td>ste candidato ha entrado en ensayos de Fase 2....</td>\n",
              "      <td>es</td>\n",
              "      <td>[]</td>\n",
              "      <td>[]</td>\n",
              "      <td>[]</td>\n",
              "      <td>1</td>\n",
              "      <td>1</td>\n",
              "      <td>0</td>\n",
              "      <td>[]</td>\n",
              "      <td>https://twitter.com/CovidMexico/status/1322713...</td>\n",
              "    </tr>\n",
              "    <tr>\n",
              "      <th>686104</th>\n",
              "      <td>01-11-2020</td>\n",
              "      <td>07:02:30</td>\n",
              "      <td>1.238370e+18</td>\n",
              "      <td>covidmexico</td>\n",
              "      <td>Covid México</td>\n",
              "      <td>Covaxin - Inactivated vaccine Estado: Los prim...</td>\n",
              "      <td>es</td>\n",
              "      <td>[]</td>\n",
              "      <td>[]</td>\n",
              "      <td>[]</td>\n",
              "      <td>1</td>\n",
              "      <td>0</td>\n",
              "      <td>1</td>\n",
              "      <td>[]</td>\n",
              "      <td>https://twitter.com/CovidMexico/status/1322713...</td>\n",
              "    </tr>\n",
              "  </tbody>\n",
              "</table>\n",
              "<p>686105 rows × 15 columns</p>\n",
              "</div>"
            ],
            "text/plain": [
              "              date  ...                                               link\n",
              "0       16-12-2020  ...  https://twitter.com/beforethestars/status/1338...\n",
              "1       16-12-2020  ...  https://twitter.com/ArtOfHiTech/status/1338975...\n",
              "2       16-12-2020  ...  https://twitter.com/n6mac41717/status/13389695...\n",
              "3       16-12-2020  ...  https://twitter.com/codigofmx/status/133896714...\n",
              "4       16-12-2020  ...  https://twitter.com/AE1TT/status/1338939149072...\n",
              "...            ...  ...                                                ...\n",
              "686100  01-11-2020  ...  https://twitter.com/VRtarak/status/13227214928...\n",
              "686101  01-11-2020  ...  https://twitter.com/TV9Bharatvarsh/status/1322...\n",
              "686102  01-11-2020  ...  https://twitter.com/VRtarak/status/13227190842...\n",
              "686103  01-11-2020  ...  https://twitter.com/CovidMexico/status/1322713...\n",
              "686104  01-11-2020  ...  https://twitter.com/CovidMexico/status/1322713...\n",
              "\n",
              "[686105 rows x 15 columns]"
            ]
          },
          "metadata": {
            "tags": []
          }
        }
      ]
    },
    {
      "cell_type": "code",
      "metadata": {
        "colab": {
          "base_uri": "https://localhost:8080/"
        },
        "id": "ZTyj1AaCzVV9",
        "outputId": "f47b8c9c-de12-4018-b3e1-37151058b9b2"
      },
      "source": [
        "df2.columns"
      ],
      "execution_count": null,
      "outputs": [
        {
          "output_type": "execute_result",
          "data": {
            "text/plain": [
              "Index(['date', 'time', 'user_id', 'username', 'name', 'tweet', 'language',\n",
              "       'mentions', 'urls', 'photos', 'replies_count', 'retweets_count',\n",
              "       'likes_count', 'hashtags', 'link'],\n",
              "      dtype='object')"
            ]
          },
          "metadata": {
            "tags": []
          },
          "execution_count": 9
        }
      ]
    },
    {
      "cell_type": "code",
      "metadata": {
        "colab": {
          "base_uri": "https://localhost:8080/",
          "height": 488
        },
        "id": "BHqC9tmYzVdz",
        "outputId": "7c501a99-4802-4ba5-abe7-62aa1021edfa"
      },
      "source": [
        "df2.head()"
      ],
      "execution_count": null,
      "outputs": [
        {
          "output_type": "execute_result",
          "data": {
            "text/html": [
              "<div>\n",
              "<style scoped>\n",
              "    .dataframe tbody tr th:only-of-type {\n",
              "        vertical-align: middle;\n",
              "    }\n",
              "\n",
              "    .dataframe tbody tr th {\n",
              "        vertical-align: top;\n",
              "    }\n",
              "\n",
              "    .dataframe thead th {\n",
              "        text-align: right;\n",
              "    }\n",
              "</style>\n",
              "<table border=\"1\" class=\"dataframe\">\n",
              "  <thead>\n",
              "    <tr style=\"text-align: right;\">\n",
              "      <th></th>\n",
              "      <th>date</th>\n",
              "      <th>time</th>\n",
              "      <th>user_id</th>\n",
              "      <th>username</th>\n",
              "      <th>name</th>\n",
              "      <th>tweet</th>\n",
              "      <th>language</th>\n",
              "      <th>mentions</th>\n",
              "      <th>urls</th>\n",
              "      <th>photos</th>\n",
              "      <th>replies_count</th>\n",
              "      <th>retweets_count</th>\n",
              "      <th>likes_count</th>\n",
              "      <th>hashtags</th>\n",
              "      <th>link</th>\n",
              "    </tr>\n",
              "  </thead>\n",
              "  <tbody>\n",
              "    <tr>\n",
              "      <th>0</th>\n",
              "      <td>16-12-2020</td>\n",
              "      <td>04:37:24</td>\n",
              "      <td>1.369881e+08</td>\n",
              "      <td>beforethestars</td>\n",
              "      <td>Andrea Davison</td>\n",
              "      <td>Vegetarians here is a reason \"AZD1222 (ChAdOx1...</td>\n",
              "      <td>en</td>\n",
              "      <td>[]</td>\n",
              "      <td>[]</td>\n",
              "      <td>[]</td>\n",
              "      <td>0</td>\n",
              "      <td>3</td>\n",
              "      <td>3</td>\n",
              "      <td>[]</td>\n",
              "      <td>https://twitter.com/beforethestars/status/1338...</td>\n",
              "    </tr>\n",
              "    <tr>\n",
              "      <th>1</th>\n",
              "      <td>16-12-2020</td>\n",
              "      <td>04:03:02</td>\n",
              "      <td>1.458063e+09</td>\n",
              "      <td>artofhitech</td>\n",
              "      <td>Техно Ньюс !</td>\n",
              "      <td>AstraZeneca начинает клинические испытания вак...</td>\n",
              "      <td>ru</td>\n",
              "      <td>[]</td>\n",
              "      <td>[]</td>\n",
              "      <td>[]</td>\n",
              "      <td>0</td>\n",
              "      <td>0</td>\n",
              "      <td>0</td>\n",
              "      <td>[]</td>\n",
              "      <td>https://twitter.com/ArtOfHiTech/status/1338975...</td>\n",
              "    </tr>\n",
              "    <tr>\n",
              "      <th>2</th>\n",
              "      <td>16-12-2020</td>\n",
              "      <td>03:39:43</td>\n",
              "      <td>1.412535e+07</td>\n",
              "      <td>n6mac41717</td>\n",
              "      <td>Chuck Han</td>\n",
              "      <td>@ByLizC 1) Let's see what the US Phase III tri...</td>\n",
              "      <td>en</td>\n",
              "      <td>[]</td>\n",
              "      <td>[]</td>\n",
              "      <td>[]</td>\n",
              "      <td>0</td>\n",
              "      <td>0</td>\n",
              "      <td>0</td>\n",
              "      <td>[]</td>\n",
              "      <td>https://twitter.com/n6mac41717/status/13389695...</td>\n",
              "    </tr>\n",
              "    <tr>\n",
              "      <th>3</th>\n",
              "      <td>16-12-2020</td>\n",
              "      <td>03:30:18</td>\n",
              "      <td>3.312676e+09</td>\n",
              "      <td>codigofmx</td>\n",
              "      <td>codigof.mx</td>\n",
              "      <td>El pasado 11 de diciembre, el laboratorio Astr...</td>\n",
              "      <td>es</td>\n",
              "      <td>[]</td>\n",
              "      <td>['http://ow.ly/iu8o50CMlt5']</td>\n",
              "      <td>['https://pbs.twimg.com/media/EpT3hY_W8AM6C_x....</td>\n",
              "      <td>0</td>\n",
              "      <td>0</td>\n",
              "      <td>4</td>\n",
              "      <td>[]</td>\n",
              "      <td>https://twitter.com/codigofmx/status/133896714...</td>\n",
              "    </tr>\n",
              "    <tr>\n",
              "      <th>4</th>\n",
              "      <td>16-12-2020</td>\n",
              "      <td>01:39:04</td>\n",
              "      <td>9.536980e+17</td>\n",
              "      <td>ae1tt</td>\n",
              "      <td>Deborah A Nicholas, M.D.</td>\n",
              "      <td>@sabrigley @IncognitoNewt @thespybrief Yep. Pu...</td>\n",
              "      <td>en</td>\n",
              "      <td>[]</td>\n",
              "      <td>['https://www.thelancet.com/journals/lancet/ar...</td>\n",
              "      <td>[]</td>\n",
              "      <td>1</td>\n",
              "      <td>0</td>\n",
              "      <td>6</td>\n",
              "      <td>[]</td>\n",
              "      <td>https://twitter.com/AE1TT/status/1338939149072...</td>\n",
              "    </tr>\n",
              "  </tbody>\n",
              "</table>\n",
              "</div>"
            ],
            "text/plain": [
              "         date  ...                                               link\n",
              "0  16-12-2020  ...  https://twitter.com/beforethestars/status/1338...\n",
              "1  16-12-2020  ...  https://twitter.com/ArtOfHiTech/status/1338975...\n",
              "2  16-12-2020  ...  https://twitter.com/n6mac41717/status/13389695...\n",
              "3  16-12-2020  ...  https://twitter.com/codigofmx/status/133896714...\n",
              "4  16-12-2020  ...  https://twitter.com/AE1TT/status/1338939149072...\n",
              "\n",
              "[5 rows x 15 columns]"
            ]
          },
          "metadata": {
            "tags": []
          },
          "execution_count": 10
        }
      ]
    },
    {
      "cell_type": "code",
      "metadata": {
        "colab": {
          "base_uri": "https://localhost:8080/"
        },
        "id": "4_oOS8TizVg1",
        "outputId": "bf7b8ff6-c152-4210-cbb9-2b9a7b28b2fc"
      },
      "source": [
        "from pandas import datetime \n",
        "\n",
        "df2['date'] = pd.to_datetime(df2['date'])\n",
        "df2['Month'] = df2['date'].dt.month\n",
        "df2['Month-str-full'] = df2['date'].dt.strftime('%B')\n"
      ],
      "execution_count": null,
      "outputs": [
        {
          "output_type": "stream",
          "text": [
            "/usr/local/lib/python3.7/dist-packages/ipykernel_launcher.py:1: FutureWarning: The pandas.datetime class is deprecated and will be removed from pandas in a future version. Import from datetime module instead.\n",
            "  \"\"\"Entry point for launching an IPython kernel.\n"
          ],
          "name": "stderr"
        }
      ]
    },
    {
      "cell_type": "code",
      "metadata": {
        "colab": {
          "base_uri": "https://localhost:8080/"
        },
        "id": "7b5G-aXnzVjr",
        "outputId": "59a075de-dad4-4860-8d67-e0edec8c55a2"
      },
      "source": [
        "df2['Month-str-full'].value_counts()"
      ],
      "execution_count": null,
      "outputs": [
        {
          "output_type": "execute_result",
          "data": {
            "text/plain": [
              "November     235000\n",
              "December     127569\n",
              "October       61870\n",
              "September     61747\n",
              "August        39862\n",
              "March         33318\n",
              "February      31353\n",
              "April         28618\n",
              "May           21633\n",
              "July          19290\n",
              "June          14970\n",
              "January       10875\n",
              "Name: Month-str-full, dtype: int64"
            ]
          },
          "metadata": {
            "tags": []
          },
          "execution_count": 12
        }
      ]
    },
    {
      "cell_type": "code",
      "metadata": {
        "colab": {
          "base_uri": "https://localhost:8080/"
        },
        "id": "qosCtArdzVnZ",
        "outputId": "cd261327-7614-4259-927e-b6d8f542ca89"
      },
      "source": [
        "\n",
        "print(min(df2['date']))\n",
        "print(max(df2['date']))"
      ],
      "execution_count": null,
      "outputs": [
        {
          "output_type": "stream",
          "text": [
            "2020-01-11 00:00:00\n",
            "2020-12-16 00:00:00\n"
          ],
          "name": "stdout"
        }
      ]
    },
    {
      "cell_type": "code",
      "metadata": {
        "colab": {
          "base_uri": "https://localhost:8080/"
        },
        "id": "V8DYLPG2zVqZ",
        "outputId": "8738a4ef-f0a7-44b2-a493-c45ccda4a039"
      },
      "source": [
        "print(min(df1['date']))\n",
        "print(max(df1['date']))"
      ],
      "execution_count": null,
      "outputs": [
        {
          "output_type": "stream",
          "text": [
            "2020-02-12\n",
            "2020-10-22\n"
          ],
          "name": "stdout"
        }
      ]
    },
    {
      "cell_type": "code",
      "metadata": {
        "id": "RiC1QlrMzVtR"
      },
      "source": [
        "df2 = df2[df2['language']=='en']\n",
        "df2 = df2[['date' , 'tweet']]"
      ],
      "execution_count": null,
      "outputs": []
    },
    {
      "cell_type": "code",
      "metadata": {
        "id": "xhpm5L_6zVwa"
      },
      "source": [
        "df1 = df1[df1['language']=='en']\n",
        "df1 = df1[['date' , 'tweet']]"
      ],
      "execution_count": null,
      "outputs": []
    },
    {
      "cell_type": "code",
      "metadata": {
        "id": "PxtFwmZA8rCZ",
        "colab": {
          "base_uri": "https://localhost:8080/",
          "height": 202
        },
        "outputId": "f7f6466e-86b4-4432-891d-f64252d57430"
      },
      "source": [
        "df1.head()"
      ],
      "execution_count": null,
      "outputs": [
        {
          "output_type": "execute_result",
          "data": {
            "text/html": [
              "<div>\n",
              "<style scoped>\n",
              "    .dataframe tbody tr th:only-of-type {\n",
              "        vertical-align: middle;\n",
              "    }\n",
              "\n",
              "    .dataframe tbody tr th {\n",
              "        vertical-align: top;\n",
              "    }\n",
              "\n",
              "    .dataframe thead th {\n",
              "        text-align: right;\n",
              "    }\n",
              "</style>\n",
              "<table border=\"1\" class=\"dataframe\">\n",
              "  <thead>\n",
              "    <tr style=\"text-align: right;\">\n",
              "      <th></th>\n",
              "      <th>date</th>\n",
              "      <th>tweet</th>\n",
              "    </tr>\n",
              "  </thead>\n",
              "  <tbody>\n",
              "    <tr>\n",
              "      <th>0</th>\n",
              "      <td>2020-10-22</td>\n",
              "      <td>@ANI Isn't it the best poll promise ever?? Fre...</td>\n",
              "    </tr>\n",
              "    <tr>\n",
              "      <th>1</th>\n",
              "      <td>2020-10-22</td>\n",
              "      <td>Now states shall have wait for thier Vidhan Sa...</td>\n",
              "    </tr>\n",
              "    <tr>\n",
              "      <th>3</th>\n",
              "      <td>2020-10-22</td>\n",
              "      <td>@MisseeMonis They said vaccine for all but not...</td>\n",
              "    </tr>\n",
              "    <tr>\n",
              "      <th>4</th>\n",
              "      <td>2020-10-22</td>\n",
              "      <td>BJP really presenting \"free COVID vaccine\" as ...</td>\n",
              "    </tr>\n",
              "    <tr>\n",
              "      <th>5</th>\n",
              "      <td>2020-10-22</td>\n",
              "      <td>Another dose of daily miserablism from Planet ...</td>\n",
              "    </tr>\n",
              "  </tbody>\n",
              "</table>\n",
              "</div>"
            ],
            "text/plain": [
              "         date                                              tweet\n",
              "0  2020-10-22  @ANI Isn't it the best poll promise ever?? Fre...\n",
              "1  2020-10-22  Now states shall have wait for thier Vidhan Sa...\n",
              "3  2020-10-22  @MisseeMonis They said vaccine for all but not...\n",
              "4  2020-10-22  BJP really presenting \"free COVID vaccine\" as ...\n",
              "5  2020-10-22  Another dose of daily miserablism from Planet ..."
            ]
          },
          "metadata": {
            "tags": []
          },
          "execution_count": 17
        }
      ]
    },
    {
      "cell_type": "code",
      "metadata": {
        "colab": {
          "base_uri": "https://localhost:8080/",
          "height": 202
        },
        "id": "MnNAlB6Z1nKQ",
        "outputId": "b453f7e0-5c45-438f-f014-0ac29f1d71f2"
      },
      "source": [
        "df2.head()"
      ],
      "execution_count": null,
      "outputs": [
        {
          "output_type": "execute_result",
          "data": {
            "text/html": [
              "<div>\n",
              "<style scoped>\n",
              "    .dataframe tbody tr th:only-of-type {\n",
              "        vertical-align: middle;\n",
              "    }\n",
              "\n",
              "    .dataframe tbody tr th {\n",
              "        vertical-align: top;\n",
              "    }\n",
              "\n",
              "    .dataframe thead th {\n",
              "        text-align: right;\n",
              "    }\n",
              "</style>\n",
              "<table border=\"1\" class=\"dataframe\">\n",
              "  <thead>\n",
              "    <tr style=\"text-align: right;\">\n",
              "      <th></th>\n",
              "      <th>date</th>\n",
              "      <th>tweet</th>\n",
              "    </tr>\n",
              "  </thead>\n",
              "  <tbody>\n",
              "    <tr>\n",
              "      <th>0</th>\n",
              "      <td>2020-12-16</td>\n",
              "      <td>Vegetarians here is a reason \"AZD1222 (ChAdOx1...</td>\n",
              "    </tr>\n",
              "    <tr>\n",
              "      <th>2</th>\n",
              "      <td>2020-12-16</td>\n",
              "      <td>@ByLizC 1) Let's see what the US Phase III tri...</td>\n",
              "    </tr>\n",
              "    <tr>\n",
              "      <th>4</th>\n",
              "      <td>2020-12-16</td>\n",
              "      <td>@sabrigley @IncognitoNewt @thespybrief Yep. Pu...</td>\n",
              "    </tr>\n",
              "    <tr>\n",
              "      <th>5</th>\n",
              "      <td>2020-12-16</td>\n",
              "      <td>@IncognitoNewt @thespybrief Lancet published i...</td>\n",
              "    </tr>\n",
              "    <tr>\n",
              "      <th>6</th>\n",
              "      <td>2020-12-16</td>\n",
              "      <td>AZD1222 Oxford Phase III trials interim analys...</td>\n",
              "    </tr>\n",
              "  </tbody>\n",
              "</table>\n",
              "</div>"
            ],
            "text/plain": [
              "        date                                              tweet\n",
              "0 2020-12-16  Vegetarians here is a reason \"AZD1222 (ChAdOx1...\n",
              "2 2020-12-16  @ByLizC 1) Let's see what the US Phase III tri...\n",
              "4 2020-12-16  @sabrigley @IncognitoNewt @thespybrief Yep. Pu...\n",
              "5 2020-12-16  @IncognitoNewt @thespybrief Lancet published i...\n",
              "6 2020-12-16  AZD1222 Oxford Phase III trials interim analys..."
            ]
          },
          "metadata": {
            "tags": []
          },
          "execution_count": 18
        }
      ]
    },
    {
      "cell_type": "code",
      "metadata": {
        "id": "oCFZTh5rwPFJ",
        "colab": {
          "base_uri": "https://localhost:8080/"
        },
        "outputId": "24cabe8f-1e7d-4fc2-cc9c-91f3a74e74e3"
      },
      "source": [
        "\n",
        "df2['tweet'].isna().sum()"
      ],
      "execution_count": null,
      "outputs": [
        {
          "output_type": "execute_result",
          "data": {
            "text/plain": [
              "0"
            ]
          },
          "metadata": {
            "tags": []
          },
          "execution_count": 19
        }
      ]
    },
    {
      "cell_type": "code",
      "metadata": {
        "id": "d2JJ3VLWxYrW",
        "colab": {
          "base_uri": "https://localhost:8080/"
        },
        "outputId": "730f1801-d33a-4e83-f377-bbbba94cfb68"
      },
      "source": [
        "df2['date'].isna().sum()"
      ],
      "execution_count": null,
      "outputs": [
        {
          "output_type": "execute_result",
          "data": {
            "text/plain": [
              "0"
            ]
          },
          "metadata": {
            "tags": []
          },
          "execution_count": 20
        }
      ]
    },
    {
      "cell_type": "code",
      "metadata": {
        "colab": {
          "base_uri": "https://localhost:8080/"
        },
        "id": "yynDEJfr1ybk",
        "outputId": "e2dd5386-9a3d-4196-f5af-e295683e57b7"
      },
      "source": [
        "df1['tweet'].isna().sum()"
      ],
      "execution_count": null,
      "outputs": [
        {
          "output_type": "execute_result",
          "data": {
            "text/plain": [
              "0"
            ]
          },
          "metadata": {
            "tags": []
          },
          "execution_count": 21
        }
      ]
    },
    {
      "cell_type": "code",
      "metadata": {
        "colab": {
          "base_uri": "https://localhost:8080/"
        },
        "id": "VVRddMY411Rm",
        "outputId": "f38efde6-2195-4208-da9d-ecd3ce302dbd"
      },
      "source": [
        "df1['date'].isna().sum()"
      ],
      "execution_count": null,
      "outputs": [
        {
          "output_type": "execute_result",
          "data": {
            "text/plain": [
              "0"
            ]
          },
          "metadata": {
            "tags": []
          },
          "execution_count": 22
        }
      ]
    },
    {
      "cell_type": "code",
      "metadata": {
        "id": "hZ20uM1YxfRG",
        "colab": {
          "base_uri": "https://localhost:8080/"
        },
        "outputId": "dd26e325-8932-4863-e1dd-11c3fd0cfe3a"
      },
      "source": [
        "print(df1.shape)\n",
        "print(df2.shape)"
      ],
      "execution_count": null,
      "outputs": [
        {
          "output_type": "stream",
          "text": [
            "(201030, 2)\n",
            "(573016, 2)\n"
          ],
          "name": "stdout"
        }
      ]
    },
    {
      "cell_type": "code",
      "metadata": {
        "colab": {
          "base_uri": "https://localhost:8080/",
          "height": 202
        },
        "id": "-LxcHX5U176p",
        "outputId": "557a774b-2f5e-4b6f-c1c0-523acda70fb8"
      },
      "source": [
        "data = pd.concat([df1,df2],ignore_index=True)\n",
        "data.head()"
      ],
      "execution_count": null,
      "outputs": [
        {
          "output_type": "execute_result",
          "data": {
            "text/html": [
              "<div>\n",
              "<style scoped>\n",
              "    .dataframe tbody tr th:only-of-type {\n",
              "        vertical-align: middle;\n",
              "    }\n",
              "\n",
              "    .dataframe tbody tr th {\n",
              "        vertical-align: top;\n",
              "    }\n",
              "\n",
              "    .dataframe thead th {\n",
              "        text-align: right;\n",
              "    }\n",
              "</style>\n",
              "<table border=\"1\" class=\"dataframe\">\n",
              "  <thead>\n",
              "    <tr style=\"text-align: right;\">\n",
              "      <th></th>\n",
              "      <th>date</th>\n",
              "      <th>tweet</th>\n",
              "    </tr>\n",
              "  </thead>\n",
              "  <tbody>\n",
              "    <tr>\n",
              "      <th>0</th>\n",
              "      <td>2020-10-22</td>\n",
              "      <td>@ANI Isn't it the best poll promise ever?? Fre...</td>\n",
              "    </tr>\n",
              "    <tr>\n",
              "      <th>1</th>\n",
              "      <td>2020-10-22</td>\n",
              "      <td>Now states shall have wait for thier Vidhan Sa...</td>\n",
              "    </tr>\n",
              "    <tr>\n",
              "      <th>2</th>\n",
              "      <td>2020-10-22</td>\n",
              "      <td>@MisseeMonis They said vaccine for all but not...</td>\n",
              "    </tr>\n",
              "    <tr>\n",
              "      <th>3</th>\n",
              "      <td>2020-10-22</td>\n",
              "      <td>BJP really presenting \"free COVID vaccine\" as ...</td>\n",
              "    </tr>\n",
              "    <tr>\n",
              "      <th>4</th>\n",
              "      <td>2020-10-22</td>\n",
              "      <td>Another dose of daily miserablism from Planet ...</td>\n",
              "    </tr>\n",
              "  </tbody>\n",
              "</table>\n",
              "</div>"
            ],
            "text/plain": [
              "         date                                              tweet\n",
              "0  2020-10-22  @ANI Isn't it the best poll promise ever?? Fre...\n",
              "1  2020-10-22  Now states shall have wait for thier Vidhan Sa...\n",
              "2  2020-10-22  @MisseeMonis They said vaccine for all but not...\n",
              "3  2020-10-22  BJP really presenting \"free COVID vaccine\" as ...\n",
              "4  2020-10-22  Another dose of daily miserablism from Planet ..."
            ]
          },
          "metadata": {
            "tags": []
          },
          "execution_count": 24
        }
      ]
    },
    {
      "cell_type": "code",
      "metadata": {
        "id": "AwuNsrd6xh98",
        "colab": {
          "base_uri": "https://localhost:8080/"
        },
        "outputId": "679a1078-d0c7-4297-fc62-382ee7d2d047"
      },
      "source": [
        "data.shape"
      ],
      "execution_count": null,
      "outputs": [
        {
          "output_type": "execute_result",
          "data": {
            "text/plain": [
              "(774046, 2)"
            ]
          },
          "metadata": {
            "tags": []
          },
          "execution_count": 25
        }
      ]
    },
    {
      "cell_type": "code",
      "metadata": {
        "colab": {
          "base_uri": "https://localhost:8080/"
        },
        "id": "XsERjRLQ2pHL",
        "outputId": "a9a2041e-8e8b-4ffc-e2d0-5168483fa7c6"
      },
      "source": [
        "data.drop_duplicates(subset=['tweet'])\n",
        "data.shape"
      ],
      "execution_count": null,
      "outputs": [
        {
          "output_type": "execute_result",
          "data": {
            "text/plain": [
              "(774046, 2)"
            ]
          },
          "metadata": {
            "tags": []
          },
          "execution_count": 26
        }
      ]
    },
    {
      "cell_type": "code",
      "metadata": {
        "id": "kRX1ZEKEz4tG",
        "colab": {
          "base_uri": "https://localhost:8080/",
          "height": 202
        },
        "outputId": "401588ef-e8c8-48c3-9535-1174a361de1e"
      },
      "source": [
        "data['process_tweet'] = data['tweet'].copy()\n",
        "data.head()"
      ],
      "execution_count": null,
      "outputs": [
        {
          "output_type": "execute_result",
          "data": {
            "text/html": [
              "<div>\n",
              "<style scoped>\n",
              "    .dataframe tbody tr th:only-of-type {\n",
              "        vertical-align: middle;\n",
              "    }\n",
              "\n",
              "    .dataframe tbody tr th {\n",
              "        vertical-align: top;\n",
              "    }\n",
              "\n",
              "    .dataframe thead th {\n",
              "        text-align: right;\n",
              "    }\n",
              "</style>\n",
              "<table border=\"1\" class=\"dataframe\">\n",
              "  <thead>\n",
              "    <tr style=\"text-align: right;\">\n",
              "      <th></th>\n",
              "      <th>date</th>\n",
              "      <th>tweet</th>\n",
              "      <th>process_tweet</th>\n",
              "    </tr>\n",
              "  </thead>\n",
              "  <tbody>\n",
              "    <tr>\n",
              "      <th>0</th>\n",
              "      <td>2020-10-22</td>\n",
              "      <td>@ANI Isn't it the best poll promise ever?? Fre...</td>\n",
              "      <td>@ANI Isn't it the best poll promise ever?? Fre...</td>\n",
              "    </tr>\n",
              "    <tr>\n",
              "      <th>1</th>\n",
              "      <td>2020-10-22</td>\n",
              "      <td>Now states shall have wait for thier Vidhan Sa...</td>\n",
              "      <td>Now states shall have wait for thier Vidhan Sa...</td>\n",
              "    </tr>\n",
              "    <tr>\n",
              "      <th>2</th>\n",
              "      <td>2020-10-22</td>\n",
              "      <td>@MisseeMonis They said vaccine for all but not...</td>\n",
              "      <td>@MisseeMonis They said vaccine for all but not...</td>\n",
              "    </tr>\n",
              "    <tr>\n",
              "      <th>3</th>\n",
              "      <td>2020-10-22</td>\n",
              "      <td>BJP really presenting \"free COVID vaccine\" as ...</td>\n",
              "      <td>BJP really presenting \"free COVID vaccine\" as ...</td>\n",
              "    </tr>\n",
              "    <tr>\n",
              "      <th>4</th>\n",
              "      <td>2020-10-22</td>\n",
              "      <td>Another dose of daily miserablism from Planet ...</td>\n",
              "      <td>Another dose of daily miserablism from Planet ...</td>\n",
              "    </tr>\n",
              "  </tbody>\n",
              "</table>\n",
              "</div>"
            ],
            "text/plain": [
              "         date  ...                                      process_tweet\n",
              "0  2020-10-22  ...  @ANI Isn't it the best poll promise ever?? Fre...\n",
              "1  2020-10-22  ...  Now states shall have wait for thier Vidhan Sa...\n",
              "2  2020-10-22  ...  @MisseeMonis They said vaccine for all but not...\n",
              "3  2020-10-22  ...  BJP really presenting \"free COVID vaccine\" as ...\n",
              "4  2020-10-22  ...  Another dose of daily miserablism from Planet ...\n",
              "\n",
              "[5 rows x 3 columns]"
            ]
          },
          "metadata": {
            "tags": []
          },
          "execution_count": 27
        }
      ]
    },
    {
      "cell_type": "markdown",
      "metadata": {
        "id": "YLBGRCim2yB_"
      },
      "source": [
        "# Preprocessing the Tweet\n"
      ]
    },
    {
      "cell_type": "code",
      "metadata": {
        "id": "2DHCeZn822Vz"
      },
      "source": [
        "def clean_data(txt):\n",
        "  txt = txt.lower()  # lowercase\n",
        "  txt = re.sub(r'@[A-Za-z0-9_]+' , '' , txt)   #remove mentions\n",
        "  txt = re.sub(r'#' , '' , txt) #remove hashtags\n",
        "  txt = re.sub(r'RT : ','' , txt) # remove retweets\n",
        "  txt = re.sub(r'https?:\\/\\/[A-Za-z0-9\\./\\/]+' , '' , txt) #removes url\n",
        "  txt = re.sub('\\[.*?\\]' , '' , txt) #remove square brackets\n",
        "  txt = re.sub(r'[^\\w\\s]' , '' , txt) #remove puntuations\n",
        "  txt = re.sub('\\w*\\d\\w*' , '' ,txt) #removes words containig numbers\n",
        "  txt = re.sub('\\n' , '' ,txt) #remove new lines\n",
        " \n",
        "\n",
        "  return txt\n"
      ],
      "execution_count": null,
      "outputs": []
    },
    {
      "cell_type": "code",
      "metadata": {
        "id": "iqYMECJk5Xzq",
        "colab": {
          "base_uri": "https://localhost:8080/"
        },
        "outputId": "5f0da07e-173f-47a4-e0bc-1e8e825e7517"
      },
      "source": [
        "data['process_tweet'] = data['process_tweet'].apply(clean_data)\n",
        "data['process_tweet']"
      ],
      "execution_count": null,
      "outputs": [
        {
          "output_type": "execute_result",
          "data": {
            "text/plain": [
              "0          isnt it the best poll promise ever free covid...\n",
              "1         now states shall have wait for thier vidhan sa...\n",
              "2          they said vaccine for all but not when free c...\n",
              "3         bjp really presenting free covid vaccine as a ...\n",
              "4         another dose of daily miserablism from planet ...\n",
              "                                ...                        \n",
              "774041    covaxin has been developed in collaboration wi...\n",
              "774042    bharat biotech is planning to launch its vacci...\n",
              "774043     vaccine amu medical college to begin covaxin ...\n",
              "774044    bharat biotech to launch covaxin in    india n...\n",
              "774045    the aiims in delhi is likely to submit a propo...\n",
              "Name: process_tweet, Length: 774046, dtype: object"
            ]
          },
          "metadata": {
            "tags": []
          },
          "execution_count": 29
        }
      ]
    },
    {
      "cell_type": "code",
      "metadata": {
        "id": "dqjUX3klSffn",
        "colab": {
          "base_uri": "https://localhost:8080/"
        },
        "outputId": "56f0ddbf-41cf-4765-968b-ea019cccaa28"
      },
      "source": [
        "nltk.download('stopwords')"
      ],
      "execution_count": null,
      "outputs": [
        {
          "output_type": "stream",
          "text": [
            "[nltk_data] Downloading package stopwords to /root/nltk_data...\n",
            "[nltk_data]   Unzipping corpora/stopwords.zip.\n"
          ],
          "name": "stdout"
        },
        {
          "output_type": "execute_result",
          "data": {
            "text/plain": [
              "True"
            ]
          },
          "metadata": {
            "tags": []
          },
          "execution_count": 30
        }
      ]
    },
    {
      "cell_type": "code",
      "metadata": {
        "id": "Qinr46wwu-2X"
      },
      "source": [
        "#removig stop words\n",
        "\n",
        "stopwords = nltk.corpus.stopwords.words('english')\n",
        "\n",
        "def remove_stopwords(txt):\n",
        "  rmv_stpwords = [i for i in txt.split() if i not in stopwords]\n",
        "  rmv_stpwords_join = ' '.join(rmv_stpwords)\n",
        "  return rmv_stpwords_join\n",
        "\n",
        " "
      ],
      "execution_count": null,
      "outputs": []
    },
    {
      "cell_type": "code",
      "metadata": {
        "id": "xOFp4H8Zu-9c",
        "colab": {
          "base_uri": "https://localhost:8080/",
          "height": 202
        },
        "outputId": "2aee4992-6a6a-49db-c1d8-4fd842e4ed01"
      },
      "source": [
        "data['process_tweet'] = data['process_tweet'].apply(remove_stopwords)\n",
        "\n",
        "data.head()#after removing stopwords"
      ],
      "execution_count": null,
      "outputs": [
        {
          "output_type": "execute_result",
          "data": {
            "text/html": [
              "<div>\n",
              "<style scoped>\n",
              "    .dataframe tbody tr th:only-of-type {\n",
              "        vertical-align: middle;\n",
              "    }\n",
              "\n",
              "    .dataframe tbody tr th {\n",
              "        vertical-align: top;\n",
              "    }\n",
              "\n",
              "    .dataframe thead th {\n",
              "        text-align: right;\n",
              "    }\n",
              "</style>\n",
              "<table border=\"1\" class=\"dataframe\">\n",
              "  <thead>\n",
              "    <tr style=\"text-align: right;\">\n",
              "      <th></th>\n",
              "      <th>date</th>\n",
              "      <th>tweet</th>\n",
              "      <th>process_tweet</th>\n",
              "    </tr>\n",
              "  </thead>\n",
              "  <tbody>\n",
              "    <tr>\n",
              "      <th>0</th>\n",
              "      <td>2020-10-22</td>\n",
              "      <td>@ANI Isn't it the best poll promise ever?? Fre...</td>\n",
              "      <td>isnt best poll promise ever free covid vaccine...</td>\n",
              "    </tr>\n",
              "    <tr>\n",
              "      <th>1</th>\n",
              "      <td>2020-10-22</td>\n",
              "      <td>Now states shall have wait for thier Vidhan Sa...</td>\n",
              "      <td>states shall wait thier vidhan sabha election ...</td>\n",
              "    </tr>\n",
              "    <tr>\n",
              "      <th>2</th>\n",
              "      <td>2020-10-22</td>\n",
              "      <td>@MisseeMonis They said vaccine for all but not...</td>\n",
              "      <td>said vaccine free covid vaccine new lakhs rs e...</td>\n",
              "    </tr>\n",
              "    <tr>\n",
              "      <th>3</th>\n",
              "      <td>2020-10-22</td>\n",
              "      <td>BJP really presenting \"free COVID vaccine\" as ...</td>\n",
              "      <td>bjp really presenting free covid vaccine state...</td>\n",
              "    </tr>\n",
              "    <tr>\n",
              "      <th>4</th>\n",
              "      <td>2020-10-22</td>\n",
              "      <td>Another dose of daily miserablism from Planet ...</td>\n",
              "      <td>another dose daily miserablism planet grauniad...</td>\n",
              "    </tr>\n",
              "  </tbody>\n",
              "</table>\n",
              "</div>"
            ],
            "text/plain": [
              "         date  ...                                      process_tweet\n",
              "0  2020-10-22  ...  isnt best poll promise ever free covid vaccine...\n",
              "1  2020-10-22  ...  states shall wait thier vidhan sabha election ...\n",
              "2  2020-10-22  ...  said vaccine free covid vaccine new lakhs rs e...\n",
              "3  2020-10-22  ...  bjp really presenting free covid vaccine state...\n",
              "4  2020-10-22  ...  another dose daily miserablism planet grauniad...\n",
              "\n",
              "[5 rows x 3 columns]"
            ]
          },
          "metadata": {
            "tags": []
          },
          "execution_count": 32
        }
      ]
    },
    {
      "cell_type": "code",
      "metadata": {
        "id": "VSeFd50AwBv2"
      },
      "source": [
        "from nltk.stem import PorterStemmer\n",
        "st = PorterStemmer()"
      ],
      "execution_count": null,
      "outputs": []
    },
    {
      "cell_type": "code",
      "metadata": {
        "id": "zyj3h_NewLJL"
      },
      "source": [
        "def stemming(txt):\n",
        "  txt =[st.stem(word) for word in txt.split()]\n",
        "  txt_join = ' '.join(txt)\n",
        "  return txt_join\n",
        "\n",
        "#Stemming refers to the removal of suffices, like “ing”, “ly”, “s”, etc. by a simple rule-based approach."
      ],
      "execution_count": null,
      "outputs": []
    },
    {
      "cell_type": "code",
      "metadata": {
        "id": "D9VyYrW_0zGu",
        "colab": {
          "base_uri": "https://localhost:8080/",
          "height": 202
        },
        "outputId": "1e2a3240-1eb3-4a1b-cea1-10f581ecd7a6"
      },
      "source": [
        "data['process_tweet'] = data['process_tweet'].apply(stemming)\n",
        "data.head()"
      ],
      "execution_count": null,
      "outputs": [
        {
          "output_type": "execute_result",
          "data": {
            "text/html": [
              "<div>\n",
              "<style scoped>\n",
              "    .dataframe tbody tr th:only-of-type {\n",
              "        vertical-align: middle;\n",
              "    }\n",
              "\n",
              "    .dataframe tbody tr th {\n",
              "        vertical-align: top;\n",
              "    }\n",
              "\n",
              "    .dataframe thead th {\n",
              "        text-align: right;\n",
              "    }\n",
              "</style>\n",
              "<table border=\"1\" class=\"dataframe\">\n",
              "  <thead>\n",
              "    <tr style=\"text-align: right;\">\n",
              "      <th></th>\n",
              "      <th>date</th>\n",
              "      <th>tweet</th>\n",
              "      <th>process_tweet</th>\n",
              "    </tr>\n",
              "  </thead>\n",
              "  <tbody>\n",
              "    <tr>\n",
              "      <th>0</th>\n",
              "      <td>2020-10-22</td>\n",
              "      <td>@ANI Isn't it the best poll promise ever?? Fre...</td>\n",
              "      <td>isnt best poll promis ever free covid vaccin v...</td>\n",
              "    </tr>\n",
              "    <tr>\n",
              "      <th>1</th>\n",
              "      <td>2020-10-22</td>\n",
              "      <td>Now states shall have wait for thier Vidhan Sa...</td>\n",
              "      <td>state shall wait thier vidhan sabha elect get ...</td>\n",
              "    </tr>\n",
              "    <tr>\n",
              "      <th>2</th>\n",
              "      <td>2020-10-22</td>\n",
              "      <td>@MisseeMonis They said vaccine for all but not...</td>\n",
              "      <td>said vaccin free covid vaccin new lakh rs ever...</td>\n",
              "    </tr>\n",
              "    <tr>\n",
              "      <th>3</th>\n",
              "      <td>2020-10-22</td>\n",
              "      <td>BJP really presenting \"free COVID vaccine\" as ...</td>\n",
              "      <td>bjp realli present free covid vaccin state man...</td>\n",
              "    </tr>\n",
              "    <tr>\n",
              "      <th>4</th>\n",
              "      <td>2020-10-22</td>\n",
              "      <td>Another dose of daily miserablism from Planet ...</td>\n",
              "      <td>anoth dose daili miserabl planet grauniad sub ...</td>\n",
              "    </tr>\n",
              "  </tbody>\n",
              "</table>\n",
              "</div>"
            ],
            "text/plain": [
              "         date  ...                                      process_tweet\n",
              "0  2020-10-22  ...  isnt best poll promis ever free covid vaccin v...\n",
              "1  2020-10-22  ...  state shall wait thier vidhan sabha elect get ...\n",
              "2  2020-10-22  ...  said vaccin free covid vaccin new lakh rs ever...\n",
              "3  2020-10-22  ...  bjp realli present free covid vaccin state man...\n",
              "4  2020-10-22  ...  anoth dose daili miserabl planet grauniad sub ...\n",
              "\n",
              "[5 rows x 3 columns]"
            ]
          },
          "metadata": {
            "tags": []
          },
          "execution_count": 35
        }
      ]
    },
    {
      "cell_type": "code",
      "metadata": {
        "colab": {
          "base_uri": "https://localhost:8080/"
        },
        "id": "mSs4yD-YPCzw",
        "outputId": "eebfe857-3a80-43b9-b331-85ba67d3bb33"
      },
      "source": [
        "!pip install vaderSentiment"
      ],
      "execution_count": null,
      "outputs": [
        {
          "output_type": "stream",
          "text": [
            "Collecting vaderSentiment\n",
            "\u001b[?25l  Downloading https://files.pythonhosted.org/packages/76/fc/310e16254683c1ed35eeb97386986d6c00bc29df17ce280aed64d55537e9/vaderSentiment-3.3.2-py2.py3-none-any.whl (125kB)\n",
            "\r\u001b[K     |██▋                             | 10kB 21.0MB/s eta 0:00:01\r\u001b[K     |█████▏                          | 20kB 16.6MB/s eta 0:00:01\r\u001b[K     |███████▉                        | 30kB 14.5MB/s eta 0:00:01\r\u001b[K     |██████████▍                     | 40kB 13.3MB/s eta 0:00:01\r\u001b[K     |█████████████                   | 51kB 7.4MB/s eta 0:00:01\r\u001b[K     |███████████████▋                | 61kB 8.6MB/s eta 0:00:01\r\u001b[K     |██████████████████▏             | 71kB 8.3MB/s eta 0:00:01\r\u001b[K     |████████████████████▉           | 81kB 9.1MB/s eta 0:00:01\r\u001b[K     |███████████████████████▍        | 92kB 8.5MB/s eta 0:00:01\r\u001b[K     |██████████████████████████      | 102kB 7.2MB/s eta 0:00:01\r\u001b[K     |████████████████████████████▋   | 112kB 7.2MB/s eta 0:00:01\r\u001b[K     |███████████████████████████████▏| 122kB 7.2MB/s eta 0:00:01\r\u001b[K     |████████████████████████████████| 133kB 7.2MB/s \n",
            "\u001b[?25hRequirement already satisfied: requests in /usr/local/lib/python3.7/dist-packages (from vaderSentiment) (2.23.0)\n",
            "Requirement already satisfied: certifi>=2017.4.17 in /usr/local/lib/python3.7/dist-packages (from requests->vaderSentiment) (2021.5.30)\n",
            "Requirement already satisfied: chardet<4,>=3.0.2 in /usr/local/lib/python3.7/dist-packages (from requests->vaderSentiment) (3.0.4)\n",
            "Requirement already satisfied: urllib3!=1.25.0,!=1.25.1,<1.26,>=1.21.1 in /usr/local/lib/python3.7/dist-packages (from requests->vaderSentiment) (1.24.3)\n",
            "Requirement already satisfied: idna<3,>=2.5 in /usr/local/lib/python3.7/dist-packages (from requests->vaderSentiment) (2.10)\n",
            "Installing collected packages: vaderSentiment\n",
            "Successfully installed vaderSentiment-3.3.2\n"
          ],
          "name": "stdout"
        }
      ]
    },
    {
      "cell_type": "code",
      "metadata": {
        "colab": {
          "base_uri": "https://localhost:8080/",
          "height": 202
        },
        "id": "btTqrnNq_rKV",
        "outputId": "8f945284-3b64-48d6-eded-4c9b377b0a37"
      },
      "source": [
        "data.head()"
      ],
      "execution_count": null,
      "outputs": [
        {
          "output_type": "execute_result",
          "data": {
            "text/html": [
              "<div>\n",
              "<style scoped>\n",
              "    .dataframe tbody tr th:only-of-type {\n",
              "        vertical-align: middle;\n",
              "    }\n",
              "\n",
              "    .dataframe tbody tr th {\n",
              "        vertical-align: top;\n",
              "    }\n",
              "\n",
              "    .dataframe thead th {\n",
              "        text-align: right;\n",
              "    }\n",
              "</style>\n",
              "<table border=\"1\" class=\"dataframe\">\n",
              "  <thead>\n",
              "    <tr style=\"text-align: right;\">\n",
              "      <th></th>\n",
              "      <th>date</th>\n",
              "      <th>tweet</th>\n",
              "      <th>process_tweet</th>\n",
              "    </tr>\n",
              "  </thead>\n",
              "  <tbody>\n",
              "    <tr>\n",
              "      <th>0</th>\n",
              "      <td>2020-10-22</td>\n",
              "      <td>@ANI Isn't it the best poll promise ever?? Fre...</td>\n",
              "      <td>isnt best poll promis ever free covid vaccin v...</td>\n",
              "    </tr>\n",
              "    <tr>\n",
              "      <th>1</th>\n",
              "      <td>2020-10-22</td>\n",
              "      <td>Now states shall have wait for thier Vidhan Sa...</td>\n",
              "      <td>state shall wait thier vidhan sabha elect get ...</td>\n",
              "    </tr>\n",
              "    <tr>\n",
              "      <th>2</th>\n",
              "      <td>2020-10-22</td>\n",
              "      <td>@MisseeMonis They said vaccine for all but not...</td>\n",
              "      <td>said vaccin free covid vaccin new lakh rs ever...</td>\n",
              "    </tr>\n",
              "    <tr>\n",
              "      <th>3</th>\n",
              "      <td>2020-10-22</td>\n",
              "      <td>BJP really presenting \"free COVID vaccine\" as ...</td>\n",
              "      <td>bjp realli present free covid vaccin state man...</td>\n",
              "    </tr>\n",
              "    <tr>\n",
              "      <th>4</th>\n",
              "      <td>2020-10-22</td>\n",
              "      <td>Another dose of daily miserablism from Planet ...</td>\n",
              "      <td>anoth dose daili miserabl planet grauniad sub ...</td>\n",
              "    </tr>\n",
              "  </tbody>\n",
              "</table>\n",
              "</div>"
            ],
            "text/plain": [
              "         date  ...                                      process_tweet\n",
              "0  2020-10-22  ...  isnt best poll promis ever free covid vaccin v...\n",
              "1  2020-10-22  ...  state shall wait thier vidhan sabha elect get ...\n",
              "2  2020-10-22  ...  said vaccin free covid vaccin new lakh rs ever...\n",
              "3  2020-10-22  ...  bjp realli present free covid vaccin state man...\n",
              "4  2020-10-22  ...  anoth dose daili miserabl planet grauniad sub ...\n",
              "\n",
              "[5 rows x 3 columns]"
            ]
          },
          "metadata": {
            "tags": []
          },
          "execution_count": 37
        }
      ]
    },
    {
      "cell_type": "code",
      "metadata": {
        "colab": {
          "base_uri": "https://localhost:8080/"
        },
        "id": "2rUqLCAFQCQj",
        "outputId": "8bba4649-5839-479f-a6cd-dd4ab6dcf6d8"
      },
      "source": [
        "\n",
        "import nltk\n",
        "nltk.download('vader_lexicon')\n",
        "from nltk.sentiment.vader import SentimentIntensityAnalyzer\n",
        "sid = SentimentIntensityAnalyzer()"
      ],
      "execution_count": null,
      "outputs": [
        {
          "output_type": "stream",
          "text": [
            "[nltk_data] Downloading package vader_lexicon to /root/nltk_data...\n"
          ],
          "name": "stdout"
        },
        {
          "output_type": "stream",
          "text": [
            "/usr/local/lib/python3.7/dist-packages/nltk/twitter/__init__.py:20: UserWarning: The twython library has not been installed. Some functionality from the twitter package will not be available.\n",
            "  warnings.warn(\"The twython library has not been installed. \"\n"
          ],
          "name": "stderr"
        }
      ]
    },
    {
      "cell_type": "code",
      "metadata": {
        "colab": {
          "base_uri": "https://localhost:8080/",
          "height": 202
        },
        "id": "Ytd7et31QKME",
        "outputId": "fd9709ee-a31d-4b14-e234-c23b405774b4"
      },
      "source": [
        "data['Polarity_Vader'] = data['process_tweet'].apply(lambda txt: sid.polarity_scores(txt)['compound'])\n",
        "data.head()"
      ],
      "execution_count": null,
      "outputs": [
        {
          "output_type": "execute_result",
          "data": {
            "text/html": [
              "<div>\n",
              "<style scoped>\n",
              "    .dataframe tbody tr th:only-of-type {\n",
              "        vertical-align: middle;\n",
              "    }\n",
              "\n",
              "    .dataframe tbody tr th {\n",
              "        vertical-align: top;\n",
              "    }\n",
              "\n",
              "    .dataframe thead th {\n",
              "        text-align: right;\n",
              "    }\n",
              "</style>\n",
              "<table border=\"1\" class=\"dataframe\">\n",
              "  <thead>\n",
              "    <tr style=\"text-align: right;\">\n",
              "      <th></th>\n",
              "      <th>date</th>\n",
              "      <th>tweet</th>\n",
              "      <th>process_tweet</th>\n",
              "      <th>Polarity_Vader</th>\n",
              "    </tr>\n",
              "  </thead>\n",
              "  <tbody>\n",
              "    <tr>\n",
              "      <th>0</th>\n",
              "      <td>2020-10-22</td>\n",
              "      <td>@ANI Isn't it the best poll promise ever?? Fre...</td>\n",
              "      <td>isnt best poll promis ever free covid vaccin v...</td>\n",
              "      <td>-0.7482</td>\n",
              "    </tr>\n",
              "    <tr>\n",
              "      <th>1</th>\n",
              "      <td>2020-10-22</td>\n",
              "      <td>Now states shall have wait for thier Vidhan Sa...</td>\n",
              "      <td>state shall wait thier vidhan sabha elect get ...</td>\n",
              "      <td>0.0000</td>\n",
              "    </tr>\n",
              "    <tr>\n",
              "      <th>2</th>\n",
              "      <td>2020-10-22</td>\n",
              "      <td>@MisseeMonis They said vaccine for all but not...</td>\n",
              "      <td>said vaccin free covid vaccin new lakh rs ever...</td>\n",
              "      <td>0.7717</td>\n",
              "    </tr>\n",
              "    <tr>\n",
              "      <th>3</th>\n",
              "      <td>2020-10-22</td>\n",
              "      <td>BJP really presenting \"free COVID vaccine\" as ...</td>\n",
              "      <td>bjp realli present free covid vaccin state man...</td>\n",
              "      <td>0.7964</td>\n",
              "    </tr>\n",
              "    <tr>\n",
              "      <th>4</th>\n",
              "      <td>2020-10-22</td>\n",
              "      <td>Another dose of daily miserablism from Planet ...</td>\n",
              "      <td>anoth dose daili miserabl planet grauniad sub ...</td>\n",
              "      <td>0.4404</td>\n",
              "    </tr>\n",
              "  </tbody>\n",
              "</table>\n",
              "</div>"
            ],
            "text/plain": [
              "         date  ... Polarity_Vader\n",
              "0  2020-10-22  ...        -0.7482\n",
              "1  2020-10-22  ...         0.0000\n",
              "2  2020-10-22  ...         0.7717\n",
              "3  2020-10-22  ...         0.7964\n",
              "4  2020-10-22  ...         0.4404\n",
              "\n",
              "[5 rows x 4 columns]"
            ]
          },
          "metadata": {
            "tags": []
          },
          "execution_count": 39
        }
      ]
    },
    {
      "cell_type": "code",
      "metadata": {
        "id": "pir0qSmiQvty"
      },
      "source": [
        ""
      ],
      "execution_count": null,
      "outputs": []
    },
    {
      "cell_type": "markdown",
      "metadata": {
        "id": "oQqDtD276ZNk"
      },
      "source": [
        "# Labeling\n",
        "\n",
        "5 labels: \n",
        "strongly positive,\n",
        "positive,\n",
        "nuteral,\n",
        "negative,\n",
        "strongly negetative.\n"
      ]
    },
    {
      "cell_type": "code",
      "metadata": {
        "id": "v5hTuxCeOM_P"
      },
      "source": [
        ""
      ],
      "execution_count": null,
      "outputs": []
    },
    {
      "cell_type": "code",
      "metadata": {
        "id": "AGMa2rlh52cW"
      },
      "source": [
        "\n",
        "def get_text_polarity(txt):\n",
        "  return TextBlob(txt).sentiment.polarity"
      ],
      "execution_count": null,
      "outputs": []
    },
    {
      "cell_type": "code",
      "metadata": {
        "id": "wGxnAfLo7p_6"
      },
      "source": [
        "#add 2 columns(subjectivity and polarity) to the data\n",
        "\n",
        "#data['Subjectivity'] = data['process_tweet'].apply(get_text_subjectivity)\n",
        "\n",
        "data['Polarity_textblob'] = data['process_tweet'].apply(get_text_polarity)"
      ],
      "execution_count": null,
      "outputs": []
    },
    {
      "cell_type": "code",
      "metadata": {
        "id": "LGvzrHiC8edE"
      },
      "source": [
        "\n",
        "\n",
        "#Labeling\n",
        "def get_text_analysis(i):\n",
        "  if (i<-0.5):\n",
        "    return 'Strongly Against'\n",
        "  elif ((i<0 ) and (i >= -0.5)):\n",
        "    return 'Against'\n",
        "  elif (i == 0):\n",
        "    return 'Neutral'\n",
        "  elif (i>0 and i<=0.5):\n",
        "    return 'Favour'\n",
        "  else:\n",
        "    return 'Strongly in Favour'\n",
        "\n"
      ],
      "execution_count": null,
      "outputs": []
    },
    {
      "cell_type": "code",
      "metadata": {
        "id": "eUeB5HlG-Ejk"
      },
      "source": [
        "data['Sentiment_TB'] = data['Polarity_textblob'].apply(get_text_analysis)\n"
      ],
      "execution_count": null,
      "outputs": []
    },
    {
      "cell_type": "code",
      "metadata": {
        "id": "CbQ-RZbQ_3IX"
      },
      "source": [
        "data['Sentiment_VADER'] = data['Polarity_Vader'].apply(get_text_analysis)"
      ],
      "execution_count": null,
      "outputs": []
    },
    {
      "cell_type": "code",
      "metadata": {
        "colab": {
          "base_uri": "https://localhost:8080/",
          "height": 202
        },
        "id": "rapWMpLaTRy4",
        "outputId": "af89d0ca-45b9-4a73-b410-ffd170c3c319"
      },
      "source": [
        "data.head()"
      ],
      "execution_count": null,
      "outputs": [
        {
          "output_type": "execute_result",
          "data": {
            "text/html": [
              "<div>\n",
              "<style scoped>\n",
              "    .dataframe tbody tr th:only-of-type {\n",
              "        vertical-align: middle;\n",
              "    }\n",
              "\n",
              "    .dataframe tbody tr th {\n",
              "        vertical-align: top;\n",
              "    }\n",
              "\n",
              "    .dataframe thead th {\n",
              "        text-align: right;\n",
              "    }\n",
              "</style>\n",
              "<table border=\"1\" class=\"dataframe\">\n",
              "  <thead>\n",
              "    <tr style=\"text-align: right;\">\n",
              "      <th></th>\n",
              "      <th>date</th>\n",
              "      <th>tweet</th>\n",
              "      <th>process_tweet</th>\n",
              "      <th>Polarity_Vader</th>\n",
              "      <th>Polarity_textblob</th>\n",
              "      <th>Sentiment_TB</th>\n",
              "      <th>Sentiment_VADER</th>\n",
              "    </tr>\n",
              "  </thead>\n",
              "  <tbody>\n",
              "    <tr>\n",
              "      <th>0</th>\n",
              "      <td>2020-10-22</td>\n",
              "      <td>@ANI Isn't it the best poll promise ever?? Fre...</td>\n",
              "      <td>isnt best poll promis ever free covid vaccin v...</td>\n",
              "      <td>-0.7482</td>\n",
              "      <td>0.197500</td>\n",
              "      <td>Favour</td>\n",
              "      <td>Strongly Against</td>\n",
              "    </tr>\n",
              "    <tr>\n",
              "      <th>1</th>\n",
              "      <td>2020-10-22</td>\n",
              "      <td>Now states shall have wait for thier Vidhan Sa...</td>\n",
              "      <td>state shall wait thier vidhan sabha elect get ...</td>\n",
              "      <td>0.0000</td>\n",
              "      <td>0.800000</td>\n",
              "      <td>Strongly in Favour</td>\n",
              "      <td>Neutral</td>\n",
              "    </tr>\n",
              "    <tr>\n",
              "      <th>2</th>\n",
              "      <td>2020-10-22</td>\n",
              "      <td>@MisseeMonis They said vaccine for all but not...</td>\n",
              "      <td>said vaccin free covid vaccin new lakh rs ever...</td>\n",
              "      <td>0.7717</td>\n",
              "      <td>0.378788</td>\n",
              "      <td>Favour</td>\n",
              "      <td>Strongly in Favour</td>\n",
              "    </tr>\n",
              "    <tr>\n",
              "      <th>3</th>\n",
              "      <td>2020-10-22</td>\n",
              "      <td>BJP really presenting \"free COVID vaccine\" as ...</td>\n",
              "      <td>bjp realli present free covid vaccin state man...</td>\n",
              "      <td>0.7964</td>\n",
              "      <td>0.500000</td>\n",
              "      <td>Favour</td>\n",
              "      <td>Strongly in Favour</td>\n",
              "    </tr>\n",
              "    <tr>\n",
              "      <th>4</th>\n",
              "      <td>2020-10-22</td>\n",
              "      <td>Another dose of daily miserablism from Planet ...</td>\n",
              "      <td>anoth dose daili miserabl planet grauniad sub ...</td>\n",
              "      <td>0.4404</td>\n",
              "      <td>0.000000</td>\n",
              "      <td>Neutral</td>\n",
              "      <td>Favour</td>\n",
              "    </tr>\n",
              "  </tbody>\n",
              "</table>\n",
              "</div>"
            ],
            "text/plain": [
              "         date  ...     Sentiment_VADER\n",
              "0  2020-10-22  ...    Strongly Against\n",
              "1  2020-10-22  ...             Neutral\n",
              "2  2020-10-22  ...  Strongly in Favour\n",
              "3  2020-10-22  ...  Strongly in Favour\n",
              "4  2020-10-22  ...              Favour\n",
              "\n",
              "[5 rows x 7 columns]"
            ]
          },
          "metadata": {
            "tags": []
          },
          "execution_count": 45
        }
      ]
    },
    {
      "cell_type": "code",
      "metadata": {
        "id": "ny013lIFy0UW"
      },
      "source": [
        "possible_labels = data.Sentiment_TB.unique()\n",
        "\n",
        "label_dict = {}\n",
        "for index, possible_label in enumerate(possible_labels): \n",
        "#The enumerate() function takes a collection (e.g. a tuple) and returns it as an enumerate object.\n",
        "    label_dict[possible_label] = index\n",
        "\n",
        "data['label_TB'] = data.Sentiment_TB.replace(label_dict)\n",
        "\n"
      ],
      "execution_count": null,
      "outputs": []
    },
    {
      "cell_type": "code",
      "metadata": {
        "id": "2EgK-IJeT95f"
      },
      "source": [
        "#possible_labels = data.Sentiment_VADER.unique()\n",
        "\n",
        "label_dict = {}\n",
        "for index, possible_label in enumerate(possible_labels): \n",
        "#The enumerate() function takes a collection (e.g. a tuple) and returns it as an enumerate object.\n",
        "    label_dict[possible_label] = index\n",
        "\n",
        "data['label_VD'] = data.Sentiment_VADER.replace(label_dict)\n"
      ],
      "execution_count": null,
      "outputs": []
    },
    {
      "cell_type": "code",
      "metadata": {
        "colab": {
          "base_uri": "https://localhost:8080/"
        },
        "id": "zg--TapwEPw4",
        "outputId": "79142e51-ee99-420b-ba48-229477e7e424"
      },
      "source": [
        "possible_labels"
      ],
      "execution_count": null,
      "outputs": [
        {
          "output_type": "execute_result",
          "data": {
            "text/plain": [
              "array(['Favour', 'Strongly in Favour', 'Neutral', 'Against',\n",
              "       'Strongly Against'], dtype=object)"
            ]
          },
          "metadata": {
            "tags": []
          },
          "execution_count": 48
        }
      ]
    },
    {
      "cell_type": "code",
      "metadata": {
        "id": "yOn4-1icTwo1",
        "colab": {
          "base_uri": "https://localhost:8080/",
          "height": 285
        },
        "outputId": "170da889-37ed-4c1b-a87e-f45ea3475f31"
      },
      "source": [
        "from sklearn.utils import shuffle\n",
        "data = shuffle(data)\n",
        "data.reset_index(inplace=True, drop=True)\n",
        "data.head()"
      ],
      "execution_count": null,
      "outputs": [
        {
          "output_type": "execute_result",
          "data": {
            "text/html": [
              "<div>\n",
              "<style scoped>\n",
              "    .dataframe tbody tr th:only-of-type {\n",
              "        vertical-align: middle;\n",
              "    }\n",
              "\n",
              "    .dataframe tbody tr th {\n",
              "        vertical-align: top;\n",
              "    }\n",
              "\n",
              "    .dataframe thead th {\n",
              "        text-align: right;\n",
              "    }\n",
              "</style>\n",
              "<table border=\"1\" class=\"dataframe\">\n",
              "  <thead>\n",
              "    <tr style=\"text-align: right;\">\n",
              "      <th></th>\n",
              "      <th>date</th>\n",
              "      <th>tweet</th>\n",
              "      <th>process_tweet</th>\n",
              "      <th>Polarity_Vader</th>\n",
              "      <th>Polarity_textblob</th>\n",
              "      <th>Sentiment_TB</th>\n",
              "      <th>Sentiment_VADER</th>\n",
              "      <th>label_TB</th>\n",
              "      <th>label_VD</th>\n",
              "    </tr>\n",
              "  </thead>\n",
              "  <tbody>\n",
              "    <tr>\n",
              "      <th>0</th>\n",
              "      <td>2020-09-11 00:00:00</td>\n",
              "      <td>Pfizer expects to file an #eua for its #corona...</td>\n",
              "      <td>pfizer expect file eua coronaviru vaccin soon ...</td>\n",
              "      <td>0.2263</td>\n",
              "      <td>0.000</td>\n",
              "      <td>Neutral</td>\n",
              "      <td>Favour</td>\n",
              "      <td>2</td>\n",
              "      <td>0</td>\n",
              "    </tr>\n",
              "    <tr>\n",
              "      <th>1</th>\n",
              "      <td>2020-09-12 00:00:00</td>\n",
              "      <td>15 years from now the Covid vaccine will be a ...</td>\n",
              "      <td>year covid vaccin normal thing understand relu...</td>\n",
              "      <td>0.0000</td>\n",
              "      <td>0.175</td>\n",
              "      <td>Favour</td>\n",
              "      <td>Neutral</td>\n",
              "      <td>0</td>\n",
              "      <td>2</td>\n",
              "    </tr>\n",
              "    <tr>\n",
              "      <th>2</th>\n",
              "      <td>2020-06-09</td>\n",
              "      <td>@iamShaniera Well said!! Unfortunately this di...</td>\n",
              "      <td>well said unfortun diseas u refer limit peopl ...</td>\n",
              "      <td>-0.1027</td>\n",
              "      <td>-0.800</td>\n",
              "      <td>Strongly Against</td>\n",
              "      <td>Against</td>\n",
              "      <td>4</td>\n",
              "      <td>3</td>\n",
              "    </tr>\n",
              "    <tr>\n",
              "      <th>3</th>\n",
              "      <td>2020-12-11 00:00:00</td>\n",
              "      <td>@drsimonegold @ezralevant @Ticketmaster I look...</td>\n",
              "      <td>look forward scalp covidvaccin paperwork park lot</td>\n",
              "      <td>0.0000</td>\n",
              "      <td>0.000</td>\n",
              "      <td>Neutral</td>\n",
              "      <td>Neutral</td>\n",
              "      <td>2</td>\n",
              "      <td>2</td>\n",
              "    </tr>\n",
              "    <tr>\n",
              "      <th>4</th>\n",
              "      <td>2020-12-15 00:00:00</td>\n",
              "      <td>I hope the covid vaccine mutates and gives eve...</td>\n",
              "      <td>hope covid vaccin mutat give everyon superpow</td>\n",
              "      <td>0.4404</td>\n",
              "      <td>0.000</td>\n",
              "      <td>Neutral</td>\n",
              "      <td>Favour</td>\n",
              "      <td>2</td>\n",
              "      <td>0</td>\n",
              "    </tr>\n",
              "  </tbody>\n",
              "</table>\n",
              "</div>"
            ],
            "text/plain": [
              "                  date  ... label_VD\n",
              "0  2020-09-11 00:00:00  ...        0\n",
              "1  2020-09-12 00:00:00  ...        2\n",
              "2           2020-06-09  ...        3\n",
              "3  2020-12-11 00:00:00  ...        2\n",
              "4  2020-12-15 00:00:00  ...        0\n",
              "\n",
              "[5 rows x 9 columns]"
            ]
          },
          "metadata": {
            "tags": []
          },
          "execution_count": 49
        }
      ]
    },
    {
      "cell_type": "code",
      "metadata": {
        "id": "TEWeE0IIec5a"
      },
      "source": [
        "data1=data.copy()"
      ],
      "execution_count": null,
      "outputs": []
    },
    {
      "cell_type": "code",
      "metadata": {
        "colab": {
          "base_uri": "https://localhost:8080/",
          "height": 202
        },
        "id": "kPXKsJQ4AGcM",
        "outputId": "53bdcd48-6ebe-408f-ba7d-36699f568855"
      },
      "source": [
        "df=data[['date','Sentiment_TB' ,'label_TB','Sentiment_VADER' ,'label_VD']]\n",
        "data = data[['process_tweet','Sentiment_TB' ,'label_TB','Sentiment_VADER' ,'label_VD']]\n",
        "data.head()\n",
        "\n"
      ],
      "execution_count": null,
      "outputs": [
        {
          "output_type": "execute_result",
          "data": {
            "text/html": [
              "<div>\n",
              "<style scoped>\n",
              "    .dataframe tbody tr th:only-of-type {\n",
              "        vertical-align: middle;\n",
              "    }\n",
              "\n",
              "    .dataframe tbody tr th {\n",
              "        vertical-align: top;\n",
              "    }\n",
              "\n",
              "    .dataframe thead th {\n",
              "        text-align: right;\n",
              "    }\n",
              "</style>\n",
              "<table border=\"1\" class=\"dataframe\">\n",
              "  <thead>\n",
              "    <tr style=\"text-align: right;\">\n",
              "      <th></th>\n",
              "      <th>process_tweet</th>\n",
              "      <th>Sentiment_TB</th>\n",
              "      <th>label_TB</th>\n",
              "      <th>Sentiment_VADER</th>\n",
              "      <th>label_VD</th>\n",
              "    </tr>\n",
              "  </thead>\n",
              "  <tbody>\n",
              "    <tr>\n",
              "      <th>0</th>\n",
              "      <td>pfizer expect file eua coronaviru vaccin soon ...</td>\n",
              "      <td>Neutral</td>\n",
              "      <td>2</td>\n",
              "      <td>Favour</td>\n",
              "      <td>0</td>\n",
              "    </tr>\n",
              "    <tr>\n",
              "      <th>1</th>\n",
              "      <td>year covid vaccin normal thing understand relu...</td>\n",
              "      <td>Favour</td>\n",
              "      <td>0</td>\n",
              "      <td>Neutral</td>\n",
              "      <td>2</td>\n",
              "    </tr>\n",
              "    <tr>\n",
              "      <th>2</th>\n",
              "      <td>well said unfortun diseas u refer limit peopl ...</td>\n",
              "      <td>Strongly Against</td>\n",
              "      <td>4</td>\n",
              "      <td>Against</td>\n",
              "      <td>3</td>\n",
              "    </tr>\n",
              "    <tr>\n",
              "      <th>3</th>\n",
              "      <td>look forward scalp covidvaccin paperwork park lot</td>\n",
              "      <td>Neutral</td>\n",
              "      <td>2</td>\n",
              "      <td>Neutral</td>\n",
              "      <td>2</td>\n",
              "    </tr>\n",
              "    <tr>\n",
              "      <th>4</th>\n",
              "      <td>hope covid vaccin mutat give everyon superpow</td>\n",
              "      <td>Neutral</td>\n",
              "      <td>2</td>\n",
              "      <td>Favour</td>\n",
              "      <td>0</td>\n",
              "    </tr>\n",
              "  </tbody>\n",
              "</table>\n",
              "</div>"
            ],
            "text/plain": [
              "                                       process_tweet  ... label_VD\n",
              "0  pfizer expect file eua coronaviru vaccin soon ...  ...        0\n",
              "1  year covid vaccin normal thing understand relu...  ...        2\n",
              "2  well said unfortun diseas u refer limit peopl ...  ...        3\n",
              "3  look forward scalp covidvaccin paperwork park lot  ...        2\n",
              "4      hope covid vaccin mutat give everyon superpow  ...        0\n",
              "\n",
              "[5 rows x 5 columns]"
            ]
          },
          "metadata": {
            "tags": []
          },
          "execution_count": 51
        }
      ]
    },
    {
      "cell_type": "code",
      "metadata": {
        "colab": {
          "base_uri": "https://localhost:8080/",
          "height": 202
        },
        "id": "igFHRNF6Xigm",
        "outputId": "d4925048-ecbc-4684-a477-3f03067940e2"
      },
      "source": [
        "from sklearn.utils import shuffle\n",
        "df = shuffle(df)\n",
        "df.reset_index(inplace=True, drop=True)\n",
        "df.head()"
      ],
      "execution_count": null,
      "outputs": [
        {
          "output_type": "execute_result",
          "data": {
            "text/html": [
              "<div>\n",
              "<style scoped>\n",
              "    .dataframe tbody tr th:only-of-type {\n",
              "        vertical-align: middle;\n",
              "    }\n",
              "\n",
              "    .dataframe tbody tr th {\n",
              "        vertical-align: top;\n",
              "    }\n",
              "\n",
              "    .dataframe thead th {\n",
              "        text-align: right;\n",
              "    }\n",
              "</style>\n",
              "<table border=\"1\" class=\"dataframe\">\n",
              "  <thead>\n",
              "    <tr style=\"text-align: right;\">\n",
              "      <th></th>\n",
              "      <th>date</th>\n",
              "      <th>Sentiment_TB</th>\n",
              "      <th>label_TB</th>\n",
              "      <th>Sentiment_VADER</th>\n",
              "      <th>label_VD</th>\n",
              "    </tr>\n",
              "  </thead>\n",
              "  <tbody>\n",
              "    <tr>\n",
              "      <th>0</th>\n",
              "      <td>2020-10-12 00:00:00</td>\n",
              "      <td>Neutral</td>\n",
              "      <td>2</td>\n",
              "      <td>Strongly Against</td>\n",
              "      <td>4</td>\n",
              "    </tr>\n",
              "    <tr>\n",
              "      <th>1</th>\n",
              "      <td>2020-06-12 00:00:00</td>\n",
              "      <td>Favour</td>\n",
              "      <td>0</td>\n",
              "      <td>Neutral</td>\n",
              "      <td>2</td>\n",
              "    </tr>\n",
              "    <tr>\n",
              "      <th>2</th>\n",
              "      <td>2020-11-14 00:00:00</td>\n",
              "      <td>Neutral</td>\n",
              "      <td>2</td>\n",
              "      <td>Against</td>\n",
              "      <td>3</td>\n",
              "    </tr>\n",
              "    <tr>\n",
              "      <th>3</th>\n",
              "      <td>2020-01-12 00:00:00</td>\n",
              "      <td>Neutral</td>\n",
              "      <td>2</td>\n",
              "      <td>Neutral</td>\n",
              "      <td>2</td>\n",
              "    </tr>\n",
              "    <tr>\n",
              "      <th>4</th>\n",
              "      <td>2020-11-19 00:00:00</td>\n",
              "      <td>Neutral</td>\n",
              "      <td>2</td>\n",
              "      <td>Strongly Against</td>\n",
              "      <td>4</td>\n",
              "    </tr>\n",
              "  </tbody>\n",
              "</table>\n",
              "</div>"
            ],
            "text/plain": [
              "                  date Sentiment_TB  label_TB   Sentiment_VADER  label_VD\n",
              "0  2020-10-12 00:00:00      Neutral         2  Strongly Against         4\n",
              "1  2020-06-12 00:00:00       Favour         0           Neutral         2\n",
              "2  2020-11-14 00:00:00      Neutral         2           Against         3\n",
              "3  2020-01-12 00:00:00      Neutral         2           Neutral         2\n",
              "4  2020-11-19 00:00:00      Neutral         2  Strongly Against         4"
            ]
          },
          "metadata": {
            "tags": []
          },
          "execution_count": 52
        }
      ]
    },
    {
      "cell_type": "code",
      "metadata": {
        "colab": {
          "base_uri": "https://localhost:8080/",
          "height": 414
        },
        "id": "D1QC0AmcU5vk",
        "outputId": "3119a4d4-441d-47a6-f59a-f0aeb2be408b"
      },
      "source": [
        "df[\"date\"] = pd.to_datetime(df['date'])\n",
        "\n",
        "df = df.sort_values(by='date')\n",
        "display(df)"
      ],
      "execution_count": null,
      "outputs": [
        {
          "output_type": "display_data",
          "data": {
            "text/html": [
              "<div>\n",
              "<style scoped>\n",
              "    .dataframe tbody tr th:only-of-type {\n",
              "        vertical-align: middle;\n",
              "    }\n",
              "\n",
              "    .dataframe tbody tr th {\n",
              "        vertical-align: top;\n",
              "    }\n",
              "\n",
              "    .dataframe thead th {\n",
              "        text-align: right;\n",
              "    }\n",
              "</style>\n",
              "<table border=\"1\" class=\"dataframe\">\n",
              "  <thead>\n",
              "    <tr style=\"text-align: right;\">\n",
              "      <th></th>\n",
              "      <th>date</th>\n",
              "      <th>Sentiment_TB</th>\n",
              "      <th>label_TB</th>\n",
              "      <th>Sentiment_VADER</th>\n",
              "      <th>label_VD</th>\n",
              "    </tr>\n",
              "  </thead>\n",
              "  <tbody>\n",
              "    <tr>\n",
              "      <th>455142</th>\n",
              "      <td>2020-01-11</td>\n",
              "      <td>Neutral</td>\n",
              "      <td>2</td>\n",
              "      <td>Neutral</td>\n",
              "      <td>2</td>\n",
              "    </tr>\n",
              "    <tr>\n",
              "      <th>340542</th>\n",
              "      <td>2020-01-11</td>\n",
              "      <td>Against</td>\n",
              "      <td>3</td>\n",
              "      <td>Favour</td>\n",
              "      <td>0</td>\n",
              "    </tr>\n",
              "    <tr>\n",
              "      <th>6520</th>\n",
              "      <td>2020-01-11</td>\n",
              "      <td>Neutral</td>\n",
              "      <td>2</td>\n",
              "      <td>Neutral</td>\n",
              "      <td>2</td>\n",
              "    </tr>\n",
              "    <tr>\n",
              "      <th>443864</th>\n",
              "      <td>2020-01-11</td>\n",
              "      <td>Neutral</td>\n",
              "      <td>2</td>\n",
              "      <td>Neutral</td>\n",
              "      <td>2</td>\n",
              "    </tr>\n",
              "    <tr>\n",
              "      <th>734485</th>\n",
              "      <td>2020-01-11</td>\n",
              "      <td>Favour</td>\n",
              "      <td>0</td>\n",
              "      <td>Favour</td>\n",
              "      <td>0</td>\n",
              "    </tr>\n",
              "    <tr>\n",
              "      <th>...</th>\n",
              "      <td>...</td>\n",
              "      <td>...</td>\n",
              "      <td>...</td>\n",
              "      <td>...</td>\n",
              "      <td>...</td>\n",
              "    </tr>\n",
              "    <tr>\n",
              "      <th>587739</th>\n",
              "      <td>2020-12-16</td>\n",
              "      <td>Neutral</td>\n",
              "      <td>2</td>\n",
              "      <td>Neutral</td>\n",
              "      <td>2</td>\n",
              "    </tr>\n",
              "    <tr>\n",
              "      <th>8002</th>\n",
              "      <td>2020-12-16</td>\n",
              "      <td>Favour</td>\n",
              "      <td>0</td>\n",
              "      <td>Neutral</td>\n",
              "      <td>2</td>\n",
              "    </tr>\n",
              "    <tr>\n",
              "      <th>354511</th>\n",
              "      <td>2020-12-16</td>\n",
              "      <td>Favour</td>\n",
              "      <td>0</td>\n",
              "      <td>Strongly in Favour</td>\n",
              "      <td>1</td>\n",
              "    </tr>\n",
              "    <tr>\n",
              "      <th>300333</th>\n",
              "      <td>2020-12-16</td>\n",
              "      <td>Against</td>\n",
              "      <td>3</td>\n",
              "      <td>Neutral</td>\n",
              "      <td>2</td>\n",
              "    </tr>\n",
              "    <tr>\n",
              "      <th>77554</th>\n",
              "      <td>2020-12-16</td>\n",
              "      <td>Favour</td>\n",
              "      <td>0</td>\n",
              "      <td>Against</td>\n",
              "      <td>3</td>\n",
              "    </tr>\n",
              "  </tbody>\n",
              "</table>\n",
              "<p>774046 rows × 5 columns</p>\n",
              "</div>"
            ],
            "text/plain": [
              "             date Sentiment_TB  label_TB     Sentiment_VADER  label_VD\n",
              "455142 2020-01-11      Neutral         2             Neutral         2\n",
              "340542 2020-01-11      Against         3              Favour         0\n",
              "6520   2020-01-11      Neutral         2             Neutral         2\n",
              "443864 2020-01-11      Neutral         2             Neutral         2\n",
              "734485 2020-01-11       Favour         0              Favour         0\n",
              "...           ...          ...       ...                 ...       ...\n",
              "587739 2020-12-16      Neutral         2             Neutral         2\n",
              "8002   2020-12-16       Favour         0             Neutral         2\n",
              "354511 2020-12-16       Favour         0  Strongly in Favour         1\n",
              "300333 2020-12-16      Against         3             Neutral         2\n",
              "77554  2020-12-16       Favour         0             Against         3\n",
              "\n",
              "[774046 rows x 5 columns]"
            ]
          },
          "metadata": {
            "tags": []
          }
        }
      ]
    },
    {
      "cell_type": "code",
      "metadata": {
        "colab": {
          "base_uri": "https://localhost:8080/",
          "height": 202
        },
        "id": "qJ4VWGRedbQt",
        "outputId": "d540835c-5a77-493f-d8e6-c4cff7fe457e"
      },
      "source": [
        "df['mnth_yr'] = df['date'].apply(lambda x: x.strftime('%B-%Y')) \n",
        "df.head()"
      ],
      "execution_count": null,
      "outputs": [
        {
          "output_type": "execute_result",
          "data": {
            "text/html": [
              "<div>\n",
              "<style scoped>\n",
              "    .dataframe tbody tr th:only-of-type {\n",
              "        vertical-align: middle;\n",
              "    }\n",
              "\n",
              "    .dataframe tbody tr th {\n",
              "        vertical-align: top;\n",
              "    }\n",
              "\n",
              "    .dataframe thead th {\n",
              "        text-align: right;\n",
              "    }\n",
              "</style>\n",
              "<table border=\"1\" class=\"dataframe\">\n",
              "  <thead>\n",
              "    <tr style=\"text-align: right;\">\n",
              "      <th></th>\n",
              "      <th>date</th>\n",
              "      <th>Sentiment_TB</th>\n",
              "      <th>label_TB</th>\n",
              "      <th>Sentiment_VADER</th>\n",
              "      <th>label_VD</th>\n",
              "      <th>mnth_yr</th>\n",
              "    </tr>\n",
              "  </thead>\n",
              "  <tbody>\n",
              "    <tr>\n",
              "      <th>455142</th>\n",
              "      <td>2020-01-11</td>\n",
              "      <td>Neutral</td>\n",
              "      <td>2</td>\n",
              "      <td>Neutral</td>\n",
              "      <td>2</td>\n",
              "      <td>January-2020</td>\n",
              "    </tr>\n",
              "    <tr>\n",
              "      <th>340542</th>\n",
              "      <td>2020-01-11</td>\n",
              "      <td>Against</td>\n",
              "      <td>3</td>\n",
              "      <td>Favour</td>\n",
              "      <td>0</td>\n",
              "      <td>January-2020</td>\n",
              "    </tr>\n",
              "    <tr>\n",
              "      <th>6520</th>\n",
              "      <td>2020-01-11</td>\n",
              "      <td>Neutral</td>\n",
              "      <td>2</td>\n",
              "      <td>Neutral</td>\n",
              "      <td>2</td>\n",
              "      <td>January-2020</td>\n",
              "    </tr>\n",
              "    <tr>\n",
              "      <th>443864</th>\n",
              "      <td>2020-01-11</td>\n",
              "      <td>Neutral</td>\n",
              "      <td>2</td>\n",
              "      <td>Neutral</td>\n",
              "      <td>2</td>\n",
              "      <td>January-2020</td>\n",
              "    </tr>\n",
              "    <tr>\n",
              "      <th>734485</th>\n",
              "      <td>2020-01-11</td>\n",
              "      <td>Favour</td>\n",
              "      <td>0</td>\n",
              "      <td>Favour</td>\n",
              "      <td>0</td>\n",
              "      <td>January-2020</td>\n",
              "    </tr>\n",
              "  </tbody>\n",
              "</table>\n",
              "</div>"
            ],
            "text/plain": [
              "             date Sentiment_TB  ...  label_VD       mnth_yr\n",
              "455142 2020-01-11      Neutral  ...         2  January-2020\n",
              "340542 2020-01-11      Against  ...         0  January-2020\n",
              "6520   2020-01-11      Neutral  ...         2  January-2020\n",
              "443864 2020-01-11      Neutral  ...         2  January-2020\n",
              "734485 2020-01-11       Favour  ...         0  January-2020\n",
              "\n",
              "[5 rows x 6 columns]"
            ]
          },
          "metadata": {
            "tags": []
          },
          "execution_count": 54
        }
      ]
    },
    {
      "cell_type": "code",
      "metadata": {
        "colab": {
          "base_uri": "https://localhost:8080/",
          "height": 202
        },
        "id": "eXm6zlb4X0HC",
        "outputId": "5c55e0af-ab08-4cad-e164-75ae030ce443"
      },
      "source": [
        "from sklearn.utils import shuffle\n",
        "df = shuffle(df)\n",
        "df.reset_index(inplace=True, drop=True)\n",
        "df.head()"
      ],
      "execution_count": null,
      "outputs": [
        {
          "output_type": "execute_result",
          "data": {
            "text/html": [
              "<div>\n",
              "<style scoped>\n",
              "    .dataframe tbody tr th:only-of-type {\n",
              "        vertical-align: middle;\n",
              "    }\n",
              "\n",
              "    .dataframe tbody tr th {\n",
              "        vertical-align: top;\n",
              "    }\n",
              "\n",
              "    .dataframe thead th {\n",
              "        text-align: right;\n",
              "    }\n",
              "</style>\n",
              "<table border=\"1\" class=\"dataframe\">\n",
              "  <thead>\n",
              "    <tr style=\"text-align: right;\">\n",
              "      <th></th>\n",
              "      <th>date</th>\n",
              "      <th>Sentiment_TB</th>\n",
              "      <th>label_TB</th>\n",
              "      <th>Sentiment_VADER</th>\n",
              "      <th>label_VD</th>\n",
              "      <th>mnth_yr</th>\n",
              "    </tr>\n",
              "  </thead>\n",
              "  <tbody>\n",
              "    <tr>\n",
              "      <th>0</th>\n",
              "      <td>2020-09-09</td>\n",
              "      <td>Neutral</td>\n",
              "      <td>2</td>\n",
              "      <td>Neutral</td>\n",
              "      <td>2</td>\n",
              "      <td>September-2020</td>\n",
              "    </tr>\n",
              "    <tr>\n",
              "      <th>1</th>\n",
              "      <td>2020-08-28</td>\n",
              "      <td>Favour</td>\n",
              "      <td>0</td>\n",
              "      <td>Favour</td>\n",
              "      <td>0</td>\n",
              "      <td>August-2020</td>\n",
              "    </tr>\n",
              "    <tr>\n",
              "      <th>2</th>\n",
              "      <td>2020-11-24</td>\n",
              "      <td>Neutral</td>\n",
              "      <td>2</td>\n",
              "      <td>Against</td>\n",
              "      <td>3</td>\n",
              "      <td>November-2020</td>\n",
              "    </tr>\n",
              "    <tr>\n",
              "      <th>3</th>\n",
              "      <td>2020-11-18</td>\n",
              "      <td>Neutral</td>\n",
              "      <td>2</td>\n",
              "      <td>Against</td>\n",
              "      <td>3</td>\n",
              "      <td>November-2020</td>\n",
              "    </tr>\n",
              "    <tr>\n",
              "      <th>4</th>\n",
              "      <td>2020-12-13</td>\n",
              "      <td>Favour</td>\n",
              "      <td>0</td>\n",
              "      <td>Strongly in Favour</td>\n",
              "      <td>1</td>\n",
              "      <td>December-2020</td>\n",
              "    </tr>\n",
              "  </tbody>\n",
              "</table>\n",
              "</div>"
            ],
            "text/plain": [
              "        date Sentiment_TB  ...  label_VD         mnth_yr\n",
              "0 2020-09-09      Neutral  ...         2  September-2020\n",
              "1 2020-08-28       Favour  ...         0     August-2020\n",
              "2 2020-11-24      Neutral  ...         3   November-2020\n",
              "3 2020-11-18      Neutral  ...         3   November-2020\n",
              "4 2020-12-13       Favour  ...         1   December-2020\n",
              "\n",
              "[5 rows x 6 columns]"
            ]
          },
          "metadata": {
            "tags": []
          },
          "execution_count": 55
        }
      ]
    },
    {
      "cell_type": "code",
      "metadata": {
        "colab": {
          "base_uri": "https://localhost:8080/"
        },
        "id": "M99HSqH1doNZ",
        "outputId": "4fdcd123-3350-4e45-e14a-701b3ee16e6f"
      },
      "source": [
        "df['mnth_yr'].unique()"
      ],
      "execution_count": null,
      "outputs": [
        {
          "output_type": "execute_result",
          "data": {
            "text/plain": [
              "array(['September-2020', 'August-2020', 'November-2020', 'December-2020',\n",
              "       'April-2020', 'January-2020', 'October-2020', 'July-2020',\n",
              "       'February-2020', 'June-2020', 'March-2020', 'May-2020'],\n",
              "      dtype=object)"
            ]
          },
          "metadata": {
            "tags": []
          },
          "execution_count": 56
        }
      ]
    },
    {
      "cell_type": "code",
      "metadata": {
        "colab": {
          "base_uri": "https://localhost:8080/"
        },
        "id": "axylLukKfDxO",
        "outputId": "a64ac318-9960-4cbc-ca11-11bca97b51f7"
      },
      "source": [
        "df['Year'] = pd.DatetimeIndex(df['date']).year  \n",
        "df['Year'].unique()"
      ],
      "execution_count": null,
      "outputs": [
        {
          "output_type": "execute_result",
          "data": {
            "text/plain": [
              "array([2020])"
            ]
          },
          "metadata": {
            "tags": []
          },
          "execution_count": 57
        }
      ]
    },
    {
      "cell_type": "code",
      "metadata": {
        "colab": {
          "base_uri": "https://localhost:8080/"
        },
        "id": "ZD9yROnj6RyY",
        "outputId": "5ce1e02a-3037-4ffa-8d65-f7546b615744"
      },
      "source": [
        "from pandas import datetime \n",
        "\n",
        "df['date'] = pd.to_datetime(df['date'])\n",
        "df['Month'] = df['date'].dt.month\n",
        "df['year'] = df['date'].dt.year\n",
        "df['Month-str-full'] = df['date'].dt.strftime('%B')"
      ],
      "execution_count": null,
      "outputs": [
        {
          "output_type": "stream",
          "text": [
            "/usr/local/lib/python3.7/dist-packages/ipykernel_launcher.py:1: FutureWarning: The pandas.datetime class is deprecated and will be removed from pandas in a future version. Import from datetime module instead.\n",
            "  \"\"\"Entry point for launching an IPython kernel.\n"
          ],
          "name": "stderr"
        }
      ]
    },
    {
      "cell_type": "code",
      "metadata": {
        "colab": {
          "base_uri": "https://localhost:8080/"
        },
        "id": "eUpbcRlH4yGb",
        "outputId": "9ac0596a-37e3-4872-f29d-b44d3929677e"
      },
      "source": [
        "possible_months = df['Month-str-full'].unique()\n",
        "print(possible_labels)\n",
        "print(possible_months)"
      ],
      "execution_count": null,
      "outputs": [
        {
          "output_type": "stream",
          "text": [
            "['Favour' 'Strongly in Favour' 'Neutral' 'Against' 'Strongly Against']\n",
            "['September' 'August' 'November' 'December' 'April' 'January' 'October'\n",
            " 'July' 'February' 'June' 'March' 'May']\n"
          ],
          "name": "stdout"
        }
      ]
    },
    {
      "cell_type": "code",
      "metadata": {
        "colab": {
          "base_uri": "https://localhost:8080/",
          "height": 202
        },
        "id": "n-lqN7cMFP_7",
        "outputId": "b1f27226-cc0c-4ed3-a644-3a22d64c0bb6"
      },
      "source": [
        "df.head()"
      ],
      "execution_count": null,
      "outputs": [
        {
          "output_type": "execute_result",
          "data": {
            "text/html": [
              "<div>\n",
              "<style scoped>\n",
              "    .dataframe tbody tr th:only-of-type {\n",
              "        vertical-align: middle;\n",
              "    }\n",
              "\n",
              "    .dataframe tbody tr th {\n",
              "        vertical-align: top;\n",
              "    }\n",
              "\n",
              "    .dataframe thead th {\n",
              "        text-align: right;\n",
              "    }\n",
              "</style>\n",
              "<table border=\"1\" class=\"dataframe\">\n",
              "  <thead>\n",
              "    <tr style=\"text-align: right;\">\n",
              "      <th></th>\n",
              "      <th>date</th>\n",
              "      <th>Sentiment_TB</th>\n",
              "      <th>label_TB</th>\n",
              "      <th>Sentiment_VADER</th>\n",
              "      <th>label_VD</th>\n",
              "      <th>mnth_yr</th>\n",
              "      <th>Year</th>\n",
              "      <th>Month</th>\n",
              "      <th>year</th>\n",
              "      <th>Month-str-full</th>\n",
              "    </tr>\n",
              "  </thead>\n",
              "  <tbody>\n",
              "    <tr>\n",
              "      <th>0</th>\n",
              "      <td>2020-09-09</td>\n",
              "      <td>Neutral</td>\n",
              "      <td>2</td>\n",
              "      <td>Neutral</td>\n",
              "      <td>2</td>\n",
              "      <td>September-2020</td>\n",
              "      <td>2020</td>\n",
              "      <td>9</td>\n",
              "      <td>2020</td>\n",
              "      <td>September</td>\n",
              "    </tr>\n",
              "    <tr>\n",
              "      <th>1</th>\n",
              "      <td>2020-08-28</td>\n",
              "      <td>Favour</td>\n",
              "      <td>0</td>\n",
              "      <td>Favour</td>\n",
              "      <td>0</td>\n",
              "      <td>August-2020</td>\n",
              "      <td>2020</td>\n",
              "      <td>8</td>\n",
              "      <td>2020</td>\n",
              "      <td>August</td>\n",
              "    </tr>\n",
              "    <tr>\n",
              "      <th>2</th>\n",
              "      <td>2020-11-24</td>\n",
              "      <td>Neutral</td>\n",
              "      <td>2</td>\n",
              "      <td>Against</td>\n",
              "      <td>3</td>\n",
              "      <td>November-2020</td>\n",
              "      <td>2020</td>\n",
              "      <td>11</td>\n",
              "      <td>2020</td>\n",
              "      <td>November</td>\n",
              "    </tr>\n",
              "    <tr>\n",
              "      <th>3</th>\n",
              "      <td>2020-11-18</td>\n",
              "      <td>Neutral</td>\n",
              "      <td>2</td>\n",
              "      <td>Against</td>\n",
              "      <td>3</td>\n",
              "      <td>November-2020</td>\n",
              "      <td>2020</td>\n",
              "      <td>11</td>\n",
              "      <td>2020</td>\n",
              "      <td>November</td>\n",
              "    </tr>\n",
              "    <tr>\n",
              "      <th>4</th>\n",
              "      <td>2020-12-13</td>\n",
              "      <td>Favour</td>\n",
              "      <td>0</td>\n",
              "      <td>Strongly in Favour</td>\n",
              "      <td>1</td>\n",
              "      <td>December-2020</td>\n",
              "      <td>2020</td>\n",
              "      <td>12</td>\n",
              "      <td>2020</td>\n",
              "      <td>December</td>\n",
              "    </tr>\n",
              "  </tbody>\n",
              "</table>\n",
              "</div>"
            ],
            "text/plain": [
              "        date Sentiment_TB  label_TB  ... Month  year Month-str-full\n",
              "0 2020-09-09      Neutral         2  ...     9  2020      September\n",
              "1 2020-08-28       Favour         0  ...     8  2020         August\n",
              "2 2020-11-24      Neutral         2  ...    11  2020       November\n",
              "3 2020-11-18      Neutral         2  ...    11  2020       November\n",
              "4 2020-12-13       Favour         0  ...    12  2020       December\n",
              "\n",
              "[5 rows x 10 columns]"
            ]
          },
          "metadata": {
            "tags": []
          },
          "execution_count": 60
        }
      ]
    },
    {
      "cell_type": "code",
      "metadata": {
        "colab": {
          "base_uri": "https://localhost:8080/"
        },
        "id": "oA0O6OzNJdkV",
        "outputId": "08082bbb-ee07-46e7-d3a1-ae0248c629ca"
      },
      "source": [
        "df['Month-str-full'].value_counts()"
      ],
      "execution_count": null,
      "outputs": [
        {
          "output_type": "execute_result",
          "data": {
            "text/plain": [
              "November     194118\n",
              "December     109639\n",
              "September    106590\n",
              "August        77587\n",
              "October       76572\n",
              "July          50109\n",
              "April         33751\n",
              "May           33423\n",
              "March         29425\n",
              "February      28447\n",
              "June          25018\n",
              "January        9367\n",
              "Name: Month-str-full, dtype: int64"
            ]
          },
          "metadata": {
            "tags": []
          },
          "execution_count": 61
        }
      ]
    },
    {
      "cell_type": "code",
      "metadata": {
        "id": "1M7TbkJaI_om"
      },
      "source": [
        "df.rename(columns={'Month':'M'}, inplace=True)\n",
        "df.rename(columns={'Month-str-full':'Month'}, inplace=True)"
      ],
      "execution_count": null,
      "outputs": []
    },
    {
      "cell_type": "code",
      "metadata": {
        "id": "UOapgBRlJ049"
      },
      "source": [
        "df['Month'] = df['Month'].str.replace('January', 'Jan')\n",
        "df['Month'] = df['Month'].str.replace('February', 'Feb')\n",
        "df['Month'] = df['Month'].str.replace('August', 'Aug')\n",
        "df['Month'] = df['Month'].str.replace('September', 'Sep')\n",
        "df['Month'] = df['Month'].str.replace('October', 'Oct')\n",
        "df['Month'] = df['Month'].str.replace('November', 'Nov')\n",
        "df['Month'] = df['Month'].str.replace('December', 'Dec')"
      ],
      "execution_count": null,
      "outputs": []
    },
    {
      "cell_type": "code",
      "metadata": {
        "colab": {
          "base_uri": "https://localhost:8080/",
          "height": 390
        },
        "id": "fQhbwz-lYNdy",
        "outputId": "9e007d50-5df0-4d8f-e6d2-1f4eeb0c4ee3"
      },
      "source": [
        "import seaborn as sns\n",
        "\n",
        "plt.figure(figsize=(10,5))\n",
        "\n",
        "sns.countplot(df['Month'],order=['Jan','Feb','March','April','May','June','July','Aug','Sep','Oct','Nov','Dec']);"
      ],
      "execution_count": null,
      "outputs": [
        {
          "output_type": "stream",
          "text": [
            "/usr/local/lib/python3.7/dist-packages/seaborn/_decorators.py:43: FutureWarning: Pass the following variable as a keyword arg: x. From version 0.12, the only valid positional argument will be `data`, and passing other arguments without an explicit keyword will result in an error or misinterpretation.\n",
            "  FutureWarning\n"
          ],
          "name": "stderr"
        },
        {
          "output_type": "display_data",
          "data": {
            "image/png": "[encoded data removed]",
            "text/plain": [
              "<Figure size 720x360 with 1 Axes>"
            ]
          },
          "metadata": {
            "tags": [],
            "needs_background": "light"
          }
        }
      ]
    },
    {
      "cell_type": "code",
      "metadata": {
        "colab": {
          "base_uri": "https://localhost:8080/",
          "height": 202
        },
        "id": "EY0I9Vrajb2V",
        "outputId": "3e993477-e140-4fff-b2af-c936cc8847b0"
      },
      "source": [
        "df_new = data.copy()\n",
        "\n",
        "#df_new.rename(columns={'Sentiment' : 'Data'} , inplace= True)\n",
        "\n",
        "df_new.head()"
      ],
      "execution_count": null,
      "outputs": [
        {
          "output_type": "execute_result",
          "data": {
            "text/html": [
              "<div>\n",
              "<style scoped>\n",
              "    .dataframe tbody tr th:only-of-type {\n",
              "        vertical-align: middle;\n",
              "    }\n",
              "\n",
              "    .dataframe tbody tr th {\n",
              "        vertical-align: top;\n",
              "    }\n",
              "\n",
              "    .dataframe thead th {\n",
              "        text-align: right;\n",
              "    }\n",
              "</style>\n",
              "<table border=\"1\" class=\"dataframe\">\n",
              "  <thead>\n",
              "    <tr style=\"text-align: right;\">\n",
              "      <th></th>\n",
              "      <th>process_tweet</th>\n",
              "      <th>Sentiment_TB</th>\n",
              "      <th>label_TB</th>\n",
              "      <th>Sentiment_VADER</th>\n",
              "      <th>label_VD</th>\n",
              "    </tr>\n",
              "  </thead>\n",
              "  <tbody>\n",
              "    <tr>\n",
              "      <th>0</th>\n",
              "      <td>pfizer expect file eua coronaviru vaccin soon ...</td>\n",
              "      <td>Neutral</td>\n",
              "      <td>2</td>\n",
              "      <td>Favour</td>\n",
              "      <td>0</td>\n",
              "    </tr>\n",
              "    <tr>\n",
              "      <th>1</th>\n",
              "      <td>year covid vaccin normal thing understand relu...</td>\n",
              "      <td>Favour</td>\n",
              "      <td>0</td>\n",
              "      <td>Neutral</td>\n",
              "      <td>2</td>\n",
              "    </tr>\n",
              "    <tr>\n",
              "      <th>2</th>\n",
              "      <td>well said unfortun diseas u refer limit peopl ...</td>\n",
              "      <td>Strongly Against</td>\n",
              "      <td>4</td>\n",
              "      <td>Against</td>\n",
              "      <td>3</td>\n",
              "    </tr>\n",
              "    <tr>\n",
              "      <th>3</th>\n",
              "      <td>look forward scalp covidvaccin paperwork park lot</td>\n",
              "      <td>Neutral</td>\n",
              "      <td>2</td>\n",
              "      <td>Neutral</td>\n",
              "      <td>2</td>\n",
              "    </tr>\n",
              "    <tr>\n",
              "      <th>4</th>\n",
              "      <td>hope covid vaccin mutat give everyon superpow</td>\n",
              "      <td>Neutral</td>\n",
              "      <td>2</td>\n",
              "      <td>Favour</td>\n",
              "      <td>0</td>\n",
              "    </tr>\n",
              "  </tbody>\n",
              "</table>\n",
              "</div>"
            ],
            "text/plain": [
              "                                       process_tweet  ... label_VD\n",
              "0  pfizer expect file eua coronaviru vaccin soon ...  ...        0\n",
              "1  year covid vaccin normal thing understand relu...  ...        2\n",
              "2  well said unfortun diseas u refer limit peopl ...  ...        3\n",
              "3  look forward scalp covidvaccin paperwork park lot  ...        2\n",
              "4      hope covid vaccin mutat give everyon superpow  ...        0\n",
              "\n",
              "[5 rows x 5 columns]"
            ]
          },
          "metadata": {
            "tags": []
          },
          "execution_count": 66
        }
      ]
    },
    {
      "cell_type": "code",
      "metadata": {
        "colab": {
          "base_uri": "https://localhost:8080/",
          "height": 296
        },
        "id": "UiAGr_2LY1G-",
        "outputId": "5858e094-3823-43a2-a84f-fed549e8235c"
      },
      "source": [
        "data['process_tweet'].str.len().plot.hist()\n",
        "plt.xlabel('Word Length')\n",
        "plt.ylabel('Num of Tweet ')"
      ],
      "execution_count": null,
      "outputs": [
        {
          "output_type": "execute_result",
          "data": {
            "text/plain": [
              "Text(0, 0.5, 'Num of Tweet ')"
            ]
          },
          "metadata": {
            "tags": []
          },
          "execution_count": 68
        },
        {
          "output_type": "display_data",
          "data": {
            "image/png": "[encoded data removed]",
            "text/plain": [
              "<Figure size 432x288 with 1 Axes>"
            ]
          },
          "metadata": {
            "tags": [],
            "needs_background": "light"
          }
        }
      ]
    },
    {
      "cell_type": "code",
      "metadata": {
        "id": "aKZW2yFAf_D1"
      },
      "source": [
        ""
      ],
      "execution_count": null,
      "outputs": []
    },
    {
      "cell_type": "code",
      "metadata": {
        "id": "NDylelzaY1Os"
      },
      "source": [
        "#import library for deep learning\n",
        "from sklearn.model_selection import train_test_split\n",
        "\n",
        "\n",
        "from keras.models import Sequential, load_model\n",
        "from keras.layers import Dense, LSTM, Embedding, Dropout\n",
        "from keras.preprocessing.text import Tokenizer\n",
        "from keras.preprocessing.sequence import pad_sequences"
      ],
      "execution_count": null,
      "outputs": []
    },
    {
      "cell_type": "code",
      "metadata": {
        "id": "hK6FTzH9YHqU"
      },
      "source": [
        "from time import time \n",
        "import tensorflow as tf\n",
        "import keras\n",
        "from keras.models import Sequential\n",
        "from keras.layers import LSTM,Dense,Dropout,Activation,Embedding,Flatten,Bidirectional,MaxPooling2D, Conv1D, MaxPooling1D\n",
        "from keras.optimizers import SGD,Adam\n",
        "from keras import regularizers\n",
        "from keras.preprocessing.text import Tokenizer\n",
        "from keras.preprocessing.sequence import pad_sequences\n",
        "from keras.utils.np_utils import to_categorical"
      ],
      "execution_count": null,
      "outputs": []
    },
    {
      "cell_type": "code",
      "metadata": {
        "colab": {
          "base_uri": "https://localhost:8080/",
          "height": 202
        },
        "id": "fJ0PZxIPY1XP",
        "outputId": "66e251e9-d940-44fe-88a9-7fcd58a7b335"
      },
      "source": [
        "\n",
        "#for deep learning we need to only 2 colums(sentiment and process tweet)\n",
        "data = data[['Sentiment_VADER','process_tweet' ]]\n",
        "data.head()"
      ],
      "execution_count": null,
      "outputs": [
        {
          "output_type": "execute_result",
          "data": {
            "text/html": [
              "<div>\n",
              "<style scoped>\n",
              "    .dataframe tbody tr th:only-of-type {\n",
              "        vertical-align: middle;\n",
              "    }\n",
              "\n",
              "    .dataframe tbody tr th {\n",
              "        vertical-align: top;\n",
              "    }\n",
              "\n",
              "    .dataframe thead th {\n",
              "        text-align: right;\n",
              "    }\n",
              "</style>\n",
              "<table border=\"1\" class=\"dataframe\">\n",
              "  <thead>\n",
              "    <tr style=\"text-align: right;\">\n",
              "      <th></th>\n",
              "      <th>Sentiment_VADER</th>\n",
              "      <th>process_tweet</th>\n",
              "    </tr>\n",
              "  </thead>\n",
              "  <tbody>\n",
              "    <tr>\n",
              "      <th>0</th>\n",
              "      <td>Favour</td>\n",
              "      <td>pfizer expect file eua coronaviru vaccin soon ...</td>\n",
              "    </tr>\n",
              "    <tr>\n",
              "      <th>1</th>\n",
              "      <td>Neutral</td>\n",
              "      <td>year covid vaccin normal thing understand relu...</td>\n",
              "    </tr>\n",
              "    <tr>\n",
              "      <th>2</th>\n",
              "      <td>Against</td>\n",
              "      <td>well said unfortun diseas u refer limit peopl ...</td>\n",
              "    </tr>\n",
              "    <tr>\n",
              "      <th>3</th>\n",
              "      <td>Neutral</td>\n",
              "      <td>look forward scalp covidvaccin paperwork park lot</td>\n",
              "    </tr>\n",
              "    <tr>\n",
              "      <th>4</th>\n",
              "      <td>Favour</td>\n",
              "      <td>hope covid vaccin mutat give everyon superpow</td>\n",
              "    </tr>\n",
              "  </tbody>\n",
              "</table>\n",
              "</div>"
            ],
            "text/plain": [
              "  Sentiment_VADER                                      process_tweet\n",
              "0          Favour  pfizer expect file eua coronaviru vaccin soon ...\n",
              "1         Neutral  year covid vaccin normal thing understand relu...\n",
              "2         Against  well said unfortun diseas u refer limit peopl ...\n",
              "3         Neutral  look forward scalp covidvaccin paperwork park lot\n",
              "4          Favour      hope covid vaccin mutat give everyon superpow"
            ]
          },
          "metadata": {
            "tags": []
          },
          "execution_count": 71
        }
      ]
    },
    {
      "cell_type": "code",
      "metadata": {
        "id": "8Pld3dFuY1ba"
      },
      "source": [
        "data1 = data.copy()      #########    for experiment ,max_words"
      ],
      "execution_count": null,
      "outputs": []
    },
    {
      "cell_type": "code",
      "metadata": {
        "colab": {
          "base_uri": "https://localhost:8080/",
          "height": 202
        },
        "id": "eZYTkyCcYxbt",
        "outputId": "0c81d9e7-42e7-428a-d7af-27262904ef41"
      },
      "source": [
        "data1.head()"
      ],
      "execution_count": null,
      "outputs": [
        {
          "output_type": "execute_result",
          "data": {
            "text/html": [
              "<div>\n",
              "<style scoped>\n",
              "    .dataframe tbody tr th:only-of-type {\n",
              "        vertical-align: middle;\n",
              "    }\n",
              "\n",
              "    .dataframe tbody tr th {\n",
              "        vertical-align: top;\n",
              "    }\n",
              "\n",
              "    .dataframe thead th {\n",
              "        text-align: right;\n",
              "    }\n",
              "</style>\n",
              "<table border=\"1\" class=\"dataframe\">\n",
              "  <thead>\n",
              "    <tr style=\"text-align: right;\">\n",
              "      <th></th>\n",
              "      <th>Sentiment_VADER</th>\n",
              "      <th>process_tweet</th>\n",
              "    </tr>\n",
              "  </thead>\n",
              "  <tbody>\n",
              "    <tr>\n",
              "      <th>0</th>\n",
              "      <td>Favour</td>\n",
              "      <td>pfizer expect file eua coronaviru vaccin soon ...</td>\n",
              "    </tr>\n",
              "    <tr>\n",
              "      <th>1</th>\n",
              "      <td>Neutral</td>\n",
              "      <td>year covid vaccin normal thing understand relu...</td>\n",
              "    </tr>\n",
              "    <tr>\n",
              "      <th>2</th>\n",
              "      <td>Against</td>\n",
              "      <td>well said unfortun diseas u refer limit peopl ...</td>\n",
              "    </tr>\n",
              "    <tr>\n",
              "      <th>3</th>\n",
              "      <td>Neutral</td>\n",
              "      <td>look forward scalp covidvaccin paperwork park lot</td>\n",
              "    </tr>\n",
              "    <tr>\n",
              "      <th>4</th>\n",
              "      <td>Favour</td>\n",
              "      <td>hope covid vaccin mutat give everyon superpow</td>\n",
              "    </tr>\n",
              "  </tbody>\n",
              "</table>\n",
              "</div>"
            ],
            "text/plain": [
              "  Sentiment_VADER                                      process_tweet\n",
              "0          Favour  pfizer expect file eua coronaviru vaccin soon ...\n",
              "1         Neutral  year covid vaccin normal thing understand relu...\n",
              "2         Against  well said unfortun diseas u refer limit peopl ...\n",
              "3         Neutral  look forward scalp covidvaccin paperwork park lot\n",
              "4          Favour      hope covid vaccin mutat give everyon superpow"
            ]
          },
          "metadata": {
            "tags": []
          },
          "execution_count": 73
        }
      ]
    },
    {
      "cell_type": "code",
      "metadata": {
        "colab": {
          "base_uri": "https://localhost:8080/",
          "height": 202
        },
        "id": "t1SNInACd4_o",
        "outputId": "95cdfdae-81cc-44e9-867a-d62f33411bda"
      },
      "source": [
        "data1 = data1.reset_index(drop=True) #for removing missig index \n",
        "\n",
        "#see previous index 3 is replaced by new index 2\n",
        "data1.head() "
      ],
      "execution_count": null,
      "outputs": [
        {
          "output_type": "execute_result",
          "data": {
            "text/html": [
              "<div>\n",
              "<style scoped>\n",
              "    .dataframe tbody tr th:only-of-type {\n",
              "        vertical-align: middle;\n",
              "    }\n",
              "\n",
              "    .dataframe tbody tr th {\n",
              "        vertical-align: top;\n",
              "    }\n",
              "\n",
              "    .dataframe thead th {\n",
              "        text-align: right;\n",
              "    }\n",
              "</style>\n",
              "<table border=\"1\" class=\"dataframe\">\n",
              "  <thead>\n",
              "    <tr style=\"text-align: right;\">\n",
              "      <th></th>\n",
              "      <th>Sentiment_VADER</th>\n",
              "      <th>process_tweet</th>\n",
              "    </tr>\n",
              "  </thead>\n",
              "  <tbody>\n",
              "    <tr>\n",
              "      <th>0</th>\n",
              "      <td>Favour</td>\n",
              "      <td>pfizer expect file eua coronaviru vaccin soon ...</td>\n",
              "    </tr>\n",
              "    <tr>\n",
              "      <th>1</th>\n",
              "      <td>Neutral</td>\n",
              "      <td>year covid vaccin normal thing understand relu...</td>\n",
              "    </tr>\n",
              "    <tr>\n",
              "      <th>2</th>\n",
              "      <td>Against</td>\n",
              "      <td>well said unfortun diseas u refer limit peopl ...</td>\n",
              "    </tr>\n",
              "    <tr>\n",
              "      <th>3</th>\n",
              "      <td>Neutral</td>\n",
              "      <td>look forward scalp covidvaccin paperwork park lot</td>\n",
              "    </tr>\n",
              "    <tr>\n",
              "      <th>4</th>\n",
              "      <td>Favour</td>\n",
              "      <td>hope covid vaccin mutat give everyon superpow</td>\n",
              "    </tr>\n",
              "  </tbody>\n",
              "</table>\n",
              "</div>"
            ],
            "text/plain": [
              "  Sentiment_VADER                                      process_tweet\n",
              "0          Favour  pfizer expect file eua coronaviru vaccin soon ...\n",
              "1         Neutral  year covid vaccin normal thing understand relu...\n",
              "2         Against  well said unfortun diseas u refer limit peopl ...\n",
              "3         Neutral  look forward scalp covidvaccin paperwork park lot\n",
              "4          Favour      hope covid vaccin mutat give everyon superpow"
            ]
          },
          "metadata": {
            "tags": []
          },
          "execution_count": 74
        }
      ]
    },
    {
      "cell_type": "code",
      "metadata": {
        "id": "dj404WeUB5w3",
        "colab": {
          "base_uri": "https://localhost:8080/"
        },
        "outputId": "e6c41778-bcb7-4ced-c67d-1745bc4a363c"
      },
      "source": [
        "uniqueWords = list(set(\" \".join(data['process_tweet']).lower().split(\" \")))\n",
        "count = len(uniqueWords)\n",
        "print(count)"
      ],
      "execution_count": null,
      "outputs": [
        {
          "output_type": "stream",
          "text": [
            "165769\n"
          ],
          "name": "stdout"
        }
      ]
    },
    {
      "cell_type": "code",
      "metadata": {
        "id": "8VuSN33QNdfR"
      },
      "source": [
        "#tokenization\n",
        "tokenizer = Tokenizer(num_words=count, split=' ')\n",
        "#num_words: the maximum number of words to keep, based on word frequency. Only the most common num_words-1 words will be kept.\n",
        "\n",
        "\n",
        "tokenizer.fit_on_texts(data1['process_tweet'].values)\n",
        "\n",
        "X = tokenizer.texts_to_sequences(data1['process_tweet'].values)"
      ],
      "execution_count": null,
      "outputs": []
    },
    {
      "cell_type": "code",
      "metadata": {
        "colab": {
          "base_uri": "https://localhost:8080/"
        },
        "id": "MDG5u0gjNdjT",
        "outputId": "76bd1d5c-fc7e-4d88-c098-8f564d022b1f"
      },
      "source": [
        "X[:3] #before padding"
      ],
      "execution_count": null,
      "outputs": [
        {
          "output_type": "execute_result",
          "data": {
            "text/plain": [
              "[[6,\n",
              "  143,\n",
              "  1213,\n",
              "  1121,\n",
              "  3,\n",
              "  1,\n",
              "  126,\n",
              "  1121,\n",
              "  146,\n",
              "  334,\n",
              "  467,\n",
              "  1121,\n",
              "  69,\n",
              "  376,\n",
              "  226,\n",
              "  1,\n",
              "  1252,\n",
              "  1731,\n",
              "  6,\n",
              "  674],\n",
              " [30, 2, 1, 273, 116, 417, 3282, 294, 362, 40],\n",
              " [93,\n",
              "  54,\n",
              "  1739,\n",
              "  320,\n",
              "  319,\n",
              "  1542,\n",
              "  873,\n",
              "  7,\n",
              "  1128,\n",
              "  1882,\n",
              "  43555,\n",
              "  892,\n",
              "  18,\n",
              "  428,\n",
              "  1403,\n",
              "  10,\n",
              "  72,\n",
              "  68,\n",
              "  42,\n",
              "  2,\n",
              "  1,\n",
              "  1751,\n",
              "  18,\n",
              "  62752,\n",
              "  123,\n",
              "  82,\n",
              "  1335,\n",
              "  1138]]"
            ]
          },
          "metadata": {
            "tags": []
          },
          "execution_count": 77
        }
      ]
    },
    {
      "cell_type": "code",
      "metadata": {
        "colab": {
          "base_uri": "https://localhost:8080/"
        },
        "id": "a5dbMPpRNdnc",
        "outputId": "5a7aeaf5-ec5b-40cc-b40b-78a7293d31e2"
      },
      "source": [
        "#padding to make all text vector to same length\n",
        "\n",
        "X = pad_sequences(X)\n",
        "\n",
        "X[:3] #after padding"
      ],
      "execution_count": null,
      "outputs": [
        {
          "output_type": "execute_result",
          "data": {
            "text/plain": [
              "array([[    0,     0,     0,     0,     0,     0,     0,     0,     0,\n",
              "            0,     0,     0,     0,     0,     0,     0,     0,     0,\n",
              "            0,     0,     0,     0,     0,     0,     0,     0,     0,\n",
              "            0,     0,     0,     0,     6,   143,  1213,  1121,     3,\n",
              "            1,   126,  1121,   146,   334,   467,  1121,    69,   376,\n",
              "          226,     1,  1252,  1731,     6,   674],\n",
              "       [    0,     0,     0,     0,     0,     0,     0,     0,     0,\n",
              "            0,     0,     0,     0,     0,     0,     0,     0,     0,\n",
              "            0,     0,     0,     0,     0,     0,     0,     0,     0,\n",
              "            0,     0,     0,     0,     0,     0,     0,     0,     0,\n",
              "            0,     0,     0,     0,     0,    30,     2,     1,   273,\n",
              "          116,   417,  3282,   294,   362,    40],\n",
              "       [    0,     0,     0,     0,     0,     0,     0,     0,     0,\n",
              "            0,     0,     0,     0,     0,     0,     0,     0,     0,\n",
              "            0,     0,     0,     0,     0,    93,    54,  1739,   320,\n",
              "          319,  1542,   873,     7,  1128,  1882, 43555,   892,    18,\n",
              "          428,  1403,    10,    72,    68,    42,     2,     1,  1751,\n",
              "           18, 62752,   123,    82,  1335,  1138]], dtype=int32)"
            ]
          },
          "metadata": {
            "tags": []
          },
          "execution_count": 78
        }
      ]
    },
    {
      "cell_type": "code",
      "metadata": {
        "colab": {
          "base_uri": "https://localhost:8080/"
        },
        "id": "9xNeAywwNdq5",
        "outputId": "9ad641ad-8de0-46d3-a8d6-8241d1944903"
      },
      "source": [
        "X.shape[1]"
      ],
      "execution_count": null,
      "outputs": [
        {
          "output_type": "execute_result",
          "data": {
            "text/plain": [
              "51"
            ]
          },
          "metadata": {
            "tags": []
          },
          "execution_count": 79
        }
      ]
    },
    {
      "cell_type": "code",
      "metadata": {
        "colab": {
          "base_uri": "https://localhost:8080/"
        },
        "id": "fbZN9_y1RmcH",
        "outputId": "b1f0fdf8-e0e1-4f93-eee6-e235f2ea2208"
      },
      "source": [
        "model= Sequential()\n",
        "model.add(Embedding(count, 256 , input_length=X.shape[1]))\n",
        "model.add(Conv1D(200, kernel_size=3, activation = \"relu\"))\n",
        "model.add(Dropout(0.3))\n",
        "model.add(LSTM(128 , return_sequences=True , dropout=0.3 , recurrent_dropout=0.3))\n",
        "model.add(LSTM(128,dropout=0.3 , recurrent_dropout=0.3))\n",
        "model.add(Flatten())\n",
        "model.add(Dense(5, activation='softmax'))\n",
        "\n",
        "adam=Adam(learning_rate=0.0005,beta_1=0.9,beta_2=0.999,epsilon=1e-07,amsgrad=False)\n",
        "model.summary()\n",
        "model.compile(loss='categorical_crossentropy',optimizer=adam,metrics=['accuracy'])"
      ],
      "execution_count": null,
      "outputs": [
        {
          "output_type": "stream",
          "text": [
            "WARNING:tensorflow:Layer lstm will not use cuDNN kernels since it doesn't meet the criteria. It will use a generic GPU kernel as fallback when running on GPU.\n",
            "WARNING:tensorflow:Layer lstm_1 will not use cuDNN kernels since it doesn't meet the criteria. It will use a generic GPU kernel as fallback when running on GPU.\n",
            "Model: \"sequential\"\n",
            "_________________________________________________________________\n",
            "Layer (type)                 Output Shape              Param #   \n",
            "=================================================================\n",
            "embedding (Embedding)        (None, 51, 256)           42436864  \n",
            "_________________________________________________________________\n",
            "conv1d (Conv1D)              (None, 49, 200)           153800    \n",
            "_________________________________________________________________\n",
            "dropout (Dropout)            (None, 49, 200)           0         \n",
            "_________________________________________________________________\n",
            "lstm (LSTM)                  (None, 49, 128)           168448    \n",
            "_________________________________________________________________\n",
            "lstm_1 (LSTM)                (None, 128)               131584    \n",
            "_________________________________________________________________\n",
            "flatten (Flatten)            (None, 128)               0         \n",
            "_________________________________________________________________\n",
            "dense (Dense)                (None, 5)                 645       \n",
            "=================================================================\n",
            "Total params: 42,891,341\n",
            "Trainable params: 42,891,341\n",
            "Non-trainable params: 0\n",
            "_________________________________________________________________\n"
          ],
          "name": "stdout"
        }
      ]
    },
    {
      "cell_type": "code",
      "metadata": {
        "colab": {
          "base_uri": "https://localhost:8080/"
        },
        "id": "kKPW6S6JNdwn",
        "outputId": "e70e756c-5e57-4e9b-c7ea-ff37f97cccc9"
      },
      "source": [
        "\n",
        "\n",
        "model.summary()"
      ],
      "execution_count": null,
      "outputs": [
        {
          "output_type": "stream",
          "text": [
            "Model: \"sequential\"\n",
            "_________________________________________________________________\n",
            "Layer (type)                 Output Shape              Param #   \n",
            "=================================================================\n",
            "embedding (Embedding)        (None, 51, 256)           42436864  \n",
            "_________________________________________________________________\n",
            "conv1d (Conv1D)              (None, 49, 200)           153800    \n",
            "_________________________________________________________________\n",
            "dropout (Dropout)            (None, 49, 200)           0         \n",
            "_________________________________________________________________\n",
            "lstm (LSTM)                  (None, 49, 128)           168448    \n",
            "_________________________________________________________________\n",
            "lstm_1 (LSTM)                (None, 128)               131584    \n",
            "_________________________________________________________________\n",
            "flatten (Flatten)            (None, 128)               0         \n",
            "_________________________________________________________________\n",
            "dense (Dense)                (None, 5)                 645       \n",
            "=================================================================\n",
            "Total params: 42,891,341\n",
            "Trainable params: 42,891,341\n",
            "Non-trainable params: 0\n",
            "_________________________________________________________________\n"
          ],
          "name": "stdout"
        }
      ]
    },
    {
      "cell_type": "code",
      "metadata": {
        "id": "fm-mGnBEX8S2"
      },
      "source": [
        ""
      ],
      "execution_count": null,
      "outputs": []
    },
    {
      "cell_type": "code",
      "metadata": {
        "colab": {
          "base_uri": "https://localhost:8080/"
        },
        "id": "ypn4KFUMX8WS",
        "outputId": "0878a432-8893-4a4d-8a96-911677bdb9c9"
      },
      "source": [
        "#one hot encoding\n",
        "\n",
        "y = pd.get_dummies(data1['Sentiment_VADER']).values\n",
        "\n",
        "[print(data1['Sentiment_VADER'][i] ,y[i]) for i in range(0,5)]"
      ],
      "execution_count": null,
      "outputs": [
        {
          "output_type": "stream",
          "text": [
            "Favour [0 1 0 0 0]\n",
            "Neutral [0 0 1 0 0]\n",
            "Against [1 0 0 0 0]\n",
            "Neutral [0 0 1 0 0]\n",
            "Favour [0 1 0 0 0]\n"
          ],
          "name": "stdout"
        },
        {
          "output_type": "execute_result",
          "data": {
            "text/plain": [
              "[None, None, None, None, None]"
            ]
          },
          "metadata": {
            "tags": []
          },
          "execution_count": 83
        }
      ]
    },
    {
      "cell_type": "code",
      "metadata": {
        "id": "w-IlUUvqX8aa"
      },
      "source": [
        "x_train , x_test , y_train , y_test = train_test_split(X , y , test_size = 0.2 ,random_state = 22)"
      ],
      "execution_count": null,
      "outputs": []
    },
    {
      "cell_type": "code",
      "metadata": {
        "id": "C0piOTG2X8d5"
      },
      "source": [
        "#trannig model\n",
        "batch_size = 128\n",
        "epochs = 5"
      ],
      "execution_count": null,
      "outputs": []
    },
    {
      "cell_type": "code",
      "metadata": {
        "colab": {
          "base_uri": "https://localhost:8080/"
        },
        "id": "hK1tBN32X8hE",
        "outputId": "c9288cd7-5bd3-4760-df52-44612cd18509"
      },
      "source": [
        "history = model.fit(x_train , y_train ,\n",
        "          epochs = epochs,\n",
        "          batch_size = batch_size,\n",
        "          validation_split=0.1,\n",
        "          verbose=1)"
      ],
      "execution_count": null,
      "outputs": [
        {
          "output_type": "stream",
          "text": [
            "Epoch 1/5\n",
            "4354/4354 [==============================] - 2393s 537ms/step - loss: 0.4191 - accuracy: 0.8447 - val_loss: 0.0889 - val_accuracy: 0.9688\n",
            "Epoch 2/5\n",
            "4354/4354 [==============================] - 2332s 536ms/step - loss: 0.0804 - accuracy: 0.9719 - val_loss: 0.0672 - val_accuracy: 0.9776\n",
            "Epoch 3/5\n",
            "4354/4354 [==============================] - 2324s 534ms/step - loss: 0.0566 - accuracy: 0.9802 - val_loss: 0.0604 - val_accuracy: 0.9794\n",
            "Epoch 4/5\n",
            "4354/4354 [==============================] - 2322s 533ms/step - loss: 0.0447 - accuracy: 0.9848 - val_loss: 0.0618 - val_accuracy: 0.9792\n",
            "Epoch 5/5\n",
            "4354/4354 [==============================] - 2311s 531ms/step - loss: 0.0358 - accuracy: 0.9875 - val_loss: 0.0634 - val_accuracy: 0.9791\n"
          ],
          "name": "stdout"
        }
      ]
    },
    {
      "cell_type": "code",
      "metadata": {
        "id": "8tLUUDmnX8kK",
        "colab": {
          "base_uri": "https://localhost:8080/"
        },
        "outputId": "0271f35d-a1f3-4343-8e71-41c0a0d70938"
      },
      "source": [
        "predictions = model.predict(x_test)\n",
        "print('done')"
      ],
      "execution_count": null,
      "outputs": [
        {
          "output_type": "stream",
          "text": [
            "done\n"
          ],
          "name": "stdout"
        }
      ]
    },
    {
      "cell_type": "markdown",
      "metadata": {
        "id": "Pamsrj_r8krh"
      },
      "source": [
        ""
      ]
    },
    {
      "cell_type": "code",
      "metadata": {
        "id": "0PUojuRmX8n6",
        "colab": {
          "base_uri": "https://localhost:8080/"
        },
        "outputId": "09742f37-9192-410b-c5ba-8f8821b555e3"
      },
      "source": [
        "print(predictions)"
      ],
      "execution_count": null,
      "outputs": [
        {
          "output_type": "stream",
          "text": [
            "[[5.22212872e-07 3.27232228e-05 3.20263247e-08 2.45096021e-06\n",
            "  9.99964237e-01]\n",
            " [9.98413920e-01 1.23405107e-03 3.29617527e-04 2.18927034e-05\n",
            "  5.79740174e-07]\n",
            " [1.50455626e-05 6.07847596e-06 9.99962687e-01 1.22015699e-05\n",
            "  4.01804846e-06]\n",
            " ...\n",
            " [6.94595292e-05 8.00465001e-04 8.32355340e-07 1.13054135e-04\n",
            "  9.99016166e-01]\n",
            " [9.98404324e-01 2.96740764e-04 1.19354110e-03 9.89025066e-05\n",
            "  6.51000937e-06]\n",
            " [1.42376700e-06 1.20170560e-04 4.10835924e-07 5.33964794e-06\n",
            "  9.99872684e-01]]\n"
          ],
          "name": "stdout"
        }
      ]
    },
    {
      "cell_type": "code",
      "metadata": {
        "id": "Hr_QI1hPX8sX",
        "colab": {
          "base_uri": "https://localhost:8080/"
        },
        "outputId": "5dade11e-095a-4fff-81d7-da0caa864719"
      },
      "source": [
        "%%time\n",
        "score = model.evaluate(x_test, y_test , batch_size = batch_size)\n",
        "print()\n",
        "print(\"ACCURACY:\",score[1])\n",
        "print(\"LOSS:\",score[0])"
      ],
      "execution_count": null,
      "outputs": [
        {
          "output_type": "stream",
          "text": [
            "1210/1210 [==============================] - 36s 30ms/step - loss: 0.0643 - accuracy: 0.9785\n",
            "\n",
            "ACCURACY: 0.978515625\n",
            "LOSS: 0.06432363390922546\n",
            "CPU times: user 35.9 s, sys: 764 ms, total: 36.7 s\n",
            "Wall time: 35.9 s\n"
          ],
          "name": "stdout"
        }
      ]
    },
    {
      "cell_type": "code",
      "metadata": {
        "id": "PjQChZKeX8v4",
        "colab": {
          "base_uri": "https://localhost:8080/"
        },
        "outputId": "f300e131-865c-405f-8db2-e4cbb7953222"
      },
      "source": [
        "[print(data1['process_tweet'][i], predictions[i], y_test[i] ) for i in range(1, 3)\n",
        "]"
      ],
      "execution_count": null,
      "outputs": [
        {
          "output_type": "stream",
          "text": [
            "year covid vaccin normal thing understand reluct deal real time [9.9841392e-01 1.2340511e-03 3.2961753e-04 2.1892703e-05 5.7974017e-07] [1 0 0 0 0]\n",
            "well said unfortun diseas u refer limit peopl specif color peabrain idiot like guy everywher say let start test covid vaccin moron like himmayb that way contribut societi [1.5045563e-05 6.0784760e-06 9.9996269e-01 1.2201570e-05 4.0180485e-06] [0 0 1 0 0]\n"
          ],
          "name": "stdout"
        },
        {
          "output_type": "execute_result",
          "data": {
            "text/plain": [
              "[None, None]"
            ]
          },
          "metadata": {
            "tags": []
          },
          "execution_count": 90
        }
      ]
    },
    {
      "cell_type": "code",
      "metadata": {
        "id": "cuJsnPMHX8zX",
        "colab": {
          "base_uri": "https://localhost:8080/"
        },
        "outputId": "2e2f07a9-34f1-4b87-b001-d8e6d4ce2af3"
      },
      "source": [
        "\n",
        "pred1 = np.argmax(predictions , axis=1)\n",
        "pred1[:10]"
      ],
      "execution_count": null,
      "outputs": [
        {
          "output_type": "execute_result",
          "data": {
            "text/plain": [
              "array([4, 0, 2, 2, 4, 2, 2, 1, 1, 0])"
            ]
          },
          "metadata": {
            "tags": []
          },
          "execution_count": 91
        }
      ]
    },
    {
      "cell_type": "code",
      "metadata": {
        "id": "A49-jDEwX83K"
      },
      "source": [
        "y_test = np.argmax(y_test , axis=1)\n"
      ],
      "execution_count": null,
      "outputs": []
    },
    {
      "cell_type": "code",
      "metadata": {
        "id": "1-Xdag84X86W",
        "colab": {
          "base_uri": "https://localhost:8080/"
        },
        "outputId": "85b46141-4d0d-40a9-9210-b8c5fca0ee74"
      },
      "source": [
        "\n",
        "\n",
        "print(y_train.shape)\n",
        "print(x_train.shape)  #160824 trainnig data"
      ],
      "execution_count": null,
      "outputs": [
        {
          "output_type": "stream",
          "text": [
            "(619236, 5)\n",
            "(619236, 51)\n"
          ],
          "name": "stdout"
        }
      ]
    },
    {
      "cell_type": "code",
      "metadata": {
        "id": "s8MqB5w_X89Y",
        "colab": {
          "base_uri": "https://localhost:8080/"
        },
        "outputId": "c6889f93-5139-482f-92e6-02639cd8d780"
      },
      "source": [
        "print(y_test.shape)\n",
        "print(x_test.shape)     #40206 test data"
      ],
      "execution_count": null,
      "outputs": [
        {
          "output_type": "stream",
          "text": [
            "(154810,)\n",
            "(154810, 51)\n"
          ],
          "name": "stdout"
        }
      ]
    },
    {
      "cell_type": "code",
      "metadata": {
        "id": "AjvwlCWzX9IN",
        "colab": {
          "base_uri": "https://localhost:8080/"
        },
        "outputId": "7f808de6-09d4-41fe-885e-cb3127dea7b2"
      },
      "source": [
        "print(confusion_matrix(y_test , pred1 ,normalize=None))"
      ],
      "execution_count": null,
      "outputs": [
        {
          "output_type": "stream",
          "text": [
            "[[19778   270    22   616     9]\n",
            " [  633 33171    28    31   377]\n",
            " [  286   153 63301     3     2]\n",
            " [  262    44     7 13902     5]\n",
            " [   71   489     4    14 21332]]\n"
          ],
          "name": "stdout"
        }
      ]
    },
    {
      "cell_type": "code",
      "metadata": {
        "id": "70z038ZFY17i",
        "colab": {
          "base_uri": "https://localhost:8080/"
        },
        "outputId": "43e07013-2e91-4272-8c6b-ca4d89342edd"
      },
      "source": [
        "print(confusion_matrix(y_test , pred1))"
      ],
      "execution_count": null,
      "outputs": [
        {
          "output_type": "stream",
          "text": [
            "[[19778   270    22   616     9]\n",
            " [  633 33171    28    31   377]\n",
            " [  286   153 63301     3     2]\n",
            " [  262    44     7 13902     5]\n",
            " [   71   489     4    14 21332]]\n"
          ],
          "name": "stdout"
        }
      ]
    },
    {
      "cell_type": "code",
      "metadata": {
        "id": "Pi4icYQMY1_y",
        "colab": {
          "base_uri": "https://localhost:8080/"
        },
        "outputId": "feb6e12e-0ce0-4ed3-83b9-a99534e8b528"
      },
      "source": [
        "print(classification_report(y_test , pred1))"
      ],
      "execution_count": null,
      "outputs": [
        {
          "output_type": "stream",
          "text": [
            "              precision    recall  f1-score   support\n",
            "\n",
            "           0       0.94      0.96      0.95     20695\n",
            "           1       0.97      0.97      0.97     34240\n",
            "           2       1.00      0.99      1.00     63745\n",
            "           3       0.95      0.98      0.97     14220\n",
            "           4       0.98      0.97      0.98     21910\n",
            "\n",
            "    accuracy                           0.98    154810\n",
            "   macro avg       0.97      0.97      0.97    154810\n",
            "weighted avg       0.98      0.98      0.98    154810\n",
            "\n"
          ],
          "name": "stdout"
        }
      ]
    },
    {
      "cell_type": "code",
      "metadata": {
        "id": "s-z8sQKCY2FM",
        "colab": {
          "base_uri": "https://localhost:8080/"
        },
        "outputId": "89ed43e1-fe3a-40d6-d0f6-0c1452a24ed1"
      },
      "source": [
        "accuracy_score(y_test , pred1)"
      ],
      "execution_count": null,
      "outputs": [
        {
          "output_type": "execute_result",
          "data": {
            "text/plain": [
              "0.9785155997674568"
            ]
          },
          "metadata": {
            "tags": []
          },
          "execution_count": 99
        }
      ]
    },
    {
      "cell_type": "code",
      "metadata": {
        "id": "hu1T3aXcY2JB",
        "colab": {
          "base_uri": "https://localhost:8080/"
        },
        "outputId": "af6d8526-539d-4055-876d-b7f60389a7cb"
      },
      "source": [
        "print(confusion_matrix(y_test , pred1))"
      ],
      "execution_count": null,
      "outputs": [
        {
          "output_type": "stream",
          "text": [
            "[[19778   270    22   616     9]\n",
            " [  633 33171    28    31   377]\n",
            " [  286   153 63301     3     2]\n",
            " [  262    44     7 13902     5]\n",
            " [   71   489     4    14 21332]]\n"
          ],
          "name": "stdout"
        }
      ]
    },
    {
      "cell_type": "code",
      "metadata": {
        "colab": {
          "base_uri": "https://localhost:8080/"
        },
        "id": "3HvLvE0uHpLl",
        "outputId": "477f2464-307f-4c21-da92-0fa89ba57cdb"
      },
      "source": [
        "#Mean Squared Error\n",
        "from sklearn.metrics import mean_squared_error\n",
        "mean_squared_error(y_test, pred1)"
      ],
      "execution_count": null,
      "outputs": [
        {
          "output_type": "execute_result",
          "data": {
            "text/plain": [
              "0.1268974872424262"
            ]
          },
          "metadata": {
            "tags": []
          },
          "execution_count": 101
        }
      ]
    },
    {
      "cell_type": "code",
      "metadata": {
        "id": "SlIjJ8RvY2Q4",
        "colab": {
          "base_uri": "https://localhost:8080/",
          "height": 654
        },
        "outputId": "16a24ac0-7ba7-4aa2-9754-b1ef6cb660ac"
      },
      "source": [
        "plt.figure(figsize=(10,5))\n",
        "acc = history.history['accuracy']\n",
        "val_acc = history.history['val_accuracy']\n",
        "loss = history.history['loss']\n",
        "val_loss = history.history['val_loss']\n",
        " \n",
        "epochs = range(len(acc))\n",
        " \n",
        "plt.plot(epochs, acc, 'b', label='Training acc')\n",
        "plt.plot(epochs, val_acc, 'r', label='Validation acc')\n",
        "plt.title('Training and Validation accuracy')\n",
        "plt.legend()\n",
        "plt.grid(True)\n",
        " \n",
        "plt.figure(figsize=(10,5))\n",
        " \n",
        "plt.plot(epochs, loss, 'b', label='Training loss')\n",
        "plt.plot(epochs, val_loss, 'r', label='Validation loss')\n",
        "plt.title('Training and Validation loss')\n",
        "plt.grid(True)\n",
        "plt.legend()\n",
        "\n",
        "plt.show()\n"
      ],
      "execution_count": null,
      "outputs": [
        {
          "output_type": "display_data",
          "data": {
            "image/png": "[encoded data removed]",
            "text/plain": [
              "<Figure size 720x360 with 1 Axes>"
            ]
          },
          "metadata": {
            "tags": [],
            "needs_background": "light"
          }
        },
        {
          "output_type": "display_data",
          "data": {
            "image/png": "[encoded data removed]",
            "text/plain": [
              "<Figure size 720x360 with 1 Axes>"
            ]
          },
          "metadata": {
            "tags": [],
            "needs_background": "light"
          }
        }
      ]
    },
    {
      "cell_type": "code",
      "metadata": {
        "id": "cTE7ZvGpNd0n",
        "colab": {
          "base_uri": "https://localhost:8080/",
          "height": 532
        },
        "outputId": "bcec3187-4bd6-4d58-dd54-881e0dac932e"
      },
      "source": [
        "\n",
        "epochs = [i for i in range(5)]\n",
        "fig , ax = plt.subplots(1,2)\n",
        "train_acc = history.history['accuracy']\n",
        "train_loss = history.history['loss']\n",
        "val_acc = history.history['val_accuracy']\n",
        "val_loss = history.history['val_loss']\n",
        "fig.set_size_inches(30,10)\n",
        "\n",
        "\n",
        "ax[0].plot(epochs , train_acc , 'go-' , label = 'Training Accuracy')\n",
        "ax[0].plot(epochs , val_acc , 'ro-' , label = 'Validation Accuracy')\n",
        "ax[0].set_title('Training & Validation Accuracy')\n",
        "\n",
        "ax[0].legend()\n",
        "ax[0].set_xlabel(\"Epochs\")\n",
        "ax[0].set_ylabel(\"Accuracy\")\n",
        "\n",
        "\n",
        "ax[1].plot(epochs , train_loss , 'g-o' , label = 'Training Loss')\n",
        "ax[1].plot(epochs , val_loss , 'r-o' , label = 'Validation Loss')\n",
        "ax[1].set_title('Testing Accuracy & Loss')\n",
        "ax[1].legend()\n",
        "ax[1].set_xlabel(\"Epochs\")\n",
        "ax[1].set_ylabel(\"Training & Validation Loss\")\n",
        "plt.show()"
      ],
      "execution_count": null,
      "outputs": [
        {
          "output_type": "display_data",
          "data": {
            "image/png": "[encoded data removed]",
            "text/plain": [
              "<Figure size 2160x720 with 2 Axes>"
            ]
          },
          "metadata": {
            "tags": [],
            "needs_background": "light"
          }
        }
      ]
    },
    {
      "cell_type": "code",
      "metadata": {
        "id": "d-CrDU2cZEBJ",
        "colab": {
          "base_uri": "https://localhost:8080/",
          "height": 350
        },
        "outputId": "765bc749-9ac2-4ad6-f997-f6e133191b29"
      },
      "source": [
        "\n",
        "epochs = [i for i in range(5)]\n",
        "\n",
        "train_acc = history.history['accuracy']\n",
        "train_loss = history.history['loss']\n",
        "val_acc = history.history['val_accuracy']\n",
        "val_loss = history.history['val_loss']\n",
        "\n",
        "plt.figure(figsize=(10,5))\n",
        "\n",
        "\n",
        "plt.plot(epochs , train_acc , 'go-' , label = 'Training Accuracy')\n",
        "plt.plot(epochs , val_acc , 'ro-' , label = 'Validation Accuracy')\n",
        "plt.title('Training & Validation Accuracy')\n",
        "\n",
        "plt.legend()\n",
        "plt.xlabel(\"Epochs\")\n",
        "plt.ylabel(\"Accuracy\")\n",
        "\n",
        "plt.show()"
      ],
      "execution_count": null,
      "outputs": [
        {
          "output_type": "display_data",
          "data": {
            "image/png": "[encoded data removed]",
            "text/plain": [
              "<Figure size 720x360 with 1 Axes>"
            ]
          },
          "metadata": {
            "tags": [],
            "needs_background": "light"
          }
        }
      ]
    },
    {
      "cell_type": "code",
      "metadata": {
        "id": "Cb_MisHLZEFh",
        "colab": {
          "base_uri": "https://localhost:8080/",
          "height": 350
        },
        "outputId": "88bf0831-d578-44a1-a117-06aa447d57b1"
      },
      "source": [
        "epochs = [i for i in range(5)]\n",
        "\n",
        "train_acc = history.history['accuracy']\n",
        "train_loss = history.history['loss']\n",
        "val_acc = history.history['val_accuracy']\n",
        "val_loss = history.history['val_loss']\n",
        "\n",
        "plt.figure(figsize=(10,5))\n",
        "\n",
        "\n",
        "plt.plot(epochs , train_loss , 'go-' , label = 'Training Loss')\n",
        "plt.plot(epochs , val_loss , 'ro-' , label = 'Validation Loss')\n",
        "plt.title('Training & Validation Loss')\n",
        "\n",
        "plt.legend()\n",
        "plt.xlabel(\"Epochs\")\n",
        "plt.ylabel(\"Loss\")\n",
        "\n",
        "plt.show()"
      ],
      "execution_count": null,
      "outputs": [
        {
          "output_type": "display_data",
          "data": {
            "image/png": "[encoded data removed]",
            "text/plain": [
              "<Figure size 720x360 with 1 Axes>"
            ]
          },
          "metadata": {
            "tags": [],
            "needs_background": "light"
          }
        }
      ]
    }
  ]
}