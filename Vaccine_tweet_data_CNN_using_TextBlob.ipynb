{
  "nbformat": 4,
  "nbformat_minor": 0,
  "metadata": {
    "colab": {
      "name": "Vaccine tweet data CNN using TextBlob",
      "provenance": [],
      "collapsed_sections": []
    },
    "kernelspec": {
      "display_name": "Python 3",
      "name": "python3"
    },
    "accelerator": "GPU"
  },
  "cells": [
    {
      "cell_type": "code",
      "metadata": {
        "id": "RlYZZJPYYon5",
        "colab": {
          "resources": {
            "http://localhost:8080/nbextensions/google.colab/files.js": {
              "data": "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",
              "ok": true,
              "headers": [
                [
                  "content-type",
                  "application/javascript"
                ]
              ],
              "status": 200,
              "status_text": ""
            }
          },
          "base_uri": "https://localhost:8080/",
          "height": 248
        },
        "outputId": "0321688b-c564-4e80-a740-e03470fe21c9"
      },
      "source": [
        "!pip install kaggle\n",
        "from google.colab import files \n",
        "#files.open('/content/drive/MyDrive/Colab Notebooks/json kaggle')\n",
        "files.upload() #download and upload json file\n",
        "\n",
        "!mkdir -p ~/.kaggle\n",
        "!cp kaggle.json ~/.kaggle/\n",
        "\n",
        "\n",
        "!chmod 600 ~/.kaggle/kaggle.json\n"
      ],
      "execution_count": null,
      "outputs": [
        {
          "output_type": "stream",
          "text": [
            "Requirement already satisfied: kaggle in /usr/local/lib/python3.7/dist-packages (1.5.12)\n",
            "Requirement already satisfied: python-dateutil in /usr/local/lib/python3.7/dist-packages (from kaggle) (2.8.1)\n",
            "Requirement already satisfied: python-slugify in /usr/local/lib/python3.7/dist-packages (from kaggle) (5.0.2)\n",
            "Requirement already satisfied: urllib3 in /usr/local/lib/python3.7/dist-packages (from kaggle) (1.24.3)\n",
            "Requirement already satisfied: requests in /usr/local/lib/python3.7/dist-packages (from kaggle) (2.23.0)\n",
            "Requirement already satisfied: tqdm in /usr/local/lib/python3.7/dist-packages (from kaggle) (4.41.1)\n",
            "Requirement already satisfied: six>=1.10 in /usr/local/lib/python3.7/dist-packages (from kaggle) (1.15.0)\n",
            "Requirement already satisfied: certifi in /usr/local/lib/python3.7/dist-packages (from kaggle) (2021.5.30)\n",
            "Requirement already satisfied: text-unidecode>=1.3 in /usr/local/lib/python3.7/dist-packages (from python-slugify->kaggle) (1.3)\n",
            "Requirement already satisfied: chardet<4,>=3.0.2 in /usr/local/lib/python3.7/dist-packages (from requests->kaggle) (3.0.4)\n",
            "Requirement already satisfied: idna<3,>=2.5 in /usr/local/lib/python3.7/dist-packages (from requests->kaggle) (2.10)\n"
          ],
          "name": "stdout"
        },
        {
          "output_type": "display_data",
          "data": {
            "text/html": [
              "\n",
              "     <input type=\"file\" id=\"files-55b562e3-66c0-45e2-b3bd-b243ad4293fa\" name=\"files[]\" multiple disabled\n",
              "        style=\"border:none\" />\n",
              "     <output id=\"result-55b562e3-66c0-45e2-b3bd-b243ad4293fa\">\n",
              "      Upload widget is only available when the cell has been executed in the\n",
              "      current browser session. Please rerun this cell to enable.\n",
              "      </output>\n",
              "      <script src=\"/nbextensions/google.colab/files.js\"></script> "
            ],
            "text/plain": [
              "<IPython.core.display.HTML object>"
            ]
          },
          "metadata": {
            "tags": []
          }
        },
        {
          "output_type": "stream",
          "text": [
            "Saving kaggle.json to kaggle.json\n"
          ],
          "name": "stdout"
        }
      ]
    },
    {
      "cell_type": "code",
      "metadata": {
        "colab": {
          "base_uri": "https://localhost:8080/"
        },
        "id": "C0x2pILHyz08",
        "outputId": "807a5d40-ec13-4d44-c543-b39736026d1d"
      },
      "source": [
        "!kaggle datasets download -d merahul28/covid19-vaccine-related-tweets"
      ],
      "execution_count": null,
      "outputs": [
        {
          "output_type": "stream",
          "text": [
            "Downloading covid19-vaccine-related-tweets.zip to /content\n",
            "100% 91.0M/91.3M [00:01<00:00, 52.0MB/s]\n",
            "100% 91.3M/91.3M [00:01<00:00, 75.5MB/s]\n"
          ],
          "name": "stdout"
        }
      ]
    },
    {
      "cell_type": "code",
      "metadata": {
        "id": "gULnLxzjaBT5",
        "colab": {
          "base_uri": "https://localhost:8080/"
        },
        "outputId": "aa31dcae-4813-446f-ab90-0724b84f546c"
      },
      "source": [
        "!kaggle datasets download -d ritesh2000/covid19-vaccine-tweets"
      ],
      "execution_count": null,
      "outputs": [
        {
          "output_type": "stream",
          "text": [
            "Downloading covid19-vaccine-tweets.zip to /content\n",
            " 50% 17.0M/34.1M [00:00<00:00, 20.0MB/s]\n",
            "100% 34.1M/34.1M [00:01<00:00, 33.1MB/s]\n"
          ],
          "name": "stdout"
        }
      ]
    },
    {
      "cell_type": "code",
      "metadata": {
        "id": "jrLzyVHurR6J"
      },
      "source": [
        "from zipfile import ZipFile\n",
        "file_name= \"covid19-vaccine-tweets.zip\"\n",
        "\n",
        "with ZipFile(file_name ,'r') as zip:\n",
        "  zip.extractall()\n"
      ],
      "execution_count": null,
      "outputs": []
    },
    {
      "cell_type": "code",
      "metadata": {
        "colab": {
          "base_uri": "https://localhost:8080/"
        },
        "id": "F1QChh9Xy4kW",
        "outputId": "d1378fa9-cf5b-4a37-844c-1113b1b904a2"
      },
      "source": [
        "from zipfile import ZipFile\n",
        "file_name= \"covid19-vaccine-related-tweets.zip\"\n",
        "\n",
        "with ZipFile(file_name ,'r') as zip:\n",
        "  zip.extractall()\n",
        "  print('Done')"
      ],
      "execution_count": null,
      "outputs": [
        {
          "output_type": "stream",
          "text": [
            "Done\n"
          ],
          "name": "stdout"
        }
      ]
    },
    {
      "cell_type": "code",
      "metadata": {
        "id": "TegBpjDtaR9u"
      },
      "source": [
        "#import library\n",
        "\n",
        "import pandas as pd\n",
        "import numpy as np\n",
        "\n",
        "import matplotlib.pyplot as plt\n",
        "%matplotlib inline\n",
        "\n",
        "from sklearn.model_selection import train_test_split\n",
        "from sklearn.preprocessing import LabelEncoder   ###########\n",
        "from sklearn.metrics import confusion_matrix , classification_report , accuracy_score\n",
        "from sklearn.manifold import TSNE ######\n",
        "from sklearn.feature_extraction.text import TfidfVectorizer #############\n",
        "\n",
        "from keras.preprocessing.text import Tokenizer         #######\n",
        "from keras.preprocessing.sequence import pad_sequences #######\n",
        "from keras.models import Sequential\n",
        "from keras.layers import Dropout , Conv1D ,MaxPool1D,Activation , Dense , Flatten , Embedding , LSTM ####\n",
        "\n",
        "from keras import utils\n",
        "from keras.callbacks import ReduceLROnPlateau , EarlyStopping\n",
        "\n",
        "\n",
        "#nltk\n",
        "\n",
        "import nltk\n",
        "from nltk.corpus import stopwords ########\n",
        "from nltk.stem import SnowballStemmer ############\n",
        "\n",
        "\n",
        "#word to vec\n",
        "import gensim\n",
        "\n",
        "import re #####\n",
        "import os\n",
        "from collections import Counter #######\n",
        "import logging ###\n",
        "import time\n",
        "import pickle ######\n",
        "import itertools ######\n",
        "\n",
        "\n",
        "from textblob import TextBlob # TextBlob - Python library for processing textual data\n",
        "import random\n",
        "np.random.seed(0)\n",
        "\n",
        "\n",
        "# import SentimentIntensityAnalyzer class\n",
        "# from vaderSentiment.vaderSentiment module.\n",
        "#from vaderSentiment.vaderSentiment import SentimentIntensityAnalyzer\n"
      ],
      "execution_count": null,
      "outputs": []
    },
    {
      "cell_type": "code",
      "metadata": {
        "id": "zJ1UTKIPTiyi"
      },
      "source": [
        "#load data \n",
        "df1 = pd.read_csv('/content/file.csv')\n",
        "df2=pd.read_csv('/content/COVID-Vaccine Related tweets NOV1 to DEC16.csv')"
      ],
      "execution_count": null,
      "outputs": []
    },
    {
      "cell_type": "code",
      "metadata": {
        "colab": {
          "base_uri": "https://localhost:8080/",
          "height": 932
        },
        "id": "0aiqBm5jzOYj",
        "outputId": "03f15d89-c366-4940-ef08-0a7bab484052"
      },
      "source": [
        "display(df2)"
      ],
      "execution_count": null,
      "outputs": [
        {
          "output_type": "display_data",
          "data": {
            "text/html": [
              "<div>\n",
              "<style scoped>\n",
              "    .dataframe tbody tr th:only-of-type {\n",
              "        vertical-align: middle;\n",
              "    }\n",
              "\n",
              "    .dataframe tbody tr th {\n",
              "        vertical-align: top;\n",
              "    }\n",
              "\n",
              "    .dataframe thead th {\n",
              "        text-align: right;\n",
              "    }\n",
              "</style>\n",
              "<table border=\"1\" class=\"dataframe\">\n",
              "  <thead>\n",
              "    <tr style=\"text-align: right;\">\n",
              "      <th></th>\n",
              "      <th>date</th>\n",
              "      <th>time</th>\n",
              "      <th>user_id</th>\n",
              "      <th>username</th>\n",
              "      <th>name</th>\n",
              "      <th>tweet</th>\n",
              "      <th>language</th>\n",
              "      <th>mentions</th>\n",
              "      <th>urls</th>\n",
              "      <th>photos</th>\n",
              "      <th>replies_count</th>\n",
              "      <th>retweets_count</th>\n",
              "      <th>likes_count</th>\n",
              "      <th>hashtags</th>\n",
              "      <th>link</th>\n",
              "    </tr>\n",
              "  </thead>\n",
              "  <tbody>\n",
              "    <tr>\n",
              "      <th>0</th>\n",
              "      <td>16-12-2020</td>\n",
              "      <td>04:37:24</td>\n",
              "      <td>1.369881e+08</td>\n",
              "      <td>beforethestars</td>\n",
              "      <td>Andrea Davison</td>\n",
              "      <td>Vegetarians here is a reason \"AZD1222 (ChAdOx1...</td>\n",
              "      <td>en</td>\n",
              "      <td>[]</td>\n",
              "      <td>[]</td>\n",
              "      <td>[]</td>\n",
              "      <td>0</td>\n",
              "      <td>3</td>\n",
              "      <td>3</td>\n",
              "      <td>[]</td>\n",
              "      <td>https://twitter.com/beforethestars/status/1338...</td>\n",
              "    </tr>\n",
              "    <tr>\n",
              "      <th>1</th>\n",
              "      <td>16-12-2020</td>\n",
              "      <td>04:03:02</td>\n",
              "      <td>1.458063e+09</td>\n",
              "      <td>artofhitech</td>\n",
              "      <td>Техно Ньюс !</td>\n",
              "      <td>AstraZeneca начинает клинические испытания вак...</td>\n",
              "      <td>ru</td>\n",
              "      <td>[]</td>\n",
              "      <td>[]</td>\n",
              "      <td>[]</td>\n",
              "      <td>0</td>\n",
              "      <td>0</td>\n",
              "      <td>0</td>\n",
              "      <td>[]</td>\n",
              "      <td>https://twitter.com/ArtOfHiTech/status/1338975...</td>\n",
              "    </tr>\n",
              "    <tr>\n",
              "      <th>2</th>\n",
              "      <td>16-12-2020</td>\n",
              "      <td>03:39:43</td>\n",
              "      <td>1.412535e+07</td>\n",
              "      <td>n6mac41717</td>\n",
              "      <td>Chuck Han</td>\n",
              "      <td>@ByLizC 1) Let's see what the US Phase III tri...</td>\n",
              "      <td>en</td>\n",
              "      <td>[]</td>\n",
              "      <td>[]</td>\n",
              "      <td>[]</td>\n",
              "      <td>0</td>\n",
              "      <td>0</td>\n",
              "      <td>0</td>\n",
              "      <td>[]</td>\n",
              "      <td>https://twitter.com/n6mac41717/status/13389695...</td>\n",
              "    </tr>\n",
              "    <tr>\n",
              "      <th>3</th>\n",
              "      <td>16-12-2020</td>\n",
              "      <td>03:30:18</td>\n",
              "      <td>3.312676e+09</td>\n",
              "      <td>codigofmx</td>\n",
              "      <td>codigof.mx</td>\n",
              "      <td>El pasado 11 de diciembre, el laboratorio Astr...</td>\n",
              "      <td>es</td>\n",
              "      <td>[]</td>\n",
              "      <td>['http://ow.ly/iu8o50CMlt5']</td>\n",
              "      <td>['https://pbs.twimg.com/media/EpT3hY_W8AM6C_x....</td>\n",
              "      <td>0</td>\n",
              "      <td>0</td>\n",
              "      <td>4</td>\n",
              "      <td>[]</td>\n",
              "      <td>https://twitter.com/codigofmx/status/133896714...</td>\n",
              "    </tr>\n",
              "    <tr>\n",
              "      <th>4</th>\n",
              "      <td>16-12-2020</td>\n",
              "      <td>01:39:04</td>\n",
              "      <td>9.536980e+17</td>\n",
              "      <td>ae1tt</td>\n",
              "      <td>Deborah A Nicholas, M.D.</td>\n",
              "      <td>@sabrigley @IncognitoNewt @thespybrief Yep. Pu...</td>\n",
              "      <td>en</td>\n",
              "      <td>[]</td>\n",
              "      <td>['https://www.thelancet.com/journals/lancet/ar...</td>\n",
              "      <td>[]</td>\n",
              "      <td>1</td>\n",
              "      <td>0</td>\n",
              "      <td>6</td>\n",
              "      <td>[]</td>\n",
              "      <td>https://twitter.com/AE1TT/status/1338939149072...</td>\n",
              "    </tr>\n",
              "    <tr>\n",
              "      <th>...</th>\n",
              "      <td>...</td>\n",
              "      <td>...</td>\n",
              "      <td>...</td>\n",
              "      <td>...</td>\n",
              "      <td>...</td>\n",
              "      <td>...</td>\n",
              "      <td>...</td>\n",
              "      <td>...</td>\n",
              "      <td>...</td>\n",
              "      <td>...</td>\n",
              "      <td>...</td>\n",
              "      <td>...</td>\n",
              "      <td>...</td>\n",
              "      <td>...</td>\n",
              "      <td>...</td>\n",
              "    </tr>\n",
              "    <tr>\n",
              "      <th>686100</th>\n",
              "      <td>01-11-2020</td>\n",
              "      <td>07:35:53</td>\n",
              "      <td>1.336240e+08</td>\n",
              "      <td>vrtarak</td>\n",
              "      <td>viggy</td>\n",
              "      <td>@imeghanavirat Kadhu India dhi covaxin valu ip...</td>\n",
              "      <td>in</td>\n",
              "      <td>[]</td>\n",
              "      <td>[]</td>\n",
              "      <td>[]</td>\n",
              "      <td>3</td>\n",
              "      <td>0</td>\n",
              "      <td>0</td>\n",
              "      <td>[]</td>\n",
              "      <td>https://twitter.com/VRtarak/status/13227214928...</td>\n",
              "    </tr>\n",
              "    <tr>\n",
              "      <th>686101</th>\n",
              "      <td>01-11-2020</td>\n",
              "      <td>07:33:47</td>\n",
              "      <td>1.039760e+18</td>\n",
              "      <td>tv9bharatvarsh</td>\n",
              "      <td>TV9 Bharatvarsh</td>\n",
              "      <td>#Covaxin के तीसरे फेज का ट्रायल जल्द होगा शुरू...</td>\n",
              "      <td>hi</td>\n",
              "      <td>[]</td>\n",
              "      <td>['https://www.tv9bharatvarsh.com/india/corona-...</td>\n",
              "      <td>[]</td>\n",
              "      <td>0</td>\n",
              "      <td>0</td>\n",
              "      <td>15</td>\n",
              "      <td>['covaxin', 'coronavirus', 'covid19']</td>\n",
              "      <td>https://twitter.com/TV9Bharatvarsh/status/1322...</td>\n",
              "    </tr>\n",
              "    <tr>\n",
              "      <th>686102</th>\n",
              "      <td>01-11-2020</td>\n",
              "      <td>07:26:19</td>\n",
              "      <td>1.336240e+08</td>\n",
              "      <td>vrtarak</td>\n",
              "      <td>viggy</td>\n",
              "      <td>@imeghanavirat Russia la vaccine odaladame at ...</td>\n",
              "      <td>in</td>\n",
              "      <td>[]</td>\n",
              "      <td>[]</td>\n",
              "      <td>[]</td>\n",
              "      <td>1</td>\n",
              "      <td>0</td>\n",
              "      <td>0</td>\n",
              "      <td>[]</td>\n",
              "      <td>https://twitter.com/VRtarak/status/13227190842...</td>\n",
              "    </tr>\n",
              "    <tr>\n",
              "      <th>686103</th>\n",
              "      <td>01-11-2020</td>\n",
              "      <td>07:02:32</td>\n",
              "      <td>1.238370e+18</td>\n",
              "      <td>covidmexico</td>\n",
              "      <td>Covid México</td>\n",
              "      <td>ste candidato ha entrado en ensayos de Fase 2....</td>\n",
              "      <td>es</td>\n",
              "      <td>[]</td>\n",
              "      <td>[]</td>\n",
              "      <td>[]</td>\n",
              "      <td>1</td>\n",
              "      <td>1</td>\n",
              "      <td>0</td>\n",
              "      <td>[]</td>\n",
              "      <td>https://twitter.com/CovidMexico/status/1322713...</td>\n",
              "    </tr>\n",
              "    <tr>\n",
              "      <th>686104</th>\n",
              "      <td>01-11-2020</td>\n",
              "      <td>07:02:30</td>\n",
              "      <td>1.238370e+18</td>\n",
              "      <td>covidmexico</td>\n",
              "      <td>Covid México</td>\n",
              "      <td>Covaxin - Inactivated vaccine Estado: Los prim...</td>\n",
              "      <td>es</td>\n",
              "      <td>[]</td>\n",
              "      <td>[]</td>\n",
              "      <td>[]</td>\n",
              "      <td>1</td>\n",
              "      <td>0</td>\n",
              "      <td>1</td>\n",
              "      <td>[]</td>\n",
              "      <td>https://twitter.com/CovidMexico/status/1322713...</td>\n",
              "    </tr>\n",
              "  </tbody>\n",
              "</table>\n",
              "<p>686105 rows × 15 columns</p>\n",
              "</div>"
            ],
            "text/plain": [
              "              date  ...                                               link\n",
              "0       16-12-2020  ...  https://twitter.com/beforethestars/status/1338...\n",
              "1       16-12-2020  ...  https://twitter.com/ArtOfHiTech/status/1338975...\n",
              "2       16-12-2020  ...  https://twitter.com/n6mac41717/status/13389695...\n",
              "3       16-12-2020  ...  https://twitter.com/codigofmx/status/133896714...\n",
              "4       16-12-2020  ...  https://twitter.com/AE1TT/status/1338939149072...\n",
              "...            ...  ...                                                ...\n",
              "686100  01-11-2020  ...  https://twitter.com/VRtarak/status/13227214928...\n",
              "686101  01-11-2020  ...  https://twitter.com/TV9Bharatvarsh/status/1322...\n",
              "686102  01-11-2020  ...  https://twitter.com/VRtarak/status/13227190842...\n",
              "686103  01-11-2020  ...  https://twitter.com/CovidMexico/status/1322713...\n",
              "686104  01-11-2020  ...  https://twitter.com/CovidMexico/status/1322713...\n",
              "\n",
              "[686105 rows x 15 columns]"
            ]
          },
          "metadata": {
            "tags": []
          }
        }
      ]
    },
    {
      "cell_type": "code",
      "metadata": {
        "colab": {
          "base_uri": "https://localhost:8080/"
        },
        "id": "ZTyj1AaCzVV9",
        "outputId": "bbcf68f5-dc94-426d-b7d7-ec72bd11c379"
      },
      "source": [
        "df2.columns"
      ],
      "execution_count": null,
      "outputs": [
        {
          "output_type": "execute_result",
          "data": {
            "text/plain": [
              "Index(['date', 'time', 'user_id', 'username', 'name', 'tweet', 'language',\n",
              "       'mentions', 'urls', 'photos', 'replies_count', 'retweets_count',\n",
              "       'likes_count', 'hashtags', 'link'],\n",
              "      dtype='object')"
            ]
          },
          "metadata": {
            "tags": []
          },
          "execution_count": 9
        }
      ]
    },
    {
      "cell_type": "code",
      "metadata": {
        "colab": {
          "base_uri": "https://localhost:8080/",
          "height": 480
        },
        "id": "BHqC9tmYzVdz",
        "outputId": "8d41c99c-0d68-4c39-9d9f-2cc906a849b1"
      },
      "source": [
        "df2.head()"
      ],
      "execution_count": null,
      "outputs": [
        {
          "output_type": "execute_result",
          "data": {
            "text/html": [
              "<div>\n",
              "<style scoped>\n",
              "    .dataframe tbody tr th:only-of-type {\n",
              "        vertical-align: middle;\n",
              "    }\n",
              "\n",
              "    .dataframe tbody tr th {\n",
              "        vertical-align: top;\n",
              "    }\n",
              "\n",
              "    .dataframe thead th {\n",
              "        text-align: right;\n",
              "    }\n",
              "</style>\n",
              "<table border=\"1\" class=\"dataframe\">\n",
              "  <thead>\n",
              "    <tr style=\"text-align: right;\">\n",
              "      <th></th>\n",
              "      <th>date</th>\n",
              "      <th>time</th>\n",
              "      <th>user_id</th>\n",
              "      <th>username</th>\n",
              "      <th>name</th>\n",
              "      <th>tweet</th>\n",
              "      <th>language</th>\n",
              "      <th>mentions</th>\n",
              "      <th>urls</th>\n",
              "      <th>photos</th>\n",
              "      <th>replies_count</th>\n",
              "      <th>retweets_count</th>\n",
              "      <th>likes_count</th>\n",
              "      <th>hashtags</th>\n",
              "      <th>link</th>\n",
              "    </tr>\n",
              "  </thead>\n",
              "  <tbody>\n",
              "    <tr>\n",
              "      <th>0</th>\n",
              "      <td>16-12-2020</td>\n",
              "      <td>04:37:24</td>\n",
              "      <td>1.369881e+08</td>\n",
              "      <td>beforethestars</td>\n",
              "      <td>Andrea Davison</td>\n",
              "      <td>Vegetarians here is a reason \"AZD1222 (ChAdOx1...</td>\n",
              "      <td>en</td>\n",
              "      <td>[]</td>\n",
              "      <td>[]</td>\n",
              "      <td>[]</td>\n",
              "      <td>0</td>\n",
              "      <td>3</td>\n",
              "      <td>3</td>\n",
              "      <td>[]</td>\n",
              "      <td>https://twitter.com/beforethestars/status/1338...</td>\n",
              "    </tr>\n",
              "    <tr>\n",
              "      <th>1</th>\n",
              "      <td>16-12-2020</td>\n",
              "      <td>04:03:02</td>\n",
              "      <td>1.458063e+09</td>\n",
              "      <td>artofhitech</td>\n",
              "      <td>Техно Ньюс !</td>\n",
              "      <td>AstraZeneca начинает клинические испытания вак...</td>\n",
              "      <td>ru</td>\n",
              "      <td>[]</td>\n",
              "      <td>[]</td>\n",
              "      <td>[]</td>\n",
              "      <td>0</td>\n",
              "      <td>0</td>\n",
              "      <td>0</td>\n",
              "      <td>[]</td>\n",
              "      <td>https://twitter.com/ArtOfHiTech/status/1338975...</td>\n",
              "    </tr>\n",
              "    <tr>\n",
              "      <th>2</th>\n",
              "      <td>16-12-2020</td>\n",
              "      <td>03:39:43</td>\n",
              "      <td>1.412535e+07</td>\n",
              "      <td>n6mac41717</td>\n",
              "      <td>Chuck Han</td>\n",
              "      <td>@ByLizC 1) Let's see what the US Phase III tri...</td>\n",
              "      <td>en</td>\n",
              "      <td>[]</td>\n",
              "      <td>[]</td>\n",
              "      <td>[]</td>\n",
              "      <td>0</td>\n",
              "      <td>0</td>\n",
              "      <td>0</td>\n",
              "      <td>[]</td>\n",
              "      <td>https://twitter.com/n6mac41717/status/13389695...</td>\n",
              "    </tr>\n",
              "    <tr>\n",
              "      <th>3</th>\n",
              "      <td>16-12-2020</td>\n",
              "      <td>03:30:18</td>\n",
              "      <td>3.312676e+09</td>\n",
              "      <td>codigofmx</td>\n",
              "      <td>codigof.mx</td>\n",
              "      <td>El pasado 11 de diciembre, el laboratorio Astr...</td>\n",
              "      <td>es</td>\n",
              "      <td>[]</td>\n",
              "      <td>['http://ow.ly/iu8o50CMlt5']</td>\n",
              "      <td>['https://pbs.twimg.com/media/EpT3hY_W8AM6C_x....</td>\n",
              "      <td>0</td>\n",
              "      <td>0</td>\n",
              "      <td>4</td>\n",
              "      <td>[]</td>\n",
              "      <td>https://twitter.com/codigofmx/status/133896714...</td>\n",
              "    </tr>\n",
              "    <tr>\n",
              "      <th>4</th>\n",
              "      <td>16-12-2020</td>\n",
              "      <td>01:39:04</td>\n",
              "      <td>9.536980e+17</td>\n",
              "      <td>ae1tt</td>\n",
              "      <td>Deborah A Nicholas, M.D.</td>\n",
              "      <td>@sabrigley @IncognitoNewt @thespybrief Yep. Pu...</td>\n",
              "      <td>en</td>\n",
              "      <td>[]</td>\n",
              "      <td>['https://www.thelancet.com/journals/lancet/ar...</td>\n",
              "      <td>[]</td>\n",
              "      <td>1</td>\n",
              "      <td>0</td>\n",
              "      <td>6</td>\n",
              "      <td>[]</td>\n",
              "      <td>https://twitter.com/AE1TT/status/1338939149072...</td>\n",
              "    </tr>\n",
              "  </tbody>\n",
              "</table>\n",
              "</div>"
            ],
            "text/plain": [
              "         date  ...                                               link\n",
              "0  16-12-2020  ...  https://twitter.com/beforethestars/status/1338...\n",
              "1  16-12-2020  ...  https://twitter.com/ArtOfHiTech/status/1338975...\n",
              "2  16-12-2020  ...  https://twitter.com/n6mac41717/status/13389695...\n",
              "3  16-12-2020  ...  https://twitter.com/codigofmx/status/133896714...\n",
              "4  16-12-2020  ...  https://twitter.com/AE1TT/status/1338939149072...\n",
              "\n",
              "[5 rows x 15 columns]"
            ]
          },
          "metadata": {
            "tags": []
          },
          "execution_count": 10
        }
      ]
    },
    {
      "cell_type": "code",
      "metadata": {
        "colab": {
          "base_uri": "https://localhost:8080/"
        },
        "id": "4_oOS8TizVg1",
        "outputId": "8a9cf689-485c-4fd9-ae34-1d4d1b9683ca"
      },
      "source": [
        "from pandas import datetime \n",
        "\n",
        "df2['date'] = pd.to_datetime(df2['date'])\n",
        "df2['Month'] = df2['date'].dt.month\n",
        "df2['Month-str-full'] = df2['date'].dt.strftime('%B')\n"
      ],
      "execution_count": null,
      "outputs": [
        {
          "output_type": "stream",
          "text": [
            "/usr/local/lib/python3.7/dist-packages/ipykernel_launcher.py:1: FutureWarning: The pandas.datetime class is deprecated and will be removed from pandas in a future version. Import from datetime module instead.\n",
            "  \"\"\"Entry point for launching an IPython kernel.\n"
          ],
          "name": "stderr"
        }
      ]
    },
    {
      "cell_type": "code",
      "metadata": {
        "colab": {
          "base_uri": "https://localhost:8080/"
        },
        "id": "7b5G-aXnzVjr",
        "outputId": "3b5d2a48-2aa8-4ecd-e798-b3354e874f59"
      },
      "source": [
        "df2['Month-str-full'].value_counts()"
      ],
      "execution_count": null,
      "outputs": [
        {
          "output_type": "execute_result",
          "data": {
            "text/plain": [
              "November     235000\n",
              "December     127569\n",
              "October       61870\n",
              "September     61747\n",
              "August        39862\n",
              "March         33318\n",
              "February      31353\n",
              "April         28618\n",
              "May           21633\n",
              "July          19290\n",
              "June          14970\n",
              "January       10875\n",
              "Name: Month-str-full, dtype: int64"
            ]
          },
          "metadata": {
            "tags": []
          },
          "execution_count": 12
        }
      ]
    },
    {
      "cell_type": "code",
      "metadata": {
        "colab": {
          "base_uri": "https://localhost:8080/"
        },
        "id": "qosCtArdzVnZ",
        "outputId": "6a6d3d18-44ad-4d1b-9475-be78e26e0579"
      },
      "source": [
        "print(min(df2['date']))\n",
        "print(max(df2['date']))"
      ],
      "execution_count": null,
      "outputs": [
        {
          "output_type": "stream",
          "text": [
            "2020-01-11 00:00:00\n",
            "2020-12-16 00:00:00\n"
          ],
          "name": "stdout"
        }
      ]
    },
    {
      "cell_type": "code",
      "metadata": {
        "colab": {
          "base_uri": "https://localhost:8080/"
        },
        "id": "V8DYLPG2zVqZ",
        "outputId": "24d99f7a-79cd-4d86-de61-d7b3ba867e8a"
      },
      "source": [
        "print(min(df1['date']))\n",
        "print(max(df1['date']))"
      ],
      "execution_count": null,
      "outputs": [
        {
          "output_type": "stream",
          "text": [
            "2020-02-12\n",
            "2020-10-22\n"
          ],
          "name": "stdout"
        }
      ]
    },
    {
      "cell_type": "code",
      "metadata": {
        "id": "RiC1QlrMzVtR"
      },
      "source": [
        "df2 = df2[df2['language']=='en']\n",
        "df2 = df2[['date' , 'tweet']]"
      ],
      "execution_count": null,
      "outputs": []
    },
    {
      "cell_type": "code",
      "metadata": {
        "id": "xhpm5L_6zVwa"
      },
      "source": [
        "df1 = df1[df1['language']=='en']\n",
        "df1 = df1[['date' , 'tweet']]"
      ],
      "execution_count": null,
      "outputs": []
    },
    {
      "cell_type": "code",
      "metadata": {
        "id": "PxtFwmZA8rCZ",
        "colab": {
          "base_uri": "https://localhost:8080/",
          "height": 200
        },
        "outputId": "2238f578-54b3-4d7a-b256-f99f92a42217"
      },
      "source": [
        "df1.head()"
      ],
      "execution_count": null,
      "outputs": [
        {
          "output_type": "execute_result",
          "data": {
            "text/html": [
              "<div>\n",
              "<style scoped>\n",
              "    .dataframe tbody tr th:only-of-type {\n",
              "        vertical-align: middle;\n",
              "    }\n",
              "\n",
              "    .dataframe tbody tr th {\n",
              "        vertical-align: top;\n",
              "    }\n",
              "\n",
              "    .dataframe thead th {\n",
              "        text-align: right;\n",
              "    }\n",
              "</style>\n",
              "<table border=\"1\" class=\"dataframe\">\n",
              "  <thead>\n",
              "    <tr style=\"text-align: right;\">\n",
              "      <th></th>\n",
              "      <th>date</th>\n",
              "      <th>tweet</th>\n",
              "    </tr>\n",
              "  </thead>\n",
              "  <tbody>\n",
              "    <tr>\n",
              "      <th>0</th>\n",
              "      <td>2020-10-22</td>\n",
              "      <td>@ANI Isn't it the best poll promise ever?? Fre...</td>\n",
              "    </tr>\n",
              "    <tr>\n",
              "      <th>1</th>\n",
              "      <td>2020-10-22</td>\n",
              "      <td>Now states shall have wait for thier Vidhan Sa...</td>\n",
              "    </tr>\n",
              "    <tr>\n",
              "      <th>3</th>\n",
              "      <td>2020-10-22</td>\n",
              "      <td>@MisseeMonis They said vaccine for all but not...</td>\n",
              "    </tr>\n",
              "    <tr>\n",
              "      <th>4</th>\n",
              "      <td>2020-10-22</td>\n",
              "      <td>BJP really presenting \"free COVID vaccine\" as ...</td>\n",
              "    </tr>\n",
              "    <tr>\n",
              "      <th>5</th>\n",
              "      <td>2020-10-22</td>\n",
              "      <td>Another dose of daily miserablism from Planet ...</td>\n",
              "    </tr>\n",
              "  </tbody>\n",
              "</table>\n",
              "</div>"
            ],
            "text/plain": [
              "         date                                              tweet\n",
              "0  2020-10-22  @ANI Isn't it the best poll promise ever?? Fre...\n",
              "1  2020-10-22  Now states shall have wait for thier Vidhan Sa...\n",
              "3  2020-10-22  @MisseeMonis They said vaccine for all but not...\n",
              "4  2020-10-22  BJP really presenting \"free COVID vaccine\" as ...\n",
              "5  2020-10-22  Another dose of daily miserablism from Planet ..."
            ]
          },
          "metadata": {
            "tags": []
          },
          "execution_count": 17
        }
      ]
    },
    {
      "cell_type": "code",
      "metadata": {
        "colab": {
          "base_uri": "https://localhost:8080/",
          "height": 200
        },
        "id": "MnNAlB6Z1nKQ",
        "outputId": "6f893185-2fc8-4a14-caec-94feac118453"
      },
      "source": [
        "df2.head()"
      ],
      "execution_count": null,
      "outputs": [
        {
          "output_type": "execute_result",
          "data": {
            "text/html": [
              "<div>\n",
              "<style scoped>\n",
              "    .dataframe tbody tr th:only-of-type {\n",
              "        vertical-align: middle;\n",
              "    }\n",
              "\n",
              "    .dataframe tbody tr th {\n",
              "        vertical-align: top;\n",
              "    }\n",
              "\n",
              "    .dataframe thead th {\n",
              "        text-align: right;\n",
              "    }\n",
              "</style>\n",
              "<table border=\"1\" class=\"dataframe\">\n",
              "  <thead>\n",
              "    <tr style=\"text-align: right;\">\n",
              "      <th></th>\n",
              "      <th>date</th>\n",
              "      <th>tweet</th>\n",
              "    </tr>\n",
              "  </thead>\n",
              "  <tbody>\n",
              "    <tr>\n",
              "      <th>0</th>\n",
              "      <td>2020-12-16</td>\n",
              "      <td>Vegetarians here is a reason \"AZD1222 (ChAdOx1...</td>\n",
              "    </tr>\n",
              "    <tr>\n",
              "      <th>2</th>\n",
              "      <td>2020-12-16</td>\n",
              "      <td>@ByLizC 1) Let's see what the US Phase III tri...</td>\n",
              "    </tr>\n",
              "    <tr>\n",
              "      <th>4</th>\n",
              "      <td>2020-12-16</td>\n",
              "      <td>@sabrigley @IncognitoNewt @thespybrief Yep. Pu...</td>\n",
              "    </tr>\n",
              "    <tr>\n",
              "      <th>5</th>\n",
              "      <td>2020-12-16</td>\n",
              "      <td>@IncognitoNewt @thespybrief Lancet published i...</td>\n",
              "    </tr>\n",
              "    <tr>\n",
              "      <th>6</th>\n",
              "      <td>2020-12-16</td>\n",
              "      <td>AZD1222 Oxford Phase III trials interim analys...</td>\n",
              "    </tr>\n",
              "  </tbody>\n",
              "</table>\n",
              "</div>"
            ],
            "text/plain": [
              "        date                                              tweet\n",
              "0 2020-12-16  Vegetarians here is a reason \"AZD1222 (ChAdOx1...\n",
              "2 2020-12-16  @ByLizC 1) Let's see what the US Phase III tri...\n",
              "4 2020-12-16  @sabrigley @IncognitoNewt @thespybrief Yep. Pu...\n",
              "5 2020-12-16  @IncognitoNewt @thespybrief Lancet published i...\n",
              "6 2020-12-16  AZD1222 Oxford Phase III trials interim analys..."
            ]
          },
          "metadata": {
            "tags": []
          },
          "execution_count": 18
        }
      ]
    },
    {
      "cell_type": "code",
      "metadata": {
        "id": "oCFZTh5rwPFJ",
        "colab": {
          "base_uri": "https://localhost:8080/"
        },
        "outputId": "6bcd7b2b-3f64-49ff-f355-427d3ed5e685"
      },
      "source": [
        "\n",
        "df2['tweet'].isna().sum()"
      ],
      "execution_count": null,
      "outputs": [
        {
          "output_type": "execute_result",
          "data": {
            "text/plain": [
              "0"
            ]
          },
          "metadata": {
            "tags": []
          },
          "execution_count": 19
        }
      ]
    },
    {
      "cell_type": "code",
      "metadata": {
        "id": "d2JJ3VLWxYrW",
        "colab": {
          "base_uri": "https://localhost:8080/"
        },
        "outputId": "725078a4-a955-48b7-c9b5-71365a256b0d"
      },
      "source": [
        "df2['date'].isna().sum()"
      ],
      "execution_count": null,
      "outputs": [
        {
          "output_type": "execute_result",
          "data": {
            "text/plain": [
              "0"
            ]
          },
          "metadata": {
            "tags": []
          },
          "execution_count": 20
        }
      ]
    },
    {
      "cell_type": "code",
      "metadata": {
        "colab": {
          "base_uri": "https://localhost:8080/"
        },
        "id": "yynDEJfr1ybk",
        "outputId": "77daecf6-002b-47fb-c28c-f1cb1b48190f"
      },
      "source": [
        "df1['tweet'].isna().sum()"
      ],
      "execution_count": null,
      "outputs": [
        {
          "output_type": "execute_result",
          "data": {
            "text/plain": [
              "0"
            ]
          },
          "metadata": {
            "tags": []
          },
          "execution_count": 21
        }
      ]
    },
    {
      "cell_type": "code",
      "metadata": {
        "colab": {
          "base_uri": "https://localhost:8080/"
        },
        "id": "VVRddMY411Rm",
        "outputId": "7de43ada-8dec-4e03-8213-2d3ffe63b9ab"
      },
      "source": [
        "df1['date'].isna().sum()"
      ],
      "execution_count": null,
      "outputs": [
        {
          "output_type": "execute_result",
          "data": {
            "text/plain": [
              "0"
            ]
          },
          "metadata": {
            "tags": []
          },
          "execution_count": 22
        }
      ]
    },
    {
      "cell_type": "code",
      "metadata": {
        "id": "hZ20uM1YxfRG",
        "colab": {
          "base_uri": "https://localhost:8080/"
        },
        "outputId": "40ba92dc-2696-455a-e285-761ec33538e3"
      },
      "source": [
        "print(df1.shape)\n",
        "print(df2.shape)"
      ],
      "execution_count": null,
      "outputs": [
        {
          "output_type": "stream",
          "text": [
            "(201030, 2)\n",
            "(573016, 2)\n"
          ],
          "name": "stdout"
        }
      ]
    },
    {
      "cell_type": "code",
      "metadata": {
        "colab": {
          "base_uri": "https://localhost:8080/",
          "height": 200
        },
        "id": "-LxcHX5U176p",
        "outputId": "79957739-6947-4f8b-fb8e-ae2ac0b60759"
      },
      "source": [
        "data = pd.concat([df1,df2],ignore_index=True)\n",
        "data.head()"
      ],
      "execution_count": null,
      "outputs": [
        {
          "output_type": "execute_result",
          "data": {
            "text/html": [
              "<div>\n",
              "<style scoped>\n",
              "    .dataframe tbody tr th:only-of-type {\n",
              "        vertical-align: middle;\n",
              "    }\n",
              "\n",
              "    .dataframe tbody tr th {\n",
              "        vertical-align: top;\n",
              "    }\n",
              "\n",
              "    .dataframe thead th {\n",
              "        text-align: right;\n",
              "    }\n",
              "</style>\n",
              "<table border=\"1\" class=\"dataframe\">\n",
              "  <thead>\n",
              "    <tr style=\"text-align: right;\">\n",
              "      <th></th>\n",
              "      <th>date</th>\n",
              "      <th>tweet</th>\n",
              "    </tr>\n",
              "  </thead>\n",
              "  <tbody>\n",
              "    <tr>\n",
              "      <th>0</th>\n",
              "      <td>2020-10-22</td>\n",
              "      <td>@ANI Isn't it the best poll promise ever?? Fre...</td>\n",
              "    </tr>\n",
              "    <tr>\n",
              "      <th>1</th>\n",
              "      <td>2020-10-22</td>\n",
              "      <td>Now states shall have wait for thier Vidhan Sa...</td>\n",
              "    </tr>\n",
              "    <tr>\n",
              "      <th>2</th>\n",
              "      <td>2020-10-22</td>\n",
              "      <td>@MisseeMonis They said vaccine for all but not...</td>\n",
              "    </tr>\n",
              "    <tr>\n",
              "      <th>3</th>\n",
              "      <td>2020-10-22</td>\n",
              "      <td>BJP really presenting \"free COVID vaccine\" as ...</td>\n",
              "    </tr>\n",
              "    <tr>\n",
              "      <th>4</th>\n",
              "      <td>2020-10-22</td>\n",
              "      <td>Another dose of daily miserablism from Planet ...</td>\n",
              "    </tr>\n",
              "  </tbody>\n",
              "</table>\n",
              "</div>"
            ],
            "text/plain": [
              "         date                                              tweet\n",
              "0  2020-10-22  @ANI Isn't it the best poll promise ever?? Fre...\n",
              "1  2020-10-22  Now states shall have wait for thier Vidhan Sa...\n",
              "2  2020-10-22  @MisseeMonis They said vaccine for all but not...\n",
              "3  2020-10-22  BJP really presenting \"free COVID vaccine\" as ...\n",
              "4  2020-10-22  Another dose of daily miserablism from Planet ..."
            ]
          },
          "metadata": {
            "tags": []
          },
          "execution_count": 24
        }
      ]
    },
    {
      "cell_type": "code",
      "metadata": {
        "id": "AwuNsrd6xh98",
        "colab": {
          "base_uri": "https://localhost:8080/"
        },
        "outputId": "3f779457-5980-4cc6-c922-5d8d937596f8"
      },
      "source": [
        "data.shape"
      ],
      "execution_count": null,
      "outputs": [
        {
          "output_type": "execute_result",
          "data": {
            "text/plain": [
              "(774046, 2)"
            ]
          },
          "metadata": {
            "tags": []
          },
          "execution_count": 25
        }
      ]
    },
    {
      "cell_type": "code",
      "metadata": {
        "colab": {
          "base_uri": "https://localhost:8080/"
        },
        "id": "XsERjRLQ2pHL",
        "outputId": "f57868ec-40ab-44b6-889c-1581b616930b"
      },
      "source": [
        "data.drop_duplicates(subset=['tweet'])\n",
        "data.shape"
      ],
      "execution_count": null,
      "outputs": [
        {
          "output_type": "execute_result",
          "data": {
            "text/plain": [
              "(774046, 2)"
            ]
          },
          "metadata": {
            "tags": []
          },
          "execution_count": 26
        }
      ]
    },
    {
      "cell_type": "code",
      "metadata": {
        "id": "kRX1ZEKEz4tG",
        "colab": {
          "base_uri": "https://localhost:8080/",
          "height": 200
        },
        "outputId": "8b4ea60d-9205-42bf-bd97-601d6657f01e"
      },
      "source": [
        "data['process_tweet'] = data['tweet'].copy()\n",
        "data.head()"
      ],
      "execution_count": null,
      "outputs": [
        {
          "output_type": "execute_result",
          "data": {
            "text/html": [
              "<div>\n",
              "<style scoped>\n",
              "    .dataframe tbody tr th:only-of-type {\n",
              "        vertical-align: middle;\n",
              "    }\n",
              "\n",
              "    .dataframe tbody tr th {\n",
              "        vertical-align: top;\n",
              "    }\n",
              "\n",
              "    .dataframe thead th {\n",
              "        text-align: right;\n",
              "    }\n",
              "</style>\n",
              "<table border=\"1\" class=\"dataframe\">\n",
              "  <thead>\n",
              "    <tr style=\"text-align: right;\">\n",
              "      <th></th>\n",
              "      <th>date</th>\n",
              "      <th>tweet</th>\n",
              "      <th>process_tweet</th>\n",
              "    </tr>\n",
              "  </thead>\n",
              "  <tbody>\n",
              "    <tr>\n",
              "      <th>0</th>\n",
              "      <td>2020-10-22</td>\n",
              "      <td>@ANI Isn't it the best poll promise ever?? Fre...</td>\n",
              "      <td>@ANI Isn't it the best poll promise ever?? Fre...</td>\n",
              "    </tr>\n",
              "    <tr>\n",
              "      <th>1</th>\n",
              "      <td>2020-10-22</td>\n",
              "      <td>Now states shall have wait for thier Vidhan Sa...</td>\n",
              "      <td>Now states shall have wait for thier Vidhan Sa...</td>\n",
              "    </tr>\n",
              "    <tr>\n",
              "      <th>2</th>\n",
              "      <td>2020-10-22</td>\n",
              "      <td>@MisseeMonis They said vaccine for all but not...</td>\n",
              "      <td>@MisseeMonis They said vaccine for all but not...</td>\n",
              "    </tr>\n",
              "    <tr>\n",
              "      <th>3</th>\n",
              "      <td>2020-10-22</td>\n",
              "      <td>BJP really presenting \"free COVID vaccine\" as ...</td>\n",
              "      <td>BJP really presenting \"free COVID vaccine\" as ...</td>\n",
              "    </tr>\n",
              "    <tr>\n",
              "      <th>4</th>\n",
              "      <td>2020-10-22</td>\n",
              "      <td>Another dose of daily miserablism from Planet ...</td>\n",
              "      <td>Another dose of daily miserablism from Planet ...</td>\n",
              "    </tr>\n",
              "  </tbody>\n",
              "</table>\n",
              "</div>"
            ],
            "text/plain": [
              "         date  ...                                      process_tweet\n",
              "0  2020-10-22  ...  @ANI Isn't it the best poll promise ever?? Fre...\n",
              "1  2020-10-22  ...  Now states shall have wait for thier Vidhan Sa...\n",
              "2  2020-10-22  ...  @MisseeMonis They said vaccine for all but not...\n",
              "3  2020-10-22  ...  BJP really presenting \"free COVID vaccine\" as ...\n",
              "4  2020-10-22  ...  Another dose of daily miserablism from Planet ...\n",
              "\n",
              "[5 rows x 3 columns]"
            ]
          },
          "metadata": {
            "tags": []
          },
          "execution_count": 27
        }
      ]
    },
    {
      "cell_type": "markdown",
      "metadata": {
        "id": "YLBGRCim2yB_"
      },
      "source": [
        "# Preprocessing the Tweet\n"
      ]
    },
    {
      "cell_type": "code",
      "metadata": {
        "id": "2DHCeZn822Vz"
      },
      "source": [
        "def clean_data(txt):\n",
        "  txt = txt.lower()  # lowercase\n",
        "  txt = re.sub(r'@[A-Za-z0-9_]+' , '' , txt)   #remove mentions\n",
        "  txt = re.sub(r'#' , '' , txt) #remove hashtags\n",
        "  txt = re.sub(r'RT : ','' , txt) # remove retweets\n",
        "  txt = re.sub(r'https?:\\/\\/[A-Za-z0-9\\./\\/]+' , '' , txt) #removes url\n",
        "  txt = re.sub('\\[.*?\\]' , '' , txt) #remove square brackets\n",
        "  txt = re.sub(r'[^\\w\\s]' , '' , txt) #remove puntuations\n",
        "  txt = re.sub('\\w*\\d\\w*' , '' ,txt) #removes words containig numbers\n",
        "  txt = re.sub('\\n' , '' ,txt) #remove new lines\n",
        " \n",
        "\n",
        "  return txt\n"
      ],
      "execution_count": null,
      "outputs": []
    },
    {
      "cell_type": "code",
      "metadata": {
        "id": "iqYMECJk5Xzq",
        "colab": {
          "base_uri": "https://localhost:8080/"
        },
        "outputId": "3fa0d020-8d19-41ae-c684-f8c109f96618"
      },
      "source": [
        "data['process_tweet'] = data['process_tweet'].apply(clean_data)\n",
        "data['process_tweet']"
      ],
      "execution_count": null,
      "outputs": [
        {
          "output_type": "execute_result",
          "data": {
            "text/plain": [
              "0          isnt it the best poll promise ever free covid...\n",
              "1         now states shall have wait for thier vidhan sa...\n",
              "2          they said vaccine for all but not when free c...\n",
              "3         bjp really presenting free covid vaccine as a ...\n",
              "4         another dose of daily miserablism from planet ...\n",
              "                                ...                        \n",
              "774041    covaxin has been developed in collaboration wi...\n",
              "774042    bharat biotech is planning to launch its vacci...\n",
              "774043     vaccine amu medical college to begin covaxin ...\n",
              "774044    bharat biotech to launch covaxin in    india n...\n",
              "774045    the aiims in delhi is likely to submit a propo...\n",
              "Name: process_tweet, Length: 774046, dtype: object"
            ]
          },
          "metadata": {
            "tags": []
          },
          "execution_count": 29
        }
      ]
    },
    {
      "cell_type": "code",
      "metadata": {
        "id": "dqjUX3klSffn",
        "colab": {
          "base_uri": "https://localhost:8080/"
        },
        "outputId": "2204bbb7-1c07-4f5a-dd52-2d02dcd0bed5"
      },
      "source": [
        "nltk.download('stopwords')"
      ],
      "execution_count": null,
      "outputs": [
        {
          "output_type": "stream",
          "text": [
            "[nltk_data] Downloading package stopwords to /root/nltk_data...\n",
            "[nltk_data]   Unzipping corpora/stopwords.zip.\n"
          ],
          "name": "stdout"
        },
        {
          "output_type": "execute_result",
          "data": {
            "text/plain": [
              "True"
            ]
          },
          "metadata": {
            "tags": []
          },
          "execution_count": 30
        }
      ]
    },
    {
      "cell_type": "code",
      "metadata": {
        "id": "Qinr46wwu-2X"
      },
      "source": [
        "#removig stop words\n",
        "\n",
        "stopwords = nltk.corpus.stopwords.words('english')\n",
        "\n",
        "def remove_stopwords(txt):\n",
        "  rmv_stpwords = [i for i in txt.split() if i not in stopwords]\n",
        "  rmv_stpwords_join = ' '.join(rmv_stpwords)\n",
        "  return rmv_stpwords_join\n",
        "\n",
        " "
      ],
      "execution_count": null,
      "outputs": []
    },
    {
      "cell_type": "code",
      "metadata": {
        "id": "xOFp4H8Zu-9c",
        "colab": {
          "base_uri": "https://localhost:8080/",
          "height": 200
        },
        "outputId": "cf7f568d-d95e-4a4d-8e1d-26c8e99e3181"
      },
      "source": [
        "data['process_tweet'] = data['process_tweet'].apply(remove_stopwords)\n",
        "\n",
        "data.head()#after removing stopwords"
      ],
      "execution_count": null,
      "outputs": [
        {
          "output_type": "execute_result",
          "data": {
            "text/html": [
              "<div>\n",
              "<style scoped>\n",
              "    .dataframe tbody tr th:only-of-type {\n",
              "        vertical-align: middle;\n",
              "    }\n",
              "\n",
              "    .dataframe tbody tr th {\n",
              "        vertical-align: top;\n",
              "    }\n",
              "\n",
              "    .dataframe thead th {\n",
              "        text-align: right;\n",
              "    }\n",
              "</style>\n",
              "<table border=\"1\" class=\"dataframe\">\n",
              "  <thead>\n",
              "    <tr style=\"text-align: right;\">\n",
              "      <th></th>\n",
              "      <th>date</th>\n",
              "      <th>tweet</th>\n",
              "      <th>process_tweet</th>\n",
              "    </tr>\n",
              "  </thead>\n",
              "  <tbody>\n",
              "    <tr>\n",
              "      <th>0</th>\n",
              "      <td>2020-10-22</td>\n",
              "      <td>@ANI Isn't it the best poll promise ever?? Fre...</td>\n",
              "      <td>isnt best poll promise ever free covid vaccine...</td>\n",
              "    </tr>\n",
              "    <tr>\n",
              "      <th>1</th>\n",
              "      <td>2020-10-22</td>\n",
              "      <td>Now states shall have wait for thier Vidhan Sa...</td>\n",
              "      <td>states shall wait thier vidhan sabha election ...</td>\n",
              "    </tr>\n",
              "    <tr>\n",
              "      <th>2</th>\n",
              "      <td>2020-10-22</td>\n",
              "      <td>@MisseeMonis They said vaccine for all but not...</td>\n",
              "      <td>said vaccine free covid vaccine new lakhs rs e...</td>\n",
              "    </tr>\n",
              "    <tr>\n",
              "      <th>3</th>\n",
              "      <td>2020-10-22</td>\n",
              "      <td>BJP really presenting \"free COVID vaccine\" as ...</td>\n",
              "      <td>bjp really presenting free covid vaccine state...</td>\n",
              "    </tr>\n",
              "    <tr>\n",
              "      <th>4</th>\n",
              "      <td>2020-10-22</td>\n",
              "      <td>Another dose of daily miserablism from Planet ...</td>\n",
              "      <td>another dose daily miserablism planet grauniad...</td>\n",
              "    </tr>\n",
              "  </tbody>\n",
              "</table>\n",
              "</div>"
            ],
            "text/plain": [
              "         date  ...                                      process_tweet\n",
              "0  2020-10-22  ...  isnt best poll promise ever free covid vaccine...\n",
              "1  2020-10-22  ...  states shall wait thier vidhan sabha election ...\n",
              "2  2020-10-22  ...  said vaccine free covid vaccine new lakhs rs e...\n",
              "3  2020-10-22  ...  bjp really presenting free covid vaccine state...\n",
              "4  2020-10-22  ...  another dose daily miserablism planet grauniad...\n",
              "\n",
              "[5 rows x 3 columns]"
            ]
          },
          "metadata": {
            "tags": []
          },
          "execution_count": 32
        }
      ]
    },
    {
      "cell_type": "code",
      "metadata": {
        "id": "VSeFd50AwBv2"
      },
      "source": [
        "from nltk.stem import PorterStemmer\n",
        "st = PorterStemmer()"
      ],
      "execution_count": null,
      "outputs": []
    },
    {
      "cell_type": "code",
      "metadata": {
        "id": "zyj3h_NewLJL"
      },
      "source": [
        "def stemming(txt):\n",
        "  txt =[st.stem(word) for word in txt.split()]\n",
        "  txt_join = ' '.join(txt)\n",
        "  return txt_join\n",
        "\n",
        "#Stemming refers to the removal of suffices, like “ing”, “ly”, “s”, etc. by a simple rule-based approach."
      ],
      "execution_count": null,
      "outputs": []
    },
    {
      "cell_type": "code",
      "metadata": {
        "id": "D9VyYrW_0zGu",
        "colab": {
          "base_uri": "https://localhost:8080/",
          "height": 200
        },
        "outputId": "d0a925da-531f-45c0-f1b2-2562bca00df4"
      },
      "source": [
        "data['process_tweet'] = data['process_tweet'].apply(stemming)\n",
        "data.head()"
      ],
      "execution_count": null,
      "outputs": [
        {
          "output_type": "execute_result",
          "data": {
            "text/html": [
              "<div>\n",
              "<style scoped>\n",
              "    .dataframe tbody tr th:only-of-type {\n",
              "        vertical-align: middle;\n",
              "    }\n",
              "\n",
              "    .dataframe tbody tr th {\n",
              "        vertical-align: top;\n",
              "    }\n",
              "\n",
              "    .dataframe thead th {\n",
              "        text-align: right;\n",
              "    }\n",
              "</style>\n",
              "<table border=\"1\" class=\"dataframe\">\n",
              "  <thead>\n",
              "    <tr style=\"text-align: right;\">\n",
              "      <th></th>\n",
              "      <th>date</th>\n",
              "      <th>tweet</th>\n",
              "      <th>process_tweet</th>\n",
              "    </tr>\n",
              "  </thead>\n",
              "  <tbody>\n",
              "    <tr>\n",
              "      <th>0</th>\n",
              "      <td>2020-10-22</td>\n",
              "      <td>@ANI Isn't it the best poll promise ever?? Fre...</td>\n",
              "      <td>isnt best poll promis ever free covid vaccin v...</td>\n",
              "    </tr>\n",
              "    <tr>\n",
              "      <th>1</th>\n",
              "      <td>2020-10-22</td>\n",
              "      <td>Now states shall have wait for thier Vidhan Sa...</td>\n",
              "      <td>state shall wait thier vidhan sabha elect get ...</td>\n",
              "    </tr>\n",
              "    <tr>\n",
              "      <th>2</th>\n",
              "      <td>2020-10-22</td>\n",
              "      <td>@MisseeMonis They said vaccine for all but not...</td>\n",
              "      <td>said vaccin free covid vaccin new lakh rs ever...</td>\n",
              "    </tr>\n",
              "    <tr>\n",
              "      <th>3</th>\n",
              "      <td>2020-10-22</td>\n",
              "      <td>BJP really presenting \"free COVID vaccine\" as ...</td>\n",
              "      <td>bjp realli present free covid vaccin state man...</td>\n",
              "    </tr>\n",
              "    <tr>\n",
              "      <th>4</th>\n",
              "      <td>2020-10-22</td>\n",
              "      <td>Another dose of daily miserablism from Planet ...</td>\n",
              "      <td>anoth dose daili miserabl planet grauniad sub ...</td>\n",
              "    </tr>\n",
              "  </tbody>\n",
              "</table>\n",
              "</div>"
            ],
            "text/plain": [
              "         date  ...                                      process_tweet\n",
              "0  2020-10-22  ...  isnt best poll promis ever free covid vaccin v...\n",
              "1  2020-10-22  ...  state shall wait thier vidhan sabha elect get ...\n",
              "2  2020-10-22  ...  said vaccin free covid vaccin new lakh rs ever...\n",
              "3  2020-10-22  ...  bjp realli present free covid vaccin state man...\n",
              "4  2020-10-22  ...  anoth dose daili miserabl planet grauniad sub ...\n",
              "\n",
              "[5 rows x 3 columns]"
            ]
          },
          "metadata": {
            "tags": []
          },
          "execution_count": 35
        }
      ]
    },
    {
      "cell_type": "code",
      "metadata": {
        "colab": {
          "base_uri": "https://localhost:8080/"
        },
        "id": "mSs4yD-YPCzw",
        "outputId": "1a70a196-36a2-4036-9da3-4a8940814a82"
      },
      "source": [
        "!pip install vaderSentiment"
      ],
      "execution_count": null,
      "outputs": [
        {
          "output_type": "stream",
          "text": [
            "Collecting vaderSentiment\n",
            "\u001b[?25l  Downloading https://files.pythonhosted.org/packages/76/fc/310e16254683c1ed35eeb97386986d6c00bc29df17ce280aed64d55537e9/vaderSentiment-3.3.2-py2.py3-none-any.whl (125kB)\n",
            "\r\u001b[K     |██▋                             | 10kB 18.8MB/s eta 0:00:01\r\u001b[K     |█████▏                          | 20kB 14.8MB/s eta 0:00:01\r\u001b[K     |███████▉                        | 30kB 9.8MB/s eta 0:00:01\r\u001b[K     |██████████▍                     | 40kB 6.4MB/s eta 0:00:01\r\u001b[K     |█████████████                   | 51kB 7.3MB/s eta 0:00:01\r\u001b[K     |███████████████▋                | 61kB 8.2MB/s eta 0:00:01\r\u001b[K     |██████████████████▏             | 71kB 7.8MB/s eta 0:00:01\r\u001b[K     |████████████████████▉           | 81kB 8.6MB/s eta 0:00:01\r\u001b[K     |███████████████████████▍        | 92kB 8.4MB/s eta 0:00:01\r\u001b[K     |██████████████████████████      | 102kB 7.7MB/s eta 0:00:01\r\u001b[K     |████████████████████████████▋   | 112kB 7.7MB/s eta 0:00:01\r\u001b[K     |███████████████████████████████▏| 122kB 7.7MB/s eta 0:00:01\r\u001b[K     |████████████████████████████████| 133kB 7.7MB/s \n",
            "\u001b[?25hRequirement already satisfied: requests in /usr/local/lib/python3.7/dist-packages (from vaderSentiment) (2.23.0)\n",
            "Requirement already satisfied: chardet<4,>=3.0.2 in /usr/local/lib/python3.7/dist-packages (from requests->vaderSentiment) (3.0.4)\n",
            "Requirement already satisfied: idna<3,>=2.5 in /usr/local/lib/python3.7/dist-packages (from requests->vaderSentiment) (2.10)\n",
            "Requirement already satisfied: certifi>=2017.4.17 in /usr/local/lib/python3.7/dist-packages (from requests->vaderSentiment) (2021.5.30)\n",
            "Requirement already satisfied: urllib3!=1.25.0,!=1.25.1,<1.26,>=1.21.1 in /usr/local/lib/python3.7/dist-packages (from requests->vaderSentiment) (1.24.3)\n",
            "Installing collected packages: vaderSentiment\n",
            "Successfully installed vaderSentiment-3.3.2\n"
          ],
          "name": "stdout"
        }
      ]
    },
    {
      "cell_type": "code",
      "metadata": {
        "colab": {
          "base_uri": "https://localhost:8080/"
        },
        "id": "2rUqLCAFQCQj",
        "outputId": "00c4ec37-b019-42e8-c4c0-38cbc54e7293"
      },
      "source": [
        "\n",
        "import nltk\n",
        "nltk.download('vader_lexicon')\n",
        "from nltk.sentiment.vader import SentimentIntensityAnalyzer\n",
        "sid = SentimentIntensityAnalyzer()"
      ],
      "execution_count": null,
      "outputs": [
        {
          "output_type": "stream",
          "text": [
            "[nltk_data] Downloading package vader_lexicon to /root/nltk_data...\n"
          ],
          "name": "stdout"
        },
        {
          "output_type": "stream",
          "text": [
            "/usr/local/lib/python3.7/dist-packages/nltk/twitter/__init__.py:20: UserWarning: The twython library has not been installed. Some functionality from the twitter package will not be available.\n",
            "  warnings.warn(\"The twython library has not been installed. \"\n"
          ],
          "name": "stderr"
        }
      ]
    },
    {
      "cell_type": "code",
      "metadata": {
        "colab": {
          "base_uri": "https://localhost:8080/",
          "height": 200
        },
        "id": "Ytd7et31QKME",
        "outputId": "91dd5846-c5c0-4eaf-b88c-17949e161c1d"
      },
      "source": [
        "data['Polarity_Vader'] = data['process_tweet'].apply(lambda txt: sid.polarity_scores(txt)['compound'])\n",
        "data.head()"
      ],
      "execution_count": null,
      "outputs": [
        {
          "output_type": "execute_result",
          "data": {
            "text/html": [
              "<div>\n",
              "<style scoped>\n",
              "    .dataframe tbody tr th:only-of-type {\n",
              "        vertical-align: middle;\n",
              "    }\n",
              "\n",
              "    .dataframe tbody tr th {\n",
              "        vertical-align: top;\n",
              "    }\n",
              "\n",
              "    .dataframe thead th {\n",
              "        text-align: right;\n",
              "    }\n",
              "</style>\n",
              "<table border=\"1\" class=\"dataframe\">\n",
              "  <thead>\n",
              "    <tr style=\"text-align: right;\">\n",
              "      <th></th>\n",
              "      <th>date</th>\n",
              "      <th>tweet</th>\n",
              "      <th>process_tweet</th>\n",
              "      <th>Polarity_Vader</th>\n",
              "    </tr>\n",
              "  </thead>\n",
              "  <tbody>\n",
              "    <tr>\n",
              "      <th>0</th>\n",
              "      <td>2020-10-22</td>\n",
              "      <td>@ANI Isn't it the best poll promise ever?? Fre...</td>\n",
              "      <td>isnt best poll promis ever free covid vaccin v...</td>\n",
              "      <td>-0.7482</td>\n",
              "    </tr>\n",
              "    <tr>\n",
              "      <th>1</th>\n",
              "      <td>2020-10-22</td>\n",
              "      <td>Now states shall have wait for thier Vidhan Sa...</td>\n",
              "      <td>state shall wait thier vidhan sabha elect get ...</td>\n",
              "      <td>0.0000</td>\n",
              "    </tr>\n",
              "    <tr>\n",
              "      <th>2</th>\n",
              "      <td>2020-10-22</td>\n",
              "      <td>@MisseeMonis They said vaccine for all but not...</td>\n",
              "      <td>said vaccin free covid vaccin new lakh rs ever...</td>\n",
              "      <td>0.7717</td>\n",
              "    </tr>\n",
              "    <tr>\n",
              "      <th>3</th>\n",
              "      <td>2020-10-22</td>\n",
              "      <td>BJP really presenting \"free COVID vaccine\" as ...</td>\n",
              "      <td>bjp realli present free covid vaccin state man...</td>\n",
              "      <td>0.7964</td>\n",
              "    </tr>\n",
              "    <tr>\n",
              "      <th>4</th>\n",
              "      <td>2020-10-22</td>\n",
              "      <td>Another dose of daily miserablism from Planet ...</td>\n",
              "      <td>anoth dose daili miserabl planet grauniad sub ...</td>\n",
              "      <td>0.4404</td>\n",
              "    </tr>\n",
              "  </tbody>\n",
              "</table>\n",
              "</div>"
            ],
            "text/plain": [
              "         date  ... Polarity_Vader\n",
              "0  2020-10-22  ...        -0.7482\n",
              "1  2020-10-22  ...         0.0000\n",
              "2  2020-10-22  ...         0.7717\n",
              "3  2020-10-22  ...         0.7964\n",
              "4  2020-10-22  ...         0.4404\n",
              "\n",
              "[5 rows x 4 columns]"
            ]
          },
          "metadata": {
            "tags": []
          },
          "execution_count": 38
        }
      ]
    },
    {
      "cell_type": "code",
      "metadata": {
        "id": "pir0qSmiQvty"
      },
      "source": [
        ""
      ],
      "execution_count": null,
      "outputs": []
    },
    {
      "cell_type": "markdown",
      "metadata": {
        "id": "oQqDtD276ZNk"
      },
      "source": [
        "# Labeling\n",
        "\n",
        "5 labels: \n",
        "strongly positive,\n",
        "positive,\n",
        "nuteral,\n",
        "negative,\n",
        "strongly negetative.\n"
      ]
    },
    {
      "cell_type": "code",
      "metadata": {
        "id": "v5hTuxCeOM_P"
      },
      "source": [
        ""
      ],
      "execution_count": null,
      "outputs": []
    },
    {
      "cell_type": "code",
      "metadata": {
        "id": "AGMa2rlh52cW"
      },
      "source": [
        "\n",
        "def get_text_polarity(txt):\n",
        "  return TextBlob(txt).sentiment.polarity"
      ],
      "execution_count": null,
      "outputs": []
    },
    {
      "cell_type": "code",
      "metadata": {
        "id": "wGxnAfLo7p_6"
      },
      "source": [
        "#add 2 columns(subjectivity and polarity) to the data\n",
        "\n",
        "#data['Subjectivity'] = data['process_tweet'].apply(get_text_subjectivity)\n",
        "\n",
        "data['Polarity_textblob'] = data['process_tweet'].apply(get_text_polarity)"
      ],
      "execution_count": null,
      "outputs": []
    },
    {
      "cell_type": "code",
      "metadata": {
        "id": "LGvzrHiC8edE"
      },
      "source": [
        "\n",
        "#Labeling\n",
        "def get_text_analysis(i):\n",
        "  if (i<-0.5):\n",
        "    return 'Strongly Negative'\n",
        "  elif ((i<0 ) and (i >= -0.5)):\n",
        "    return 'Negative'\n",
        "  elif (i == 0):\n",
        "    return 'Neutral'\n",
        "  elif (i>0 and i<=0.5):\n",
        "    return 'Positive'\n",
        "  else:\n",
        "    return 'Strongly Positive'\n",
        "\n"
      ],
      "execution_count": null,
      "outputs": []
    },
    {
      "cell_type": "code",
      "metadata": {
        "id": "eUeB5HlG-Ejk"
      },
      "source": [
        "data['Sentiment_TB'] = data['Polarity_textblob'].apply(get_text_analysis)\n",
        "data['Sentiment_VADER'] = data['Polarity_Vader'].apply(get_text_analysis)"
      ],
      "execution_count": null,
      "outputs": []
    },
    {
      "cell_type": "code",
      "metadata": {
        "colab": {
          "base_uri": "https://localhost:8080/",
          "height": 200
        },
        "id": "rapWMpLaTRy4",
        "outputId": "79cc2363-9f7b-4d5d-feb2-faa18182afff"
      },
      "source": [
        "data.head()"
      ],
      "execution_count": null,
      "outputs": [
        {
          "output_type": "execute_result",
          "data": {
            "text/html": [
              "<div>\n",
              "<style scoped>\n",
              "    .dataframe tbody tr th:only-of-type {\n",
              "        vertical-align: middle;\n",
              "    }\n",
              "\n",
              "    .dataframe tbody tr th {\n",
              "        vertical-align: top;\n",
              "    }\n",
              "\n",
              "    .dataframe thead th {\n",
              "        text-align: right;\n",
              "    }\n",
              "</style>\n",
              "<table border=\"1\" class=\"dataframe\">\n",
              "  <thead>\n",
              "    <tr style=\"text-align: right;\">\n",
              "      <th></th>\n",
              "      <th>date</th>\n",
              "      <th>tweet</th>\n",
              "      <th>process_tweet</th>\n",
              "      <th>Polarity_Vader</th>\n",
              "      <th>Polarity_textblob</th>\n",
              "      <th>Sentiment_TB</th>\n",
              "      <th>Sentiment_VADER</th>\n",
              "    </tr>\n",
              "  </thead>\n",
              "  <tbody>\n",
              "    <tr>\n",
              "      <th>0</th>\n",
              "      <td>2020-10-22</td>\n",
              "      <td>@ANI Isn't it the best poll promise ever?? Fre...</td>\n",
              "      <td>isnt best poll promis ever free covid vaccin v...</td>\n",
              "      <td>-0.7482</td>\n",
              "      <td>0.197500</td>\n",
              "      <td>Positive</td>\n",
              "      <td>Strongly Negative</td>\n",
              "    </tr>\n",
              "    <tr>\n",
              "      <th>1</th>\n",
              "      <td>2020-10-22</td>\n",
              "      <td>Now states shall have wait for thier Vidhan Sa...</td>\n",
              "      <td>state shall wait thier vidhan sabha elect get ...</td>\n",
              "      <td>0.0000</td>\n",
              "      <td>0.800000</td>\n",
              "      <td>Strongly Positive</td>\n",
              "      <td>Neutral</td>\n",
              "    </tr>\n",
              "    <tr>\n",
              "      <th>2</th>\n",
              "      <td>2020-10-22</td>\n",
              "      <td>@MisseeMonis They said vaccine for all but not...</td>\n",
              "      <td>said vaccin free covid vaccin new lakh rs ever...</td>\n",
              "      <td>0.7717</td>\n",
              "      <td>0.378788</td>\n",
              "      <td>Positive</td>\n",
              "      <td>Strongly Positive</td>\n",
              "    </tr>\n",
              "    <tr>\n",
              "      <th>3</th>\n",
              "      <td>2020-10-22</td>\n",
              "      <td>BJP really presenting \"free COVID vaccine\" as ...</td>\n",
              "      <td>bjp realli present free covid vaccin state man...</td>\n",
              "      <td>0.7964</td>\n",
              "      <td>0.500000</td>\n",
              "      <td>Positive</td>\n",
              "      <td>Strongly Positive</td>\n",
              "    </tr>\n",
              "    <tr>\n",
              "      <th>4</th>\n",
              "      <td>2020-10-22</td>\n",
              "      <td>Another dose of daily miserablism from Planet ...</td>\n",
              "      <td>anoth dose daili miserabl planet grauniad sub ...</td>\n",
              "      <td>0.4404</td>\n",
              "      <td>0.000000</td>\n",
              "      <td>Neutral</td>\n",
              "      <td>Positive</td>\n",
              "    </tr>\n",
              "  </tbody>\n",
              "</table>\n",
              "</div>"
            ],
            "text/plain": [
              "         date  ...    Sentiment_VADER\n",
              "0  2020-10-22  ...  Strongly Negative\n",
              "1  2020-10-22  ...            Neutral\n",
              "2  2020-10-22  ...  Strongly Positive\n",
              "3  2020-10-22  ...  Strongly Positive\n",
              "4  2020-10-22  ...           Positive\n",
              "\n",
              "[5 rows x 7 columns]"
            ]
          },
          "metadata": {
            "tags": []
          },
          "execution_count": 43
        }
      ]
    },
    {
      "cell_type": "code",
      "metadata": {
        "id": "ny013lIFy0UW"
      },
      "source": [
        "possible_labels = data.Sentiment_TB.unique()\n",
        "\n",
        "label_dict = {}\n",
        "for index, possible_label in enumerate(possible_labels): \n",
        "#The enumerate() function takes a collection (e.g. a tuple) and returns it as an enumerate object.\n",
        "    label_dict[possible_label] = index\n",
        "\n",
        "data['label_TB'] = data.Sentiment_TB.replace(label_dict)\n",
        "\n"
      ],
      "execution_count": null,
      "outputs": []
    },
    {
      "cell_type": "code",
      "metadata": {
        "id": "2EgK-IJeT95f"
      },
      "source": [
        "#possible_labels = data.Sentiment_VADER.unique()\n",
        "\n",
        "label_dict = {}\n",
        "for index, possible_label in enumerate(possible_labels): \n",
        "#The enumerate() function takes a collection (e.g. a tuple) and returns it as an enumerate object.\n",
        "    label_dict[possible_label] = index\n",
        "\n",
        "data['label_VD'] = data.Sentiment_VADER.replace(label_dict)\n"
      ],
      "execution_count": null,
      "outputs": []
    },
    {
      "cell_type": "code",
      "metadata": {
        "colab": {
          "base_uri": "https://localhost:8080/"
        },
        "id": "zg--TapwEPw4",
        "outputId": "c83b0039-9d32-4112-c248-0318d285a0e1"
      },
      "source": [
        "possible_labels"
      ],
      "execution_count": null,
      "outputs": [
        {
          "output_type": "execute_result",
          "data": {
            "text/plain": [
              "array(['Positive', 'Strongly Positive', 'Neutral', 'Negative',\n",
              "       'Strongly Negative'], dtype=object)"
            ]
          },
          "metadata": {
            "tags": []
          },
          "execution_count": 46
        }
      ]
    },
    {
      "cell_type": "code",
      "metadata": {
        "colab": {
          "base_uri": "https://localhost:8080/",
          "height": 200
        },
        "id": "kPXKsJQ4AGcM",
        "outputId": "362f8714-3db0-430e-d356-0cf407c5ba6a"
      },
      "source": [
        "df=data[['date','Sentiment_TB' ,'label_TB','Sentiment_VADER' ,'label_VD']]\n",
        "data = data[['process_tweet','Sentiment_TB' ,'label_TB','Sentiment_VADER' ,'label_VD']]\n",
        "data.head()\n",
        "\n"
      ],
      "execution_count": null,
      "outputs": [
        {
          "output_type": "execute_result",
          "data": {
            "text/html": [
              "<div>\n",
              "<style scoped>\n",
              "    .dataframe tbody tr th:only-of-type {\n",
              "        vertical-align: middle;\n",
              "    }\n",
              "\n",
              "    .dataframe tbody tr th {\n",
              "        vertical-align: top;\n",
              "    }\n",
              "\n",
              "    .dataframe thead th {\n",
              "        text-align: right;\n",
              "    }\n",
              "</style>\n",
              "<table border=\"1\" class=\"dataframe\">\n",
              "  <thead>\n",
              "    <tr style=\"text-align: right;\">\n",
              "      <th></th>\n",
              "      <th>process_tweet</th>\n",
              "      <th>Sentiment_TB</th>\n",
              "      <th>label_TB</th>\n",
              "      <th>Sentiment_VADER</th>\n",
              "      <th>label_VD</th>\n",
              "    </tr>\n",
              "  </thead>\n",
              "  <tbody>\n",
              "    <tr>\n",
              "      <th>0</th>\n",
              "      <td>isnt best poll promis ever free covid vaccin v...</td>\n",
              "      <td>Positive</td>\n",
              "      <td>0</td>\n",
              "      <td>Strongly Negative</td>\n",
              "      <td>4</td>\n",
              "    </tr>\n",
              "    <tr>\n",
              "      <th>1</th>\n",
              "      <td>state shall wait thier vidhan sabha elect get ...</td>\n",
              "      <td>Strongly Positive</td>\n",
              "      <td>1</td>\n",
              "      <td>Neutral</td>\n",
              "      <td>2</td>\n",
              "    </tr>\n",
              "    <tr>\n",
              "      <th>2</th>\n",
              "      <td>said vaccin free covid vaccin new lakh rs ever...</td>\n",
              "      <td>Positive</td>\n",
              "      <td>0</td>\n",
              "      <td>Strongly Positive</td>\n",
              "      <td>1</td>\n",
              "    </tr>\n",
              "    <tr>\n",
              "      <th>3</th>\n",
              "      <td>bjp realli present free covid vaccin state man...</td>\n",
              "      <td>Positive</td>\n",
              "      <td>0</td>\n",
              "      <td>Strongly Positive</td>\n",
              "      <td>1</td>\n",
              "    </tr>\n",
              "    <tr>\n",
              "      <th>4</th>\n",
              "      <td>anoth dose daili miserabl planet grauniad sub ...</td>\n",
              "      <td>Neutral</td>\n",
              "      <td>2</td>\n",
              "      <td>Positive</td>\n",
              "      <td>0</td>\n",
              "    </tr>\n",
              "  </tbody>\n",
              "</table>\n",
              "</div>"
            ],
            "text/plain": [
              "                                       process_tweet  ... label_VD\n",
              "0  isnt best poll promis ever free covid vaccin v...  ...        4\n",
              "1  state shall wait thier vidhan sabha elect get ...  ...        2\n",
              "2  said vaccin free covid vaccin new lakh rs ever...  ...        1\n",
              "3  bjp realli present free covid vaccin state man...  ...        1\n",
              "4  anoth dose daili miserabl planet grauniad sub ...  ...        0\n",
              "\n",
              "[5 rows x 5 columns]"
            ]
          },
          "metadata": {
            "tags": []
          },
          "execution_count": 47
        }
      ]
    },
    {
      "cell_type": "code",
      "metadata": {
        "colab": {
          "base_uri": "https://localhost:8080/"
        },
        "id": "ZD9yROnj6RyY",
        "outputId": "97273edb-17a6-4faa-d01b-55be000e31d3"
      },
      "source": [
        "from pandas import datetime \n",
        "\n",
        "df['date'] = pd.to_datetime(df['date'])\n",
        "df['Month'] = df['date'].dt.month\n",
        "df['Month-str-full'] = df['date'].dt.strftime('%B')"
      ],
      "execution_count": null,
      "outputs": [
        {
          "output_type": "stream",
          "text": [
            "/usr/local/lib/python3.7/dist-packages/ipykernel_launcher.py:1: FutureWarning: The pandas.datetime class is deprecated and will be removed from pandas in a future version. Import from datetime module instead.\n",
            "  \"\"\"Entry point for launching an IPython kernel.\n"
          ],
          "name": "stderr"
        }
      ]
    },
    {
      "cell_type": "code",
      "metadata": {
        "colab": {
          "base_uri": "https://localhost:8080/"
        },
        "id": "eUpbcRlH4yGb",
        "outputId": "20f8574a-0d96-4875-b99f-63e991f4a1d8"
      },
      "source": [
        "possible_months = df['Month-str-full'].unique()\n",
        "print(possible_labels)\n",
        "print(possible_months)"
      ],
      "execution_count": null,
      "outputs": [
        {
          "output_type": "stream",
          "text": [
            "['Positive' 'Strongly Positive' 'Neutral' 'Negative' 'Strongly Negative']\n",
            "['October' 'September' 'August' 'July' 'June' 'May' 'April' 'March'\n",
            " 'February' 'December' 'November' 'January']\n"
          ],
          "name": "stdout"
        }
      ]
    },
    {
      "cell_type": "code",
      "metadata": {
        "colab": {
          "base_uri": "https://localhost:8080/",
          "height": 200
        },
        "id": "n-lqN7cMFP_7",
        "outputId": "cbdd7ccb-75f3-4950-d392-7b127ebe557e"
      },
      "source": [
        "df.head()"
      ],
      "execution_count": null,
      "outputs": [
        {
          "output_type": "execute_result",
          "data": {
            "text/html": [
              "<div>\n",
              "<style scoped>\n",
              "    .dataframe tbody tr th:only-of-type {\n",
              "        vertical-align: middle;\n",
              "    }\n",
              "\n",
              "    .dataframe tbody tr th {\n",
              "        vertical-align: top;\n",
              "    }\n",
              "\n",
              "    .dataframe thead th {\n",
              "        text-align: right;\n",
              "    }\n",
              "</style>\n",
              "<table border=\"1\" class=\"dataframe\">\n",
              "  <thead>\n",
              "    <tr style=\"text-align: right;\">\n",
              "      <th></th>\n",
              "      <th>date</th>\n",
              "      <th>Sentiment_TB</th>\n",
              "      <th>label_TB</th>\n",
              "      <th>Sentiment_VADER</th>\n",
              "      <th>label_VD</th>\n",
              "      <th>Month</th>\n",
              "      <th>Month-str-full</th>\n",
              "    </tr>\n",
              "  </thead>\n",
              "  <tbody>\n",
              "    <tr>\n",
              "      <th>0</th>\n",
              "      <td>2020-10-22</td>\n",
              "      <td>Positive</td>\n",
              "      <td>0</td>\n",
              "      <td>Strongly Negative</td>\n",
              "      <td>4</td>\n",
              "      <td>10</td>\n",
              "      <td>October</td>\n",
              "    </tr>\n",
              "    <tr>\n",
              "      <th>1</th>\n",
              "      <td>2020-10-22</td>\n",
              "      <td>Strongly Positive</td>\n",
              "      <td>1</td>\n",
              "      <td>Neutral</td>\n",
              "      <td>2</td>\n",
              "      <td>10</td>\n",
              "      <td>October</td>\n",
              "    </tr>\n",
              "    <tr>\n",
              "      <th>2</th>\n",
              "      <td>2020-10-22</td>\n",
              "      <td>Positive</td>\n",
              "      <td>0</td>\n",
              "      <td>Strongly Positive</td>\n",
              "      <td>1</td>\n",
              "      <td>10</td>\n",
              "      <td>October</td>\n",
              "    </tr>\n",
              "    <tr>\n",
              "      <th>3</th>\n",
              "      <td>2020-10-22</td>\n",
              "      <td>Positive</td>\n",
              "      <td>0</td>\n",
              "      <td>Strongly Positive</td>\n",
              "      <td>1</td>\n",
              "      <td>10</td>\n",
              "      <td>October</td>\n",
              "    </tr>\n",
              "    <tr>\n",
              "      <th>4</th>\n",
              "      <td>2020-10-22</td>\n",
              "      <td>Neutral</td>\n",
              "      <td>2</td>\n",
              "      <td>Positive</td>\n",
              "      <td>0</td>\n",
              "      <td>10</td>\n",
              "      <td>October</td>\n",
              "    </tr>\n",
              "  </tbody>\n",
              "</table>\n",
              "</div>"
            ],
            "text/plain": [
              "        date       Sentiment_TB  label_TB  ... label_VD  Month  Month-str-full\n",
              "0 2020-10-22           Positive         0  ...        4     10         October\n",
              "1 2020-10-22  Strongly Positive         1  ...        2     10         October\n",
              "2 2020-10-22           Positive         0  ...        1     10         October\n",
              "3 2020-10-22           Positive         0  ...        1     10         October\n",
              "4 2020-10-22            Neutral         2  ...        0     10         October\n",
              "\n",
              "[5 rows x 7 columns]"
            ]
          },
          "metadata": {
            "tags": []
          },
          "execution_count": 50
        }
      ]
    },
    {
      "cell_type": "code",
      "metadata": {
        "colab": {
          "base_uri": "https://localhost:8080/"
        },
        "id": "oA0O6OzNJdkV",
        "outputId": "019741b4-c07c-44d9-f432-e616e10a3178"
      },
      "source": [
        "df['Month-str-full'].value_counts()"
      ],
      "execution_count": null,
      "outputs": [
        {
          "output_type": "execute_result",
          "data": {
            "text/plain": [
              "November     194118\n",
              "December     109639\n",
              "September    106590\n",
              "August        77587\n",
              "October       76572\n",
              "July          50109\n",
              "April         33751\n",
              "May           33423\n",
              "March         29425\n",
              "February      28447\n",
              "June          25018\n",
              "January        9367\n",
              "Name: Month-str-full, dtype: int64"
            ]
          },
          "metadata": {
            "tags": []
          },
          "execution_count": 51
        }
      ]
    },
    {
      "cell_type": "code",
      "metadata": {
        "colab": {
          "base_uri": "https://localhost:8080/"
        },
        "id": "EeAlcVdhOnMz",
        "outputId": "3386574f-a2ef-43a7-b260-cb4524fc0dc6"
      },
      "source": [
        "for i in possible_months:\n",
        "  for j in possible_labels:\n",
        "    a = []\n",
        "    count = np.sum((df['Month-str-full']==i) & (df['Sentiment_TB']==j))\n",
        "  \n",
        "    print(i, \" month and \", j, \"sentiment values count \", count)\n",
        "  \n",
        "  print()"
      ],
      "execution_count": null,
      "outputs": [
        {
          "output_type": "stream",
          "text": [
            "October  month and  Positive sentiment values count  22649\n",
            "October  month and  Strongly Positive sentiment values count  3558\n",
            "October  month and  Neutral sentiment values count  37578\n",
            "October  month and  Negative sentiment values count  11688\n",
            "October  month and  Strongly Negative sentiment values count  1099\n",
            "\n",
            "September  month and  Positive sentiment values count  33134\n",
            "September  month and  Strongly Positive sentiment values count  6123\n",
            "September  month and  Neutral sentiment values count  51508\n",
            "September  month and  Negative sentiment values count  14474\n",
            "September  month and  Strongly Negative sentiment values count  1351\n",
            "\n",
            "August  month and  Positive sentiment values count  25876\n",
            "August  month and  Strongly Positive sentiment values count  3013\n",
            "August  month and  Neutral sentiment values count  37513\n",
            "August  month and  Negative sentiment values count  10303\n",
            "August  month and  Strongly Negative sentiment values count  882\n",
            "\n",
            "July  month and  Positive sentiment values count  14960\n",
            "July  month and  Strongly Positive sentiment values count  1980\n",
            "July  month and  Neutral sentiment values count  25779\n",
            "July  month and  Negative sentiment values count  6751\n",
            "July  month and  Strongly Negative sentiment values count  639\n",
            "\n",
            "June  month and  Positive sentiment values count  7392\n",
            "June  month and  Strongly Positive sentiment values count  988\n",
            "June  month and  Neutral sentiment values count  12624\n",
            "June  month and  Negative sentiment values count  3679\n",
            "June  month and  Strongly Negative sentiment values count  335\n",
            "\n",
            "May  month and  Positive sentiment values count  9665\n",
            "May  month and  Strongly Positive sentiment values count  1227\n",
            "May  month and  Neutral sentiment values count  16944\n",
            "May  month and  Negative sentiment values count  5061\n",
            "May  month and  Strongly Negative sentiment values count  526\n",
            "\n",
            "April  month and  Positive sentiment values count  10286\n",
            "April  month and  Strongly Positive sentiment values count  1410\n",
            "April  month and  Neutral sentiment values count  16646\n",
            "April  month and  Negative sentiment values count  4882\n",
            "April  month and  Strongly Negative sentiment values count  527\n",
            "\n",
            "March  month and  Positive sentiment values count  10260\n",
            "March  month and  Strongly Positive sentiment values count  1346\n",
            "March  month and  Neutral sentiment values count  13606\n",
            "March  month and  Negative sentiment values count  3659\n",
            "March  month and  Strongly Negative sentiment values count  554\n",
            "\n",
            "February  month and  Positive sentiment values count  11653\n",
            "February  month and  Strongly Positive sentiment values count  1123\n",
            "February  month and  Neutral sentiment values count  12553\n",
            "February  month and  Negative sentiment values count  2824\n",
            "February  month and  Strongly Negative sentiment values count  294\n",
            "\n",
            "December  month and  Positive sentiment values count  36798\n",
            "December  month and  Strongly Positive sentiment values count  3717\n",
            "December  month and  Neutral sentiment values count  54168\n",
            "December  month and  Negative sentiment values count  13563\n",
            "December  month and  Strongly Negative sentiment values count  1393\n",
            "\n",
            "November  month and  Positive sentiment values count  60281\n",
            "November  month and  Strongly Positive sentiment values count  9126\n",
            "November  month and  Neutral sentiment values count  97923\n",
            "November  month and  Negative sentiment values count  24504\n",
            "November  month and  Strongly Negative sentiment values count  2284\n",
            "\n",
            "January  month and  Positive sentiment values count  3069\n",
            "January  month and  Strongly Positive sentiment values count  459\n",
            "January  month and  Neutral sentiment values count  4702\n",
            "January  month and  Negative sentiment values count  1054\n",
            "January  month and  Strongly Negative sentiment values count  83\n",
            "\n"
          ],
          "name": "stdout"
        }
      ]
    },
    {
      "cell_type": "code",
      "metadata": {
        "colab": {
          "base_uri": "https://localhost:8080/"
        },
        "id": "4linn9AWQD5Z",
        "outputId": "9c08ac41-21c2-42f5-b1f4-8d10311ca958"
      },
      "source": [
        "for i in possible_months:\n",
        "  for j in possible_labels:\n",
        "    count = np.sum((df['Month-str-full']==i) & (df['Sentiment_VADER']==j))\n",
        "    print(i, \" month and \", j, \"sentiment values count \", count)\n",
        "  print()"
      ],
      "execution_count": null,
      "outputs": [
        {
          "output_type": "stream",
          "text": [
            "October  month and  Positive sentiment values count  16616\n",
            "October  month and  Strongly Positive sentiment values count  10760\n",
            "October  month and  Neutral sentiment values count  30196\n",
            "October  month and  Negative sentiment values count  11058\n",
            "October  month and  Strongly Negative sentiment values count  7942\n",
            "\n",
            "September  month and  Positive sentiment values count  24886\n",
            "September  month and  Strongly Positive sentiment values count  15665\n",
            "September  month and  Neutral sentiment values count  41221\n",
            "September  month and  Negative sentiment values count  14520\n",
            "September  month and  Strongly Negative sentiment values count  10298\n",
            "\n",
            "August  month and  Positive sentiment values count  16202\n",
            "August  month and  Strongly Positive sentiment values count  10107\n",
            "August  month and  Neutral sentiment values count  33953\n",
            "August  month and  Negative sentiment values count  10136\n",
            "August  month and  Strongly Negative sentiment values count  7189\n",
            "\n",
            "July  month and  Positive sentiment values count  10816\n",
            "July  month and  Strongly Positive sentiment values count  6546\n",
            "July  month and  Neutral sentiment values count  20539\n",
            "July  month and  Negative sentiment values count  7094\n",
            "July  month and  Strongly Negative sentiment values count  5114\n",
            "\n",
            "June  month and  Positive sentiment values count  5340\n",
            "June  month and  Strongly Positive sentiment values count  3139\n",
            "June  month and  Neutral sentiment values count  10370\n",
            "June  month and  Negative sentiment values count  3513\n",
            "June  month and  Strongly Negative sentiment values count  2656\n",
            "\n",
            "May  month and  Positive sentiment values count  7249\n",
            "May  month and  Strongly Positive sentiment values count  4287\n",
            "May  month and  Neutral sentiment values count  13833\n",
            "May  month and  Negative sentiment values count  4649\n",
            "May  month and  Strongly Negative sentiment values count  3405\n",
            "\n",
            "April  month and  Positive sentiment values count  7920\n",
            "April  month and  Strongly Positive sentiment values count  4664\n",
            "April  month and  Neutral sentiment values count  12660\n",
            "April  month and  Negative sentiment values count  5070\n",
            "April  month and  Strongly Negative sentiment values count  3437\n",
            "\n",
            "March  month and  Positive sentiment values count  7277\n",
            "March  month and  Strongly Positive sentiment values count  4399\n",
            "March  month and  Neutral sentiment values count  11550\n",
            "March  month and  Negative sentiment values count  3786\n",
            "March  month and  Strongly Negative sentiment values count  2413\n",
            "\n",
            "February  month and  Positive sentiment values count  6099\n",
            "February  month and  Strongly Positive sentiment values count  4830\n",
            "February  month and  Neutral sentiment values count  13004\n",
            "February  month and  Negative sentiment values count  2724\n",
            "February  month and  Strongly Negative sentiment values count  1790\n",
            "\n",
            "December  month and  Positive sentiment values count  24544\n",
            "December  month and  Strongly Positive sentiment values count  14300\n",
            "December  month and  Neutral sentiment values count  47258\n",
            "December  month and  Negative sentiment values count  13288\n",
            "December  month and  Strongly Negative sentiment values count  10249\n",
            "\n",
            "November  month and  Positive sentiment values count  43335\n",
            "November  month and  Strongly Positive sentiment values count  29311\n",
            "November  month and  Neutral sentiment values count  79284\n",
            "November  month and  Negative sentiment values count  25898\n",
            "November  month and  Strongly Negative sentiment values count  16290\n",
            "\n",
            "January  month and  Positive sentiment values count  2000\n",
            "January  month and  Strongly Positive sentiment values count  1485\n",
            "January  month and  Neutral sentiment values count  4163\n",
            "January  month and  Negative sentiment values count  993\n",
            "January  month and  Strongly Negative sentiment values count  726\n",
            "\n"
          ],
          "name": "stdout"
        }
      ]
    },
    {
      "cell_type": "code",
      "metadata": {
        "id": "KhcCx9weF-lU"
      },
      "source": [
        ""
      ],
      "execution_count": null,
      "outputs": []
    },
    {
      "cell_type": "code",
      "metadata": {
        "id": "JR6E-T6XgeKl"
      },
      "source": [
        "data.to_csv('process_vaccine_tweet.csv')"
      ],
      "execution_count": null,
      "outputs": []
    },
    {
      "cell_type": "code",
      "metadata": {
        "colab": {
          "base_uri": "https://localhost:8080/",
          "height": 200
        },
        "id": "EY0I9Vrajb2V",
        "outputId": "a2197591-e9d5-4a7c-d9d8-855540c61ead"
      },
      "source": [
        "df_new = data.copy()\n",
        "\n",
        "#df_new.rename(columns={'Sentiment' : 'Data'} , inplace= True)\n",
        "\n",
        "df_new.head()"
      ],
      "execution_count": null,
      "outputs": [
        {
          "output_type": "execute_result",
          "data": {
            "text/html": [
              "<div>\n",
              "<style scoped>\n",
              "    .dataframe tbody tr th:only-of-type {\n",
              "        vertical-align: middle;\n",
              "    }\n",
              "\n",
              "    .dataframe tbody tr th {\n",
              "        vertical-align: top;\n",
              "    }\n",
              "\n",
              "    .dataframe thead th {\n",
              "        text-align: right;\n",
              "    }\n",
              "</style>\n",
              "<table border=\"1\" class=\"dataframe\">\n",
              "  <thead>\n",
              "    <tr style=\"text-align: right;\">\n",
              "      <th></th>\n",
              "      <th>process_tweet</th>\n",
              "      <th>Sentiment_TB</th>\n",
              "      <th>label_TB</th>\n",
              "      <th>Sentiment_VADER</th>\n",
              "      <th>label_VD</th>\n",
              "    </tr>\n",
              "  </thead>\n",
              "  <tbody>\n",
              "    <tr>\n",
              "      <th>0</th>\n",
              "      <td>isnt best poll promis ever free covid vaccin v...</td>\n",
              "      <td>Positive</td>\n",
              "      <td>0</td>\n",
              "      <td>Strongly Negative</td>\n",
              "      <td>4</td>\n",
              "    </tr>\n",
              "    <tr>\n",
              "      <th>1</th>\n",
              "      <td>state shall wait thier vidhan sabha elect get ...</td>\n",
              "      <td>Strongly Positive</td>\n",
              "      <td>1</td>\n",
              "      <td>Neutral</td>\n",
              "      <td>2</td>\n",
              "    </tr>\n",
              "    <tr>\n",
              "      <th>2</th>\n",
              "      <td>said vaccin free covid vaccin new lakh rs ever...</td>\n",
              "      <td>Positive</td>\n",
              "      <td>0</td>\n",
              "      <td>Strongly Positive</td>\n",
              "      <td>1</td>\n",
              "    </tr>\n",
              "    <tr>\n",
              "      <th>3</th>\n",
              "      <td>bjp realli present free covid vaccin state man...</td>\n",
              "      <td>Positive</td>\n",
              "      <td>0</td>\n",
              "      <td>Strongly Positive</td>\n",
              "      <td>1</td>\n",
              "    </tr>\n",
              "    <tr>\n",
              "      <th>4</th>\n",
              "      <td>anoth dose daili miserabl planet grauniad sub ...</td>\n",
              "      <td>Neutral</td>\n",
              "      <td>2</td>\n",
              "      <td>Positive</td>\n",
              "      <td>0</td>\n",
              "    </tr>\n",
              "  </tbody>\n",
              "</table>\n",
              "</div>"
            ],
            "text/plain": [
              "                                       process_tweet  ... label_VD\n",
              "0  isnt best poll promis ever free covid vaccin v...  ...        4\n",
              "1  state shall wait thier vidhan sabha elect get ...  ...        2\n",
              "2  said vaccin free covid vaccin new lakh rs ever...  ...        1\n",
              "3  bjp realli present free covid vaccin state man...  ...        1\n",
              "4  anoth dose daili miserabl planet grauniad sub ...  ...        0\n",
              "\n",
              "[5 rows x 5 columns]"
            ]
          },
          "metadata": {
            "tags": []
          },
          "execution_count": 55
        }
      ]
    },
    {
      "cell_type": "code",
      "metadata": {
        "colab": {
          "base_uri": "https://localhost:8080/",
          "height": 656
        },
        "id": "srgy9EWoWdGI",
        "outputId": "954192db-9b2e-4ffd-e00f-0b294b309443"
      },
      "source": [
        "import seaborn as sns\n",
        "\n",
        "plt.figure(figsize=(10,5))\n",
        "sns.countplot(x='Sentiment_VADER', data=df_new, order=['Strongly Negative' ,'Negative' , 'Neutral' , 'Positive' , 'Strongly Positive']);\n",
        "\n",
        "\n",
        "\n",
        "\n",
        "plt.figure(figsize=(10,5))\n",
        "sns.countplot(x='Sentiment_TB', data=df_new, order=['Strongly Negative' ,'Negative' , 'Neutral' , 'Positive' , 'Strongly Positive']);"
      ],
      "execution_count": null,
      "outputs": [
        {
          "output_type": "display_data",
          "data": {
            "image/png": "[encoded data removed]",
            "text/plain": [
              "<Figure size 720x360 with 1 Axes>"
            ]
          },
          "metadata": {
            "tags": [],
            "needs_background": "light"
          }
        },
        {
          "output_type": "display_data",
          "data": {
            "image/png": "[encoded data removed]",
            "text/plain": [
              "<Figure size 720x360 with 1 Axes>"
            ]
          },
          "metadata": {
            "tags": [],
            "needs_background": "light"
          }
        }
      ]
    },
    {
      "cell_type": "code",
      "metadata": {
        "id": "iTuWiRwQc1wt"
      },
      "source": [
        "data.to_csv('Vaccine_Label_Data_Stream.csv')"
      ],
      "execution_count": null,
      "outputs": []
    },
    {
      "cell_type": "code",
      "metadata": {
        "colab": {
          "base_uri": "https://localhost:8080/",
          "height": 295
        },
        "id": "UiAGr_2LY1G-",
        "outputId": "847bb7d8-6d8d-4c0a-d113-ed148ace5f29"
      },
      "source": [
        "data['process_tweet'].str.len().plot.hist()\n",
        "plt.xlabel('Word Length')\n",
        "plt.ylabel('Num of Tweet ')"
      ],
      "execution_count": null,
      "outputs": [
        {
          "output_type": "execute_result",
          "data": {
            "text/plain": [
              "Text(0, 0.5, 'Num of Tweet ')"
            ]
          },
          "metadata": {
            "tags": []
          },
          "execution_count": 58
        },
        {
          "output_type": "display_data",
          "data": {
            "image/png": "[encoded data removed]",
            "text/plain": [
              "<Figure size 432x288 with 1 Axes>"
            ]
          },
          "metadata": {
            "tags": [],
            "needs_background": "light"
          }
        }
      ]
    },
    {
      "cell_type": "code",
      "metadata": {
        "id": "aKZW2yFAf_D1"
      },
      "source": [
        ""
      ],
      "execution_count": null,
      "outputs": []
    },
    {
      "cell_type": "code",
      "metadata": {
        "id": "NDylelzaY1Os"
      },
      "source": [
        "#import library for deep learning\n",
        "from sklearn.model_selection import train_test_split\n",
        "\n",
        "\n",
        "from keras.models import Sequential, load_model\n",
        "from keras.layers import Dense, LSTM, Embedding, Dropout\n",
        "from keras.preprocessing.text import Tokenizer\n",
        "from keras.preprocessing.sequence import pad_sequences"
      ],
      "execution_count": null,
      "outputs": []
    },
    {
      "cell_type": "markdown",
      "metadata": {
        "id": "_atTlHiuV6YR"
      },
      "source": [
        "\n",
        "\n",
        "```\n",
        "`# This is formatted as code`\n",
        "```\n",
        "\n",
        "# **FOR TextBlob ONLY**"
      ]
    },
    {
      "cell_type": "code",
      "metadata": {
        "colab": {
          "base_uri": "https://localhost:8080/",
          "height": 200
        },
        "id": "fJ0PZxIPY1XP",
        "outputId": "f5cccc68-cdfc-425b-bc75-efc2834d96d4"
      },
      "source": [
        "\n",
        "#for deep learning we need to only 2 colums(sentiment and process tweet)\n",
        "data = data[['Sentiment_TB','process_tweet' ]]\n",
        "data.head()"
      ],
      "execution_count": null,
      "outputs": [
        {
          "output_type": "execute_result",
          "data": {
            "text/html": [
              "<div>\n",
              "<style scoped>\n",
              "    .dataframe tbody tr th:only-of-type {\n",
              "        vertical-align: middle;\n",
              "    }\n",
              "\n",
              "    .dataframe tbody tr th {\n",
              "        vertical-align: top;\n",
              "    }\n",
              "\n",
              "    .dataframe thead th {\n",
              "        text-align: right;\n",
              "    }\n",
              "</style>\n",
              "<table border=\"1\" class=\"dataframe\">\n",
              "  <thead>\n",
              "    <tr style=\"text-align: right;\">\n",
              "      <th></th>\n",
              "      <th>Sentiment_TB</th>\n",
              "      <th>process_tweet</th>\n",
              "    </tr>\n",
              "  </thead>\n",
              "  <tbody>\n",
              "    <tr>\n",
              "      <th>0</th>\n",
              "      <td>Positive</td>\n",
              "      <td>isnt best poll promis ever free covid vaccin v...</td>\n",
              "    </tr>\n",
              "    <tr>\n",
              "      <th>1</th>\n",
              "      <td>Strongly Positive</td>\n",
              "      <td>state shall wait thier vidhan sabha elect get ...</td>\n",
              "    </tr>\n",
              "    <tr>\n",
              "      <th>2</th>\n",
              "      <td>Positive</td>\n",
              "      <td>said vaccin free covid vaccin new lakh rs ever...</td>\n",
              "    </tr>\n",
              "    <tr>\n",
              "      <th>3</th>\n",
              "      <td>Positive</td>\n",
              "      <td>bjp realli present free covid vaccin state man...</td>\n",
              "    </tr>\n",
              "    <tr>\n",
              "      <th>4</th>\n",
              "      <td>Neutral</td>\n",
              "      <td>anoth dose daili miserabl planet grauniad sub ...</td>\n",
              "    </tr>\n",
              "  </tbody>\n",
              "</table>\n",
              "</div>"
            ],
            "text/plain": [
              "        Sentiment_TB                                      process_tweet\n",
              "0           Positive  isnt best poll promis ever free covid vaccin v...\n",
              "1  Strongly Positive  state shall wait thier vidhan sabha elect get ...\n",
              "2           Positive  said vaccin free covid vaccin new lakh rs ever...\n",
              "3           Positive  bjp realli present free covid vaccin state man...\n",
              "4            Neutral  anoth dose daili miserabl planet grauniad sub ..."
            ]
          },
          "metadata": {
            "tags": []
          },
          "execution_count": 60
        }
      ]
    },
    {
      "cell_type": "code",
      "metadata": {
        "id": "8Pld3dFuY1ba"
      },
      "source": [
        "data1 = data.copy()      #########    for experiment ,max_words"
      ],
      "execution_count": null,
      "outputs": []
    },
    {
      "cell_type": "code",
      "metadata": {
        "colab": {
          "base_uri": "https://localhost:8080/",
          "height": 200
        },
        "id": "eZYTkyCcYxbt",
        "outputId": "5575d64d-3a56-40d4-892b-f32e6e4a8b76"
      },
      "source": [
        "data1.head()"
      ],
      "execution_count": null,
      "outputs": [
        {
          "output_type": "execute_result",
          "data": {
            "text/html": [
              "<div>\n",
              "<style scoped>\n",
              "    .dataframe tbody tr th:only-of-type {\n",
              "        vertical-align: middle;\n",
              "    }\n",
              "\n",
              "    .dataframe tbody tr th {\n",
              "        vertical-align: top;\n",
              "    }\n",
              "\n",
              "    .dataframe thead th {\n",
              "        text-align: right;\n",
              "    }\n",
              "</style>\n",
              "<table border=\"1\" class=\"dataframe\">\n",
              "  <thead>\n",
              "    <tr style=\"text-align: right;\">\n",
              "      <th></th>\n",
              "      <th>Sentiment_TB</th>\n",
              "      <th>process_tweet</th>\n",
              "    </tr>\n",
              "  </thead>\n",
              "  <tbody>\n",
              "    <tr>\n",
              "      <th>0</th>\n",
              "      <td>Positive</td>\n",
              "      <td>isnt best poll promis ever free covid vaccin v...</td>\n",
              "    </tr>\n",
              "    <tr>\n",
              "      <th>1</th>\n",
              "      <td>Strongly Positive</td>\n",
              "      <td>state shall wait thier vidhan sabha elect get ...</td>\n",
              "    </tr>\n",
              "    <tr>\n",
              "      <th>2</th>\n",
              "      <td>Positive</td>\n",
              "      <td>said vaccin free covid vaccin new lakh rs ever...</td>\n",
              "    </tr>\n",
              "    <tr>\n",
              "      <th>3</th>\n",
              "      <td>Positive</td>\n",
              "      <td>bjp realli present free covid vaccin state man...</td>\n",
              "    </tr>\n",
              "    <tr>\n",
              "      <th>4</th>\n",
              "      <td>Neutral</td>\n",
              "      <td>anoth dose daili miserabl planet grauniad sub ...</td>\n",
              "    </tr>\n",
              "  </tbody>\n",
              "</table>\n",
              "</div>"
            ],
            "text/plain": [
              "        Sentiment_TB                                      process_tweet\n",
              "0           Positive  isnt best poll promis ever free covid vaccin v...\n",
              "1  Strongly Positive  state shall wait thier vidhan sabha elect get ...\n",
              "2           Positive  said vaccin free covid vaccin new lakh rs ever...\n",
              "3           Positive  bjp realli present free covid vaccin state man...\n",
              "4            Neutral  anoth dose daili miserabl planet grauniad sub ..."
            ]
          },
          "metadata": {
            "tags": []
          },
          "execution_count": 62
        }
      ]
    },
    {
      "cell_type": "code",
      "metadata": {
        "colab": {
          "base_uri": "https://localhost:8080/",
          "height": 200
        },
        "id": "t1SNInACd4_o",
        "outputId": "c2aade3c-3d9c-433a-b26f-843816d1bec0"
      },
      "source": [
        "data1 = data1.reset_index(drop=True) #for removing missig index \n",
        "\n",
        "#see previous index 3 is replaced by new index 2\n",
        "data1.head() "
      ],
      "execution_count": null,
      "outputs": [
        {
          "output_type": "execute_result",
          "data": {
            "text/html": [
              "<div>\n",
              "<style scoped>\n",
              "    .dataframe tbody tr th:only-of-type {\n",
              "        vertical-align: middle;\n",
              "    }\n",
              "\n",
              "    .dataframe tbody tr th {\n",
              "        vertical-align: top;\n",
              "    }\n",
              "\n",
              "    .dataframe thead th {\n",
              "        text-align: right;\n",
              "    }\n",
              "</style>\n",
              "<table border=\"1\" class=\"dataframe\">\n",
              "  <thead>\n",
              "    <tr style=\"text-align: right;\">\n",
              "      <th></th>\n",
              "      <th>Sentiment_TB</th>\n",
              "      <th>process_tweet</th>\n",
              "    </tr>\n",
              "  </thead>\n",
              "  <tbody>\n",
              "    <tr>\n",
              "      <th>0</th>\n",
              "      <td>Positive</td>\n",
              "      <td>isnt best poll promis ever free covid vaccin v...</td>\n",
              "    </tr>\n",
              "    <tr>\n",
              "      <th>1</th>\n",
              "      <td>Strongly Positive</td>\n",
              "      <td>state shall wait thier vidhan sabha elect get ...</td>\n",
              "    </tr>\n",
              "    <tr>\n",
              "      <th>2</th>\n",
              "      <td>Positive</td>\n",
              "      <td>said vaccin free covid vaccin new lakh rs ever...</td>\n",
              "    </tr>\n",
              "    <tr>\n",
              "      <th>3</th>\n",
              "      <td>Positive</td>\n",
              "      <td>bjp realli present free covid vaccin state man...</td>\n",
              "    </tr>\n",
              "    <tr>\n",
              "      <th>4</th>\n",
              "      <td>Neutral</td>\n",
              "      <td>anoth dose daili miserabl planet grauniad sub ...</td>\n",
              "    </tr>\n",
              "  </tbody>\n",
              "</table>\n",
              "</div>"
            ],
            "text/plain": [
              "        Sentiment_TB                                      process_tweet\n",
              "0           Positive  isnt best poll promis ever free covid vaccin v...\n",
              "1  Strongly Positive  state shall wait thier vidhan sabha elect get ...\n",
              "2           Positive  said vaccin free covid vaccin new lakh rs ever...\n",
              "3           Positive  bjp realli present free covid vaccin state man...\n",
              "4            Neutral  anoth dose daili miserabl planet grauniad sub ..."
            ]
          },
          "metadata": {
            "tags": []
          },
          "execution_count": 63
        }
      ]
    },
    {
      "cell_type": "code",
      "metadata": {
        "id": "dj404WeUB5w3",
        "colab": {
          "base_uri": "https://localhost:8080/"
        },
        "outputId": "7d89ea70-b2ca-4cb7-e7ea-b0405277347e"
      },
      "source": [
        "uniqueWords = list(set(\" \".join(data['process_tweet']).lower().split(\" \")))\n",
        "count = len(uniqueWords)\n",
        "print(count)"
      ],
      "execution_count": null,
      "outputs": [
        {
          "output_type": "stream",
          "text": [
            "165769\n"
          ],
          "name": "stdout"
        }
      ]
    },
    {
      "cell_type": "code",
      "metadata": {
        "id": "8VuSN33QNdfR"
      },
      "source": [
        "#tokenization\n",
        "tokenizer = Tokenizer(num_words=count, split=' ')\n",
        "#num_words: the maximum number of words to keep, based on word frequency. Only the most common num_words-1 words will be kept.\n",
        "\n",
        "\n",
        "tokenizer.fit_on_texts(data1['process_tweet'].values)\n",
        "\n",
        "X = tokenizer.texts_to_sequences(data1['process_tweet'].values)"
      ],
      "execution_count": null,
      "outputs": []
    },
    {
      "cell_type": "code",
      "metadata": {
        "colab": {
          "base_uri": "https://localhost:8080/"
        },
        "id": "MDG5u0gjNdjT",
        "outputId": "9603b97d-c532-4d40-f017-ab92ac85e541"
      },
      "source": [
        "X[:3] #before padding"
      ],
      "execution_count": null,
      "outputs": [
        {
          "output_type": "execute_result",
          "data": {
            "text/plain": [
              "[[265,\n",
              "  299,\n",
              "  531,\n",
              "  209,\n",
              "  202,\n",
              "  136,\n",
              "  2,\n",
              "  1,\n",
              "  181,\n",
              "  1893,\n",
              "  80,\n",
              "  17,\n",
              "  181,\n",
              "  72,\n",
              "  2445,\n",
              "  118,\n",
              "  159,\n",
              "  1049,\n",
              "  292,\n",
              "  1,\n",
              "  83,\n",
              "  885,\n",
              "  1893,\n",
              "  5905,\n",
              "  14259,\n",
              "  123,\n",
              "  399,\n",
              "  97,\n",
              "  1539,\n",
              "  297,\n",
              "  690],\n",
              " [83, 1612, 80, 8560, 62752, 12479, 130, 4, 2, 1, 14260],\n",
              " [54, 1, 136, 2, 1, 28, 2133, 1620, 167, 978, 756, 6410]]"
            ]
          },
          "metadata": {
            "tags": []
          },
          "execution_count": 66
        }
      ]
    },
    {
      "cell_type": "code",
      "metadata": {
        "colab": {
          "base_uri": "https://localhost:8080/"
        },
        "id": "a5dbMPpRNdnc",
        "outputId": "c97122bc-6715-48ef-dafb-3cafad9767a4"
      },
      "source": [
        "#padding to make all text vector to same length\n",
        "\n",
        "X = pad_sequences(X)\n",
        "\n",
        "X[:3] #after padding"
      ],
      "execution_count": null,
      "outputs": [
        {
          "output_type": "execute_result",
          "data": {
            "text/plain": [
              "array([[    0,     0,     0,     0,     0,     0,     0,     0,     0,\n",
              "            0,     0,     0,     0,     0,     0,     0,     0,     0,\n",
              "            0,     0,   265,   299,   531,   209,   202,   136,     2,\n",
              "            1,   181,  1893,    80,    17,   181,    72,  2445,   118,\n",
              "          159,  1049,   292,     1,    83,   885,  1893,  5905, 14259,\n",
              "          123,   399,    97,  1539,   297,   690],\n",
              "       [    0,     0,     0,     0,     0,     0,     0,     0,     0,\n",
              "            0,     0,     0,     0,     0,     0,     0,     0,     0,\n",
              "            0,     0,     0,     0,     0,     0,     0,     0,     0,\n",
              "            0,     0,     0,     0,     0,     0,     0,     0,     0,\n",
              "            0,     0,     0,     0,    83,  1612,    80,  8560, 62752,\n",
              "        12479,   130,     4,     2,     1, 14260],\n",
              "       [    0,     0,     0,     0,     0,     0,     0,     0,     0,\n",
              "            0,     0,     0,     0,     0,     0,     0,     0,     0,\n",
              "            0,     0,     0,     0,     0,     0,     0,     0,     0,\n",
              "            0,     0,     0,     0,     0,     0,     0,     0,     0,\n",
              "            0,     0,     0,    54,     1,   136,     2,     1,    28,\n",
              "         2133,  1620,   167,   978,   756,  6410]], dtype=int32)"
            ]
          },
          "metadata": {
            "tags": []
          },
          "execution_count": 67
        }
      ]
    },
    {
      "cell_type": "code",
      "metadata": {
        "colab": {
          "base_uri": "https://localhost:8080/"
        },
        "id": "9xNeAywwNdq5",
        "outputId": "7ed80f0e-ca99-4c78-b6a7-820888c5b85f"
      },
      "source": [
        "X.shape[1]"
      ],
      "execution_count": null,
      "outputs": [
        {
          "output_type": "execute_result",
          "data": {
            "text/plain": [
              "51"
            ]
          },
          "metadata": {
            "tags": []
          },
          "execution_count": 68
        }
      ]
    },
    {
      "cell_type": "code",
      "metadata": {
        "id": "a1jdQOesh0Cp"
      },
      "source": [
        "from keras.layers import MaxPool1D"
      ],
      "execution_count": null,
      "outputs": []
    },
    {
      "cell_type": "code",
      "metadata": {
        "id": "fGymLWvjeAQx"
      },
      "source": [
        "#cnn\n",
        "\n",
        "model = Sequential()\n",
        "\n",
        "#embedding_layer = Embedding(count, 256, weights=[embedding_matrix], input_length=maxlen , trainable=False)\n",
        "model.add(Embedding(count, 256 , input_length=X.shape[1]))\n",
        "model.add(Dropout(0.3))\n",
        "model.add(Conv1D(128, 3, activation='relu'))\n",
        "model.add(MaxPool1D(pool_size=2))\n",
        "model.add(Flatten())\n",
        "model.add(Dense(5, activation='softmax'))\n"
      ],
      "execution_count": null,
      "outputs": []
    },
    {
      "cell_type": "code",
      "metadata": {
        "colab": {
          "base_uri": "https://localhost:8080/"
        },
        "id": "kKPW6S6JNdwn",
        "outputId": "51b60ff1-33be-48d8-bc34-30d27a50e5fa"
      },
      "source": [
        "model.summary()"
      ],
      "execution_count": null,
      "outputs": [
        {
          "output_type": "stream",
          "text": [
            "Model: \"sequential_4\"\n",
            "_________________________________________________________________\n",
            "Layer (type)                 Output Shape              Param #   \n",
            "=================================================================\n",
            "embedding_4 (Embedding)      (None, 51, 256)           42436864  \n",
            "_________________________________________________________________\n",
            "dropout_4 (Dropout)          (None, 51, 256)           0         \n",
            "_________________________________________________________________\n",
            "conv1d_4 (Conv1D)            (None, 44, 128)           262272    \n",
            "_________________________________________________________________\n",
            "max_pooling1d_2 (MaxPooling1 (None, 22, 128)           0         \n",
            "_________________________________________________________________\n",
            "flatten_2 (Flatten)          (None, 2816)              0         \n",
            "_________________________________________________________________\n",
            "dense_2 (Dense)              (None, 5)                 14085     \n",
            "=================================================================\n",
            "Total params: 42,713,221\n",
            "Trainable params: 42,713,221\n",
            "Non-trainable params: 0\n",
            "_________________________________________________________________\n"
          ],
          "name": "stdout"
        }
      ]
    },
    {
      "cell_type": "code",
      "metadata": {
        "id": "fm-mGnBEX8S2"
      },
      "source": [
        "model.compile(optimizer='adam' , loss = 'categorical_crossentropy' , metrics=['accuracy'])"
      ],
      "execution_count": null,
      "outputs": []
    },
    {
      "cell_type": "code",
      "metadata": {
        "colab": {
          "base_uri": "https://localhost:8080/"
        },
        "id": "ypn4KFUMX8WS",
        "outputId": "a2060547-e83e-4092-f03f-9f97c12e61fc"
      },
      "source": [
        "#one hot encoding\n",
        "\n",
        "y = pd.get_dummies(data1['Sentiment_TB']).values\n",
        "\n",
        "[print(data1['Sentiment_TB'][i] ,y[i]) for i in range(0,5)]"
      ],
      "execution_count": null,
      "outputs": [
        {
          "output_type": "stream",
          "text": [
            "Positive [0 0 1 0 0]\n",
            "Strongly Positive [0 0 0 0 1]\n",
            "Positive [0 0 1 0 0]\n",
            "Positive [0 0 1 0 0]\n",
            "Neutral [0 1 0 0 0]\n"
          ],
          "name": "stdout"
        },
        {
          "output_type": "execute_result",
          "data": {
            "text/plain": [
              "[None, None, None, None, None]"
            ]
          },
          "metadata": {
            "tags": []
          },
          "execution_count": 76
        }
      ]
    },
    {
      "cell_type": "code",
      "metadata": {
        "id": "w-IlUUvqX8aa"
      },
      "source": [
        "x_train , x_test , y_train , y_test = train_test_split(X , y , test_size = 0.2 ,random_state = 22)"
      ],
      "execution_count": null,
      "outputs": []
    },
    {
      "cell_type": "code",
      "metadata": {
        "id": "C0piOTG2X8d5"
      },
      "source": [
        "#trannig model\n",
        "batch_size = 128\n",
        "epochs = 5"
      ],
      "execution_count": null,
      "outputs": []
    },
    {
      "cell_type": "code",
      "metadata": {
        "colab": {
          "base_uri": "https://localhost:8080/"
        },
        "id": "hK1tBN32X8hE",
        "outputId": "d127cb0a-c8ab-4091-b0c9-62f3222fa419"
      },
      "source": [
        "history = model.fit(x_train , y_train ,\n",
        "          epochs = epochs,\n",
        "          batch_size = batch_size,\n",
        "          validation_split=0.1,\n",
        "          verbose=1)"
      ],
      "execution_count": null,
      "outputs": [
        {
          "output_type": "stream",
          "text": [
            "Epoch 1/5\n",
            "4354/4354 [==============================] - 1671s 374ms/step - loss: 0.2432 - accuracy: 0.9185 - val_loss: 0.0420 - val_accuracy: 0.9895\n",
            "Epoch 2/5\n",
            "4354/4354 [==============================] - 1626s 374ms/step - loss: 0.0344 - accuracy: 0.9911 - val_loss: 0.0479 - val_accuracy: 0.9882\n",
            "Epoch 3/5\n",
            "4354/4354 [==============================] - 1627s 374ms/step - loss: 0.0225 - accuracy: 0.9937 - val_loss: 0.0531 - val_accuracy: 0.9888\n",
            "Epoch 4/5\n",
            "4354/4354 [==============================] - 1624s 373ms/step - loss: 0.0162 - accuracy: 0.9954 - val_loss: 0.0548 - val_accuracy: 0.9892\n",
            "Epoch 5/5\n",
            "4354/4354 [==============================] - 1624s 373ms/step - loss: 0.0139 - accuracy: 0.9961 - val_loss: 0.0573 - val_accuracy: 0.9899\n"
          ],
          "name": "stdout"
        }
      ]
    },
    {
      "cell_type": "code",
      "metadata": {
        "id": "8tLUUDmnX8kK",
        "colab": {
          "base_uri": "https://localhost:8080/"
        },
        "outputId": "52e121f0-706b-4abe-d5f6-bdef818d0436"
      },
      "source": [
        "predictions = model.predict(x_test)\n",
        "print('done')"
      ],
      "execution_count": null,
      "outputs": [
        {
          "output_type": "stream",
          "text": [
            "done\n"
          ],
          "name": "stdout"
        }
      ]
    },
    {
      "cell_type": "markdown",
      "metadata": {
        "id": "Pamsrj_r8krh"
      },
      "source": [
        ""
      ]
    },
    {
      "cell_type": "code",
      "metadata": {
        "id": "0PUojuRmX8n6",
        "colab": {
          "base_uri": "https://localhost:8080/"
        },
        "outputId": "94cb6f76-facf-4848-be79-e0d572d83cfc"
      },
      "source": [
        "print(predictions)"
      ],
      "execution_count": null,
      "outputs": [
        {
          "output_type": "stream",
          "text": [
            "[[1.30375061e-04 9.99162912e-01 6.94713322e-04 7.63864648e-07\n",
            "  1.11479703e-05]\n",
            " [1.04433703e-07 2.44110902e-06 9.99997497e-01 2.25180072e-31\n",
            "  4.77926440e-15]\n",
            " [1.00530924e-04 9.99759257e-01 1.38278541e-04 8.92383923e-07\n",
            "  9.53615654e-07]\n",
            " ...\n",
            " [6.81705803e-10 8.14821215e-06 9.99991894e-01 3.17317869e-25\n",
            "  1.70435559e-08]\n",
            " [1.03306266e-15 2.42313981e-13 1.00000000e+00 0.00000000e+00\n",
            "  9.08721286e-13]\n",
            " [6.84278784e-05 9.99835968e-01 9.26809735e-05 1.43172610e-06\n",
            "  1.44193609e-06]]\n"
          ],
          "name": "stdout"
        }
      ]
    },
    {
      "cell_type": "code",
      "metadata": {
        "id": "Hr_QI1hPX8sX",
        "colab": {
          "base_uri": "https://localhost:8080/"
        },
        "outputId": "1498ed5f-6d90-4de6-ae92-88d4d71d68cf"
      },
      "source": [
        "%%time\n",
        "score = model.evaluate(x_test, y_test , batch_size = batch_size)\n",
        "print()\n",
        "print(\"ACCURACY:\",score[1])\n",
        "print(\"LOSS:\",score[0])"
      ],
      "execution_count": null,
      "outputs": [
        {
          "output_type": "stream",
          "text": [
            "1210/1210 [==============================] - 5s 4ms/step - loss: 0.0581 - accuracy: 0.9891\n",
            "\n",
            "ACCURACY: 0.9891350865364075\n",
            "LOSS: 0.05811479687690735\n",
            "CPU times: user 4.47 s, sys: 438 ms, total: 4.91 s\n",
            "Wall time: 5.13 s\n"
          ],
          "name": "stdout"
        }
      ]
    },
    {
      "cell_type": "code",
      "metadata": {
        "id": "PjQChZKeX8v4",
        "colab": {
          "base_uri": "https://localhost:8080/"
        },
        "outputId": "cb7985b6-e4e8-4df8-c1d7-174eb921f9d8"
      },
      "source": [
        "[print(data1['process_tweet'][i], predictions[i], y_test[i] ) for i in range(1, 3)\n",
        "]"
      ],
      "execution_count": null,
      "outputs": [
        {
          "output_type": "stream",
          "text": [
            "state shall wait thier vidhan sabha elect get covid vaccin biharpol [1.0443370e-07 2.4411090e-06 9.9999750e-01 2.2518007e-31 4.7792644e-15] [0 0 1 0 0]\n",
            "said vaccin free covid vaccin new lakh rs everi account kind jumla [1.00530924e-04 9.99759257e-01 1.38278541e-04 8.92383923e-07\n",
            " 9.53615654e-07] [0 1 0 0 0]\n"
          ],
          "name": "stdout"
        },
        {
          "output_type": "execute_result",
          "data": {
            "text/plain": [
              "[None, None]"
            ]
          },
          "metadata": {
            "tags": []
          },
          "execution_count": 83
        }
      ]
    },
    {
      "cell_type": "code",
      "metadata": {
        "id": "cuJsnPMHX8zX",
        "colab": {
          "base_uri": "https://localhost:8080/"
        },
        "outputId": "5d06da1b-d57c-4844-da2e-d0910b1988fc"
      },
      "source": [
        "\n",
        "pred1 = np.argmax(predictions , axis=1)\n",
        "pred1[:10]"
      ],
      "execution_count": null,
      "outputs": [
        {
          "output_type": "execute_result",
          "data": {
            "text/plain": [
              "array([1, 2, 1, 1, 4, 1, 1, 1, 1, 1])"
            ]
          },
          "metadata": {
            "tags": []
          },
          "execution_count": 84
        }
      ]
    },
    {
      "cell_type": "code",
      "metadata": {
        "id": "A49-jDEwX83K"
      },
      "source": [
        "y_test = np.argmax(y_test , axis=1)\n"
      ],
      "execution_count": null,
      "outputs": []
    },
    {
      "cell_type": "code",
      "metadata": {
        "id": "1-Xdag84X86W",
        "colab": {
          "base_uri": "https://localhost:8080/"
        },
        "outputId": "208218b5-65f9-4b7b-d696-cf5866e91513"
      },
      "source": [
        "\n",
        "\n",
        "print(y_train.shape)\n",
        "print(x_train.shape)  #160824 trainnig data"
      ],
      "execution_count": null,
      "outputs": [
        {
          "output_type": "stream",
          "text": [
            "(619236, 5)\n",
            "(619236, 51)\n"
          ],
          "name": "stdout"
        }
      ]
    },
    {
      "cell_type": "code",
      "metadata": {
        "id": "s8MqB5w_X89Y",
        "colab": {
          "base_uri": "https://localhost:8080/"
        },
        "outputId": "b7406d3e-4de9-4b54-faac-b8998526b73f"
      },
      "source": [
        "print(y_test.shape)\n",
        "print(x_test.shape)     #40206 test data"
      ],
      "execution_count": null,
      "outputs": [
        {
          "output_type": "stream",
          "text": [
            "(154810,)\n",
            "(154810, 51)\n"
          ],
          "name": "stdout"
        }
      ]
    },
    {
      "cell_type": "code",
      "metadata": {
        "id": "AjvwlCWzX9IN",
        "colab": {
          "base_uri": "https://localhost:8080/"
        },
        "outputId": "29523e56-edb5-4742-b652-82b23840630f"
      },
      "source": [
        "print(confusion_matrix(y_test , pred1 ,normalize=None))"
      ],
      "execution_count": null,
      "outputs": [
        {
          "output_type": "stream",
          "text": [
            "[[19966   112   351    58     0]\n",
            " [  108 76017   228     1     2]\n",
            " [  270    52 48696     0   235]\n",
            " [   87     1     0  1882     0]\n",
            " [    0     0   177     0  6567]]\n"
          ],
          "name": "stdout"
        }
      ]
    },
    {
      "cell_type": "code",
      "metadata": {
        "id": "70z038ZFY17i",
        "colab": {
          "base_uri": "https://localhost:8080/"
        },
        "outputId": "b769f3fe-e5de-4237-e1bc-3bd63e620172"
      },
      "source": [
        "print(confusion_matrix(y_test , pred1))"
      ],
      "execution_count": null,
      "outputs": [
        {
          "output_type": "stream",
          "text": [
            "[[19966   112   351    58     0]\n",
            " [  108 76017   228     1     2]\n",
            " [  270    52 48696     0   235]\n",
            " [   87     1     0  1882     0]\n",
            " [    0     0   177     0  6567]]\n"
          ],
          "name": "stdout"
        }
      ]
    },
    {
      "cell_type": "code",
      "metadata": {
        "id": "Pi4icYQMY1_y",
        "colab": {
          "base_uri": "https://localhost:8080/"
        },
        "outputId": "2100c2d8-d36d-4ff3-8629-cf404d2dd946"
      },
      "source": [
        "print(classification_report(y_test , pred1))"
      ],
      "execution_count": null,
      "outputs": [
        {
          "output_type": "stream",
          "text": [
            "              precision    recall  f1-score   support\n",
            "\n",
            "           0       0.98      0.97      0.98     20487\n",
            "           1       1.00      1.00      1.00     76356\n",
            "           2       0.98      0.99      0.99     49253\n",
            "           3       0.97      0.96      0.96      1970\n",
            "           4       0.97      0.97      0.97      6744\n",
            "\n",
            "    accuracy                           0.99    154810\n",
            "   macro avg       0.98      0.98      0.98    154810\n",
            "weighted avg       0.99      0.99      0.99    154810\n",
            "\n"
          ],
          "name": "stdout"
        }
      ]
    },
    {
      "cell_type": "code",
      "metadata": {
        "id": "s-z8sQKCY2FM",
        "colab": {
          "base_uri": "https://localhost:8080/"
        },
        "outputId": "e4bf65db-5759-4ff0-f8b4-cc8ee27db6a6"
      },
      "source": [
        "accuracy_score(y_test , pred1)"
      ],
      "execution_count": null,
      "outputs": [
        {
          "output_type": "execute_result",
          "data": {
            "text/plain": [
              "0.9891350687940056"
            ]
          },
          "metadata": {
            "tags": []
          },
          "execution_count": 92
        }
      ]
    },
    {
      "cell_type": "code",
      "metadata": {
        "id": "hu1T3aXcY2JB",
        "colab": {
          "base_uri": "https://localhost:8080/"
        },
        "outputId": "0543518c-68ae-4203-fbb7-33b746308424"
      },
      "source": [
        "print(confusion_matrix(y_test , pred1))"
      ],
      "execution_count": null,
      "outputs": [
        {
          "output_type": "stream",
          "text": [
            "[[19966   112   351    58     0]\n",
            " [  108 76017   228     1     2]\n",
            " [  270    52 48696     0   235]\n",
            " [   87     1     0  1882     0]\n",
            " [    0     0   177     0  6567]]\n"
          ],
          "name": "stdout"
        }
      ]
    },
    {
      "cell_type": "code",
      "metadata": {
        "colab": {
          "base_uri": "https://localhost:8080/"
        },
        "id": "3HvLvE0uHpLl",
        "outputId": "11d866f3-c6bf-4b5a-e90e-0877b63b56d0"
      },
      "source": [
        "#Mean Squared Error\n",
        "from sklearn.metrics import mean_squared_error\n",
        "mean_squared_error(y_test, pred1)"
      ],
      "execution_count": null,
      "outputs": [
        {
          "output_type": "execute_result",
          "data": {
            "text/plain": [
              "0.0385181835798721"
            ]
          },
          "metadata": {
            "tags": []
          },
          "execution_count": 94
        }
      ]
    },
    {
      "cell_type": "code",
      "metadata": {
        "id": "SlIjJ8RvY2Q4",
        "colab": {
          "base_uri": "https://localhost:8080/",
          "height": 655
        },
        "outputId": "77b15443-a188-436f-93b9-ec44deb52e64"
      },
      "source": [
        "plt.figure(figsize=(10,5))\n",
        "acc = history.history['accuracy']\n",
        "val_acc = history.history['val_accuracy']\n",
        "loss = history.history['loss']\n",
        "val_loss = history.history['val_loss']\n",
        " \n",
        "epochs = range(len(acc))\n",
        " \n",
        "plt.plot(epochs, acc, 'b', label='Training acc')\n",
        "plt.plot(epochs, val_acc, 'r', label='Validation acc')\n",
        "plt.title('Training and Validation accuracy')\n",
        "plt.legend()\n",
        "plt.grid(True)\n",
        " \n",
        "plt.figure(figsize=(10,5))\n",
        " \n",
        "plt.plot(epochs, loss, 'b', label='Training loss')\n",
        "plt.plot(epochs, val_loss, 'r', label='Validation loss')\n",
        "plt.title('Training and Validation loss')\n",
        "plt.grid(True)\n",
        "plt.legend()\n",
        "\n",
        "plt.show()\n"
      ],
      "execution_count": null,
      "outputs": [
        {
          "output_type": "display_data",
          "data": {
            "image/png": "[encoded data removed]",
            "text/plain": [
              "<Figure size 720x360 with 1 Axes>"
            ]
          },
          "metadata": {
            "tags": [],
            "needs_background": "light"
          }
        },
        {
          "output_type": "display_data",
          "data": {
            "image/png": "[encoded data removed]",
            "text/plain": [
              "<Figure size 720x360 with 1 Axes>"
            ]
          },
          "metadata": {
            "tags": [],
            "needs_background": "light"
          }
        }
      ]
    },
    {
      "cell_type": "code",
      "metadata": {
        "id": "cTE7ZvGpNd0n",
        "colab": {
          "base_uri": "https://localhost:8080/",
          "height": 531
        },
        "outputId": "d6b67ab5-338d-43fe-bafa-343cfa9c5b96"
      },
      "source": [
        "\n",
        "epochs = [i for i in range(5)]\n",
        "fig , ax = plt.subplots(1,2)\n",
        "train_acc = history.history['accuracy']\n",
        "train_loss = history.history['loss']\n",
        "val_acc = history.history['val_accuracy']\n",
        "val_loss = history.history['val_loss']\n",
        "fig.set_size_inches(30,10)\n",
        "\n",
        "\n",
        "ax[0].plot(epochs , train_acc , 'go-' , label = 'Training Accuracy')\n",
        "ax[0].plot(epochs , val_acc , 'ro-' , label = 'Validation Accuracy')\n",
        "ax[0].set_title('Training & Validation Accuracy')\n",
        "\n",
        "ax[0].legend()\n",
        "ax[0].set_xlabel(\"Epochs\")\n",
        "ax[0].set_ylabel(\"Accuracy\")\n",
        "\n",
        "\n",
        "ax[1].plot(epochs , train_loss , 'g-o' , label = 'Training Loss')\n",
        "ax[1].plot(epochs , val_loss , 'r-o' , label = 'Validation Loss')\n",
        "ax[1].set_title('Testing Accuracy & Loss')\n",
        "ax[1].legend()\n",
        "ax[1].set_xlabel(\"Epochs\")\n",
        "ax[1].set_ylabel(\"Training & Validation Loss\")\n",
        "plt.show()"
      ],
      "execution_count": null,
      "outputs": [
        {
          "output_type": "display_data",
          "data": {
            "image/png": "[encoded data removed]",
            "text/plain": [
              "<Figure size 2160x720 with 2 Axes>"
            ]
          },
          "metadata": {
            "tags": [],
            "needs_background": "light"
          }
        }
      ]
    },
    {
      "cell_type": "code",
      "metadata": {
        "id": "d-CrDU2cZEBJ",
        "colab": {
          "base_uri": "https://localhost:8080/",
          "height": 350
        },
        "outputId": "4ad56608-2b24-4d98-e58d-b6a0274958ed"
      },
      "source": [
        "\n",
        "epochs = [i for i in range(5)]\n",
        "\n",
        "train_acc = history.history['accuracy']\n",
        "train_loss = history.history['loss']\n",
        "val_acc = history.history['val_accuracy']\n",
        "val_loss = history.history['val_loss']\n",
        "\n",
        "plt.figure(figsize=(10,5))\n",
        "\n",
        "\n",
        "plt.plot(epochs , train_acc , 'go-' , label = 'Training Accuracy')\n",
        "plt.plot(epochs , val_acc , 'ro-' , label = 'Validation Accuracy')\n",
        "plt.title('Training & Validation Accuracy')\n",
        "\n",
        "plt.legend()\n",
        "plt.xlabel(\"Epochs\")\n",
        "plt.ylabel(\"Accuracy\")\n",
        "\n",
        "plt.show()"
      ],
      "execution_count": null,
      "outputs": [
        {
          "output_type": "display_data",
          "data": {
            "image/png": "[encoded data removed]",
            "text/plain": [
              "<Figure size 720x360 with 1 Axes>"
            ]
          },
          "metadata": {
            "tags": [],
            "needs_background": "light"
          }
        }
      ]
    },
    {
      "cell_type": "code",
      "metadata": {
        "id": "Cb_MisHLZEFh",
        "colab": {
          "base_uri": "https://localhost:8080/",
          "height": 350
        },
        "outputId": "11e941c2-89c8-47d1-f822-e143173a2f17"
      },
      "source": [
        "epochs = [i for i in range(5)]\n",
        "\n",
        "train_acc = history.history['accuracy']\n",
        "train_loss = history.history['loss']\n",
        "val_acc = history.history['val_accuracy']\n",
        "val_loss = history.history['val_loss']\n",
        "\n",
        "plt.figure(figsize=(10,5))\n",
        "\n",
        "\n",
        "plt.plot(epochs , train_loss , 'go-' , label = 'Training Loss')\n",
        "plt.plot(epochs , val_loss , 'ro-' , label = 'Validation Loss')\n",
        "plt.title('Training & Validation Loss')\n",
        "\n",
        "plt.legend()\n",
        "plt.xlabel(\"Epochs\")\n",
        "plt.ylabel(\"Loss\")\n",
        "\n",
        "plt.show()"
      ],
      "execution_count": null,
      "outputs": [
        {
          "output_type": "display_data",
          "data": {
            "image/png": "[encoded data removed]",
            "text/plain": [
              "<Figure size 720x360 with 1 Axes>"
            ]
          },
          "metadata": {
            "tags": [],
            "needs_background": "light"
          }
        }
      ]
    },
    {
      "cell_type": "code",
      "metadata": {
        "colab": {
          "base_uri": "https://localhost:8080/"
        },
        "id": "fwuZesT-sVdG",
        "outputId": "777cec94-597b-4717-f054-92e3aa656b0d"
      },
      "source": [
        "y_test"
      ],
      "execution_count": null,
      "outputs": [
        {
          "output_type": "execute_result",
          "data": {
            "text/plain": [
              "array([1, 2, 1, ..., 2, 2, 1])"
            ]
          },
          "metadata": {
            "tags": []
          },
          "execution_count": 99
        }
      ]
    },
    {
      "cell_type": "code",
      "metadata": {
        "colab": {
          "base_uri": "https://localhost:8080/"
        },
        "id": "ZNLLYvg1sX_k",
        "outputId": "7fe98be1-3afb-4419-e0bf-396d433b9858"
      },
      "source": [
        "pred1"
      ],
      "execution_count": null,
      "outputs": [
        {
          "output_type": "execute_result",
          "data": {
            "text/plain": [
              "array([1, 2, 1, ..., 2, 2, 1])"
            ]
          },
          "metadata": {
            "tags": []
          },
          "execution_count": 103
        }
      ]
    },
    {
      "cell_type": "code",
      "metadata": {
        "colab": {
          "base_uri": "https://localhost:8080/",
          "height": 502
        },
        "id": "rICfWk2KwrGq",
        "outputId": "d97acb30-4ed0-4ce3-d189-86c1fe1d2f01"
      },
      "source": [
        "plt.figure(figsize=(10,5))\n",
        "plt.title('Distriubtion Of Sentiments Across Our Tweets',fontsize=19,fontweight='bold')\n",
        "sns.kdeplot(df['label_TB'],bw=0.1)\n",
        "sns.kdeplot(df['label_VD'],bw=0.1)\n",
        "\n",
        "\n"
      ],
      "execution_count": null,
      "outputs": [
        {
          "output_type": "stream",
          "text": [
            "/usr/local/lib/python3.7/dist-packages/seaborn/distributions.py:1657: FutureWarning:\n",
            "\n",
            "The `bw` parameter is deprecated in favor of `bw_method` and `bw_adjust`. Using 0.1 for `bw_method`, but please see the docs for the new parameters and update your code.\n",
            "\n",
            "/usr/local/lib/python3.7/dist-packages/seaborn/distributions.py:1657: FutureWarning:\n",
            "\n",
            "The `bw` parameter is deprecated in favor of `bw_method` and `bw_adjust`. Using 0.1 for `bw_method`, but please see the docs for the new parameters and update your code.\n",
            "\n"
          ],
          "name": "stderr"
        },
        {
          "output_type": "execute_result",
          "data": {
            "text/plain": [
              "<matplotlib.axes._subplots.AxesSubplot at 0x7f795c78b390>"
            ]
          },
          "metadata": {
            "tags": []
          },
          "execution_count": 117
        },
        {
          "output_type": "display_data",
          "data": {
            "image/png": "[encoded data removed]",
            "text/plain": [
              "<Figure size 720x360 with 1 Axes>"
            ]
          },
          "metadata": {
            "tags": []
          }
        }
      ]
    },
    {
      "cell_type": "code",
      "metadata": {
        "colab": {
          "base_uri": "https://localhost:8080/",
          "height": 436
        },
        "id": "AFqP1v_40iy3",
        "outputId": "a6c682bc-6d21-4e81-a639-7f45965301d6"
      },
      "source": [
        "plt.figure(figsize=(10,5))\n",
        "plt.title('Sentiments Across Our Tweets',fontsize=19,fontweight='bold')\n",
        "sns.kdeplot(df['date'],bw=0.1)\n",
        "\n"
      ],
      "execution_count": null,
      "outputs": [
        {
          "output_type": "stream",
          "text": [
            "/usr/local/lib/python3.7/dist-packages/seaborn/distributions.py:1657: FutureWarning:\n",
            "\n",
            "The `bw` parameter is deprecated in favor of `bw_method` and `bw_adjust`. Using 0.1 for `bw_method`, but please see the docs for the new parameters and update your code.\n",
            "\n"
          ],
          "name": "stderr"
        },
        {
          "output_type": "execute_result",
          "data": {
            "text/plain": [
              "<matplotlib.axes._subplots.AxesSubplot at 0x7f795c327b90>"
            ]
          },
          "metadata": {
            "tags": []
          },
          "execution_count": 122
        },
        {
          "output_type": "display_data",
          "data": {
            "image/png": "[encoded data removed]",
            "text/plain": [
              "<Figure size 720x360 with 1 Axes>"
            ]
          },
          "metadata": {
            "tags": []
          }
        }
      ]
    },
    {
      "cell_type": "code",
      "metadata": {
        "colab": {
          "base_uri": "https://localhost:8080/",
          "height": 398
        },
        "id": "EUmfGEFH1CEY",
        "outputId": "0c9d0a9e-7439-4580-8035-7ab8d22641f7"
      },
      "source": [
        "sns.relplot(\n",
        "    data=df, kind=\"line\",\n",
        "    x=df['date'], y=df['label_TB']\n",
        "  \n",
        "\n",
        ")"
      ],
      "execution_count": null,
      "outputs": [
        {
          "output_type": "execute_result",
          "data": {
            "text/plain": [
              "<seaborn.axisgrid.FacetGrid at 0x7f795c24b490>"
            ]
          },
          "metadata": {
            "tags": []
          },
          "execution_count": 127
        },
        {
          "output_type": "display_data",
          "data": {
            "image/png": "[encoded data removed]",
            "text/plain": [
              "<Figure size 360x360 with 1 Axes>"
            ]
          },
          "metadata": {
            "tags": []
          }
        }
      ]
    },
    {
      "cell_type": "code",
      "metadata": {
        "colab": {
          "base_uri": "https://localhost:8080/",
          "height": 397
        },
        "id": "XDQ2QbvL1iof",
        "outputId": "838d63d8-3d5d-4ddc-9f64-558d3dc8e1ff"
      },
      "source": [
        "plt.figure(figsize=(10,5))\n",
        "\n",
        "\n",
        "sns.displot(data=df, col=df['Sentiment_TB'], x=df['Month-str-full'])"
      ],
      "execution_count": null,
      "outputs": [
        {
          "output_type": "execute_result",
          "data": {
            "text/plain": [
              "<seaborn.axisgrid.FacetGrid at 0x7f795aee5fd0>"
            ]
          },
          "metadata": {
            "tags": []
          },
          "execution_count": 146
        },
        {
          "output_type": "display_data",
          "data": {
            "text/plain": [
              "<Figure size 720x360 with 0 Axes>"
            ]
          },
          "metadata": {
            "tags": []
          }
        },
        {
          "output_type": "display_data",
          "data": {
            "image/png": "[encoded data removed]",
            "text/plain": [
              "<Figure size 360x360 with 1 Axes>"
            ]
          },
          "metadata": {
            "tags": []
          }
        }
      ]
    },
    {
      "cell_type": "code",
      "metadata": {
        "colab": {
          "base_uri": "https://localhost:8080/",
          "height": 400
        },
        "id": "IufOMTcI3Kfg",
        "outputId": "4bf0df7f-1af0-4d33-e85c-2e16c56e73d1"
      },
      "source": [
        "import seaborn as sns\n",
        "\n",
        "plt.figure(figsize=(10,5))\n",
        "sns.relplot(x='Sentiment_VADER', y=df['date'],data=df);\n",
        "\n",
        "\n",
        "\n"
      ],
      "execution_count": null,
      "outputs": [
        {
          "output_type": "display_data",
          "data": {
            "text/plain": [
              "<Figure size 720x360 with 0 Axes>"
            ]
          },
          "metadata": {
            "tags": []
          }
        },
        {
          "output_type": "display_data",
          "data": {
            "image/png": "[encoded data removed]",
            "text/plain": [
              "<Figure size 360x360 with 1 Axes>"
            ]
          },
          "metadata": {
            "tags": []
          }
        }
      ]
    },
    {
      "cell_type": "code",
      "metadata": {
        "colab": {
          "base_uri": "https://localhost:8080/",
          "height": 382
        },
        "id": "SmbJoIOZ4G1T",
        "outputId": "57f9b372-fcd0-43e0-e978-9e2b89a300d8"
      },
      "source": [
        "import seaborn as sns\n",
        "\n",
        "sns.set_theme(style=\"dark\")\n",
        "\n",
        "\n",
        "# Plot each year's time series in its own facet\n",
        "g = sns.relplot(\n",
        "    data=df,\n",
        "    y=\"Month\", x=\"Sentiment_TB\", \n",
        "    kind=\"line\", palette=\"crest\",\n",
        "    legend=False,\n",
        ")"
      ],
      "execution_count": null,
      "outputs": [
        {
          "output_type": "display_data",
          "data": {
            "image/png": "[encoded data removed]",
            "text/plain": [
              "<Figure size 360x360 with 1 Axes>"
            ]
          },
          "metadata": {
            "tags": []
          }
        }
      ]
    }
  ]
}